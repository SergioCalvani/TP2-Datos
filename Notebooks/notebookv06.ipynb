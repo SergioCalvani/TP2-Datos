{
  "cells": [
    {
      "metadata": {
        "_uuid": "8f2839f25d086af736a60e9eeb907d3b93b6e0e5",
        "_cell_guid": "b1076dfc-b9ad-4769-8c92-a6c4dae69d19",
        "trusted": true,
        "collapsed": true
      },
      "cell_type": "code",
      "source": "import pandas as pd\nimport numpy as np\nimport datetime as DT\nfrom sklearn.model_selection import train_test_split\nfrom sklearn.preprocessing import StandardScaler\nfrom sklearn.linear_model import Perceptron\nfrom sklearn.metrics import accuracy_score\nimport random\nfrom sklearn import tree\nfrom sklearn.neighbors import KNeighborsClassifier  \nfrom sklearn.tree import DecisionTreeClassifier  \nfrom sklearn.naive_bayes import GaussianNB, BernoulliNB, MultinomialNB\nfrom sklearn.neural_network import MLPClassifier",
      "execution_count": null,
      "outputs": []
    },
    {
      "metadata": {
        "_uuid": "169c22f413b75bee8b738f5602f2fe6e7c9d1d18"
      },
      "cell_type": "markdown",
      "source": "### IDEA\nLa idea de este notebook es probar solo con los datos relacionados al area."
    },
    {
      "metadata": {
        "trusted": true,
        "collapsed": true,
        "_uuid": "ab709ea7ddc42d4390744f69e54a3bcc963baea0"
      },
      "cell_type": "code",
      "source": "# En base a lo visto por el TP1 las siguientes areas son las mas\n# postuladas\n#areas_importantes = [\n#    'Ventas', 'Administración', 'Producción', 'Comercial', 'Atención al Cliente',\n#    'Recepcionista', 'Call Center', 'Telemarketing', 'Tesorería', 'Mantenimient y Limpieza',\n#]",
      "execution_count": null,
      "outputs": []
    },
    {
      "metadata": {
        "_uuid": "7aeb59edccc597fec4a4db608edd2dad1b3f95f4"
      },
      "cell_type": "markdown",
      "source": "# 2.  AVISOS"
    },
    {
      "metadata": {
        "trusted": true,
        "_uuid": "45bd63ea198db1d1c99d24a138b027bcc58c1a76",
        "collapsed": true
      },
      "cell_type": "code",
      "source": "avisos = pd.concat([\n    pd.read_csv(\"../input/datos/fiuba_6_avisos_detalle.csv\"),\n    pd.read_csv(\"../input/datosdatos/DESfiuba_6_avisos_detalle.csv\"),\n    pd.read_csv(\"../input/datosdatos/ENTfiuba_6_avisos_detalle.csv\"),\n    pd.read_csv(\"../input/datosdatos/MISfiuba_6_avisos_detalle_missing_nivel_laboral.csv\")\n])\navisos.head()",
      "execution_count": null,
      "outputs": []
    },
    {
      "metadata": {
        "trusted": true,
        "_uuid": "aee9dda21260c86d115819a1bcd52c6fa209d94b",
        "collapsed": true
      },
      "cell_type": "code",
      "source": "# Solo me quedo con nombre de area\navisos = avisos[['idaviso', 'nombre_area', \n                 'nombre_zona', 'tipo_de_trabajo', \n                 'nivel_laboral']]\navisos.head()",
      "execution_count": null,
      "outputs": []
    },
    {
      "metadata": {
        "trusted": true,
        "_uuid": "2e0e0a38df2bd5fc3c676e38ba2f5cc4ee57ce0f",
        "collapsed": true
      },
      "cell_type": "code",
      "source": "# Cargamos previamente los datos de postulaciones para encontrar las areas mas postuladas\npostulaciones = pd.concat([\n    pd.read_csv('../input/datos/fiuba_4_postulaciones.csv'),\n    pd.read_csv('../input/datosdatos/ENTfiuba_4_postulaciones.csv'),\n])\npostulaciones.head()",
      "execution_count": null,
      "outputs": []
    },
    {
      "metadata": {
        "trusted": true,
        "_uuid": "aecea681b0d01628817e2f129b805ad396361d92",
        "collapsed": true
      },
      "cell_type": "code",
      "source": "mas_postulados = pd.merge(postulaciones[['idaviso']], avisos[['idaviso', 'nombre_area']], on='idaviso', how='inner')\nmas_postulados.head()",
      "execution_count": null,
      "outputs": []
    },
    {
      "metadata": {
        "trusted": true,
        "_uuid": "a22f81f6874b951e6341a15d9902f12d0a0ae247",
        "collapsed": true
      },
      "cell_type": "code",
      "source": "areas_importantes = mas_postulados['nombre_area'].value_counts().head(10).index",
      "execution_count": null,
      "outputs": []
    },
    {
      "metadata": {
        "trusted": true,
        "_uuid": "07b8993c145bbf8d0ca84e9d825aac70bdc27212",
        "collapsed": true
      },
      "cell_type": "code",
      "source": "avisos.drop_duplicates(subset='idaviso', inplace=True)\navisos['nombre_area'] = avisos['nombre_area'].apply(lambda x: x if x in areas_importantes else 'Otra Area')",
      "execution_count": null,
      "outputs": []
    },
    {
      "metadata": {
        "trusted": true,
        "scrolled": false,
        "_uuid": "c475702e1e2c55407e46678bf1778a7e2a2bec00",
        "collapsed": true
      },
      "cell_type": "code",
      "source": "# Uso one hot encoding para area\ndummies_area = pd.get_dummies(avisos['nombre_area'])\navisos = pd.concat([avisos, dummies_area], axis=1)\navisos.drop(columns='nombre_area', inplace=True)\navisos.head()",
      "execution_count": null,
      "outputs": []
    },
    {
      "metadata": {
        "trusted": true,
        "_uuid": "312a1b04376f302162d35d5a2be88b8d9b47bdc3",
        "collapsed": true
      },
      "cell_type": "code",
      "source": "# ZONA\n# 1 GBA\n# 0 Capital y otros\navisos['nombre_zona'] = avisos['nombre_zona'].apply(lambda x: 1 if x == 'Gran Buenos Aires' else 0)",
      "execution_count": null,
      "outputs": []
    },
    {
      "metadata": {
        "trusted": true,
        "_uuid": "27b2cbd2f09016c9fa6f1be3867e356e32c50ab5",
        "collapsed": true
      },
      "cell_type": "code",
      "source": "# Tipo de trabajo\n# Segun horas aprox de trabajo\n# 9 Full-time\n# 6 Partime\n# 4 otros\nhoras_trabajo = {\n    'Full-time':9,\n    'Part-time':6,\n}\navisos['tipo_de_trabajo'] = avisos['tipo_de_trabajo'].apply(lambda x: horas_trabajo[x] if x in horas_trabajo else 4)\navisos.head()",
      "execution_count": null,
      "outputs": []
    },
    {
      "metadata": {
        "trusted": true,
        "_uuid": "2c5be38d6d271b20d8f3f2c9a025e04cc577b6eb",
        "collapsed": true
      },
      "cell_type": "code",
      "source": "avisos['nivel_laboral'].value_counts()",
      "execution_count": null,
      "outputs": []
    },
    {
      "metadata": {
        "trusted": true,
        "_uuid": "48be222689e59a5d0417df1623f4a62a224a29dd",
        "collapsed": true
      },
      "cell_type": "code",
      "source": "# Nivel laboral\n# 1 Senior\n# 0 otros\nnivel = {\n    'Otro': 1, \n    'Junior': 2,\n    'Senior / Semi-Senior': 4,                                                 \n    'Jefe / Supervisor / Responsable': 8,         \n    'Gerencia / Alta Gerencia / Dirección': 16\n}\n#avisos['nivel_laboral'] = avisos['nivel_laboral'].apply(lambda x: 1 if x == 'Senior / Semi-Senior' else 0)\navisos['nivel_laboral'] = avisos['nivel_laboral'].apply(lambda x: nivel[x] if x in nivel else 0)",
      "execution_count": null,
      "outputs": []
    },
    {
      "metadata": {
        "trusted": true,
        "_uuid": "962d484ee378c5b778f6cf943e323d17651bb879",
        "collapsed": true
      },
      "cell_type": "code",
      "source": "avisos.head()",
      "execution_count": null,
      "outputs": []
    },
    {
      "metadata": {
        "_uuid": "aa649d25f4d2f88fae88aca598ea0256514f58b8"
      },
      "cell_type": "markdown",
      "source": "# 2. VISTAS"
    },
    {
      "metadata": {
        "trusted": true,
        "_uuid": "9b3f1ede3d5f53bae0131056cb4bb9f3ff02fe30",
        "collapsed": true
      },
      "cell_type": "code",
      "source": "vistas = pd.concat([\n    pd.read_csv(\"../input/datos/fiuba_3_vistas.csv\"),\n    pd.read_csv(\"../input/datosdatos/DESfiuba_3_vistas.csv\"),\n    pd.read_csv(\"../input/datosdatos/ENTfiuba_3_vistas.csv\")\n])\nvistas.head()",
      "execution_count": null,
      "outputs": []
    },
    {
      "metadata": {
        "trusted": true,
        "_uuid": "9478abf92c793719d274a43ce03cf06b3dcd45b6",
        "collapsed": true
      },
      "cell_type": "code",
      "source": "vistas.rename(columns={'idAviso':'idaviso'}, inplace=True)\nvistas = vistas[['idaviso', 'idpostulante']]\nvistas.drop_duplicates(subset=['idaviso', 'idpostulante'], inplace=True)\nvistas.head()",
      "execution_count": null,
      "outputs": []
    },
    {
      "metadata": {
        "trusted": true,
        "_uuid": "459d7dcab55a4071ca2c29532c79ce215c5b72af",
        "collapsed": true
      },
      "cell_type": "code",
      "source": "# Aniado la informacion del area de cada aviso\navisos_vistos = pd.merge(vistas, \n                         avisos.drop(columns=['nombre_zona','tipo_de_trabajo', 'nivel_laboral']),\n                         on='idaviso', \n                         how='inner')\navisos_vistos.head()",
      "execution_count": null,
      "outputs": []
    },
    {
      "metadata": {
        "trusted": true,
        "_uuid": "a9deb9248991a5b779edf26e147b967bc3a5595e",
        "collapsed": true
      },
      "cell_type": "code",
      "source": "avisos_vistos.drop(columns='idaviso',inplace=True)",
      "execution_count": null,
      "outputs": []
    },
    {
      "metadata": {
        "trusted": true,
        "_uuid": "ad297d429f9ce37c1401f407d5b01e87da58dddc",
        "collapsed": true
      },
      "cell_type": "code",
      "source": "# Cada columna representa la cantidad de avisos vistos por area para cada postulante\navisos_vistos = avisos_vistos.pivot_table(index='idpostulante', aggfunc='sum')\navisos_vistos.head()",
      "execution_count": null,
      "outputs": []
    },
    {
      "metadata": {
        "trusted": true,
        "collapsed": true,
        "_uuid": "d7bdc9d28eb9d52ab55306fdd2561faedc185288"
      },
      "cell_type": "code",
      "source": "# Ningun usuario supera 2^16 cantidad de vistas por area\navisos_vistos = avisos_vistos.astype('uint16')",
      "execution_count": null,
      "outputs": []
    },
    {
      "metadata": {
        "trusted": true,
        "_uuid": "2c5285b393ca57a859cf8792177aacadc942ed3e",
        "collapsed": true
      },
      "cell_type": "code",
      "source": "# le agrego la palabra 'vistas' adelante para que sea mas claro y no se confunda luego con el area postulada\nnuevos_nombres = []\nfor area in avisos_vistos.columns:\n    area = \"vistas \" + area\n    nuevos_nombres.append(area)\navisos_vistos.columns = nuevos_nombres\navisos_vistos.head()",
      "execution_count": null,
      "outputs": []
    },
    {
      "metadata": {
        "_uuid": "a32bffb1288b671bdc45b229393801da830ce19f"
      },
      "cell_type": "markdown",
      "source": "# 3. GENERO Y EDAD"
    },
    {
      "metadata": {
        "trusted": true,
        "_uuid": "f6962fee3ffb6ac17c8d41f12227a62e8056af6e",
        "collapsed": true
      },
      "cell_type": "code",
      "source": "genyedad = pd.concat([\n    pd.read_csv(\"../input/datos/fiuba_2_postulantes_genero_y_edad.csv\"),\n    pd.read_csv(\"../input/datosdatos/DESfiuba_2_postulantes_genero_y_edad.csv\"),\n    pd.read_csv(\"../input/datosdatos/ENTfiuba_2_postulantes_genero_y_edad.csv\")\n])\ngenyedad.head()",
      "execution_count": null,
      "outputs": []
    },
    {
      "metadata": {
        "trusted": true,
        "_uuid": "2741f135c3a52c31c30f0c0a3f24199c7bc714b2",
        "collapsed": true
      },
      "cell_type": "code",
      "source": "# elimino los datos repetidos\ngenyedad.drop_duplicates(subset='idpostulante', inplace=True)\ngenyedad.head()",
      "execution_count": null,
      "outputs": []
    },
    {
      "metadata": {
        "trusted": true,
        "_uuid": "83007f57bf3f0a92fa63d8cfdc45b5dfa4574aa7",
        "collapsed": true
      },
      "cell_type": "code",
      "source": "# 1 MASC\n# 0 FEM + no declara\ngenyedad['sexo'] = genyedad['sexo'].apply(lambda x: 1 if x == 'MASC' else 0)",
      "execution_count": null,
      "outputs": []
    },
    {
      "metadata": {
        "trusted": true,
        "_uuid": "8db65cf9dbb170fbef1d3bb8e202b17006a09cf9",
        "collapsed": true
      },
      "cell_type": "code",
      "source": "# Calculo las edades\ngenyedad['fecha_dt'] = pd.to_datetime(genyedad['fechanacimiento'], errors='coerce')\ngenyedad.head()",
      "execution_count": null,
      "outputs": []
    },
    {
      "metadata": {
        "trusted": true,
        "_uuid": "d61e822711c95ccaabb6ef304d0e4625645ea683",
        "collapsed": true
      },
      "cell_type": "code",
      "source": "genyedad['edad'] = 2018 - genyedad['fecha_dt'].dt.year\ngenyedad.head()",
      "execution_count": null,
      "outputs": []
    },
    {
      "metadata": {
        "trusted": true,
        "_uuid": "c3f6bad90a02cc45a7da3a9d4b02fd3119001fdb",
        "collapsed": true
      },
      "cell_type": "code",
      "source": "genyedad.drop(columns=['fechanacimiento', 'fecha_dt'], inplace=True)\ngenyedad.head()",
      "execution_count": null,
      "outputs": []
    },
    {
      "metadata": {
        "trusted": true,
        "_uuid": "a435d7b84bb38797c1f961a3608d71a7f093fad1",
        "collapsed": true
      },
      "cell_type": "code",
      "source": "genyedad.fillna(genyedad['edad'].mean(), inplace=True)\ngenyedad = genyedad.astype({'sexo':'int8', 'edad':'uint8'})\ngenyedad.head()",
      "execution_count": null,
      "outputs": []
    },
    {
      "metadata": {
        "trusted": true,
        "_uuid": "2ef1c1dd1d44d3df436d5398c7815297d2c3ae37",
        "collapsed": true
      },
      "cell_type": "code",
      "source": "# lo uno con avisos_vistos\nusuarios = pd.merge(avisos_vistos, genyedad, on='idpostulante', how='inner')\nusuarios.head()",
      "execution_count": null,
      "outputs": []
    },
    {
      "metadata": {
        "trusted": true,
        "collapsed": true,
        "_uuid": "0fc73ae0b7bdc3fd9064f13303379f25dfdc32f4"
      },
      "cell_type": "code",
      "source": "# Con estos daatos caracterizamos a los usuarios",
      "execution_count": null,
      "outputs": []
    },
    {
      "metadata": {
        "_uuid": "be345dfd8ca1434dd0f31c44895704bebd1defc9"
      },
      "cell_type": "markdown",
      "source": "# 2.9 Caracteristicas cruzadas."
    },
    {
      "metadata": {
        "trusted": true,
        "_uuid": "ddcf5b4b5856a9a7a05757bf756d743b5261499b",
        "collapsed": true
      },
      "cell_type": "code",
      "source": "avisos.head()",
      "execution_count": null,
      "outputs": []
    },
    {
      "metadata": {
        "trusted": true,
        "_uuid": "33c24bb80ce7c5f07a7630e7e4a4352c47005189",
        "collapsed": true
      },
      "cell_type": "code",
      "source": "vistas.head()",
      "execution_count": null,
      "outputs": []
    },
    {
      "metadata": {
        "trusted": true,
        "collapsed": true,
        "_uuid": "b7b416679057da88836e2c57780a53e1bdc5daad"
      },
      "cell_type": "code",
      "source": "# Busco que caracteristicas tienen los usuarios que se postulan",
      "execution_count": null,
      "outputs": []
    },
    {
      "metadata": {
        "trusted": true,
        "_uuid": "689694e80fae44a606f616c559a9e6c4d81e1ef9",
        "collapsed": true
      },
      "cell_type": "code",
      "source": "usuarios.head()",
      "execution_count": null,
      "outputs": []
    },
    {
      "metadata": {
        "trusted": true,
        "_uuid": "da205d9af52df9083ae136fc885714c9c07a3d79",
        "collapsed": true
      },
      "cell_type": "code",
      "source": "vistas_usuarios = pd.merge(vistas, usuarios[['idpostulante', 'sexo', 'edad']], on='idpostulante', how='left')\nvistas_usuarios.head()",
      "execution_count": null,
      "outputs": []
    },
    {
      "metadata": {
        "trusted": true,
        "_uuid": "23e13d0fcebd0ebe6350c4b0e4b027b9b0e7030f",
        "collapsed": true
      },
      "cell_type": "code",
      "source": "vistas_usuarios.isnull().sum()",
      "execution_count": null,
      "outputs": []
    },
    {
      "metadata": {
        "trusted": true,
        "_uuid": "b670c416447f32d859359d361234c2fdfab09080",
        "collapsed": true
      },
      "cell_type": "code",
      "source": "vistas_usuarios['sexo'].mean()",
      "execution_count": null,
      "outputs": []
    },
    {
      "metadata": {
        "trusted": true,
        "_uuid": "46cce5703832a03cf41ba7f13bf30584949f9fe6",
        "collapsed": true
      },
      "cell_type": "code",
      "source": "vistas_usuarios['sexo'] = vistas_usuarios['sexo'].fillna(random.getrandbits(1))",
      "execution_count": null,
      "outputs": []
    },
    {
      "metadata": {
        "trusted": true,
        "collapsed": true,
        "_uuid": "b7921fa2427730c4aa42a8865465aedcb8e1f6c1"
      },
      "cell_type": "code",
      "source": "vistas_usuarios['edad'] = vistas_usuarios['edad'].fillna(vistas_usuarios['edad'].mean())",
      "execution_count": null,
      "outputs": []
    },
    {
      "metadata": {
        "trusted": true,
        "_uuid": "610a85bf252e2ac6cba3c7133b095c8bf35c2c5b",
        "collapsed": true
      },
      "cell_type": "code",
      "source": "vis_us = vistas_usuarios.drop(columns='idpostulante').pivot_table(index='idaviso', aggfunc=np.nanmean)\nvis_us.head()",
      "execution_count": null,
      "outputs": []
    },
    {
      "metadata": {
        "trusted": true,
        "_uuid": "a669b5805be027617d6eef57bda144a055144e4e",
        "collapsed": true
      },
      "cell_type": "code",
      "source": "vis_us = vis_us.astype({'edad':'uint8'})",
      "execution_count": null,
      "outputs": []
    },
    {
      "metadata": {
        "trusted": true,
        "_uuid": "79b47c630b8833bdf687aade134482720af01dec",
        "collapsed": true
      },
      "cell_type": "code",
      "source": "vis_us.head()",
      "execution_count": null,
      "outputs": []
    },
    {
      "metadata": {
        "trusted": true,
        "_uuid": "a3dfa940987c458e5f25ef3eb62f3dc4aa6357d9",
        "collapsed": true
      },
      "cell_type": "code",
      "source": "# Agrego la nueva informacion a los avisos.\navisos.head()",
      "execution_count": null,
      "outputs": []
    },
    {
      "metadata": {
        "trusted": true,
        "_uuid": "82c52e9a5eeb8035aefe62c690bf2cd857b7c1a9",
        "collapsed": true
      },
      "cell_type": "code",
      "source": "avisos  = pd.merge(avisos, vis_us, on='idaviso', how='left')\navisos.head()",
      "execution_count": null,
      "outputs": []
    },
    {
      "metadata": {
        "trusted": true,
        "_uuid": "5f0ccd1ab90d9e6e92c6ca2d65ff0629c3db21e0",
        "collapsed": true
      },
      "cell_type": "code",
      "source": "avisos.isnull().sum()",
      "execution_count": null,
      "outputs": []
    },
    {
      "metadata": {
        "trusted": true,
        "collapsed": true,
        "_uuid": "da6d5f86e6b22d20412e49ce6a0403f03e28eb38"
      },
      "cell_type": "code",
      "source": "avisos['edad'] = avisos['edad'].fillna(avisos['edad'].mean())\navisos['sexo'] = avisos['sexo'].fillna(random.getrandbits(1))",
      "execution_count": null,
      "outputs": []
    },
    {
      "metadata": {
        "trusted": true,
        "_uuid": "0e13291a3c34735cee3abe8109ca6c3fac61ee2f",
        "collapsed": true
      },
      "cell_type": "code",
      "source": "avisos.rename(columns={'edad':'prom_edad', 'sexo':'sexo_may'}, inplace=True)\navisos.head()",
      "execution_count": null,
      "outputs": []
    },
    {
      "metadata": {
        "trusted": true,
        "collapsed": true,
        "_uuid": "21f30fbb3da13886b53a51d72595fb2e857c8bae"
      },
      "cell_type": "markdown",
      "source": "# 3. POSTULACIONES"
    },
    {
      "metadata": {
        "trusted": true,
        "_uuid": "6c42a10801aeaae52bc86f68734b9548f213ebc1",
        "collapsed": true
      },
      "cell_type": "code",
      "source": "# Cargamos los datos antes para obtener las areas mas postuladas\n#postulaciones = pd.concat([\n#    pd.read_csv('../input/datos/fiuba_4_postulaciones.csv'),\n#    pd.read_csv('../input/datosdatos/ENTfiuba_4_postulaciones.csv'),\n#])\n#postulaciones.head()",
      "execution_count": null,
      "outputs": []
    },
    {
      "metadata": {
        "trusted": true,
        "_uuid": "bc6bf3b7fcec0354f7fdd0fa5afa5bea62788d54",
        "collapsed": true
      },
      "cell_type": "code",
      "source": "\n# La carga de datos se hizo anteriormente\npostulaciones.drop(columns='fechapostulacion', inplace=True)\npostulaciones.head()",
      "execution_count": null,
      "outputs": []
    },
    {
      "metadata": {
        "trusted": true,
        "collapsed": true,
        "_uuid": "ffc2b48995c3a7474d73fd23cd44a31fefeb4606"
      },
      "cell_type": "code",
      "source": "postulaciones.drop_duplicates(subset=['idaviso', 'idpostulante'], inplace=True)",
      "execution_count": null,
      "outputs": []
    },
    {
      "metadata": {
        "trusted": true,
        "_uuid": "18cbb2f90c938ead0ebec07fa68efc2669826985",
        "collapsed": true
      },
      "cell_type": "code",
      "source": "postulaciones.head()",
      "execution_count": null,
      "outputs": []
    },
    {
      "metadata": {
        "trusted": true,
        "collapsed": true,
        "_uuid": "304942e439fc77b506dacd59cfeb9a49eae29554"
      },
      "cell_type": "code",
      "source": "# Busco los avisos y las areas de cada postulacion\npostulaciones_detalle = pd.merge(postulaciones, avisos, on='idaviso', how='inner')",
      "execution_count": null,
      "outputs": []
    },
    {
      "metadata": {
        "trusted": true,
        "_uuid": "d03e357603564421389b3e76d3d4a9ca997f62c6",
        "collapsed": true
      },
      "cell_type": "code",
      "source": "# 1 en el area de la categoria\npostulaciones_detalle.head()",
      "execution_count": null,
      "outputs": []
    },
    {
      "metadata": {
        "trusted": true,
        "_uuid": "91def63a13244a5de71abb8ef69a4d971331f6ad",
        "collapsed": true
      },
      "cell_type": "code",
      "source": "# Finalmente uno la informacion de los usuarios y sus postulaciones\ndatos = pd.merge(usuarios, postulaciones_detalle, on='idpostulante', how='inner')\ndatos.head()",
      "execution_count": null,
      "outputs": []
    },
    {
      "metadata": {
        "trusted": true,
        "_uuid": "7452248821113436225809f528fea660cdcf90f1",
        "collapsed": true
      },
      "cell_type": "code",
      "source": "# Todos estos avisos fueron postulaciones y por lo tanto se clasifican como postulados\n# POSTULADO 1\n# NO_POSTULADO 0\ndatos['postulado'] = 1\ndatos.head()",
      "execution_count": null,
      "outputs": []
    },
    {
      "metadata": {
        "trusted": true,
        "_uuid": "8d3eb74b60785660f54241bfa46a7ca5f3a7b5b2",
        "scrolled": true,
        "collapsed": true
      },
      "cell_type": "code",
      "source": "datos.info()",
      "execution_count": null,
      "outputs": []
    },
    {
      "metadata": {
        "trusted": true,
        "collapsed": true,
        "_uuid": "944c1315321f8433991446e20c3014371183c7ec"
      },
      "cell_type": "markdown",
      "source": "# 4. Generacion de NO_POSTULACIONES"
    },
    {
      "metadata": {
        "trusted": true,
        "_uuid": "4b84d9191740999fbb40d26ed18b877d7e01869a",
        "collapsed": true
      },
      "cell_type": "code",
      "source": "# En realidad es la info que describe a los usuarios segun sus vistas.\n# TODO cambiar el nombre de avisos_vistos a usuarios\nusuarios.head()",
      "execution_count": null,
      "outputs": []
    },
    {
      "metadata": {
        "trusted": true,
        "_uuid": "96200573173a8be1a6a4364aa31e7fe2327b243d",
        "collapsed": true
      },
      "cell_type": "code",
      "source": "# Categoria de cada aviso\navisos.head()",
      "execution_count": null,
      "outputs": []
    },
    {
      "metadata": {
        "trusted": true,
        "_uuid": "c765b37cf3a9add6cc5cd44b1c73e5bfd3323b20",
        "collapsed": true
      },
      "cell_type": "code",
      "source": "# Mezclo al azar usuarios con sus vistas mas algun aviso cualquiera.\nN = 5000000\nusuarios_random = usuarios.sample(n=N, replace=True, random_state=44)\navisos_random = avisos.sample(n=N, replace=True, random_state=99)",
      "execution_count": null,
      "outputs": []
    },
    {
      "metadata": {
        "trusted": true,
        "_uuid": "6c504351720b4ed800f783e9f401d47a39f27677",
        "collapsed": true
      },
      "cell_type": "code",
      "source": "usuarios_random.reset_index(inplace=True)\navisos_random.reset_index(inplace=True)\nusuarios_random.drop(columns='index', inplace=True)\navisos_random.drop(columns='index', inplace=True)",
      "execution_count": null,
      "outputs": []
    },
    {
      "metadata": {
        "trusted": true,
        "_uuid": "acb526d706786ac5e5b96b01912923499a6cd9b1",
        "collapsed": true
      },
      "cell_type": "code",
      "source": "avisos_random.size",
      "execution_count": null,
      "outputs": []
    },
    {
      "metadata": {
        "trusted": true,
        "_uuid": "926e26b18d69d89ddb9c1a6d7a727fdf82316837",
        "collapsed": true
      },
      "cell_type": "code",
      "source": "# No se porque tienen tamanios distintos asi que solo tomo los primeros N de \n# avisos_random\ndatos_random = pd.concat([usuarios_random, avisos_random], axis=1)",
      "execution_count": null,
      "outputs": []
    },
    {
      "metadata": {
        "trusted": true,
        "_uuid": "29d494f35552be370454a971e548d7723d5fcb2a",
        "collapsed": true
      },
      "cell_type": "code",
      "source": "datos_random.head()",
      "execution_count": null,
      "outputs": []
    },
    {
      "metadata": {
        "trusted": true,
        "_uuid": "a884bda497dabf4dcc7ccccb6d81bf709c1d4f86",
        "collapsed": true
      },
      "cell_type": "code",
      "source": "# POSTULADO 1\n# NO_POSTULADO 0\ndatos_random['postulado'] = 0\ndatos_random.head()",
      "execution_count": null,
      "outputs": []
    },
    {
      "metadata": {
        "trusted": true,
        "_uuid": "46a61182420f87281c79f9ebdd040ee6c9c1d4e7",
        "collapsed": true
      },
      "cell_type": "code",
      "source": "# Estos ultimos son los datos no postulados\ndatos_random.drop_duplicates(subset=['idpostulante', 'idaviso'],inplace=True)\ndatos_random.head()",
      "execution_count": null,
      "outputs": []
    },
    {
      "metadata": {
        "_uuid": "90ce73ba4fab2dbf82cd51de3336c561c824c394"
      },
      "cell_type": "markdown",
      "source": "# DATOS FINALES"
    },
    {
      "metadata": {
        "trusted": true,
        "_uuid": "797b0cbe6f9096f1044e4d1037cb70d29036c5fc",
        "collapsed": true
      },
      "cell_type": "code",
      "source": "final100k = pd.read_csv(\"../input/finalfinal/test_final_100k.csv\")\n# Recolecto su informacion en los distintos dataFrames\n\n# Agrego datos de usuario\nfinal = pd.merge(final100k, usuarios, on='idpostulante', how='left')\nfinal.fillna(0, inplace=True)\n\n# agrego datos de avisos\nfinal = pd.merge(final, avisos, on='idaviso', how='left')\nfinal.fillna(0, inplace=True)\nX_final = final.drop(columns=['id', 'idaviso', 'idpostulante']) \nX_final.head()",
      "execution_count": null,
      "outputs": []
    },
    {
      "metadata": {
        "_uuid": "8ef5a9fe4b014b127360df5aa6046c7f295fb2f8"
      },
      "cell_type": "markdown",
      "source": "# 5. Datos de entrenamiento para el algoritmo"
    },
    {
      "metadata": {
        "trusted": true,
        "_uuid": "cb953b7425150d6275a1e4e457ff66c9e1cec6fd",
        "collapsed": true
      },
      "cell_type": "code",
      "source": "# Me creo un DF con los datos postulados y no postulados\ndf = pd.concat([datos,datos_random])\ndf.drop_duplicates(subset=['idpostulante', 'idaviso'], inplace=True)\ndf.head()",
      "execution_count": null,
      "outputs": []
    },
    {
      "metadata": {
        "trusted": true,
        "collapsed": true,
        "_uuid": "97a8aa96295758586a00e80070b3a1abe40c773d"
      },
      "cell_type": "code",
      "source": "# Voy a tomar tamanios mas pequenios de todos los datos disponibles\n# Cambiar nombre despues\ndf_original = df",
      "execution_count": null,
      "outputs": []
    },
    {
      "metadata": {
        "trusted": true,
        "collapsed": true,
        "_uuid": "8609f562fcdf1cf34ba96668a475138a9723e291"
      },
      "cell_type": "code",
      "source": "# pruebo con la mitad\ndf = df_original.sample(frac=0.5)",
      "execution_count": null,
      "outputs": []
    },
    {
      "metadata": {
        "trusted": true,
        "_uuid": "bb397fbfe9f61191f831c7769930691e203f89a2",
        "collapsed": true
      },
      "cell_type": "code",
      "source": "# X Datos\n# y Categorias\nX = df.drop(columns=['idpostulante', 'idaviso', 'postulado'])\n# adicionales\nX.head()",
      "execution_count": null,
      "outputs": []
    },
    {
      "metadata": {
        "trusted": true,
        "_uuid": "f85c61de3339e7609f834a3d6a40cea3399fb20b",
        "collapsed": true
      },
      "cell_type": "code",
      "source": "y = df['postulado']",
      "execution_count": null,
      "outputs": []
    },
    {
      "metadata": {
        "trusted": true,
        "_uuid": "260dd00a1561a5b4d68cc9880ec3233b205c5eff",
        "collapsed": true
      },
      "cell_type": "code",
      "source": "X_train, X_test, y_train, y_test = train_test_split(X, y, test_size=0.33)",
      "execution_count": null,
      "outputs": []
    },
    {
      "metadata": {
        "trusted": true,
        "_uuid": "0bb474b9e85b88be61f9420f4fb0051fcf8b5bcf",
        "collapsed": true
      },
      "cell_type": "code",
      "source": "scaler = StandardScaler()  \nscaler.fit(X_train)\nX_train = scaler.transform(X_train)  \nX_test = scaler.transform(X_test)  ",
      "execution_count": null,
      "outputs": []
    },
    {
      "metadata": {
        "trusted": true,
        "_uuid": "1e70344b1a455ed71a73ef4d32dc7d715f2b91ce",
        "scrolled": true,
        "collapsed": true
      },
      "cell_type": "code",
      "source": "#for i in range(-1, 10):\nclf = GaussianNB()\nclf.fit(X_train,y_train)\ny_pred = clf.predict(X_test)  \nprint('accuracy: {0:.2f}%'.format(accuracy_score(y_test,y_pred)*100))",
      "execution_count": null,
      "outputs": []
    },
    {
      "metadata": {
        "_uuid": "f79eb5656bb3d229b9111401d98b4d862e53af6b"
      },
      "cell_type": "markdown",
      "source": "# 7. PREDICCION"
    },
    {
      "metadata": {
        "trusted": true,
        "_uuid": "84ebe206929212eb63b0ad21396f0b66055f659d",
        "collapsed": true
      },
      "cell_type": "code",
      "source": "y_final = clf.predict(X_final)",
      "execution_count": null,
      "outputs": []
    },
    {
      "metadata": {
        "trusted": true,
        "_uuid": "f88a5db0f0260a98b68649a03a8052291a40a2ea",
        "collapsed": true
      },
      "cell_type": "code",
      "source": "y_final",
      "execution_count": null,
      "outputs": []
    },
    {
      "metadata": {
        "_uuid": "ef1a2c8e86bee0dbd69a667a415f1cef09cf07b0"
      },
      "cell_type": "markdown",
      "source": "# 8. SUMMIT"
    },
    {
      "metadata": {
        "trusted": true,
        "_uuid": "42fd0f4a0153bc04b50afa4655d98642d22eaa02",
        "collapsed": true
      },
      "cell_type": "code",
      "source": "y_summit = pd.DataFrame(y_final)\ny_summit.columns = ['sepostulo']\ny_summit.head()",
      "execution_count": null,
      "outputs": []
    },
    {
      "metadata": {
        "trusted": true,
        "_uuid": "bac8801518693a3cc1ef8f163e30bf69ffdb841b",
        "collapsed": true
      },
      "cell_type": "code",
      "source": "y_summit.info()",
      "execution_count": null,
      "outputs": []
    },
    {
      "metadata": {
        "trusted": true,
        "_uuid": "4bbfbb2ac2094909d17875cfddfd3cd8e5698fa4",
        "collapsed": true
      },
      "cell_type": "code",
      "source": "summit = y_summit.reset_index()\nsummit.head()",
      "execution_count": null,
      "outputs": []
    },
    {
      "metadata": {
        "trusted": true,
        "_uuid": "4c29a3bb795cb07c65c8a60eddb6a20f8244426b",
        "collapsed": true
      },
      "cell_type": "code",
      "source": "summit.rename(columns={'index':'id'}, inplace=True)\nsummit.head()",
      "execution_count": null,
      "outputs": []
    },
    {
      "metadata": {
        "trusted": true,
        "_uuid": "6e59d173ab2277c74b33ad58c88398988a9ded1b",
        "collapsed": true
      },
      "cell_type": "code",
      "source": "# Guardo los datos\nsummit.to_csv(\"summitGSNB.csv\", index=False)\n",
      "execution_count": null,
      "outputs": []
    },
    {
      "metadata": {
        "trusted": true,
        "collapsed": true,
        "_uuid": "fc69cc4084bed25a6dac9d9c777cb1873372bab7"
      },
      "cell_type": "code",
      "source": "",
      "execution_count": null,
      "outputs": []
    },
    {
      "metadata": {
        "trusted": true,
        "collapsed": true,
        "_uuid": "3389ec52412ba5eb9a478364225924cb7d7669ed"
      },
      "cell_type": "code",
      "source": "",
      "execution_count": null,
      "outputs": []
    },
    {
      "metadata": {
        "trusted": true,
        "collapsed": true,
        "_uuid": "5aef039a738be9fb4b0cef9b2363cd5a95452517"
      },
      "cell_type": "code",
      "source": "",
      "execution_count": null,
      "outputs": []
    },
    {
      "metadata": {
        "trusted": true,
        "collapsed": true,
        "_uuid": "646b0a6c0ae3323bd98f4136941c3e96aba48c4d"
      },
      "cell_type": "code",
      "source": "",
      "execution_count": null,
      "outputs": []
    }
  ],
  "metadata": {
    "kernelspec": {
      "display_name": "Python 3",
      "language": "python",
      "name": "python3"
    },
    "language_info": {
      "name": "python",
      "version": "3.6.5",
      "mimetype": "text/x-python",
      "codemirror_mode": {
        "name": "ipython",
        "version": 3
      },
      "pygments_lexer": "ipython3",
      "nbconvert_exporter": "python",
      "file_extension": ".py"
    }
  },
  "nbformat": 4,
  "nbformat_minor": 1
}