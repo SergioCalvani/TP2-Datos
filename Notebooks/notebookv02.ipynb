{
  "cells": [
    {
      "metadata": {
        "_uuid": "8f2839f25d086af736a60e9eeb907d3b93b6e0e5",
        "_cell_guid": "b1076dfc-b9ad-4769-8c92-a6c4dae69d19",
        "trusted": true,
        "collapsed": true
      },
      "cell_type": "code",
      "source": "import pandas as pd\nimport numpy as np\nimport datetime as DT\nfrom sklearn.model_selection import train_test_split\nfrom sklearn.preprocessing import StandardScaler\nfrom sklearn.linear_model import Perceptron\nfrom sklearn.metrics import accuracy_score\nimport random\nfrom sklearn import tree\nfrom sklearn.neighbors import KNeighborsClassifier  \nfrom sklearn.tree import DecisionTreeClassifier  \nfrom sklearn.naive_bayes import GaussianNB, BernoulliNB, MultinomialNB\nfrom sklearn.neural_network import MLPClassifier",
      "execution_count": 1,
      "outputs": []
    },
    {
      "metadata": {
        "_uuid": "169c22f413b75bee8b738f5602f2fe6e7c9d1d18"
      },
      "cell_type": "markdown",
      "source": "### IDEA\nLa idea de este notebook es probar solo con los datos relacionados al area."
    },
    {
      "metadata": {
        "trusted": true,
        "collapsed": true,
        "_uuid": "ab709ea7ddc42d4390744f69e54a3bcc963baea0"
      },
      "cell_type": "code",
      "source": "# En base a lo visto por el TP1 las siguientes areas son las mas\n# postuladas\n#areas_importantes = [\n#    'Ventas', 'Administración', 'Producción', 'Comercial', 'Atención al Cliente',\n#    'Recepcionista', 'Call Center', 'Telemarketing', 'Tesorería', 'Mantenimient y Limpieza',\n#]",
      "execution_count": 2,
      "outputs": []
    },
    {
      "metadata": {
        "_uuid": "7aeb59edccc597fec4a4db608edd2dad1b3f95f4"
      },
      "cell_type": "markdown",
      "source": "# 2.  AVISOS"
    },
    {
      "metadata": {
        "trusted": true,
        "_uuid": "45bd63ea198db1d1c99d24a138b027bcc58c1a76"
      },
      "cell_type": "code",
      "source": "avisos = pd.concat([\n    pd.read_csv(\"../input/datos/fiuba_6_avisos_detalle.csv\"),\n    pd.read_csv(\"../input/datosdatos/DESfiuba_6_avisos_detalle.csv\"),\n    pd.read_csv(\"../input/datosdatos/ENTfiuba_6_avisos_detalle.csv\"),\n    pd.read_csv(\"../input/datosdatos/MISfiuba_6_avisos_detalle_missing_nivel_laboral.csv\")\n])\navisos.head()",
      "execution_count": 3,
      "outputs": [
        {
          "output_type": "execute_result",
          "execution_count": 3,
          "data": {
            "text/plain": "      idaviso           ...                denominacion_empresa\n0     8725750           ...                              VENTOR\n1    17903700           ...             Farmacias Central Oeste\n2  1000150677           ...                         FAMITAX SRL\n3  1000610287           ...                 Wurth Argentina S.A\n4  1000872556           ...                  ELECTRO OUTLET SRL\n\n[5 rows x 11 columns]",
            "text/html": "<div>\n<style scoped>\n    .dataframe tbody tr th:only-of-type {\n        vertical-align: middle;\n    }\n\n    .dataframe tbody tr th {\n        vertical-align: top;\n    }\n\n    .dataframe thead th {\n        text-align: right;\n    }\n</style>\n<table border=\"1\" class=\"dataframe\">\n  <thead>\n    <tr style=\"text-align: right;\">\n      <th></th>\n      <th>idaviso</th>\n      <th>idpais</th>\n      <th>titulo</th>\n      <th>descripcion</th>\n      <th>nombre_zona</th>\n      <th>ciudad</th>\n      <th>mapacalle</th>\n      <th>tipo_de_trabajo</th>\n      <th>nivel_laboral</th>\n      <th>nombre_area</th>\n      <th>denominacion_empresa</th>\n    </tr>\n  </thead>\n  <tbody>\n    <tr>\n      <th>0</th>\n      <td>8725750</td>\n      <td>1</td>\n      <td>VENDEDOR/A PROVINCIA DE SANTA FE</td>\n      <td>&lt;p&gt;&lt;strong&gt;&lt;strong&gt;Empresa:&lt;/strong&gt;&lt;/strong&gt; ...</td>\n      <td>Gran Buenos Aires</td>\n      <td>NaN</td>\n      <td>NaN</td>\n      <td>Full-time</td>\n      <td>Senior / Semi-Senior</td>\n      <td>Comercial</td>\n      <td>VENTOR</td>\n    </tr>\n    <tr>\n      <th>1</th>\n      <td>17903700</td>\n      <td>1</td>\n      <td>Enfermeras</td>\n      <td>&lt;p&gt;Solicitamos para importante cadena de farma...</td>\n      <td>Gran Buenos Aires</td>\n      <td>NaN</td>\n      <td>NaN</td>\n      <td>Full-time</td>\n      <td>Senior / Semi-Senior</td>\n      <td>Salud</td>\n      <td>Farmacias Central Oeste</td>\n    </tr>\n    <tr>\n      <th>2</th>\n      <td>1000150677</td>\n      <td>1</td>\n      <td>Chofer de taxi</td>\n      <td>&lt;p&gt;TE GUSTA MANEJAR? QUERES GANAR PLATA HACIEN...</td>\n      <td>Capital Federal</td>\n      <td>NaN</td>\n      <td>Empedrado 2336</td>\n      <td>Full-time</td>\n      <td>Senior / Semi-Senior</td>\n      <td>Transporte</td>\n      <td>FAMITAX SRL</td>\n    </tr>\n    <tr>\n      <th>3</th>\n      <td>1000610287</td>\n      <td>1</td>\n      <td>CHOFER DE CAMIONETA BAHIA BLANCA - PUNTA ALTA</td>\n      <td>&lt;p&gt;&lt;strong&gt;Somos una empresa multinacional que...</td>\n      <td>Gran Buenos Aires</td>\n      <td>NaN</td>\n      <td>NaN</td>\n      <td>Full-time</td>\n      <td>Senior / Semi-Senior</td>\n      <td>Transporte</td>\n      <td>Wurth Argentina S.A</td>\n    </tr>\n    <tr>\n      <th>4</th>\n      <td>1000872556</td>\n      <td>1</td>\n      <td>Operarios de Planta - Rubro Electrodomésticos</td>\n      <td>&lt;p&gt;&lt;strong&gt;OPERARIOS DE PLANTA&lt;/strong&gt;&lt;/p&gt;&lt;p&gt;...</td>\n      <td>Gran Buenos Aires</td>\n      <td>NaN</td>\n      <td>NaN</td>\n      <td>Full-time</td>\n      <td>Senior / Semi-Senior</td>\n      <td>Producción</td>\n      <td>ELECTRO OUTLET SRL</td>\n    </tr>\n  </tbody>\n</table>\n</div>"
          },
          "metadata": {}
        }
      ]
    },
    {
      "metadata": {
        "trusted": true,
        "_uuid": "aee9dda21260c86d115819a1bcd52c6fa209d94b"
      },
      "cell_type": "code",
      "source": "# Solo me quedo con nombre de area\navisos = avisos[['idaviso', 'nombre_area', 'nombre_zona', 'tipo_de_trabajo']]\navisos.head()",
      "execution_count": 4,
      "outputs": [
        {
          "output_type": "execute_result",
          "execution_count": 4,
          "data": {
            "text/plain": "      idaviso nombre_area        nombre_zona tipo_de_trabajo\n0     8725750   Comercial  Gran Buenos Aires       Full-time\n1    17903700       Salud  Gran Buenos Aires       Full-time\n2  1000150677  Transporte    Capital Federal       Full-time\n3  1000610287  Transporte  Gran Buenos Aires       Full-time\n4  1000872556  Producción  Gran Buenos Aires       Full-time",
            "text/html": "<div>\n<style scoped>\n    .dataframe tbody tr th:only-of-type {\n        vertical-align: middle;\n    }\n\n    .dataframe tbody tr th {\n        vertical-align: top;\n    }\n\n    .dataframe thead th {\n        text-align: right;\n    }\n</style>\n<table border=\"1\" class=\"dataframe\">\n  <thead>\n    <tr style=\"text-align: right;\">\n      <th></th>\n      <th>idaviso</th>\n      <th>nombre_area</th>\n      <th>nombre_zona</th>\n      <th>tipo_de_trabajo</th>\n    </tr>\n  </thead>\n  <tbody>\n    <tr>\n      <th>0</th>\n      <td>8725750</td>\n      <td>Comercial</td>\n      <td>Gran Buenos Aires</td>\n      <td>Full-time</td>\n    </tr>\n    <tr>\n      <th>1</th>\n      <td>17903700</td>\n      <td>Salud</td>\n      <td>Gran Buenos Aires</td>\n      <td>Full-time</td>\n    </tr>\n    <tr>\n      <th>2</th>\n      <td>1000150677</td>\n      <td>Transporte</td>\n      <td>Capital Federal</td>\n      <td>Full-time</td>\n    </tr>\n    <tr>\n      <th>3</th>\n      <td>1000610287</td>\n      <td>Transporte</td>\n      <td>Gran Buenos Aires</td>\n      <td>Full-time</td>\n    </tr>\n    <tr>\n      <th>4</th>\n      <td>1000872556</td>\n      <td>Producción</td>\n      <td>Gran Buenos Aires</td>\n      <td>Full-time</td>\n    </tr>\n  </tbody>\n</table>\n</div>"
          },
          "metadata": {}
        }
      ]
    },
    {
      "metadata": {
        "trusted": true,
        "_uuid": "2e0e0a38df2bd5fc3c676e38ba2f5cc4ee57ce0f"
      },
      "cell_type": "code",
      "source": "# Cargamos previamente los datos de postulaciones para encontrar las areas mas postuladas\npostulaciones = pd.concat([\n    pd.read_csv('../input/datos/fiuba_4_postulaciones.csv'),\n    pd.read_csv('../input/datosdatos/ENTfiuba_4_postulaciones.csv'),\n])\npostulaciones.head()",
      "execution_count": 5,
      "outputs": [
        {
          "output_type": "execute_result",
          "execution_count": 5,
          "data": {
            "text/plain": "      idaviso idpostulante     fechapostulacion\n0  1112257047         NM5M  2018-01-15 16:22:34\n1  1111920714         NM5M  2018-02-06 09:04:50\n2  1112346945         NM5M  2018-02-22 09:04:47\n3  1112345547         NM5M  2018-02-22 09:04:59\n4  1112237522         5awk  2018-01-25 18:55:03",
            "text/html": "<div>\n<style scoped>\n    .dataframe tbody tr th:only-of-type {\n        vertical-align: middle;\n    }\n\n    .dataframe tbody tr th {\n        vertical-align: top;\n    }\n\n    .dataframe thead th {\n        text-align: right;\n    }\n</style>\n<table border=\"1\" class=\"dataframe\">\n  <thead>\n    <tr style=\"text-align: right;\">\n      <th></th>\n      <th>idaviso</th>\n      <th>idpostulante</th>\n      <th>fechapostulacion</th>\n    </tr>\n  </thead>\n  <tbody>\n    <tr>\n      <th>0</th>\n      <td>1112257047</td>\n      <td>NM5M</td>\n      <td>2018-01-15 16:22:34</td>\n    </tr>\n    <tr>\n      <th>1</th>\n      <td>1111920714</td>\n      <td>NM5M</td>\n      <td>2018-02-06 09:04:50</td>\n    </tr>\n    <tr>\n      <th>2</th>\n      <td>1112346945</td>\n      <td>NM5M</td>\n      <td>2018-02-22 09:04:47</td>\n    </tr>\n    <tr>\n      <th>3</th>\n      <td>1112345547</td>\n      <td>NM5M</td>\n      <td>2018-02-22 09:04:59</td>\n    </tr>\n    <tr>\n      <th>4</th>\n      <td>1112237522</td>\n      <td>5awk</td>\n      <td>2018-01-25 18:55:03</td>\n    </tr>\n  </tbody>\n</table>\n</div>"
          },
          "metadata": {}
        }
      ]
    },
    {
      "metadata": {
        "trusted": true,
        "_uuid": "aecea681b0d01628817e2f129b805ad396361d92"
      },
      "cell_type": "code",
      "source": "mas_postulados = pd.merge(postulaciones[['idaviso']], avisos[['idaviso', 'nombre_area']], on='idaviso', how='inner')\nmas_postulados.head()",
      "execution_count": 6,
      "outputs": [
        {
          "output_type": "execute_result",
          "execution_count": 6,
          "data": {
            "text/plain": "      idaviso          nombre_area\n0  1112257047  Atención al Cliente\n1  1112257047  Atención al Cliente\n2  1112257047  Atención al Cliente\n3  1112257047  Atención al Cliente\n4  1112257047  Atención al Cliente",
            "text/html": "<div>\n<style scoped>\n    .dataframe tbody tr th:only-of-type {\n        vertical-align: middle;\n    }\n\n    .dataframe tbody tr th {\n        vertical-align: top;\n    }\n\n    .dataframe thead th {\n        text-align: right;\n    }\n</style>\n<table border=\"1\" class=\"dataframe\">\n  <thead>\n    <tr style=\"text-align: right;\">\n      <th></th>\n      <th>idaviso</th>\n      <th>nombre_area</th>\n    </tr>\n  </thead>\n  <tbody>\n    <tr>\n      <th>0</th>\n      <td>1112257047</td>\n      <td>Atención al Cliente</td>\n    </tr>\n    <tr>\n      <th>1</th>\n      <td>1112257047</td>\n      <td>Atención al Cliente</td>\n    </tr>\n    <tr>\n      <th>2</th>\n      <td>1112257047</td>\n      <td>Atención al Cliente</td>\n    </tr>\n    <tr>\n      <th>3</th>\n      <td>1112257047</td>\n      <td>Atención al Cliente</td>\n    </tr>\n    <tr>\n      <th>4</th>\n      <td>1112257047</td>\n      <td>Atención al Cliente</td>\n    </tr>\n  </tbody>\n</table>\n</div>"
          },
          "metadata": {}
        }
      ]
    },
    {
      "metadata": {
        "trusted": true,
        "_uuid": "a22f81f6874b951e6341a15d9902f12d0a0ae247",
        "collapsed": true
      },
      "cell_type": "code",
      "source": "areas_importantes = mas_postulados['nombre_area'].value_counts().head(20).index",
      "execution_count": 7,
      "outputs": []
    },
    {
      "metadata": {
        "trusted": true,
        "_uuid": "07b8993c145bbf8d0ca84e9d825aac70bdc27212",
        "collapsed": true
      },
      "cell_type": "code",
      "source": "avisos.drop_duplicates(subset='idaviso', inplace=True)\navisos['nombre_area'] = avisos['nombre_area'].apply(lambda x: x if x in areas_importantes else 'Otra Area')",
      "execution_count": 8,
      "outputs": []
    },
    {
      "metadata": {
        "trusted": true,
        "scrolled": false,
        "_uuid": "c475702e1e2c55407e46678bf1778a7e2a2bec00"
      },
      "cell_type": "code",
      "source": "# Uso one hot encoding para area\ndummies_area = pd.get_dummies(avisos['nombre_area'])\navisos = pd.concat([avisos, dummies_area], axis=1)\navisos.drop(columns='nombre_area', inplace=True)\navisos.head()",
      "execution_count": 9,
      "outputs": [
        {
          "output_type": "execute_result",
          "execution_count": 9,
          "data": {
            "text/plain": "      idaviso        nombre_zona   ...   Tesorería  Ventas\n0     8725750  Gran Buenos Aires   ...           0       0\n1    17903700  Gran Buenos Aires   ...           0       0\n2  1000150677    Capital Federal   ...           0       0\n3  1000610287  Gran Buenos Aires   ...           0       0\n4  1000872556  Gran Buenos Aires   ...           0       0\n\n[5 rows x 24 columns]",
            "text/html": "<div>\n<style scoped>\n    .dataframe tbody tr th:only-of-type {\n        vertical-align: middle;\n    }\n\n    .dataframe tbody tr th {\n        vertical-align: top;\n    }\n\n    .dataframe thead th {\n        text-align: right;\n    }\n</style>\n<table border=\"1\" class=\"dataframe\">\n  <thead>\n    <tr style=\"text-align: right;\">\n      <th></th>\n      <th>idaviso</th>\n      <th>nombre_zona</th>\n      <th>tipo_de_trabajo</th>\n      <th>Administración</th>\n      <th>Administración de Personal</th>\n      <th>Almacén / Depósito / Expedición</th>\n      <th>Atención al Cliente</th>\n      <th>Call Center</th>\n      <th>Comercial</th>\n      <th>Contabilidad</th>\n      <th>Créditos y Cobranzas</th>\n      <th>Gastronomia</th>\n      <th>Legal</th>\n      <th>Logística</th>\n      <th>Mantenimiento y Limpieza</th>\n      <th>Marketing</th>\n      <th>Otra Area</th>\n      <th>Producción</th>\n      <th>Recepcionista</th>\n      <th>Recursos Humanos</th>\n      <th>Secretaria</th>\n      <th>Telemarketing</th>\n      <th>Tesorería</th>\n      <th>Ventas</th>\n    </tr>\n  </thead>\n  <tbody>\n    <tr>\n      <th>0</th>\n      <td>8725750</td>\n      <td>Gran Buenos Aires</td>\n      <td>Full-time</td>\n      <td>0</td>\n      <td>0</td>\n      <td>0</td>\n      <td>0</td>\n      <td>0</td>\n      <td>1</td>\n      <td>0</td>\n      <td>0</td>\n      <td>0</td>\n      <td>0</td>\n      <td>0</td>\n      <td>0</td>\n      <td>0</td>\n      <td>0</td>\n      <td>0</td>\n      <td>0</td>\n      <td>0</td>\n      <td>0</td>\n      <td>0</td>\n      <td>0</td>\n      <td>0</td>\n    </tr>\n    <tr>\n      <th>1</th>\n      <td>17903700</td>\n      <td>Gran Buenos Aires</td>\n      <td>Full-time</td>\n      <td>0</td>\n      <td>0</td>\n      <td>0</td>\n      <td>0</td>\n      <td>0</td>\n      <td>0</td>\n      <td>0</td>\n      <td>0</td>\n      <td>0</td>\n      <td>0</td>\n      <td>0</td>\n      <td>0</td>\n      <td>0</td>\n      <td>1</td>\n      <td>0</td>\n      <td>0</td>\n      <td>0</td>\n      <td>0</td>\n      <td>0</td>\n      <td>0</td>\n      <td>0</td>\n    </tr>\n    <tr>\n      <th>2</th>\n      <td>1000150677</td>\n      <td>Capital Federal</td>\n      <td>Full-time</td>\n      <td>0</td>\n      <td>0</td>\n      <td>0</td>\n      <td>0</td>\n      <td>0</td>\n      <td>0</td>\n      <td>0</td>\n      <td>0</td>\n      <td>0</td>\n      <td>0</td>\n      <td>0</td>\n      <td>0</td>\n      <td>0</td>\n      <td>1</td>\n      <td>0</td>\n      <td>0</td>\n      <td>0</td>\n      <td>0</td>\n      <td>0</td>\n      <td>0</td>\n      <td>0</td>\n    </tr>\n    <tr>\n      <th>3</th>\n      <td>1000610287</td>\n      <td>Gran Buenos Aires</td>\n      <td>Full-time</td>\n      <td>0</td>\n      <td>0</td>\n      <td>0</td>\n      <td>0</td>\n      <td>0</td>\n      <td>0</td>\n      <td>0</td>\n      <td>0</td>\n      <td>0</td>\n      <td>0</td>\n      <td>0</td>\n      <td>0</td>\n      <td>0</td>\n      <td>1</td>\n      <td>0</td>\n      <td>0</td>\n      <td>0</td>\n      <td>0</td>\n      <td>0</td>\n      <td>0</td>\n      <td>0</td>\n    </tr>\n    <tr>\n      <th>4</th>\n      <td>1000872556</td>\n      <td>Gran Buenos Aires</td>\n      <td>Full-time</td>\n      <td>0</td>\n      <td>0</td>\n      <td>0</td>\n      <td>0</td>\n      <td>0</td>\n      <td>0</td>\n      <td>0</td>\n      <td>0</td>\n      <td>0</td>\n      <td>0</td>\n      <td>0</td>\n      <td>0</td>\n      <td>0</td>\n      <td>0</td>\n      <td>1</td>\n      <td>0</td>\n      <td>0</td>\n      <td>0</td>\n      <td>0</td>\n      <td>0</td>\n      <td>0</td>\n    </tr>\n  </tbody>\n</table>\n</div>"
          },
          "metadata": {}
        }
      ]
    },
    {
      "metadata": {
        "trusted": true,
        "_uuid": "312a1b04376f302162d35d5a2be88b8d9b47bdc3",
        "collapsed": true
      },
      "cell_type": "code",
      "source": "# ZONA\n# 1 GBA\n# 0 Capital y otros\navisos['nombre_zona'] = avisos['nombre_zona'].apply(lambda x: 1 if x == 'Gran Buenos Aires' else 0)",
      "execution_count": 10,
      "outputs": []
    },
    {
      "metadata": {
        "trusted": true,
        "_uuid": "27b2cbd2f09016c9fa6f1be3867e356e32c50ab5",
        "collapsed": true
      },
      "cell_type": "code",
      "source": "# Tipo de trabajo\n# 1 Full-time\n# 0 otros\navisos['tipo_de_trabajo'] = avisos['tipo_de_trabajo'].apply(lambda x: 1 if x == 'Full-time' else 0)",
      "execution_count": 11,
      "outputs": []
    },
    {
      "metadata": {
        "trusted": true,
        "_uuid": "962d484ee378c5b778f6cf943e323d17651bb879"
      },
      "cell_type": "code",
      "source": "avisos.head()",
      "execution_count": 12,
      "outputs": [
        {
          "output_type": "execute_result",
          "execution_count": 12,
          "data": {
            "text/plain": "      idaviso  nombre_zona   ...    Tesorería  Ventas\n0     8725750            1   ...            0       0\n1    17903700            1   ...            0       0\n2  1000150677            0   ...            0       0\n3  1000610287            1   ...            0       0\n4  1000872556            1   ...            0       0\n\n[5 rows x 24 columns]",
            "text/html": "<div>\n<style scoped>\n    .dataframe tbody tr th:only-of-type {\n        vertical-align: middle;\n    }\n\n    .dataframe tbody tr th {\n        vertical-align: top;\n    }\n\n    .dataframe thead th {\n        text-align: right;\n    }\n</style>\n<table border=\"1\" class=\"dataframe\">\n  <thead>\n    <tr style=\"text-align: right;\">\n      <th></th>\n      <th>idaviso</th>\n      <th>nombre_zona</th>\n      <th>tipo_de_trabajo</th>\n      <th>Administración</th>\n      <th>Administración de Personal</th>\n      <th>Almacén / Depósito / Expedición</th>\n      <th>Atención al Cliente</th>\n      <th>Call Center</th>\n      <th>Comercial</th>\n      <th>Contabilidad</th>\n      <th>Créditos y Cobranzas</th>\n      <th>Gastronomia</th>\n      <th>Legal</th>\n      <th>Logística</th>\n      <th>Mantenimiento y Limpieza</th>\n      <th>Marketing</th>\n      <th>Otra Area</th>\n      <th>Producción</th>\n      <th>Recepcionista</th>\n      <th>Recursos Humanos</th>\n      <th>Secretaria</th>\n      <th>Telemarketing</th>\n      <th>Tesorería</th>\n      <th>Ventas</th>\n    </tr>\n  </thead>\n  <tbody>\n    <tr>\n      <th>0</th>\n      <td>8725750</td>\n      <td>1</td>\n      <td>1</td>\n      <td>0</td>\n      <td>0</td>\n      <td>0</td>\n      <td>0</td>\n      <td>0</td>\n      <td>1</td>\n      <td>0</td>\n      <td>0</td>\n      <td>0</td>\n      <td>0</td>\n      <td>0</td>\n      <td>0</td>\n      <td>0</td>\n      <td>0</td>\n      <td>0</td>\n      <td>0</td>\n      <td>0</td>\n      <td>0</td>\n      <td>0</td>\n      <td>0</td>\n      <td>0</td>\n    </tr>\n    <tr>\n      <th>1</th>\n      <td>17903700</td>\n      <td>1</td>\n      <td>1</td>\n      <td>0</td>\n      <td>0</td>\n      <td>0</td>\n      <td>0</td>\n      <td>0</td>\n      <td>0</td>\n      <td>0</td>\n      <td>0</td>\n      <td>0</td>\n      <td>0</td>\n      <td>0</td>\n      <td>0</td>\n      <td>0</td>\n      <td>1</td>\n      <td>0</td>\n      <td>0</td>\n      <td>0</td>\n      <td>0</td>\n      <td>0</td>\n      <td>0</td>\n      <td>0</td>\n    </tr>\n    <tr>\n      <th>2</th>\n      <td>1000150677</td>\n      <td>0</td>\n      <td>1</td>\n      <td>0</td>\n      <td>0</td>\n      <td>0</td>\n      <td>0</td>\n      <td>0</td>\n      <td>0</td>\n      <td>0</td>\n      <td>0</td>\n      <td>0</td>\n      <td>0</td>\n      <td>0</td>\n      <td>0</td>\n      <td>0</td>\n      <td>1</td>\n      <td>0</td>\n      <td>0</td>\n      <td>0</td>\n      <td>0</td>\n      <td>0</td>\n      <td>0</td>\n      <td>0</td>\n    </tr>\n    <tr>\n      <th>3</th>\n      <td>1000610287</td>\n      <td>1</td>\n      <td>1</td>\n      <td>0</td>\n      <td>0</td>\n      <td>0</td>\n      <td>0</td>\n      <td>0</td>\n      <td>0</td>\n      <td>0</td>\n      <td>0</td>\n      <td>0</td>\n      <td>0</td>\n      <td>0</td>\n      <td>0</td>\n      <td>0</td>\n      <td>1</td>\n      <td>0</td>\n      <td>0</td>\n      <td>0</td>\n      <td>0</td>\n      <td>0</td>\n      <td>0</td>\n      <td>0</td>\n    </tr>\n    <tr>\n      <th>4</th>\n      <td>1000872556</td>\n      <td>1</td>\n      <td>1</td>\n      <td>0</td>\n      <td>0</td>\n      <td>0</td>\n      <td>0</td>\n      <td>0</td>\n      <td>0</td>\n      <td>0</td>\n      <td>0</td>\n      <td>0</td>\n      <td>0</td>\n      <td>0</td>\n      <td>0</td>\n      <td>0</td>\n      <td>0</td>\n      <td>1</td>\n      <td>0</td>\n      <td>0</td>\n      <td>0</td>\n      <td>0</td>\n      <td>0</td>\n      <td>0</td>\n    </tr>\n  </tbody>\n</table>\n</div>"
          },
          "metadata": {}
        }
      ]
    },
    {
      "metadata": {
        "_uuid": "aa649d25f4d2f88fae88aca598ea0256514f58b8"
      },
      "cell_type": "markdown",
      "source": "# 2. VISTAS"
    },
    {
      "metadata": {
        "trusted": true,
        "_uuid": "9b3f1ede3d5f53bae0131056cb4bb9f3ff02fe30"
      },
      "cell_type": "code",
      "source": "vistas = pd.concat([\n    pd.read_csv(\"../input/datos/fiuba_3_vistas.csv\"),\n    pd.read_csv(\"../input/datosdatos/DESfiuba_3_vistas.csv\"),\n    pd.read_csv(\"../input/datosdatos/ENTfiuba_3_vistas.csv\")\n])\nvistas.head()",
      "execution_count": 13,
      "outputs": [
        {
          "output_type": "execute_result",
          "execution_count": 13,
          "data": {
            "text/plain": "      idAviso                     timestamp idpostulante\n0  1111780242  2018-02-23T13:38:13.187-0500      YjVJQ6Z\n1  1112263876  2018-02-23T13:38:14.296-0500      BmVpYoR\n2  1112327963  2018-02-23T13:38:14.329-0500      wVkBzZd\n3  1112318643  2018-02-23T13:38:17.921-0500      OqmP9pv\n4  1111903673  2018-02-23T13:38:18.973-0500      DrpbXDP",
            "text/html": "<div>\n<style scoped>\n    .dataframe tbody tr th:only-of-type {\n        vertical-align: middle;\n    }\n\n    .dataframe tbody tr th {\n        vertical-align: top;\n    }\n\n    .dataframe thead th {\n        text-align: right;\n    }\n</style>\n<table border=\"1\" class=\"dataframe\">\n  <thead>\n    <tr style=\"text-align: right;\">\n      <th></th>\n      <th>idAviso</th>\n      <th>timestamp</th>\n      <th>idpostulante</th>\n    </tr>\n  </thead>\n  <tbody>\n    <tr>\n      <th>0</th>\n      <td>1111780242</td>\n      <td>2018-02-23T13:38:13.187-0500</td>\n      <td>YjVJQ6Z</td>\n    </tr>\n    <tr>\n      <th>1</th>\n      <td>1112263876</td>\n      <td>2018-02-23T13:38:14.296-0500</td>\n      <td>BmVpYoR</td>\n    </tr>\n    <tr>\n      <th>2</th>\n      <td>1112327963</td>\n      <td>2018-02-23T13:38:14.329-0500</td>\n      <td>wVkBzZd</td>\n    </tr>\n    <tr>\n      <th>3</th>\n      <td>1112318643</td>\n      <td>2018-02-23T13:38:17.921-0500</td>\n      <td>OqmP9pv</td>\n    </tr>\n    <tr>\n      <th>4</th>\n      <td>1111903673</td>\n      <td>2018-02-23T13:38:18.973-0500</td>\n      <td>DrpbXDP</td>\n    </tr>\n  </tbody>\n</table>\n</div>"
          },
          "metadata": {}
        }
      ]
    },
    {
      "metadata": {
        "trusted": true,
        "_uuid": "9478abf92c793719d274a43ce03cf06b3dcd45b6"
      },
      "cell_type": "code",
      "source": "vistas.rename(columns={'idAviso':'idaviso'}, inplace=True)\nvistas = vistas[['idaviso', 'idpostulante']]\nvistas.drop_duplicates(subset=['idaviso', 'idpostulante'], inplace=True)\nvistas.head()",
      "execution_count": 14,
      "outputs": [
        {
          "output_type": "execute_result",
          "execution_count": 14,
          "data": {
            "text/plain": "      idaviso idpostulante\n0  1111780242      YjVJQ6Z\n1  1112263876      BmVpYoR\n2  1112327963      wVkBzZd\n3  1112318643      OqmP9pv\n4  1111903673      DrpbXDP",
            "text/html": "<div>\n<style scoped>\n    .dataframe tbody tr th:only-of-type {\n        vertical-align: middle;\n    }\n\n    .dataframe tbody tr th {\n        vertical-align: top;\n    }\n\n    .dataframe thead th {\n        text-align: right;\n    }\n</style>\n<table border=\"1\" class=\"dataframe\">\n  <thead>\n    <tr style=\"text-align: right;\">\n      <th></th>\n      <th>idaviso</th>\n      <th>idpostulante</th>\n    </tr>\n  </thead>\n  <tbody>\n    <tr>\n      <th>0</th>\n      <td>1111780242</td>\n      <td>YjVJQ6Z</td>\n    </tr>\n    <tr>\n      <th>1</th>\n      <td>1112263876</td>\n      <td>BmVpYoR</td>\n    </tr>\n    <tr>\n      <th>2</th>\n      <td>1112327963</td>\n      <td>wVkBzZd</td>\n    </tr>\n    <tr>\n      <th>3</th>\n      <td>1112318643</td>\n      <td>OqmP9pv</td>\n    </tr>\n    <tr>\n      <th>4</th>\n      <td>1111903673</td>\n      <td>DrpbXDP</td>\n    </tr>\n  </tbody>\n</table>\n</div>"
          },
          "metadata": {}
        }
      ]
    },
    {
      "metadata": {
        "trusted": true,
        "_uuid": "459d7dcab55a4071ca2c29532c79ce215c5b72af"
      },
      "cell_type": "code",
      "source": "# Aniado la informacion del area de cada aviso\navisos_vistos = pd.merge(vistas, \n                         avisos.drop(columns=['nombre_zona','tipo_de_trabajo']),\n                         on='idaviso', \n                         how='inner')\navisos_vistos.head()",
      "execution_count": 16,
      "outputs": [
        {
          "output_type": "execute_result",
          "execution_count": 16,
          "data": {
            "text/plain": "      idaviso idpostulante   ...    Tesorería  Ventas\n0  1111780242      YjVJQ6Z   ...            0       0\n1  1111780242      dYjRpMD   ...            0       0\n2  1111780242      wVopPXl   ...            0       0\n3  1111780242      wVoOPoL   ...            0       0\n4  1111780242      KBdJJKd   ...            0       0\n\n[5 rows x 23 columns]",
            "text/html": "<div>\n<style scoped>\n    .dataframe tbody tr th:only-of-type {\n        vertical-align: middle;\n    }\n\n    .dataframe tbody tr th {\n        vertical-align: top;\n    }\n\n    .dataframe thead th {\n        text-align: right;\n    }\n</style>\n<table border=\"1\" class=\"dataframe\">\n  <thead>\n    <tr style=\"text-align: right;\">\n      <th></th>\n      <th>idaviso</th>\n      <th>idpostulante</th>\n      <th>Administración</th>\n      <th>Administración de Personal</th>\n      <th>Almacén / Depósito / Expedición</th>\n      <th>Atención al Cliente</th>\n      <th>Call Center</th>\n      <th>Comercial</th>\n      <th>Contabilidad</th>\n      <th>Créditos y Cobranzas</th>\n      <th>Gastronomia</th>\n      <th>Legal</th>\n      <th>Logística</th>\n      <th>Mantenimiento y Limpieza</th>\n      <th>Marketing</th>\n      <th>Otra Area</th>\n      <th>Producción</th>\n      <th>Recepcionista</th>\n      <th>Recursos Humanos</th>\n      <th>Secretaria</th>\n      <th>Telemarketing</th>\n      <th>Tesorería</th>\n      <th>Ventas</th>\n    </tr>\n  </thead>\n  <tbody>\n    <tr>\n      <th>0</th>\n      <td>1111780242</td>\n      <td>YjVJQ6Z</td>\n      <td>0</td>\n      <td>0</td>\n      <td>0</td>\n      <td>0</td>\n      <td>0</td>\n      <td>0</td>\n      <td>0</td>\n      <td>0</td>\n      <td>0</td>\n      <td>0</td>\n      <td>0</td>\n      <td>0</td>\n      <td>0</td>\n      <td>1</td>\n      <td>0</td>\n      <td>0</td>\n      <td>0</td>\n      <td>0</td>\n      <td>0</td>\n      <td>0</td>\n      <td>0</td>\n    </tr>\n    <tr>\n      <th>1</th>\n      <td>1111780242</td>\n      <td>dYjRpMD</td>\n      <td>0</td>\n      <td>0</td>\n      <td>0</td>\n      <td>0</td>\n      <td>0</td>\n      <td>0</td>\n      <td>0</td>\n      <td>0</td>\n      <td>0</td>\n      <td>0</td>\n      <td>0</td>\n      <td>0</td>\n      <td>0</td>\n      <td>1</td>\n      <td>0</td>\n      <td>0</td>\n      <td>0</td>\n      <td>0</td>\n      <td>0</td>\n      <td>0</td>\n      <td>0</td>\n    </tr>\n    <tr>\n      <th>2</th>\n      <td>1111780242</td>\n      <td>wVopPXl</td>\n      <td>0</td>\n      <td>0</td>\n      <td>0</td>\n      <td>0</td>\n      <td>0</td>\n      <td>0</td>\n      <td>0</td>\n      <td>0</td>\n      <td>0</td>\n      <td>0</td>\n      <td>0</td>\n      <td>0</td>\n      <td>0</td>\n      <td>1</td>\n      <td>0</td>\n      <td>0</td>\n      <td>0</td>\n      <td>0</td>\n      <td>0</td>\n      <td>0</td>\n      <td>0</td>\n    </tr>\n    <tr>\n      <th>3</th>\n      <td>1111780242</td>\n      <td>wVoOPoL</td>\n      <td>0</td>\n      <td>0</td>\n      <td>0</td>\n      <td>0</td>\n      <td>0</td>\n      <td>0</td>\n      <td>0</td>\n      <td>0</td>\n      <td>0</td>\n      <td>0</td>\n      <td>0</td>\n      <td>0</td>\n      <td>0</td>\n      <td>1</td>\n      <td>0</td>\n      <td>0</td>\n      <td>0</td>\n      <td>0</td>\n      <td>0</td>\n      <td>0</td>\n      <td>0</td>\n    </tr>\n    <tr>\n      <th>4</th>\n      <td>1111780242</td>\n      <td>KBdJJKd</td>\n      <td>0</td>\n      <td>0</td>\n      <td>0</td>\n      <td>0</td>\n      <td>0</td>\n      <td>0</td>\n      <td>0</td>\n      <td>0</td>\n      <td>0</td>\n      <td>0</td>\n      <td>0</td>\n      <td>0</td>\n      <td>0</td>\n      <td>1</td>\n      <td>0</td>\n      <td>0</td>\n      <td>0</td>\n      <td>0</td>\n      <td>0</td>\n      <td>0</td>\n      <td>0</td>\n    </tr>\n  </tbody>\n</table>\n</div>"
          },
          "metadata": {}
        }
      ]
    },
    {
      "metadata": {
        "trusted": true,
        "_uuid": "a9deb9248991a5b779edf26e147b967bc3a5595e",
        "collapsed": true
      },
      "cell_type": "code",
      "source": "avisos_vistos.drop(columns='idaviso',inplace=True)",
      "execution_count": 17,
      "outputs": []
    },
    {
      "metadata": {
        "trusted": true,
        "_uuid": "ad297d429f9ce37c1401f407d5b01e87da58dddc"
      },
      "cell_type": "code",
      "source": "# Cada columna representa la cantidad de avisos vistos por area para cada postulante\navisos_vistos = avisos_vistos.pivot_table(index='idpostulante', aggfunc='sum')\navisos_vistos.head()",
      "execution_count": 18,
      "outputs": [
        {
          "output_type": "execute_result",
          "execution_count": 18,
          "data": {
            "text/plain": "              Administración   ...    Ventas\nidpostulante                   ...          \n0005E                    0.0   ...       0.0\n00Lkv                    0.0   ...       0.0\n00dMd                    0.0   ...       0.0\n01QAq                    0.0   ...       0.0\n021OM                    0.0   ...       0.0\n\n[5 rows x 21 columns]",
            "text/html": "<div>\n<style scoped>\n    .dataframe tbody tr th:only-of-type {\n        vertical-align: middle;\n    }\n\n    .dataframe tbody tr th {\n        vertical-align: top;\n    }\n\n    .dataframe thead th {\n        text-align: right;\n    }\n</style>\n<table border=\"1\" class=\"dataframe\">\n  <thead>\n    <tr style=\"text-align: right;\">\n      <th></th>\n      <th>Administración</th>\n      <th>Administración de Personal</th>\n      <th>Almacén / Depósito / Expedición</th>\n      <th>Atención al Cliente</th>\n      <th>Call Center</th>\n      <th>Comercial</th>\n      <th>Contabilidad</th>\n      <th>Créditos y Cobranzas</th>\n      <th>Gastronomia</th>\n      <th>Legal</th>\n      <th>Logística</th>\n      <th>Mantenimiento y Limpieza</th>\n      <th>Marketing</th>\n      <th>Otra Area</th>\n      <th>Producción</th>\n      <th>Recepcionista</th>\n      <th>Recursos Humanos</th>\n      <th>Secretaria</th>\n      <th>Telemarketing</th>\n      <th>Tesorería</th>\n      <th>Ventas</th>\n    </tr>\n    <tr>\n      <th>idpostulante</th>\n      <th></th>\n      <th></th>\n      <th></th>\n      <th></th>\n      <th></th>\n      <th></th>\n      <th></th>\n      <th></th>\n      <th></th>\n      <th></th>\n      <th></th>\n      <th></th>\n      <th></th>\n      <th></th>\n      <th></th>\n      <th></th>\n      <th></th>\n      <th></th>\n      <th></th>\n      <th></th>\n      <th></th>\n    </tr>\n  </thead>\n  <tbody>\n    <tr>\n      <th>0005E</th>\n      <td>0.0</td>\n      <td>0.0</td>\n      <td>0.0</td>\n      <td>0.0</td>\n      <td>0.0</td>\n      <td>0.0</td>\n      <td>0.0</td>\n      <td>0.0</td>\n      <td>0.0</td>\n      <td>0.0</td>\n      <td>0.0</td>\n      <td>0.0</td>\n      <td>0.0</td>\n      <td>1.0</td>\n      <td>0.0</td>\n      <td>0.0</td>\n      <td>0.0</td>\n      <td>0.0</td>\n      <td>0.0</td>\n      <td>0.0</td>\n      <td>0.0</td>\n    </tr>\n    <tr>\n      <th>00Lkv</th>\n      <td>0.0</td>\n      <td>0.0</td>\n      <td>0.0</td>\n      <td>0.0</td>\n      <td>0.0</td>\n      <td>0.0</td>\n      <td>0.0</td>\n      <td>0.0</td>\n      <td>0.0</td>\n      <td>0.0</td>\n      <td>0.0</td>\n      <td>0.0</td>\n      <td>0.0</td>\n      <td>1.0</td>\n      <td>0.0</td>\n      <td>0.0</td>\n      <td>0.0</td>\n      <td>0.0</td>\n      <td>0.0</td>\n      <td>0.0</td>\n      <td>0.0</td>\n    </tr>\n    <tr>\n      <th>00dMd</th>\n      <td>0.0</td>\n      <td>0.0</td>\n      <td>0.0</td>\n      <td>0.0</td>\n      <td>0.0</td>\n      <td>0.0</td>\n      <td>0.0</td>\n      <td>0.0</td>\n      <td>0.0</td>\n      <td>0.0</td>\n      <td>0.0</td>\n      <td>0.0</td>\n      <td>0.0</td>\n      <td>1.0</td>\n      <td>0.0</td>\n      <td>0.0</td>\n      <td>0.0</td>\n      <td>0.0</td>\n      <td>0.0</td>\n      <td>0.0</td>\n      <td>0.0</td>\n    </tr>\n    <tr>\n      <th>01QAq</th>\n      <td>0.0</td>\n      <td>0.0</td>\n      <td>0.0</td>\n      <td>0.0</td>\n      <td>0.0</td>\n      <td>0.0</td>\n      <td>1.0</td>\n      <td>0.0</td>\n      <td>0.0</td>\n      <td>0.0</td>\n      <td>0.0</td>\n      <td>0.0</td>\n      <td>0.0</td>\n      <td>0.0</td>\n      <td>0.0</td>\n      <td>0.0</td>\n      <td>0.0</td>\n      <td>0.0</td>\n      <td>0.0</td>\n      <td>0.0</td>\n      <td>0.0</td>\n    </tr>\n    <tr>\n      <th>021OM</th>\n      <td>0.0</td>\n      <td>0.0</td>\n      <td>0.0</td>\n      <td>0.0</td>\n      <td>0.0</td>\n      <td>0.0</td>\n      <td>0.0</td>\n      <td>0.0</td>\n      <td>0.0</td>\n      <td>0.0</td>\n      <td>0.0</td>\n      <td>0.0</td>\n      <td>0.0</td>\n      <td>1.0</td>\n      <td>0.0</td>\n      <td>0.0</td>\n      <td>0.0</td>\n      <td>0.0</td>\n      <td>0.0</td>\n      <td>0.0</td>\n      <td>0.0</td>\n    </tr>\n  </tbody>\n</table>\n</div>"
          },
          "metadata": {}
        }
      ]
    },
    {
      "metadata": {
        "trusted": true,
        "collapsed": true,
        "_uuid": "d7bdc9d28eb9d52ab55306fdd2561faedc185288"
      },
      "cell_type": "code",
      "source": "# Ningun usuario supera 2^16 cantidad de vistas por area\navisos_vistos = avisos_vistos.astype('uint16')",
      "execution_count": 19,
      "outputs": []
    },
    {
      "metadata": {
        "trusted": true,
        "_uuid": "2c5285b393ca57a859cf8792177aacadc942ed3e"
      },
      "cell_type": "code",
      "source": "# le agrego la palabra 'vistas' adelante para que sea mas claro y no se confunda luego con el area postulada\nnuevos_nombres = []\nfor area in avisos_vistos.columns:\n    area = \"vistas \" + area\n    nuevos_nombres.append(area)\navisos_vistos.columns = nuevos_nombres\navisos_vistos.head()",
      "execution_count": 20,
      "outputs": [
        {
          "output_type": "execute_result",
          "execution_count": 20,
          "data": {
            "text/plain": "              vistas Administración      ...        vistas Ventas\nidpostulante                             ...                     \n0005E                             0      ...                    0\n00Lkv                             0      ...                    0\n00dMd                             0      ...                    0\n01QAq                             0      ...                    0\n021OM                             0      ...                    0\n\n[5 rows x 21 columns]",
            "text/html": "<div>\n<style scoped>\n    .dataframe tbody tr th:only-of-type {\n        vertical-align: middle;\n    }\n\n    .dataframe tbody tr th {\n        vertical-align: top;\n    }\n\n    .dataframe thead th {\n        text-align: right;\n    }\n</style>\n<table border=\"1\" class=\"dataframe\">\n  <thead>\n    <tr style=\"text-align: right;\">\n      <th></th>\n      <th>vistas Administración</th>\n      <th>vistas Administración de Personal</th>\n      <th>vistas Almacén / Depósito / Expedición</th>\n      <th>vistas Atención al Cliente</th>\n      <th>vistas Call Center</th>\n      <th>vistas Comercial</th>\n      <th>vistas Contabilidad</th>\n      <th>vistas Créditos y Cobranzas</th>\n      <th>vistas Gastronomia</th>\n      <th>vistas Legal</th>\n      <th>vistas Logística</th>\n      <th>vistas Mantenimiento y Limpieza</th>\n      <th>vistas Marketing</th>\n      <th>vistas Otra Area</th>\n      <th>vistas Producción</th>\n      <th>vistas Recepcionista</th>\n      <th>vistas Recursos Humanos</th>\n      <th>vistas Secretaria</th>\n      <th>vistas Telemarketing</th>\n      <th>vistas Tesorería</th>\n      <th>vistas Ventas</th>\n    </tr>\n    <tr>\n      <th>idpostulante</th>\n      <th></th>\n      <th></th>\n      <th></th>\n      <th></th>\n      <th></th>\n      <th></th>\n      <th></th>\n      <th></th>\n      <th></th>\n      <th></th>\n      <th></th>\n      <th></th>\n      <th></th>\n      <th></th>\n      <th></th>\n      <th></th>\n      <th></th>\n      <th></th>\n      <th></th>\n      <th></th>\n      <th></th>\n    </tr>\n  </thead>\n  <tbody>\n    <tr>\n      <th>0005E</th>\n      <td>0</td>\n      <td>0</td>\n      <td>0</td>\n      <td>0</td>\n      <td>0</td>\n      <td>0</td>\n      <td>0</td>\n      <td>0</td>\n      <td>0</td>\n      <td>0</td>\n      <td>0</td>\n      <td>0</td>\n      <td>0</td>\n      <td>1</td>\n      <td>0</td>\n      <td>0</td>\n      <td>0</td>\n      <td>0</td>\n      <td>0</td>\n      <td>0</td>\n      <td>0</td>\n    </tr>\n    <tr>\n      <th>00Lkv</th>\n      <td>0</td>\n      <td>0</td>\n      <td>0</td>\n      <td>0</td>\n      <td>0</td>\n      <td>0</td>\n      <td>0</td>\n      <td>0</td>\n      <td>0</td>\n      <td>0</td>\n      <td>0</td>\n      <td>0</td>\n      <td>0</td>\n      <td>1</td>\n      <td>0</td>\n      <td>0</td>\n      <td>0</td>\n      <td>0</td>\n      <td>0</td>\n      <td>0</td>\n      <td>0</td>\n    </tr>\n    <tr>\n      <th>00dMd</th>\n      <td>0</td>\n      <td>0</td>\n      <td>0</td>\n      <td>0</td>\n      <td>0</td>\n      <td>0</td>\n      <td>0</td>\n      <td>0</td>\n      <td>0</td>\n      <td>0</td>\n      <td>0</td>\n      <td>0</td>\n      <td>0</td>\n      <td>1</td>\n      <td>0</td>\n      <td>0</td>\n      <td>0</td>\n      <td>0</td>\n      <td>0</td>\n      <td>0</td>\n      <td>0</td>\n    </tr>\n    <tr>\n      <th>01QAq</th>\n      <td>0</td>\n      <td>0</td>\n      <td>0</td>\n      <td>0</td>\n      <td>0</td>\n      <td>0</td>\n      <td>1</td>\n      <td>0</td>\n      <td>0</td>\n      <td>0</td>\n      <td>0</td>\n      <td>0</td>\n      <td>0</td>\n      <td>0</td>\n      <td>0</td>\n      <td>0</td>\n      <td>0</td>\n      <td>0</td>\n      <td>0</td>\n      <td>0</td>\n      <td>0</td>\n    </tr>\n    <tr>\n      <th>021OM</th>\n      <td>0</td>\n      <td>0</td>\n      <td>0</td>\n      <td>0</td>\n      <td>0</td>\n      <td>0</td>\n      <td>0</td>\n      <td>0</td>\n      <td>0</td>\n      <td>0</td>\n      <td>0</td>\n      <td>0</td>\n      <td>0</td>\n      <td>1</td>\n      <td>0</td>\n      <td>0</td>\n      <td>0</td>\n      <td>0</td>\n      <td>0</td>\n      <td>0</td>\n      <td>0</td>\n    </tr>\n  </tbody>\n</table>\n</div>"
          },
          "metadata": {}
        }
      ]
    },
    {
      "metadata": {
        "_uuid": "a32bffb1288b671bdc45b229393801da830ce19f"
      },
      "cell_type": "markdown",
      "source": "# 3. GENERO Y EDAD"
    },
    {
      "metadata": {
        "trusted": true,
        "_uuid": "f6962fee3ffb6ac17c8d41f12227a62e8056af6e"
      },
      "cell_type": "code",
      "source": "genyedad = pd.concat([\n    pd.read_csv(\"../input/datos/fiuba_2_postulantes_genero_y_edad.csv\"),\n    pd.read_csv(\"../input/datosdatos/DESfiuba_2_postulantes_genero_y_edad.csv\"),\n    pd.read_csv(\"../input/datosdatos/ENTfiuba_2_postulantes_genero_y_edad.csv\")\n])\ngenyedad.head()",
      "execution_count": 21,
      "outputs": [
        {
          "output_type": "execute_result",
          "execution_count": 21,
          "data": {
            "text/plain": "  idpostulante fechanacimiento  sexo\n0         NM5M      1970-12-03   FEM\n1         5awk      1962-12-04   FEM\n2         ZaO5      1978-08-10   FEM\n3         NdJl      1969-05-09  MASC\n4         eo2p      1981-02-16  MASC",
            "text/html": "<div>\n<style scoped>\n    .dataframe tbody tr th:only-of-type {\n        vertical-align: middle;\n    }\n\n    .dataframe tbody tr th {\n        vertical-align: top;\n    }\n\n    .dataframe thead th {\n        text-align: right;\n    }\n</style>\n<table border=\"1\" class=\"dataframe\">\n  <thead>\n    <tr style=\"text-align: right;\">\n      <th></th>\n      <th>idpostulante</th>\n      <th>fechanacimiento</th>\n      <th>sexo</th>\n    </tr>\n  </thead>\n  <tbody>\n    <tr>\n      <th>0</th>\n      <td>NM5M</td>\n      <td>1970-12-03</td>\n      <td>FEM</td>\n    </tr>\n    <tr>\n      <th>1</th>\n      <td>5awk</td>\n      <td>1962-12-04</td>\n      <td>FEM</td>\n    </tr>\n    <tr>\n      <th>2</th>\n      <td>ZaO5</td>\n      <td>1978-08-10</td>\n      <td>FEM</td>\n    </tr>\n    <tr>\n      <th>3</th>\n      <td>NdJl</td>\n      <td>1969-05-09</td>\n      <td>MASC</td>\n    </tr>\n    <tr>\n      <th>4</th>\n      <td>eo2p</td>\n      <td>1981-02-16</td>\n      <td>MASC</td>\n    </tr>\n  </tbody>\n</table>\n</div>"
          },
          "metadata": {}
        }
      ]
    },
    {
      "metadata": {
        "trusted": true,
        "_uuid": "2741f135c3a52c31c30f0c0a3f24199c7bc714b2"
      },
      "cell_type": "code",
      "source": "# elimino los datos repetidos\ngenyedad.drop_duplicates(subset='idpostulante', inplace=True)\ngenyedad.head()",
      "execution_count": 22,
      "outputs": [
        {
          "output_type": "execute_result",
          "execution_count": 22,
          "data": {
            "text/plain": "  idpostulante fechanacimiento  sexo\n0         NM5M      1970-12-03   FEM\n1         5awk      1962-12-04   FEM\n2         ZaO5      1978-08-10   FEM\n3         NdJl      1969-05-09  MASC\n4         eo2p      1981-02-16  MASC",
            "text/html": "<div>\n<style scoped>\n    .dataframe tbody tr th:only-of-type {\n        vertical-align: middle;\n    }\n\n    .dataframe tbody tr th {\n        vertical-align: top;\n    }\n\n    .dataframe thead th {\n        text-align: right;\n    }\n</style>\n<table border=\"1\" class=\"dataframe\">\n  <thead>\n    <tr style=\"text-align: right;\">\n      <th></th>\n      <th>idpostulante</th>\n      <th>fechanacimiento</th>\n      <th>sexo</th>\n    </tr>\n  </thead>\n  <tbody>\n    <tr>\n      <th>0</th>\n      <td>NM5M</td>\n      <td>1970-12-03</td>\n      <td>FEM</td>\n    </tr>\n    <tr>\n      <th>1</th>\n      <td>5awk</td>\n      <td>1962-12-04</td>\n      <td>FEM</td>\n    </tr>\n    <tr>\n      <th>2</th>\n      <td>ZaO5</td>\n      <td>1978-08-10</td>\n      <td>FEM</td>\n    </tr>\n    <tr>\n      <th>3</th>\n      <td>NdJl</td>\n      <td>1969-05-09</td>\n      <td>MASC</td>\n    </tr>\n    <tr>\n      <th>4</th>\n      <td>eo2p</td>\n      <td>1981-02-16</td>\n      <td>MASC</td>\n    </tr>\n  </tbody>\n</table>\n</div>"
          },
          "metadata": {}
        }
      ]
    },
    {
      "metadata": {
        "trusted": true,
        "_uuid": "83007f57bf3f0a92fa63d8cfdc45b5dfa4574aa7",
        "collapsed": true
      },
      "cell_type": "code",
      "source": "# 1 MASC\n# 0 FEM + no declara\ngenyedad['sexo'] = genyedad['sexo'].apply(lambda x: 1 if x == 'MASC' else 0)",
      "execution_count": 23,
      "outputs": []
    },
    {
      "metadata": {
        "trusted": true,
        "_uuid": "8db65cf9dbb170fbef1d3bb8e202b17006a09cf9"
      },
      "cell_type": "code",
      "source": "# Calculo las edades\ngenyedad['fecha_dt'] = pd.to_datetime(genyedad['fechanacimiento'], errors='coerce')\ngenyedad.head()",
      "execution_count": 24,
      "outputs": [
        {
          "output_type": "execute_result",
          "execution_count": 24,
          "data": {
            "text/plain": "  idpostulante fechanacimiento  sexo   fecha_dt\n0         NM5M      1970-12-03     0 1970-12-03\n1         5awk      1962-12-04     0 1962-12-04\n2         ZaO5      1978-08-10     0 1978-08-10\n3         NdJl      1969-05-09     1 1969-05-09\n4         eo2p      1981-02-16     1 1981-02-16",
            "text/html": "<div>\n<style scoped>\n    .dataframe tbody tr th:only-of-type {\n        vertical-align: middle;\n    }\n\n    .dataframe tbody tr th {\n        vertical-align: top;\n    }\n\n    .dataframe thead th {\n        text-align: right;\n    }\n</style>\n<table border=\"1\" class=\"dataframe\">\n  <thead>\n    <tr style=\"text-align: right;\">\n      <th></th>\n      <th>idpostulante</th>\n      <th>fechanacimiento</th>\n      <th>sexo</th>\n      <th>fecha_dt</th>\n    </tr>\n  </thead>\n  <tbody>\n    <tr>\n      <th>0</th>\n      <td>NM5M</td>\n      <td>1970-12-03</td>\n      <td>0</td>\n      <td>1970-12-03</td>\n    </tr>\n    <tr>\n      <th>1</th>\n      <td>5awk</td>\n      <td>1962-12-04</td>\n      <td>0</td>\n      <td>1962-12-04</td>\n    </tr>\n    <tr>\n      <th>2</th>\n      <td>ZaO5</td>\n      <td>1978-08-10</td>\n      <td>0</td>\n      <td>1978-08-10</td>\n    </tr>\n    <tr>\n      <th>3</th>\n      <td>NdJl</td>\n      <td>1969-05-09</td>\n      <td>1</td>\n      <td>1969-05-09</td>\n    </tr>\n    <tr>\n      <th>4</th>\n      <td>eo2p</td>\n      <td>1981-02-16</td>\n      <td>1</td>\n      <td>1981-02-16</td>\n    </tr>\n  </tbody>\n</table>\n</div>"
          },
          "metadata": {}
        }
      ]
    },
    {
      "metadata": {
        "trusted": true,
        "_uuid": "d61e822711c95ccaabb6ef304d0e4625645ea683"
      },
      "cell_type": "code",
      "source": "genyedad['edad'] = 2018 - genyedad['fecha_dt'].dt.year\ngenyedad.head()",
      "execution_count": 25,
      "outputs": [
        {
          "output_type": "execute_result",
          "execution_count": 25,
          "data": {
            "text/plain": "  idpostulante fechanacimiento  sexo   fecha_dt  edad\n0         NM5M      1970-12-03     0 1970-12-03  48.0\n1         5awk      1962-12-04     0 1962-12-04  56.0\n2         ZaO5      1978-08-10     0 1978-08-10  40.0\n3         NdJl      1969-05-09     1 1969-05-09  49.0\n4         eo2p      1981-02-16     1 1981-02-16  37.0",
            "text/html": "<div>\n<style scoped>\n    .dataframe tbody tr th:only-of-type {\n        vertical-align: middle;\n    }\n\n    .dataframe tbody tr th {\n        vertical-align: top;\n    }\n\n    .dataframe thead th {\n        text-align: right;\n    }\n</style>\n<table border=\"1\" class=\"dataframe\">\n  <thead>\n    <tr style=\"text-align: right;\">\n      <th></th>\n      <th>idpostulante</th>\n      <th>fechanacimiento</th>\n      <th>sexo</th>\n      <th>fecha_dt</th>\n      <th>edad</th>\n    </tr>\n  </thead>\n  <tbody>\n    <tr>\n      <th>0</th>\n      <td>NM5M</td>\n      <td>1970-12-03</td>\n      <td>0</td>\n      <td>1970-12-03</td>\n      <td>48.0</td>\n    </tr>\n    <tr>\n      <th>1</th>\n      <td>5awk</td>\n      <td>1962-12-04</td>\n      <td>0</td>\n      <td>1962-12-04</td>\n      <td>56.0</td>\n    </tr>\n    <tr>\n      <th>2</th>\n      <td>ZaO5</td>\n      <td>1978-08-10</td>\n      <td>0</td>\n      <td>1978-08-10</td>\n      <td>40.0</td>\n    </tr>\n    <tr>\n      <th>3</th>\n      <td>NdJl</td>\n      <td>1969-05-09</td>\n      <td>1</td>\n      <td>1969-05-09</td>\n      <td>49.0</td>\n    </tr>\n    <tr>\n      <th>4</th>\n      <td>eo2p</td>\n      <td>1981-02-16</td>\n      <td>1</td>\n      <td>1981-02-16</td>\n      <td>37.0</td>\n    </tr>\n  </tbody>\n</table>\n</div>"
          },
          "metadata": {}
        }
      ]
    },
    {
      "metadata": {
        "trusted": true,
        "_uuid": "c3f6bad90a02cc45a7da3a9d4b02fd3119001fdb"
      },
      "cell_type": "code",
      "source": "genyedad.drop(columns=['fechanacimiento', 'fecha_dt'], inplace=True)\ngenyedad.head()",
      "execution_count": 26,
      "outputs": [
        {
          "output_type": "execute_result",
          "execution_count": 26,
          "data": {
            "text/plain": "  idpostulante  sexo  edad\n0         NM5M     0  48.0\n1         5awk     0  56.0\n2         ZaO5     0  40.0\n3         NdJl     1  49.0\n4         eo2p     1  37.0",
            "text/html": "<div>\n<style scoped>\n    .dataframe tbody tr th:only-of-type {\n        vertical-align: middle;\n    }\n\n    .dataframe tbody tr th {\n        vertical-align: top;\n    }\n\n    .dataframe thead th {\n        text-align: right;\n    }\n</style>\n<table border=\"1\" class=\"dataframe\">\n  <thead>\n    <tr style=\"text-align: right;\">\n      <th></th>\n      <th>idpostulante</th>\n      <th>sexo</th>\n      <th>edad</th>\n    </tr>\n  </thead>\n  <tbody>\n    <tr>\n      <th>0</th>\n      <td>NM5M</td>\n      <td>0</td>\n      <td>48.0</td>\n    </tr>\n    <tr>\n      <th>1</th>\n      <td>5awk</td>\n      <td>0</td>\n      <td>56.0</td>\n    </tr>\n    <tr>\n      <th>2</th>\n      <td>ZaO5</td>\n      <td>0</td>\n      <td>40.0</td>\n    </tr>\n    <tr>\n      <th>3</th>\n      <td>NdJl</td>\n      <td>1</td>\n      <td>49.0</td>\n    </tr>\n    <tr>\n      <th>4</th>\n      <td>eo2p</td>\n      <td>1</td>\n      <td>37.0</td>\n    </tr>\n  </tbody>\n</table>\n</div>"
          },
          "metadata": {}
        }
      ]
    },
    {
      "metadata": {
        "trusted": true,
        "_uuid": "a435d7b84bb38797c1f961a3608d71a7f093fad1"
      },
      "cell_type": "code",
      "source": "genyedad.fillna(genyedad['edad'].mean(), inplace=True)\ngenyedad = genyedad.astype({'sexo':'int8', 'edad':'uint8'})\ngenyedad.head()",
      "execution_count": 27,
      "outputs": [
        {
          "output_type": "execute_result",
          "execution_count": 27,
          "data": {
            "text/plain": "  idpostulante  sexo  edad\n0         NM5M     0    48\n1         5awk     0    56\n2         ZaO5     0    40\n3         NdJl     1    49\n4         eo2p     1    37",
            "text/html": "<div>\n<style scoped>\n    .dataframe tbody tr th:only-of-type {\n        vertical-align: middle;\n    }\n\n    .dataframe tbody tr th {\n        vertical-align: top;\n    }\n\n    .dataframe thead th {\n        text-align: right;\n    }\n</style>\n<table border=\"1\" class=\"dataframe\">\n  <thead>\n    <tr style=\"text-align: right;\">\n      <th></th>\n      <th>idpostulante</th>\n      <th>sexo</th>\n      <th>edad</th>\n    </tr>\n  </thead>\n  <tbody>\n    <tr>\n      <th>0</th>\n      <td>NM5M</td>\n      <td>0</td>\n      <td>48</td>\n    </tr>\n    <tr>\n      <th>1</th>\n      <td>5awk</td>\n      <td>0</td>\n      <td>56</td>\n    </tr>\n    <tr>\n      <th>2</th>\n      <td>ZaO5</td>\n      <td>0</td>\n      <td>40</td>\n    </tr>\n    <tr>\n      <th>3</th>\n      <td>NdJl</td>\n      <td>1</td>\n      <td>49</td>\n    </tr>\n    <tr>\n      <th>4</th>\n      <td>eo2p</td>\n      <td>1</td>\n      <td>37</td>\n    </tr>\n  </tbody>\n</table>\n</div>"
          },
          "metadata": {}
        }
      ]
    },
    {
      "metadata": {
        "trusted": true,
        "_uuid": "2ef1c1dd1d44d3df436d5398c7815297d2c3ae37"
      },
      "cell_type": "code",
      "source": "# lo uno con avisos_vistos\nusuarios = pd.merge(avisos_vistos, genyedad, on='idpostulante', how='inner')\nusuarios.head()",
      "execution_count": 28,
      "outputs": [
        {
          "output_type": "execute_result",
          "execution_count": 28,
          "data": {
            "text/plain": "  idpostulante  vistas Administración  ...   sexo  edad\n0      0z5Dmrd                      0  ...      1    53\n1      0z5JW1r                      0  ...      1    47\n2      0z5VvGv                      1  ...      1    31\n3      0zB01pE                      0  ...      1    29\n4      0zB026d                      0  ...      0    40\n\n[5 rows x 24 columns]",
            "text/html": "<div>\n<style scoped>\n    .dataframe tbody tr th:only-of-type {\n        vertical-align: middle;\n    }\n\n    .dataframe tbody tr th {\n        vertical-align: top;\n    }\n\n    .dataframe thead th {\n        text-align: right;\n    }\n</style>\n<table border=\"1\" class=\"dataframe\">\n  <thead>\n    <tr style=\"text-align: right;\">\n      <th></th>\n      <th>idpostulante</th>\n      <th>vistas Administración</th>\n      <th>vistas Administración de Personal</th>\n      <th>vistas Almacén / Depósito / Expedición</th>\n      <th>vistas Atención al Cliente</th>\n      <th>vistas Call Center</th>\n      <th>vistas Comercial</th>\n      <th>vistas Contabilidad</th>\n      <th>vistas Créditos y Cobranzas</th>\n      <th>vistas Gastronomia</th>\n      <th>vistas Legal</th>\n      <th>vistas Logística</th>\n      <th>vistas Mantenimiento y Limpieza</th>\n      <th>vistas Marketing</th>\n      <th>vistas Otra Area</th>\n      <th>vistas Producción</th>\n      <th>vistas Recepcionista</th>\n      <th>vistas Recursos Humanos</th>\n      <th>vistas Secretaria</th>\n      <th>vistas Telemarketing</th>\n      <th>vistas Tesorería</th>\n      <th>vistas Ventas</th>\n      <th>sexo</th>\n      <th>edad</th>\n    </tr>\n  </thead>\n  <tbody>\n    <tr>\n      <th>0</th>\n      <td>0z5Dmrd</td>\n      <td>0</td>\n      <td>0</td>\n      <td>0</td>\n      <td>0</td>\n      <td>0</td>\n      <td>0</td>\n      <td>0</td>\n      <td>0</td>\n      <td>0</td>\n      <td>0</td>\n      <td>0</td>\n      <td>0</td>\n      <td>0</td>\n      <td>0</td>\n      <td>0</td>\n      <td>0</td>\n      <td>4</td>\n      <td>0</td>\n      <td>0</td>\n      <td>0</td>\n      <td>0</td>\n      <td>1</td>\n      <td>53</td>\n    </tr>\n    <tr>\n      <th>1</th>\n      <td>0z5JW1r</td>\n      <td>0</td>\n      <td>0</td>\n      <td>0</td>\n      <td>0</td>\n      <td>0</td>\n      <td>0</td>\n      <td>0</td>\n      <td>0</td>\n      <td>1</td>\n      <td>0</td>\n      <td>0</td>\n      <td>0</td>\n      <td>0</td>\n      <td>5</td>\n      <td>0</td>\n      <td>0</td>\n      <td>0</td>\n      <td>0</td>\n      <td>0</td>\n      <td>0</td>\n      <td>2</td>\n      <td>1</td>\n      <td>47</td>\n    </tr>\n    <tr>\n      <th>2</th>\n      <td>0z5VvGv</td>\n      <td>1</td>\n      <td>0</td>\n      <td>0</td>\n      <td>1</td>\n      <td>1</td>\n      <td>1</td>\n      <td>0</td>\n      <td>0</td>\n      <td>0</td>\n      <td>0</td>\n      <td>0</td>\n      <td>0</td>\n      <td>0</td>\n      <td>0</td>\n      <td>1</td>\n      <td>0</td>\n      <td>0</td>\n      <td>0</td>\n      <td>1</td>\n      <td>0</td>\n      <td>1</td>\n      <td>1</td>\n      <td>31</td>\n    </tr>\n    <tr>\n      <th>3</th>\n      <td>0zB01pE</td>\n      <td>0</td>\n      <td>0</td>\n      <td>0</td>\n      <td>0</td>\n      <td>0</td>\n      <td>1</td>\n      <td>1</td>\n      <td>0</td>\n      <td>0</td>\n      <td>0</td>\n      <td>0</td>\n      <td>0</td>\n      <td>0</td>\n      <td>3</td>\n      <td>0</td>\n      <td>0</td>\n      <td>0</td>\n      <td>0</td>\n      <td>0</td>\n      <td>0</td>\n      <td>0</td>\n      <td>1</td>\n      <td>29</td>\n    </tr>\n    <tr>\n      <th>4</th>\n      <td>0zB026d</td>\n      <td>0</td>\n      <td>0</td>\n      <td>0</td>\n      <td>0</td>\n      <td>0</td>\n      <td>0</td>\n      <td>0</td>\n      <td>0</td>\n      <td>0</td>\n      <td>0</td>\n      <td>0</td>\n      <td>0</td>\n      <td>0</td>\n      <td>1</td>\n      <td>0</td>\n      <td>0</td>\n      <td>0</td>\n      <td>0</td>\n      <td>0</td>\n      <td>0</td>\n      <td>0</td>\n      <td>0</td>\n      <td>40</td>\n    </tr>\n  </tbody>\n</table>\n</div>"
          },
          "metadata": {}
        }
      ]
    },
    {
      "metadata": {
        "trusted": true,
        "collapsed": true,
        "_uuid": "0fc73ae0b7bdc3fd9064f13303379f25dfdc32f4"
      },
      "cell_type": "code",
      "source": "# Con estos daatos caracterizamos a los usuarios",
      "execution_count": 29,
      "outputs": []
    },
    {
      "metadata": {
        "trusted": true,
        "collapsed": true,
        "_uuid": "21f30fbb3da13886b53a51d72595fb2e857c8bae"
      },
      "cell_type": "markdown",
      "source": "# 3. POSTULACIONES"
    },
    {
      "metadata": {
        "trusted": true,
        "_uuid": "6c42a10801aeaae52bc86f68734b9548f213ebc1"
      },
      "cell_type": "code",
      "source": "# Cargamos los datos antes para obtener las areas mas postuladas\npostulaciones = pd.concat([\n    pd.read_csv('../input/datos/fiuba_4_postulaciones.csv'),\n    pd.read_csv('../input/datosdatos/ENTfiuba_4_postulaciones.csv'),\n])\npostulaciones.head()",
      "execution_count": 30,
      "outputs": [
        {
          "output_type": "execute_result",
          "execution_count": 30,
          "data": {
            "text/plain": "      idaviso idpostulante     fechapostulacion\n0  1112257047         NM5M  2018-01-15 16:22:34\n1  1111920714         NM5M  2018-02-06 09:04:50\n2  1112346945         NM5M  2018-02-22 09:04:47\n3  1112345547         NM5M  2018-02-22 09:04:59\n4  1112237522         5awk  2018-01-25 18:55:03",
            "text/html": "<div>\n<style scoped>\n    .dataframe tbody tr th:only-of-type {\n        vertical-align: middle;\n    }\n\n    .dataframe tbody tr th {\n        vertical-align: top;\n    }\n\n    .dataframe thead th {\n        text-align: right;\n    }\n</style>\n<table border=\"1\" class=\"dataframe\">\n  <thead>\n    <tr style=\"text-align: right;\">\n      <th></th>\n      <th>idaviso</th>\n      <th>idpostulante</th>\n      <th>fechapostulacion</th>\n    </tr>\n  </thead>\n  <tbody>\n    <tr>\n      <th>0</th>\n      <td>1112257047</td>\n      <td>NM5M</td>\n      <td>2018-01-15 16:22:34</td>\n    </tr>\n    <tr>\n      <th>1</th>\n      <td>1111920714</td>\n      <td>NM5M</td>\n      <td>2018-02-06 09:04:50</td>\n    </tr>\n    <tr>\n      <th>2</th>\n      <td>1112346945</td>\n      <td>NM5M</td>\n      <td>2018-02-22 09:04:47</td>\n    </tr>\n    <tr>\n      <th>3</th>\n      <td>1112345547</td>\n      <td>NM5M</td>\n      <td>2018-02-22 09:04:59</td>\n    </tr>\n    <tr>\n      <th>4</th>\n      <td>1112237522</td>\n      <td>5awk</td>\n      <td>2018-01-25 18:55:03</td>\n    </tr>\n  </tbody>\n</table>\n</div>"
          },
          "metadata": {}
        }
      ]
    },
    {
      "metadata": {
        "trusted": true,
        "_uuid": "bc6bf3b7fcec0354f7fdd0fa5afa5bea62788d54"
      },
      "cell_type": "code",
      "source": "\n# La carga de datos se hizo anteriormente\npostulaciones.drop(columns='fechapostulacion', inplace=True)\npostulaciones.head()",
      "execution_count": 31,
      "outputs": [
        {
          "output_type": "execute_result",
          "execution_count": 31,
          "data": {
            "text/plain": "      idaviso idpostulante\n0  1112257047         NM5M\n1  1111920714         NM5M\n2  1112346945         NM5M\n3  1112345547         NM5M\n4  1112237522         5awk",
            "text/html": "<div>\n<style scoped>\n    .dataframe tbody tr th:only-of-type {\n        vertical-align: middle;\n    }\n\n    .dataframe tbody tr th {\n        vertical-align: top;\n    }\n\n    .dataframe thead th {\n        text-align: right;\n    }\n</style>\n<table border=\"1\" class=\"dataframe\">\n  <thead>\n    <tr style=\"text-align: right;\">\n      <th></th>\n      <th>idaviso</th>\n      <th>idpostulante</th>\n    </tr>\n  </thead>\n  <tbody>\n    <tr>\n      <th>0</th>\n      <td>1112257047</td>\n      <td>NM5M</td>\n    </tr>\n    <tr>\n      <th>1</th>\n      <td>1111920714</td>\n      <td>NM5M</td>\n    </tr>\n    <tr>\n      <th>2</th>\n      <td>1112346945</td>\n      <td>NM5M</td>\n    </tr>\n    <tr>\n      <th>3</th>\n      <td>1112345547</td>\n      <td>NM5M</td>\n    </tr>\n    <tr>\n      <th>4</th>\n      <td>1112237522</td>\n      <td>5awk</td>\n    </tr>\n  </tbody>\n</table>\n</div>"
          },
          "metadata": {}
        }
      ]
    },
    {
      "metadata": {
        "trusted": true,
        "collapsed": true,
        "_uuid": "ffc2b48995c3a7474d73fd23cd44a31fefeb4606"
      },
      "cell_type": "code",
      "source": "postulaciones.drop_duplicates(subset=['idaviso', 'idpostulante'], inplace=True)",
      "execution_count": 32,
      "outputs": []
    },
    {
      "metadata": {
        "trusted": true,
        "_uuid": "18cbb2f90c938ead0ebec07fa68efc2669826985"
      },
      "cell_type": "code",
      "source": "postulaciones.head()",
      "execution_count": 33,
      "outputs": [
        {
          "output_type": "execute_result",
          "execution_count": 33,
          "data": {
            "text/plain": "      idaviso idpostulante\n0  1112257047         NM5M\n1  1111920714         NM5M\n2  1112346945         NM5M\n3  1112345547         NM5M\n4  1112237522         5awk",
            "text/html": "<div>\n<style scoped>\n    .dataframe tbody tr th:only-of-type {\n        vertical-align: middle;\n    }\n\n    .dataframe tbody tr th {\n        vertical-align: top;\n    }\n\n    .dataframe thead th {\n        text-align: right;\n    }\n</style>\n<table border=\"1\" class=\"dataframe\">\n  <thead>\n    <tr style=\"text-align: right;\">\n      <th></th>\n      <th>idaviso</th>\n      <th>idpostulante</th>\n    </tr>\n  </thead>\n  <tbody>\n    <tr>\n      <th>0</th>\n      <td>1112257047</td>\n      <td>NM5M</td>\n    </tr>\n    <tr>\n      <th>1</th>\n      <td>1111920714</td>\n      <td>NM5M</td>\n    </tr>\n    <tr>\n      <th>2</th>\n      <td>1112346945</td>\n      <td>NM5M</td>\n    </tr>\n    <tr>\n      <th>3</th>\n      <td>1112345547</td>\n      <td>NM5M</td>\n    </tr>\n    <tr>\n      <th>4</th>\n      <td>1112237522</td>\n      <td>5awk</td>\n    </tr>\n  </tbody>\n</table>\n</div>"
          },
          "metadata": {}
        }
      ]
    },
    {
      "metadata": {
        "trusted": true,
        "collapsed": true,
        "_uuid": "304942e439fc77b506dacd59cfeb9a49eae29554"
      },
      "cell_type": "code",
      "source": "# Busco los avisos y las areas de cada postulacion\npostulaciones_detalle = pd.merge(postulaciones, avisos, on='idaviso', how='inner')",
      "execution_count": 34,
      "outputs": []
    },
    {
      "metadata": {
        "trusted": true,
        "_uuid": "d03e357603564421389b3e76d3d4a9ca997f62c6"
      },
      "cell_type": "code",
      "source": "# 1 en el area de la categoria\npostulaciones_detalle.head()",
      "execution_count": 35,
      "outputs": [
        {
          "output_type": "execute_result",
          "execution_count": 35,
          "data": {
            "text/plain": "      idaviso idpostulante   ...    Tesorería  Ventas\n0  1112257047         NM5M   ...            0       0\n1  1112257047       1kJqGb   ...            0       0\n2  1112257047       eOE9Rr   ...            0       0\n3  1112257047       Zrx8Xz   ...            0       0\n4  1112257047       ZrKNQY   ...            0       0\n\n[5 rows x 25 columns]",
            "text/html": "<div>\n<style scoped>\n    .dataframe tbody tr th:only-of-type {\n        vertical-align: middle;\n    }\n\n    .dataframe tbody tr th {\n        vertical-align: top;\n    }\n\n    .dataframe thead th {\n        text-align: right;\n    }\n</style>\n<table border=\"1\" class=\"dataframe\">\n  <thead>\n    <tr style=\"text-align: right;\">\n      <th></th>\n      <th>idaviso</th>\n      <th>idpostulante</th>\n      <th>nombre_zona</th>\n      <th>tipo_de_trabajo</th>\n      <th>Administración</th>\n      <th>Administración de Personal</th>\n      <th>Almacén / Depósito / Expedición</th>\n      <th>Atención al Cliente</th>\n      <th>Call Center</th>\n      <th>Comercial</th>\n      <th>Contabilidad</th>\n      <th>Créditos y Cobranzas</th>\n      <th>Gastronomia</th>\n      <th>Legal</th>\n      <th>Logística</th>\n      <th>Mantenimiento y Limpieza</th>\n      <th>Marketing</th>\n      <th>Otra Area</th>\n      <th>Producción</th>\n      <th>Recepcionista</th>\n      <th>Recursos Humanos</th>\n      <th>Secretaria</th>\n      <th>Telemarketing</th>\n      <th>Tesorería</th>\n      <th>Ventas</th>\n    </tr>\n  </thead>\n  <tbody>\n    <tr>\n      <th>0</th>\n      <td>1112257047</td>\n      <td>NM5M</td>\n      <td>1</td>\n      <td>0</td>\n      <td>0</td>\n      <td>0</td>\n      <td>0</td>\n      <td>1</td>\n      <td>0</td>\n      <td>0</td>\n      <td>0</td>\n      <td>0</td>\n      <td>0</td>\n      <td>0</td>\n      <td>0</td>\n      <td>0</td>\n      <td>0</td>\n      <td>0</td>\n      <td>0</td>\n      <td>0</td>\n      <td>0</td>\n      <td>0</td>\n      <td>0</td>\n      <td>0</td>\n      <td>0</td>\n    </tr>\n    <tr>\n      <th>1</th>\n      <td>1112257047</td>\n      <td>1kJqGb</td>\n      <td>1</td>\n      <td>0</td>\n      <td>0</td>\n      <td>0</td>\n      <td>0</td>\n      <td>1</td>\n      <td>0</td>\n      <td>0</td>\n      <td>0</td>\n      <td>0</td>\n      <td>0</td>\n      <td>0</td>\n      <td>0</td>\n      <td>0</td>\n      <td>0</td>\n      <td>0</td>\n      <td>0</td>\n      <td>0</td>\n      <td>0</td>\n      <td>0</td>\n      <td>0</td>\n      <td>0</td>\n      <td>0</td>\n    </tr>\n    <tr>\n      <th>2</th>\n      <td>1112257047</td>\n      <td>eOE9Rr</td>\n      <td>1</td>\n      <td>0</td>\n      <td>0</td>\n      <td>0</td>\n      <td>0</td>\n      <td>1</td>\n      <td>0</td>\n      <td>0</td>\n      <td>0</td>\n      <td>0</td>\n      <td>0</td>\n      <td>0</td>\n      <td>0</td>\n      <td>0</td>\n      <td>0</td>\n      <td>0</td>\n      <td>0</td>\n      <td>0</td>\n      <td>0</td>\n      <td>0</td>\n      <td>0</td>\n      <td>0</td>\n      <td>0</td>\n    </tr>\n    <tr>\n      <th>3</th>\n      <td>1112257047</td>\n      <td>Zrx8Xz</td>\n      <td>1</td>\n      <td>0</td>\n      <td>0</td>\n      <td>0</td>\n      <td>0</td>\n      <td>1</td>\n      <td>0</td>\n      <td>0</td>\n      <td>0</td>\n      <td>0</td>\n      <td>0</td>\n      <td>0</td>\n      <td>0</td>\n      <td>0</td>\n      <td>0</td>\n      <td>0</td>\n      <td>0</td>\n      <td>0</td>\n      <td>0</td>\n      <td>0</td>\n      <td>0</td>\n      <td>0</td>\n      <td>0</td>\n    </tr>\n    <tr>\n      <th>4</th>\n      <td>1112257047</td>\n      <td>ZrKNQY</td>\n      <td>1</td>\n      <td>0</td>\n      <td>0</td>\n      <td>0</td>\n      <td>0</td>\n      <td>1</td>\n      <td>0</td>\n      <td>0</td>\n      <td>0</td>\n      <td>0</td>\n      <td>0</td>\n      <td>0</td>\n      <td>0</td>\n      <td>0</td>\n      <td>0</td>\n      <td>0</td>\n      <td>0</td>\n      <td>0</td>\n      <td>0</td>\n      <td>0</td>\n      <td>0</td>\n      <td>0</td>\n      <td>0</td>\n    </tr>\n  </tbody>\n</table>\n</div>"
          },
          "metadata": {}
        }
      ]
    },
    {
      "metadata": {
        "trusted": true,
        "_uuid": "91def63a13244a5de71abb8ef69a4d971331f6ad"
      },
      "cell_type": "code",
      "source": "# Finalmente uno la informacion de los usuarios y sus postulaciones\ndatos = pd.merge(usuarios, postulaciones_detalle, on='idpostulante', how='inner')\ndatos.head()",
      "execution_count": 36,
      "outputs": [
        {
          "output_type": "execute_result",
          "execution_count": 36,
          "data": {
            "text/plain": "  idpostulante  vistas Administración   ...    Tesorería  Ventas\n0      0z5Dmrd                      0   ...            0       0\n1      0z5Dmrd                      0   ...            0       0\n2      0z5JW1r                      0   ...            0       0\n3      0z5JW1r                      0   ...            0       0\n4      0z5JW1r                      0   ...            0       0\n\n[5 rows x 48 columns]",
            "text/html": "<div>\n<style scoped>\n    .dataframe tbody tr th:only-of-type {\n        vertical-align: middle;\n    }\n\n    .dataframe tbody tr th {\n        vertical-align: top;\n    }\n\n    .dataframe thead th {\n        text-align: right;\n    }\n</style>\n<table border=\"1\" class=\"dataframe\">\n  <thead>\n    <tr style=\"text-align: right;\">\n      <th></th>\n      <th>idpostulante</th>\n      <th>vistas Administración</th>\n      <th>vistas Administración de Personal</th>\n      <th>vistas Almacén / Depósito / Expedición</th>\n      <th>vistas Atención al Cliente</th>\n      <th>vistas Call Center</th>\n      <th>vistas Comercial</th>\n      <th>vistas Contabilidad</th>\n      <th>vistas Créditos y Cobranzas</th>\n      <th>vistas Gastronomia</th>\n      <th>vistas Legal</th>\n      <th>vistas Logística</th>\n      <th>vistas Mantenimiento y Limpieza</th>\n      <th>vistas Marketing</th>\n      <th>vistas Otra Area</th>\n      <th>vistas Producción</th>\n      <th>vistas Recepcionista</th>\n      <th>vistas Recursos Humanos</th>\n      <th>vistas Secretaria</th>\n      <th>vistas Telemarketing</th>\n      <th>vistas Tesorería</th>\n      <th>vistas Ventas</th>\n      <th>sexo</th>\n      <th>edad</th>\n      <th>idaviso</th>\n      <th>nombre_zona</th>\n      <th>tipo_de_trabajo</th>\n      <th>Administración</th>\n      <th>Administración de Personal</th>\n      <th>Almacén / Depósito / Expedición</th>\n      <th>Atención al Cliente</th>\n      <th>Call Center</th>\n      <th>Comercial</th>\n      <th>Contabilidad</th>\n      <th>Créditos y Cobranzas</th>\n      <th>Gastronomia</th>\n      <th>Legal</th>\n      <th>Logística</th>\n      <th>Mantenimiento y Limpieza</th>\n      <th>Marketing</th>\n      <th>Otra Area</th>\n      <th>Producción</th>\n      <th>Recepcionista</th>\n      <th>Recursos Humanos</th>\n      <th>Secretaria</th>\n      <th>Telemarketing</th>\n      <th>Tesorería</th>\n      <th>Ventas</th>\n    </tr>\n  </thead>\n  <tbody>\n    <tr>\n      <th>0</th>\n      <td>0z5Dmrd</td>\n      <td>0</td>\n      <td>0</td>\n      <td>0</td>\n      <td>0</td>\n      <td>0</td>\n      <td>0</td>\n      <td>0</td>\n      <td>0</td>\n      <td>0</td>\n      <td>0</td>\n      <td>0</td>\n      <td>0</td>\n      <td>0</td>\n      <td>0</td>\n      <td>0</td>\n      <td>0</td>\n      <td>4</td>\n      <td>0</td>\n      <td>0</td>\n      <td>0</td>\n      <td>0</td>\n      <td>1</td>\n      <td>53</td>\n      <td>1112384041</td>\n      <td>1</td>\n      <td>1</td>\n      <td>0</td>\n      <td>0</td>\n      <td>0</td>\n      <td>0</td>\n      <td>0</td>\n      <td>0</td>\n      <td>0</td>\n      <td>0</td>\n      <td>0</td>\n      <td>0</td>\n      <td>0</td>\n      <td>0</td>\n      <td>0</td>\n      <td>0</td>\n      <td>0</td>\n      <td>0</td>\n      <td>1</td>\n      <td>0</td>\n      <td>0</td>\n      <td>0</td>\n      <td>0</td>\n    </tr>\n    <tr>\n      <th>1</th>\n      <td>0z5Dmrd</td>\n      <td>0</td>\n      <td>0</td>\n      <td>0</td>\n      <td>0</td>\n      <td>0</td>\n      <td>0</td>\n      <td>0</td>\n      <td>0</td>\n      <td>0</td>\n      <td>0</td>\n      <td>0</td>\n      <td>0</td>\n      <td>0</td>\n      <td>0</td>\n      <td>0</td>\n      <td>0</td>\n      <td>4</td>\n      <td>0</td>\n      <td>0</td>\n      <td>0</td>\n      <td>0</td>\n      <td>1</td>\n      <td>53</td>\n      <td>1112420060</td>\n      <td>1</td>\n      <td>1</td>\n      <td>0</td>\n      <td>0</td>\n      <td>0</td>\n      <td>0</td>\n      <td>0</td>\n      <td>0</td>\n      <td>0</td>\n      <td>0</td>\n      <td>0</td>\n      <td>0</td>\n      <td>0</td>\n      <td>0</td>\n      <td>0</td>\n      <td>0</td>\n      <td>0</td>\n      <td>0</td>\n      <td>1</td>\n      <td>0</td>\n      <td>0</td>\n      <td>0</td>\n      <td>0</td>\n    </tr>\n    <tr>\n      <th>2</th>\n      <td>0z5JW1r</td>\n      <td>0</td>\n      <td>0</td>\n      <td>0</td>\n      <td>0</td>\n      <td>0</td>\n      <td>0</td>\n      <td>0</td>\n      <td>0</td>\n      <td>1</td>\n      <td>0</td>\n      <td>0</td>\n      <td>0</td>\n      <td>0</td>\n      <td>5</td>\n      <td>0</td>\n      <td>0</td>\n      <td>0</td>\n      <td>0</td>\n      <td>0</td>\n      <td>0</td>\n      <td>2</td>\n      <td>1</td>\n      <td>47</td>\n      <td>1112292169</td>\n      <td>1</td>\n      <td>1</td>\n      <td>0</td>\n      <td>0</td>\n      <td>0</td>\n      <td>0</td>\n      <td>0</td>\n      <td>0</td>\n      <td>0</td>\n      <td>0</td>\n      <td>0</td>\n      <td>0</td>\n      <td>0</td>\n      <td>0</td>\n      <td>0</td>\n      <td>1</td>\n      <td>0</td>\n      <td>0</td>\n      <td>0</td>\n      <td>0</td>\n      <td>0</td>\n      <td>0</td>\n      <td>0</td>\n    </tr>\n    <tr>\n      <th>3</th>\n      <td>0z5JW1r</td>\n      <td>0</td>\n      <td>0</td>\n      <td>0</td>\n      <td>0</td>\n      <td>0</td>\n      <td>0</td>\n      <td>0</td>\n      <td>0</td>\n      <td>1</td>\n      <td>0</td>\n      <td>0</td>\n      <td>0</td>\n      <td>0</td>\n      <td>5</td>\n      <td>0</td>\n      <td>0</td>\n      <td>0</td>\n      <td>0</td>\n      <td>0</td>\n      <td>0</td>\n      <td>2</td>\n      <td>1</td>\n      <td>47</td>\n      <td>1112309728</td>\n      <td>1</td>\n      <td>1</td>\n      <td>0</td>\n      <td>0</td>\n      <td>0</td>\n      <td>0</td>\n      <td>0</td>\n      <td>0</td>\n      <td>0</td>\n      <td>0</td>\n      <td>1</td>\n      <td>0</td>\n      <td>0</td>\n      <td>0</td>\n      <td>0</td>\n      <td>0</td>\n      <td>0</td>\n      <td>0</td>\n      <td>0</td>\n      <td>0</td>\n      <td>0</td>\n      <td>0</td>\n      <td>0</td>\n    </tr>\n    <tr>\n      <th>4</th>\n      <td>0z5JW1r</td>\n      <td>0</td>\n      <td>0</td>\n      <td>0</td>\n      <td>0</td>\n      <td>0</td>\n      <td>0</td>\n      <td>0</td>\n      <td>0</td>\n      <td>1</td>\n      <td>0</td>\n      <td>0</td>\n      <td>0</td>\n      <td>0</td>\n      <td>5</td>\n      <td>0</td>\n      <td>0</td>\n      <td>0</td>\n      <td>0</td>\n      <td>0</td>\n      <td>0</td>\n      <td>2</td>\n      <td>1</td>\n      <td>47</td>\n      <td>1112257171</td>\n      <td>1</td>\n      <td>1</td>\n      <td>0</td>\n      <td>0</td>\n      <td>1</td>\n      <td>0</td>\n      <td>0</td>\n      <td>0</td>\n      <td>0</td>\n      <td>0</td>\n      <td>0</td>\n      <td>0</td>\n      <td>0</td>\n      <td>0</td>\n      <td>0</td>\n      <td>0</td>\n      <td>0</td>\n      <td>0</td>\n      <td>0</td>\n      <td>0</td>\n      <td>0</td>\n      <td>0</td>\n      <td>0</td>\n    </tr>\n  </tbody>\n</table>\n</div>"
          },
          "metadata": {}
        }
      ]
    },
    {
      "metadata": {
        "trusted": true,
        "_uuid": "7452248821113436225809f528fea660cdcf90f1"
      },
      "cell_type": "code",
      "source": "# Todos estos avisos fueron postulaciones y por lo tanto se clasifican como postulados\n# POSTULADO 1\n# NO_POSTULADO 0\ndatos['postulado'] = 1\ndatos.head()",
      "execution_count": 37,
      "outputs": [
        {
          "output_type": "execute_result",
          "execution_count": 37,
          "data": {
            "text/plain": "  idpostulante  vistas Administración    ...      Ventas  postulado\n0      0z5Dmrd                      0    ...           0          1\n1      0z5Dmrd                      0    ...           0          1\n2      0z5JW1r                      0    ...           0          1\n3      0z5JW1r                      0    ...           0          1\n4      0z5JW1r                      0    ...           0          1\n\n[5 rows x 49 columns]",
            "text/html": "<div>\n<style scoped>\n    .dataframe tbody tr th:only-of-type {\n        vertical-align: middle;\n    }\n\n    .dataframe tbody tr th {\n        vertical-align: top;\n    }\n\n    .dataframe thead th {\n        text-align: right;\n    }\n</style>\n<table border=\"1\" class=\"dataframe\">\n  <thead>\n    <tr style=\"text-align: right;\">\n      <th></th>\n      <th>idpostulante</th>\n      <th>vistas Administración</th>\n      <th>vistas Administración de Personal</th>\n      <th>vistas Almacén / Depósito / Expedición</th>\n      <th>vistas Atención al Cliente</th>\n      <th>vistas Call Center</th>\n      <th>vistas Comercial</th>\n      <th>vistas Contabilidad</th>\n      <th>vistas Créditos y Cobranzas</th>\n      <th>vistas Gastronomia</th>\n      <th>vistas Legal</th>\n      <th>vistas Logística</th>\n      <th>vistas Mantenimiento y Limpieza</th>\n      <th>vistas Marketing</th>\n      <th>vistas Otra Area</th>\n      <th>vistas Producción</th>\n      <th>vistas Recepcionista</th>\n      <th>vistas Recursos Humanos</th>\n      <th>vistas Secretaria</th>\n      <th>vistas Telemarketing</th>\n      <th>vistas Tesorería</th>\n      <th>vistas Ventas</th>\n      <th>sexo</th>\n      <th>edad</th>\n      <th>idaviso</th>\n      <th>nombre_zona</th>\n      <th>tipo_de_trabajo</th>\n      <th>Administración</th>\n      <th>Administración de Personal</th>\n      <th>Almacén / Depósito / Expedición</th>\n      <th>Atención al Cliente</th>\n      <th>Call Center</th>\n      <th>Comercial</th>\n      <th>Contabilidad</th>\n      <th>Créditos y Cobranzas</th>\n      <th>Gastronomia</th>\n      <th>Legal</th>\n      <th>Logística</th>\n      <th>Mantenimiento y Limpieza</th>\n      <th>Marketing</th>\n      <th>Otra Area</th>\n      <th>Producción</th>\n      <th>Recepcionista</th>\n      <th>Recursos Humanos</th>\n      <th>Secretaria</th>\n      <th>Telemarketing</th>\n      <th>Tesorería</th>\n      <th>Ventas</th>\n      <th>postulado</th>\n    </tr>\n  </thead>\n  <tbody>\n    <tr>\n      <th>0</th>\n      <td>0z5Dmrd</td>\n      <td>0</td>\n      <td>0</td>\n      <td>0</td>\n      <td>0</td>\n      <td>0</td>\n      <td>0</td>\n      <td>0</td>\n      <td>0</td>\n      <td>0</td>\n      <td>0</td>\n      <td>0</td>\n      <td>0</td>\n      <td>0</td>\n      <td>0</td>\n      <td>0</td>\n      <td>0</td>\n      <td>4</td>\n      <td>0</td>\n      <td>0</td>\n      <td>0</td>\n      <td>0</td>\n      <td>1</td>\n      <td>53</td>\n      <td>1112384041</td>\n      <td>1</td>\n      <td>1</td>\n      <td>0</td>\n      <td>0</td>\n      <td>0</td>\n      <td>0</td>\n      <td>0</td>\n      <td>0</td>\n      <td>0</td>\n      <td>0</td>\n      <td>0</td>\n      <td>0</td>\n      <td>0</td>\n      <td>0</td>\n      <td>0</td>\n      <td>0</td>\n      <td>0</td>\n      <td>0</td>\n      <td>1</td>\n      <td>0</td>\n      <td>0</td>\n      <td>0</td>\n      <td>0</td>\n      <td>1</td>\n    </tr>\n    <tr>\n      <th>1</th>\n      <td>0z5Dmrd</td>\n      <td>0</td>\n      <td>0</td>\n      <td>0</td>\n      <td>0</td>\n      <td>0</td>\n      <td>0</td>\n      <td>0</td>\n      <td>0</td>\n      <td>0</td>\n      <td>0</td>\n      <td>0</td>\n      <td>0</td>\n      <td>0</td>\n      <td>0</td>\n      <td>0</td>\n      <td>0</td>\n      <td>4</td>\n      <td>0</td>\n      <td>0</td>\n      <td>0</td>\n      <td>0</td>\n      <td>1</td>\n      <td>53</td>\n      <td>1112420060</td>\n      <td>1</td>\n      <td>1</td>\n      <td>0</td>\n      <td>0</td>\n      <td>0</td>\n      <td>0</td>\n      <td>0</td>\n      <td>0</td>\n      <td>0</td>\n      <td>0</td>\n      <td>0</td>\n      <td>0</td>\n      <td>0</td>\n      <td>0</td>\n      <td>0</td>\n      <td>0</td>\n      <td>0</td>\n      <td>0</td>\n      <td>1</td>\n      <td>0</td>\n      <td>0</td>\n      <td>0</td>\n      <td>0</td>\n      <td>1</td>\n    </tr>\n    <tr>\n      <th>2</th>\n      <td>0z5JW1r</td>\n      <td>0</td>\n      <td>0</td>\n      <td>0</td>\n      <td>0</td>\n      <td>0</td>\n      <td>0</td>\n      <td>0</td>\n      <td>0</td>\n      <td>1</td>\n      <td>0</td>\n      <td>0</td>\n      <td>0</td>\n      <td>0</td>\n      <td>5</td>\n      <td>0</td>\n      <td>0</td>\n      <td>0</td>\n      <td>0</td>\n      <td>0</td>\n      <td>0</td>\n      <td>2</td>\n      <td>1</td>\n      <td>47</td>\n      <td>1112292169</td>\n      <td>1</td>\n      <td>1</td>\n      <td>0</td>\n      <td>0</td>\n      <td>0</td>\n      <td>0</td>\n      <td>0</td>\n      <td>0</td>\n      <td>0</td>\n      <td>0</td>\n      <td>0</td>\n      <td>0</td>\n      <td>0</td>\n      <td>0</td>\n      <td>0</td>\n      <td>1</td>\n      <td>0</td>\n      <td>0</td>\n      <td>0</td>\n      <td>0</td>\n      <td>0</td>\n      <td>0</td>\n      <td>0</td>\n      <td>1</td>\n    </tr>\n    <tr>\n      <th>3</th>\n      <td>0z5JW1r</td>\n      <td>0</td>\n      <td>0</td>\n      <td>0</td>\n      <td>0</td>\n      <td>0</td>\n      <td>0</td>\n      <td>0</td>\n      <td>0</td>\n      <td>1</td>\n      <td>0</td>\n      <td>0</td>\n      <td>0</td>\n      <td>0</td>\n      <td>5</td>\n      <td>0</td>\n      <td>0</td>\n      <td>0</td>\n      <td>0</td>\n      <td>0</td>\n      <td>0</td>\n      <td>2</td>\n      <td>1</td>\n      <td>47</td>\n      <td>1112309728</td>\n      <td>1</td>\n      <td>1</td>\n      <td>0</td>\n      <td>0</td>\n      <td>0</td>\n      <td>0</td>\n      <td>0</td>\n      <td>0</td>\n      <td>0</td>\n      <td>0</td>\n      <td>1</td>\n      <td>0</td>\n      <td>0</td>\n      <td>0</td>\n      <td>0</td>\n      <td>0</td>\n      <td>0</td>\n      <td>0</td>\n      <td>0</td>\n      <td>0</td>\n      <td>0</td>\n      <td>0</td>\n      <td>0</td>\n      <td>1</td>\n    </tr>\n    <tr>\n      <th>4</th>\n      <td>0z5JW1r</td>\n      <td>0</td>\n      <td>0</td>\n      <td>0</td>\n      <td>0</td>\n      <td>0</td>\n      <td>0</td>\n      <td>0</td>\n      <td>0</td>\n      <td>1</td>\n      <td>0</td>\n      <td>0</td>\n      <td>0</td>\n      <td>0</td>\n      <td>5</td>\n      <td>0</td>\n      <td>0</td>\n      <td>0</td>\n      <td>0</td>\n      <td>0</td>\n      <td>0</td>\n      <td>2</td>\n      <td>1</td>\n      <td>47</td>\n      <td>1112257171</td>\n      <td>1</td>\n      <td>1</td>\n      <td>0</td>\n      <td>0</td>\n      <td>1</td>\n      <td>0</td>\n      <td>0</td>\n      <td>0</td>\n      <td>0</td>\n      <td>0</td>\n      <td>0</td>\n      <td>0</td>\n      <td>0</td>\n      <td>0</td>\n      <td>0</td>\n      <td>0</td>\n      <td>0</td>\n      <td>0</td>\n      <td>0</td>\n      <td>0</td>\n      <td>0</td>\n      <td>0</td>\n      <td>0</td>\n      <td>1</td>\n    </tr>\n  </tbody>\n</table>\n</div>"
          },
          "metadata": {}
        }
      ]
    },
    {
      "metadata": {
        "trusted": true,
        "_uuid": "8d3eb74b60785660f54241bfa46a7ca5f3a7b5b2",
        "scrolled": true
      },
      "cell_type": "code",
      "source": "datos.info()",
      "execution_count": 38,
      "outputs": [
        {
          "output_type": "stream",
          "text": "<class 'pandas.core.frame.DataFrame'>\nInt64Index: 5117287 entries, 0 to 5117286\nData columns (total 49 columns):\nidpostulante                              object\nvistas Administración                     uint16\nvistas Administración de Personal         uint16\nvistas Almacén / Depósito / Expedición    uint16\nvistas Atención al Cliente                uint16\nvistas Call Center                        uint16\nvistas Comercial                          uint16\nvistas Contabilidad                       uint16\nvistas Créditos y Cobranzas               uint16\nvistas Gastronomia                        uint16\nvistas Legal                              uint16\nvistas Logística                          uint16\nvistas Mantenimiento y Limpieza           uint16\nvistas Marketing                          uint16\nvistas Otra Area                          uint16\nvistas Producción                         uint16\nvistas Recepcionista                      uint16\nvistas Recursos Humanos                   uint16\nvistas Secretaria                         uint16\nvistas Telemarketing                      uint16\nvistas Tesorería                          uint16\nvistas Ventas                             uint16\nsexo                                      int8\nedad                                      uint8\nidaviso                                   int64\nnombre_zona                               int64\ntipo_de_trabajo                           int64\nAdministración                            uint8\nAdministración de Personal                uint8\nAlmacén / Depósito / Expedición           uint8\nAtención al Cliente                       uint8\nCall Center                               uint8\nComercial                                 uint8\nContabilidad                              uint8\nCréditos y Cobranzas                      uint8\nGastronomia                               uint8\nLegal                                     uint8\nLogística                                 uint8\nMantenimiento y Limpieza                  uint8\nMarketing                                 uint8\nOtra Area                                 uint8\nProducción                                uint8\nRecepcionista                             uint8\nRecursos Humanos                          uint8\nSecretaria                                uint8\nTelemarketing                             uint8\nTesorería                                 uint8\nVentas                                    uint8\npostulado                                 int64\ndtypes: int64(4), int8(1), object(1), uint16(21), uint8(22)\nmemory usage: 551.5+ MB\n",
          "name": "stdout"
        }
      ]
    },
    {
      "metadata": {
        "trusted": true,
        "collapsed": true,
        "_uuid": "944c1315321f8433991446e20c3014371183c7ec"
      },
      "cell_type": "markdown",
      "source": "# 4. Generacion de NO_POSTULACIONES"
    },
    {
      "metadata": {
        "trusted": true,
        "_uuid": "4b84d9191740999fbb40d26ed18b877d7e01869a"
      },
      "cell_type": "code",
      "source": "# En realidad es la info que describe a los usuarios segun sus vistas.\n# TODO cambiar el nombre de avisos_vistos a usuarios\nusuarios.head()",
      "execution_count": 39,
      "outputs": [
        {
          "output_type": "execute_result",
          "execution_count": 39,
          "data": {
            "text/plain": "  idpostulante  vistas Administración  ...   sexo  edad\n0      0z5Dmrd                      0  ...      1    53\n1      0z5JW1r                      0  ...      1    47\n2      0z5VvGv                      1  ...      1    31\n3      0zB01pE                      0  ...      1    29\n4      0zB026d                      0  ...      0    40\n\n[5 rows x 24 columns]",
            "text/html": "<div>\n<style scoped>\n    .dataframe tbody tr th:only-of-type {\n        vertical-align: middle;\n    }\n\n    .dataframe tbody tr th {\n        vertical-align: top;\n    }\n\n    .dataframe thead th {\n        text-align: right;\n    }\n</style>\n<table border=\"1\" class=\"dataframe\">\n  <thead>\n    <tr style=\"text-align: right;\">\n      <th></th>\n      <th>idpostulante</th>\n      <th>vistas Administración</th>\n      <th>vistas Administración de Personal</th>\n      <th>vistas Almacén / Depósito / Expedición</th>\n      <th>vistas Atención al Cliente</th>\n      <th>vistas Call Center</th>\n      <th>vistas Comercial</th>\n      <th>vistas Contabilidad</th>\n      <th>vistas Créditos y Cobranzas</th>\n      <th>vistas Gastronomia</th>\n      <th>vistas Legal</th>\n      <th>vistas Logística</th>\n      <th>vistas Mantenimiento y Limpieza</th>\n      <th>vistas Marketing</th>\n      <th>vistas Otra Area</th>\n      <th>vistas Producción</th>\n      <th>vistas Recepcionista</th>\n      <th>vistas Recursos Humanos</th>\n      <th>vistas Secretaria</th>\n      <th>vistas Telemarketing</th>\n      <th>vistas Tesorería</th>\n      <th>vistas Ventas</th>\n      <th>sexo</th>\n      <th>edad</th>\n    </tr>\n  </thead>\n  <tbody>\n    <tr>\n      <th>0</th>\n      <td>0z5Dmrd</td>\n      <td>0</td>\n      <td>0</td>\n      <td>0</td>\n      <td>0</td>\n      <td>0</td>\n      <td>0</td>\n      <td>0</td>\n      <td>0</td>\n      <td>0</td>\n      <td>0</td>\n      <td>0</td>\n      <td>0</td>\n      <td>0</td>\n      <td>0</td>\n      <td>0</td>\n      <td>0</td>\n      <td>4</td>\n      <td>0</td>\n      <td>0</td>\n      <td>0</td>\n      <td>0</td>\n      <td>1</td>\n      <td>53</td>\n    </tr>\n    <tr>\n      <th>1</th>\n      <td>0z5JW1r</td>\n      <td>0</td>\n      <td>0</td>\n      <td>0</td>\n      <td>0</td>\n      <td>0</td>\n      <td>0</td>\n      <td>0</td>\n      <td>0</td>\n      <td>1</td>\n      <td>0</td>\n      <td>0</td>\n      <td>0</td>\n      <td>0</td>\n      <td>5</td>\n      <td>0</td>\n      <td>0</td>\n      <td>0</td>\n      <td>0</td>\n      <td>0</td>\n      <td>0</td>\n      <td>2</td>\n      <td>1</td>\n      <td>47</td>\n    </tr>\n    <tr>\n      <th>2</th>\n      <td>0z5VvGv</td>\n      <td>1</td>\n      <td>0</td>\n      <td>0</td>\n      <td>1</td>\n      <td>1</td>\n      <td>1</td>\n      <td>0</td>\n      <td>0</td>\n      <td>0</td>\n      <td>0</td>\n      <td>0</td>\n      <td>0</td>\n      <td>0</td>\n      <td>0</td>\n      <td>1</td>\n      <td>0</td>\n      <td>0</td>\n      <td>0</td>\n      <td>1</td>\n      <td>0</td>\n      <td>1</td>\n      <td>1</td>\n      <td>31</td>\n    </tr>\n    <tr>\n      <th>3</th>\n      <td>0zB01pE</td>\n      <td>0</td>\n      <td>0</td>\n      <td>0</td>\n      <td>0</td>\n      <td>0</td>\n      <td>1</td>\n      <td>1</td>\n      <td>0</td>\n      <td>0</td>\n      <td>0</td>\n      <td>0</td>\n      <td>0</td>\n      <td>0</td>\n      <td>3</td>\n      <td>0</td>\n      <td>0</td>\n      <td>0</td>\n      <td>0</td>\n      <td>0</td>\n      <td>0</td>\n      <td>0</td>\n      <td>1</td>\n      <td>29</td>\n    </tr>\n    <tr>\n      <th>4</th>\n      <td>0zB026d</td>\n      <td>0</td>\n      <td>0</td>\n      <td>0</td>\n      <td>0</td>\n      <td>0</td>\n      <td>0</td>\n      <td>0</td>\n      <td>0</td>\n      <td>0</td>\n      <td>0</td>\n      <td>0</td>\n      <td>0</td>\n      <td>0</td>\n      <td>1</td>\n      <td>0</td>\n      <td>0</td>\n      <td>0</td>\n      <td>0</td>\n      <td>0</td>\n      <td>0</td>\n      <td>0</td>\n      <td>0</td>\n      <td>40</td>\n    </tr>\n  </tbody>\n</table>\n</div>"
          },
          "metadata": {}
        }
      ]
    },
    {
      "metadata": {
        "trusted": true,
        "_uuid": "96200573173a8be1a6a4364aa31e7fe2327b243d"
      },
      "cell_type": "code",
      "source": "# Categoria de cada aviso\navisos.head()",
      "execution_count": 40,
      "outputs": [
        {
          "output_type": "execute_result",
          "execution_count": 40,
          "data": {
            "text/plain": "      idaviso  nombre_zona   ...    Tesorería  Ventas\n0     8725750            1   ...            0       0\n1    17903700            1   ...            0       0\n2  1000150677            0   ...            0       0\n3  1000610287            1   ...            0       0\n4  1000872556            1   ...            0       0\n\n[5 rows x 24 columns]",
            "text/html": "<div>\n<style scoped>\n    .dataframe tbody tr th:only-of-type {\n        vertical-align: middle;\n    }\n\n    .dataframe tbody tr th {\n        vertical-align: top;\n    }\n\n    .dataframe thead th {\n        text-align: right;\n    }\n</style>\n<table border=\"1\" class=\"dataframe\">\n  <thead>\n    <tr style=\"text-align: right;\">\n      <th></th>\n      <th>idaviso</th>\n      <th>nombre_zona</th>\n      <th>tipo_de_trabajo</th>\n      <th>Administración</th>\n      <th>Administración de Personal</th>\n      <th>Almacén / Depósito / Expedición</th>\n      <th>Atención al Cliente</th>\n      <th>Call Center</th>\n      <th>Comercial</th>\n      <th>Contabilidad</th>\n      <th>Créditos y Cobranzas</th>\n      <th>Gastronomia</th>\n      <th>Legal</th>\n      <th>Logística</th>\n      <th>Mantenimiento y Limpieza</th>\n      <th>Marketing</th>\n      <th>Otra Area</th>\n      <th>Producción</th>\n      <th>Recepcionista</th>\n      <th>Recursos Humanos</th>\n      <th>Secretaria</th>\n      <th>Telemarketing</th>\n      <th>Tesorería</th>\n      <th>Ventas</th>\n    </tr>\n  </thead>\n  <tbody>\n    <tr>\n      <th>0</th>\n      <td>8725750</td>\n      <td>1</td>\n      <td>1</td>\n      <td>0</td>\n      <td>0</td>\n      <td>0</td>\n      <td>0</td>\n      <td>0</td>\n      <td>1</td>\n      <td>0</td>\n      <td>0</td>\n      <td>0</td>\n      <td>0</td>\n      <td>0</td>\n      <td>0</td>\n      <td>0</td>\n      <td>0</td>\n      <td>0</td>\n      <td>0</td>\n      <td>0</td>\n      <td>0</td>\n      <td>0</td>\n      <td>0</td>\n      <td>0</td>\n    </tr>\n    <tr>\n      <th>1</th>\n      <td>17903700</td>\n      <td>1</td>\n      <td>1</td>\n      <td>0</td>\n      <td>0</td>\n      <td>0</td>\n      <td>0</td>\n      <td>0</td>\n      <td>0</td>\n      <td>0</td>\n      <td>0</td>\n      <td>0</td>\n      <td>0</td>\n      <td>0</td>\n      <td>0</td>\n      <td>0</td>\n      <td>1</td>\n      <td>0</td>\n      <td>0</td>\n      <td>0</td>\n      <td>0</td>\n      <td>0</td>\n      <td>0</td>\n      <td>0</td>\n    </tr>\n    <tr>\n      <th>2</th>\n      <td>1000150677</td>\n      <td>0</td>\n      <td>1</td>\n      <td>0</td>\n      <td>0</td>\n      <td>0</td>\n      <td>0</td>\n      <td>0</td>\n      <td>0</td>\n      <td>0</td>\n      <td>0</td>\n      <td>0</td>\n      <td>0</td>\n      <td>0</td>\n      <td>0</td>\n      <td>0</td>\n      <td>1</td>\n      <td>0</td>\n      <td>0</td>\n      <td>0</td>\n      <td>0</td>\n      <td>0</td>\n      <td>0</td>\n      <td>0</td>\n    </tr>\n    <tr>\n      <th>3</th>\n      <td>1000610287</td>\n      <td>1</td>\n      <td>1</td>\n      <td>0</td>\n      <td>0</td>\n      <td>0</td>\n      <td>0</td>\n      <td>0</td>\n      <td>0</td>\n      <td>0</td>\n      <td>0</td>\n      <td>0</td>\n      <td>0</td>\n      <td>0</td>\n      <td>0</td>\n      <td>0</td>\n      <td>1</td>\n      <td>0</td>\n      <td>0</td>\n      <td>0</td>\n      <td>0</td>\n      <td>0</td>\n      <td>0</td>\n      <td>0</td>\n    </tr>\n    <tr>\n      <th>4</th>\n      <td>1000872556</td>\n      <td>1</td>\n      <td>1</td>\n      <td>0</td>\n      <td>0</td>\n      <td>0</td>\n      <td>0</td>\n      <td>0</td>\n      <td>0</td>\n      <td>0</td>\n      <td>0</td>\n      <td>0</td>\n      <td>0</td>\n      <td>0</td>\n      <td>0</td>\n      <td>0</td>\n      <td>0</td>\n      <td>1</td>\n      <td>0</td>\n      <td>0</td>\n      <td>0</td>\n      <td>0</td>\n      <td>0</td>\n      <td>0</td>\n    </tr>\n  </tbody>\n</table>\n</div>"
          },
          "metadata": {}
        }
      ]
    },
    {
      "metadata": {
        "trusted": true,
        "_uuid": "c765b37cf3a9add6cc5cd44b1c73e5bfd3323b20",
        "collapsed": true
      },
      "cell_type": "code",
      "source": "# Mezclo al azar usuarios con sus vistas mas algun aviso cualquiera.\nN = 5000000\nusuarios_random = usuarios.sample(n=N, replace=True, random_state=44)\navisos_random = avisos.sample(n=N, replace=True, random_state=99)",
      "execution_count": 41,
      "outputs": []
    },
    {
      "metadata": {
        "trusted": true,
        "_uuid": "6c504351720b4ed800f783e9f401d47a39f27677",
        "collapsed": true
      },
      "cell_type": "code",
      "source": "usuarios_random.reset_index(inplace=True)\navisos_random.reset_index(inplace=True)\nusuarios_random.drop(columns='index', inplace=True)\navisos_random.drop(columns='index', inplace=True)",
      "execution_count": 42,
      "outputs": []
    },
    {
      "metadata": {
        "trusted": true,
        "_uuid": "acb526d706786ac5e5b96b01912923499a6cd9b1"
      },
      "cell_type": "code",
      "source": "avisos_random.size",
      "execution_count": 43,
      "outputs": [
        {
          "output_type": "execute_result",
          "execution_count": 43,
          "data": {
            "text/plain": "120000000"
          },
          "metadata": {}
        }
      ]
    },
    {
      "metadata": {
        "trusted": true,
        "_uuid": "926e26b18d69d89ddb9c1a6d7a727fdf82316837",
        "collapsed": true
      },
      "cell_type": "code",
      "source": "# No se porque tienen tamanios distintos asi que solo tomo los primeros N de \n# avisos_random\ndatos_random = pd.concat([usuarios_random, avisos_random], axis=1)",
      "execution_count": 44,
      "outputs": []
    },
    {
      "metadata": {
        "trusted": true,
        "_uuid": "29d494f35552be370454a971e548d7723d5fcb2a"
      },
      "cell_type": "code",
      "source": "datos_random.head()",
      "execution_count": 45,
      "outputs": [
        {
          "output_type": "execute_result",
          "execution_count": 45,
          "data": {
            "text/plain": "  idpostulante  vistas Administración   ...    Tesorería  Ventas\n0      1QP3WaE                      0   ...            0       0\n1      QNaOVbl                      0   ...            0       0\n2       a52DEq                      0   ...            0       1\n3      LNK6OA5                      0   ...            0       0\n4      5mPdQMX                      0   ...            0       0\n\n[5 rows x 48 columns]",
            "text/html": "<div>\n<style scoped>\n    .dataframe tbody tr th:only-of-type {\n        vertical-align: middle;\n    }\n\n    .dataframe tbody tr th {\n        vertical-align: top;\n    }\n\n    .dataframe thead th {\n        text-align: right;\n    }\n</style>\n<table border=\"1\" class=\"dataframe\">\n  <thead>\n    <tr style=\"text-align: right;\">\n      <th></th>\n      <th>idpostulante</th>\n      <th>vistas Administración</th>\n      <th>vistas Administración de Personal</th>\n      <th>vistas Almacén / Depósito / Expedición</th>\n      <th>vistas Atención al Cliente</th>\n      <th>vistas Call Center</th>\n      <th>vistas Comercial</th>\n      <th>vistas Contabilidad</th>\n      <th>vistas Créditos y Cobranzas</th>\n      <th>vistas Gastronomia</th>\n      <th>vistas Legal</th>\n      <th>vistas Logística</th>\n      <th>vistas Mantenimiento y Limpieza</th>\n      <th>vistas Marketing</th>\n      <th>vistas Otra Area</th>\n      <th>vistas Producción</th>\n      <th>vistas Recepcionista</th>\n      <th>vistas Recursos Humanos</th>\n      <th>vistas Secretaria</th>\n      <th>vistas Telemarketing</th>\n      <th>vistas Tesorería</th>\n      <th>vistas Ventas</th>\n      <th>sexo</th>\n      <th>edad</th>\n      <th>idaviso</th>\n      <th>nombre_zona</th>\n      <th>tipo_de_trabajo</th>\n      <th>Administración</th>\n      <th>Administración de Personal</th>\n      <th>Almacén / Depósito / Expedición</th>\n      <th>Atención al Cliente</th>\n      <th>Call Center</th>\n      <th>Comercial</th>\n      <th>Contabilidad</th>\n      <th>Créditos y Cobranzas</th>\n      <th>Gastronomia</th>\n      <th>Legal</th>\n      <th>Logística</th>\n      <th>Mantenimiento y Limpieza</th>\n      <th>Marketing</th>\n      <th>Otra Area</th>\n      <th>Producción</th>\n      <th>Recepcionista</th>\n      <th>Recursos Humanos</th>\n      <th>Secretaria</th>\n      <th>Telemarketing</th>\n      <th>Tesorería</th>\n      <th>Ventas</th>\n    </tr>\n  </thead>\n  <tbody>\n    <tr>\n      <th>0</th>\n      <td>1QP3WaE</td>\n      <td>0</td>\n      <td>0</td>\n      <td>0</td>\n      <td>0</td>\n      <td>0</td>\n      <td>0</td>\n      <td>0</td>\n      <td>1</td>\n      <td>0</td>\n      <td>0</td>\n      <td>0</td>\n      <td>0</td>\n      <td>0</td>\n      <td>10</td>\n      <td>0</td>\n      <td>0</td>\n      <td>0</td>\n      <td>0</td>\n      <td>0</td>\n      <td>0</td>\n      <td>0</td>\n      <td>0</td>\n      <td>36</td>\n      <td>1112397732</td>\n      <td>1</td>\n      <td>1</td>\n      <td>0</td>\n      <td>0</td>\n      <td>0</td>\n      <td>0</td>\n      <td>0</td>\n      <td>0</td>\n      <td>0</td>\n      <td>0</td>\n      <td>0</td>\n      <td>0</td>\n      <td>0</td>\n      <td>0</td>\n      <td>0</td>\n      <td>0</td>\n      <td>1</td>\n      <td>0</td>\n      <td>0</td>\n      <td>0</td>\n      <td>0</td>\n      <td>0</td>\n      <td>0</td>\n    </tr>\n    <tr>\n      <th>1</th>\n      <td>QNaOVbl</td>\n      <td>0</td>\n      <td>0</td>\n      <td>0</td>\n      <td>1</td>\n      <td>0</td>\n      <td>0</td>\n      <td>0</td>\n      <td>0</td>\n      <td>0</td>\n      <td>0</td>\n      <td>0</td>\n      <td>0</td>\n      <td>0</td>\n      <td>0</td>\n      <td>0</td>\n      <td>0</td>\n      <td>0</td>\n      <td>0</td>\n      <td>0</td>\n      <td>0</td>\n      <td>0</td>\n      <td>0</td>\n      <td>31</td>\n      <td>1112342096</td>\n      <td>1</td>\n      <td>1</td>\n      <td>0</td>\n      <td>0</td>\n      <td>0</td>\n      <td>0</td>\n      <td>0</td>\n      <td>0</td>\n      <td>0</td>\n      <td>0</td>\n      <td>0</td>\n      <td>0</td>\n      <td>0</td>\n      <td>0</td>\n      <td>0</td>\n      <td>1</td>\n      <td>0</td>\n      <td>0</td>\n      <td>0</td>\n      <td>0</td>\n      <td>0</td>\n      <td>0</td>\n      <td>0</td>\n    </tr>\n    <tr>\n      <th>2</th>\n      <td>a52DEq</td>\n      <td>0</td>\n      <td>0</td>\n      <td>0</td>\n      <td>0</td>\n      <td>0</td>\n      <td>0</td>\n      <td>0</td>\n      <td>0</td>\n      <td>0</td>\n      <td>0</td>\n      <td>0</td>\n      <td>0</td>\n      <td>0</td>\n      <td>1</td>\n      <td>0</td>\n      <td>0</td>\n      <td>0</td>\n      <td>0</td>\n      <td>0</td>\n      <td>0</td>\n      <td>0</td>\n      <td>1</td>\n      <td>38</td>\n      <td>1112225199</td>\n      <td>1</td>\n      <td>1</td>\n      <td>0</td>\n      <td>0</td>\n      <td>0</td>\n      <td>0</td>\n      <td>0</td>\n      <td>0</td>\n      <td>0</td>\n      <td>0</td>\n      <td>0</td>\n      <td>0</td>\n      <td>0</td>\n      <td>0</td>\n      <td>0</td>\n      <td>0</td>\n      <td>0</td>\n      <td>0</td>\n      <td>0</td>\n      <td>0</td>\n      <td>0</td>\n      <td>0</td>\n      <td>1</td>\n    </tr>\n    <tr>\n      <th>3</th>\n      <td>LNK6OA5</td>\n      <td>0</td>\n      <td>0</td>\n      <td>0</td>\n      <td>0</td>\n      <td>0</td>\n      <td>0</td>\n      <td>0</td>\n      <td>0</td>\n      <td>0</td>\n      <td>0</td>\n      <td>0</td>\n      <td>0</td>\n      <td>0</td>\n      <td>0</td>\n      <td>0</td>\n      <td>0</td>\n      <td>0</td>\n      <td>0</td>\n      <td>0</td>\n      <td>1</td>\n      <td>5</td>\n      <td>0</td>\n      <td>31</td>\n      <td>1112322633</td>\n      <td>0</td>\n      <td>0</td>\n      <td>0</td>\n      <td>0</td>\n      <td>0</td>\n      <td>0</td>\n      <td>0</td>\n      <td>0</td>\n      <td>0</td>\n      <td>0</td>\n      <td>0</td>\n      <td>0</td>\n      <td>0</td>\n      <td>0</td>\n      <td>0</td>\n      <td>0</td>\n      <td>0</td>\n      <td>0</td>\n      <td>0</td>\n      <td>0</td>\n      <td>1</td>\n      <td>0</td>\n      <td>0</td>\n    </tr>\n    <tr>\n      <th>4</th>\n      <td>5mPdQMX</td>\n      <td>0</td>\n      <td>0</td>\n      <td>0</td>\n      <td>0</td>\n      <td>0</td>\n      <td>0</td>\n      <td>0</td>\n      <td>0</td>\n      <td>0</td>\n      <td>0</td>\n      <td>0</td>\n      <td>0</td>\n      <td>0</td>\n      <td>0</td>\n      <td>5</td>\n      <td>0</td>\n      <td>0</td>\n      <td>0</td>\n      <td>0</td>\n      <td>0</td>\n      <td>0</td>\n      <td>0</td>\n      <td>31</td>\n      <td>1112287852</td>\n      <td>0</td>\n      <td>1</td>\n      <td>0</td>\n      <td>0</td>\n      <td>0</td>\n      <td>0</td>\n      <td>0</td>\n      <td>0</td>\n      <td>0</td>\n      <td>0</td>\n      <td>0</td>\n      <td>0</td>\n      <td>0</td>\n      <td>0</td>\n      <td>0</td>\n      <td>0</td>\n      <td>0</td>\n      <td>0</td>\n      <td>0</td>\n      <td>0</td>\n      <td>1</td>\n      <td>0</td>\n      <td>0</td>\n    </tr>\n  </tbody>\n</table>\n</div>"
          },
          "metadata": {}
        }
      ]
    },
    {
      "metadata": {
        "trusted": true,
        "_uuid": "a884bda497dabf4dcc7ccccb6d81bf709c1d4f86"
      },
      "cell_type": "code",
      "source": "# POSTULADO 1\n# NO_POSTULADO 0\ndatos_random['postulado'] = 0\ndatos_random.head()",
      "execution_count": 46,
      "outputs": [
        {
          "output_type": "execute_result",
          "execution_count": 46,
          "data": {
            "text/plain": "  idpostulante  vistas Administración    ...      Ventas  postulado\n0      1QP3WaE                      0    ...           0          0\n1      QNaOVbl                      0    ...           0          0\n2       a52DEq                      0    ...           1          0\n3      LNK6OA5                      0    ...           0          0\n4      5mPdQMX                      0    ...           0          0\n\n[5 rows x 49 columns]",
            "text/html": "<div>\n<style scoped>\n    .dataframe tbody tr th:only-of-type {\n        vertical-align: middle;\n    }\n\n    .dataframe tbody tr th {\n        vertical-align: top;\n    }\n\n    .dataframe thead th {\n        text-align: right;\n    }\n</style>\n<table border=\"1\" class=\"dataframe\">\n  <thead>\n    <tr style=\"text-align: right;\">\n      <th></th>\n      <th>idpostulante</th>\n      <th>vistas Administración</th>\n      <th>vistas Administración de Personal</th>\n      <th>vistas Almacén / Depósito / Expedición</th>\n      <th>vistas Atención al Cliente</th>\n      <th>vistas Call Center</th>\n      <th>vistas Comercial</th>\n      <th>vistas Contabilidad</th>\n      <th>vistas Créditos y Cobranzas</th>\n      <th>vistas Gastronomia</th>\n      <th>vistas Legal</th>\n      <th>vistas Logística</th>\n      <th>vistas Mantenimiento y Limpieza</th>\n      <th>vistas Marketing</th>\n      <th>vistas Otra Area</th>\n      <th>vistas Producción</th>\n      <th>vistas Recepcionista</th>\n      <th>vistas Recursos Humanos</th>\n      <th>vistas Secretaria</th>\n      <th>vistas Telemarketing</th>\n      <th>vistas Tesorería</th>\n      <th>vistas Ventas</th>\n      <th>sexo</th>\n      <th>edad</th>\n      <th>idaviso</th>\n      <th>nombre_zona</th>\n      <th>tipo_de_trabajo</th>\n      <th>Administración</th>\n      <th>Administración de Personal</th>\n      <th>Almacén / Depósito / Expedición</th>\n      <th>Atención al Cliente</th>\n      <th>Call Center</th>\n      <th>Comercial</th>\n      <th>Contabilidad</th>\n      <th>Créditos y Cobranzas</th>\n      <th>Gastronomia</th>\n      <th>Legal</th>\n      <th>Logística</th>\n      <th>Mantenimiento y Limpieza</th>\n      <th>Marketing</th>\n      <th>Otra Area</th>\n      <th>Producción</th>\n      <th>Recepcionista</th>\n      <th>Recursos Humanos</th>\n      <th>Secretaria</th>\n      <th>Telemarketing</th>\n      <th>Tesorería</th>\n      <th>Ventas</th>\n      <th>postulado</th>\n    </tr>\n  </thead>\n  <tbody>\n    <tr>\n      <th>0</th>\n      <td>1QP3WaE</td>\n      <td>0</td>\n      <td>0</td>\n      <td>0</td>\n      <td>0</td>\n      <td>0</td>\n      <td>0</td>\n      <td>0</td>\n      <td>1</td>\n      <td>0</td>\n      <td>0</td>\n      <td>0</td>\n      <td>0</td>\n      <td>0</td>\n      <td>10</td>\n      <td>0</td>\n      <td>0</td>\n      <td>0</td>\n      <td>0</td>\n      <td>0</td>\n      <td>0</td>\n      <td>0</td>\n      <td>0</td>\n      <td>36</td>\n      <td>1112397732</td>\n      <td>1</td>\n      <td>1</td>\n      <td>0</td>\n      <td>0</td>\n      <td>0</td>\n      <td>0</td>\n      <td>0</td>\n      <td>0</td>\n      <td>0</td>\n      <td>0</td>\n      <td>0</td>\n      <td>0</td>\n      <td>0</td>\n      <td>0</td>\n      <td>0</td>\n      <td>0</td>\n      <td>1</td>\n      <td>0</td>\n      <td>0</td>\n      <td>0</td>\n      <td>0</td>\n      <td>0</td>\n      <td>0</td>\n      <td>0</td>\n    </tr>\n    <tr>\n      <th>1</th>\n      <td>QNaOVbl</td>\n      <td>0</td>\n      <td>0</td>\n      <td>0</td>\n      <td>1</td>\n      <td>0</td>\n      <td>0</td>\n      <td>0</td>\n      <td>0</td>\n      <td>0</td>\n      <td>0</td>\n      <td>0</td>\n      <td>0</td>\n      <td>0</td>\n      <td>0</td>\n      <td>0</td>\n      <td>0</td>\n      <td>0</td>\n      <td>0</td>\n      <td>0</td>\n      <td>0</td>\n      <td>0</td>\n      <td>0</td>\n      <td>31</td>\n      <td>1112342096</td>\n      <td>1</td>\n      <td>1</td>\n      <td>0</td>\n      <td>0</td>\n      <td>0</td>\n      <td>0</td>\n      <td>0</td>\n      <td>0</td>\n      <td>0</td>\n      <td>0</td>\n      <td>0</td>\n      <td>0</td>\n      <td>0</td>\n      <td>0</td>\n      <td>0</td>\n      <td>1</td>\n      <td>0</td>\n      <td>0</td>\n      <td>0</td>\n      <td>0</td>\n      <td>0</td>\n      <td>0</td>\n      <td>0</td>\n      <td>0</td>\n    </tr>\n    <tr>\n      <th>2</th>\n      <td>a52DEq</td>\n      <td>0</td>\n      <td>0</td>\n      <td>0</td>\n      <td>0</td>\n      <td>0</td>\n      <td>0</td>\n      <td>0</td>\n      <td>0</td>\n      <td>0</td>\n      <td>0</td>\n      <td>0</td>\n      <td>0</td>\n      <td>0</td>\n      <td>1</td>\n      <td>0</td>\n      <td>0</td>\n      <td>0</td>\n      <td>0</td>\n      <td>0</td>\n      <td>0</td>\n      <td>0</td>\n      <td>1</td>\n      <td>38</td>\n      <td>1112225199</td>\n      <td>1</td>\n      <td>1</td>\n      <td>0</td>\n      <td>0</td>\n      <td>0</td>\n      <td>0</td>\n      <td>0</td>\n      <td>0</td>\n      <td>0</td>\n      <td>0</td>\n      <td>0</td>\n      <td>0</td>\n      <td>0</td>\n      <td>0</td>\n      <td>0</td>\n      <td>0</td>\n      <td>0</td>\n      <td>0</td>\n      <td>0</td>\n      <td>0</td>\n      <td>0</td>\n      <td>0</td>\n      <td>1</td>\n      <td>0</td>\n    </tr>\n    <tr>\n      <th>3</th>\n      <td>LNK6OA5</td>\n      <td>0</td>\n      <td>0</td>\n      <td>0</td>\n      <td>0</td>\n      <td>0</td>\n      <td>0</td>\n      <td>0</td>\n      <td>0</td>\n      <td>0</td>\n      <td>0</td>\n      <td>0</td>\n      <td>0</td>\n      <td>0</td>\n      <td>0</td>\n      <td>0</td>\n      <td>0</td>\n      <td>0</td>\n      <td>0</td>\n      <td>0</td>\n      <td>1</td>\n      <td>5</td>\n      <td>0</td>\n      <td>31</td>\n      <td>1112322633</td>\n      <td>0</td>\n      <td>0</td>\n      <td>0</td>\n      <td>0</td>\n      <td>0</td>\n      <td>0</td>\n      <td>0</td>\n      <td>0</td>\n      <td>0</td>\n      <td>0</td>\n      <td>0</td>\n      <td>0</td>\n      <td>0</td>\n      <td>0</td>\n      <td>0</td>\n      <td>0</td>\n      <td>0</td>\n      <td>0</td>\n      <td>0</td>\n      <td>0</td>\n      <td>1</td>\n      <td>0</td>\n      <td>0</td>\n      <td>0</td>\n    </tr>\n    <tr>\n      <th>4</th>\n      <td>5mPdQMX</td>\n      <td>0</td>\n      <td>0</td>\n      <td>0</td>\n      <td>0</td>\n      <td>0</td>\n      <td>0</td>\n      <td>0</td>\n      <td>0</td>\n      <td>0</td>\n      <td>0</td>\n      <td>0</td>\n      <td>0</td>\n      <td>0</td>\n      <td>0</td>\n      <td>5</td>\n      <td>0</td>\n      <td>0</td>\n      <td>0</td>\n      <td>0</td>\n      <td>0</td>\n      <td>0</td>\n      <td>0</td>\n      <td>31</td>\n      <td>1112287852</td>\n      <td>0</td>\n      <td>1</td>\n      <td>0</td>\n      <td>0</td>\n      <td>0</td>\n      <td>0</td>\n      <td>0</td>\n      <td>0</td>\n      <td>0</td>\n      <td>0</td>\n      <td>0</td>\n      <td>0</td>\n      <td>0</td>\n      <td>0</td>\n      <td>0</td>\n      <td>0</td>\n      <td>0</td>\n      <td>0</td>\n      <td>0</td>\n      <td>0</td>\n      <td>1</td>\n      <td>0</td>\n      <td>0</td>\n      <td>0</td>\n    </tr>\n  </tbody>\n</table>\n</div>"
          },
          "metadata": {}
        }
      ]
    },
    {
      "metadata": {
        "trusted": true,
        "_uuid": "46a61182420f87281c79f9ebdd040ee6c9c1d4e7"
      },
      "cell_type": "code",
      "source": "# Estos ultimos son los datos no postulados\ndatos_random.drop_duplicates(subset=['idpostulante', 'idaviso'],inplace=True)\ndatos_random.head()",
      "execution_count": 47,
      "outputs": [
        {
          "output_type": "execute_result",
          "execution_count": 47,
          "data": {
            "text/plain": "  idpostulante  vistas Administración    ...      Ventas  postulado\n0      1QP3WaE                      0    ...           0          0\n1      QNaOVbl                      0    ...           0          0\n2       a52DEq                      0    ...           1          0\n3      LNK6OA5                      0    ...           0          0\n4      5mPdQMX                      0    ...           0          0\n\n[5 rows x 49 columns]",
            "text/html": "<div>\n<style scoped>\n    .dataframe tbody tr th:only-of-type {\n        vertical-align: middle;\n    }\n\n    .dataframe tbody tr th {\n        vertical-align: top;\n    }\n\n    .dataframe thead th {\n        text-align: right;\n    }\n</style>\n<table border=\"1\" class=\"dataframe\">\n  <thead>\n    <tr style=\"text-align: right;\">\n      <th></th>\n      <th>idpostulante</th>\n      <th>vistas Administración</th>\n      <th>vistas Administración de Personal</th>\n      <th>vistas Almacén / Depósito / Expedición</th>\n      <th>vistas Atención al Cliente</th>\n      <th>vistas Call Center</th>\n      <th>vistas Comercial</th>\n      <th>vistas Contabilidad</th>\n      <th>vistas Créditos y Cobranzas</th>\n      <th>vistas Gastronomia</th>\n      <th>vistas Legal</th>\n      <th>vistas Logística</th>\n      <th>vistas Mantenimiento y Limpieza</th>\n      <th>vistas Marketing</th>\n      <th>vistas Otra Area</th>\n      <th>vistas Producción</th>\n      <th>vistas Recepcionista</th>\n      <th>vistas Recursos Humanos</th>\n      <th>vistas Secretaria</th>\n      <th>vistas Telemarketing</th>\n      <th>vistas Tesorería</th>\n      <th>vistas Ventas</th>\n      <th>sexo</th>\n      <th>edad</th>\n      <th>idaviso</th>\n      <th>nombre_zona</th>\n      <th>tipo_de_trabajo</th>\n      <th>Administración</th>\n      <th>Administración de Personal</th>\n      <th>Almacén / Depósito / Expedición</th>\n      <th>Atención al Cliente</th>\n      <th>Call Center</th>\n      <th>Comercial</th>\n      <th>Contabilidad</th>\n      <th>Créditos y Cobranzas</th>\n      <th>Gastronomia</th>\n      <th>Legal</th>\n      <th>Logística</th>\n      <th>Mantenimiento y Limpieza</th>\n      <th>Marketing</th>\n      <th>Otra Area</th>\n      <th>Producción</th>\n      <th>Recepcionista</th>\n      <th>Recursos Humanos</th>\n      <th>Secretaria</th>\n      <th>Telemarketing</th>\n      <th>Tesorería</th>\n      <th>Ventas</th>\n      <th>postulado</th>\n    </tr>\n  </thead>\n  <tbody>\n    <tr>\n      <th>0</th>\n      <td>1QP3WaE</td>\n      <td>0</td>\n      <td>0</td>\n      <td>0</td>\n      <td>0</td>\n      <td>0</td>\n      <td>0</td>\n      <td>0</td>\n      <td>1</td>\n      <td>0</td>\n      <td>0</td>\n      <td>0</td>\n      <td>0</td>\n      <td>0</td>\n      <td>10</td>\n      <td>0</td>\n      <td>0</td>\n      <td>0</td>\n      <td>0</td>\n      <td>0</td>\n      <td>0</td>\n      <td>0</td>\n      <td>0</td>\n      <td>36</td>\n      <td>1112397732</td>\n      <td>1</td>\n      <td>1</td>\n      <td>0</td>\n      <td>0</td>\n      <td>0</td>\n      <td>0</td>\n      <td>0</td>\n      <td>0</td>\n      <td>0</td>\n      <td>0</td>\n      <td>0</td>\n      <td>0</td>\n      <td>0</td>\n      <td>0</td>\n      <td>0</td>\n      <td>0</td>\n      <td>1</td>\n      <td>0</td>\n      <td>0</td>\n      <td>0</td>\n      <td>0</td>\n      <td>0</td>\n      <td>0</td>\n      <td>0</td>\n    </tr>\n    <tr>\n      <th>1</th>\n      <td>QNaOVbl</td>\n      <td>0</td>\n      <td>0</td>\n      <td>0</td>\n      <td>1</td>\n      <td>0</td>\n      <td>0</td>\n      <td>0</td>\n      <td>0</td>\n      <td>0</td>\n      <td>0</td>\n      <td>0</td>\n      <td>0</td>\n      <td>0</td>\n      <td>0</td>\n      <td>0</td>\n      <td>0</td>\n      <td>0</td>\n      <td>0</td>\n      <td>0</td>\n      <td>0</td>\n      <td>0</td>\n      <td>0</td>\n      <td>31</td>\n      <td>1112342096</td>\n      <td>1</td>\n      <td>1</td>\n      <td>0</td>\n      <td>0</td>\n      <td>0</td>\n      <td>0</td>\n      <td>0</td>\n      <td>0</td>\n      <td>0</td>\n      <td>0</td>\n      <td>0</td>\n      <td>0</td>\n      <td>0</td>\n      <td>0</td>\n      <td>0</td>\n      <td>1</td>\n      <td>0</td>\n      <td>0</td>\n      <td>0</td>\n      <td>0</td>\n      <td>0</td>\n      <td>0</td>\n      <td>0</td>\n      <td>0</td>\n    </tr>\n    <tr>\n      <th>2</th>\n      <td>a52DEq</td>\n      <td>0</td>\n      <td>0</td>\n      <td>0</td>\n      <td>0</td>\n      <td>0</td>\n      <td>0</td>\n      <td>0</td>\n      <td>0</td>\n      <td>0</td>\n      <td>0</td>\n      <td>0</td>\n      <td>0</td>\n      <td>0</td>\n      <td>1</td>\n      <td>0</td>\n      <td>0</td>\n      <td>0</td>\n      <td>0</td>\n      <td>0</td>\n      <td>0</td>\n      <td>0</td>\n      <td>1</td>\n      <td>38</td>\n      <td>1112225199</td>\n      <td>1</td>\n      <td>1</td>\n      <td>0</td>\n      <td>0</td>\n      <td>0</td>\n      <td>0</td>\n      <td>0</td>\n      <td>0</td>\n      <td>0</td>\n      <td>0</td>\n      <td>0</td>\n      <td>0</td>\n      <td>0</td>\n      <td>0</td>\n      <td>0</td>\n      <td>0</td>\n      <td>0</td>\n      <td>0</td>\n      <td>0</td>\n      <td>0</td>\n      <td>0</td>\n      <td>0</td>\n      <td>1</td>\n      <td>0</td>\n    </tr>\n    <tr>\n      <th>3</th>\n      <td>LNK6OA5</td>\n      <td>0</td>\n      <td>0</td>\n      <td>0</td>\n      <td>0</td>\n      <td>0</td>\n      <td>0</td>\n      <td>0</td>\n      <td>0</td>\n      <td>0</td>\n      <td>0</td>\n      <td>0</td>\n      <td>0</td>\n      <td>0</td>\n      <td>0</td>\n      <td>0</td>\n      <td>0</td>\n      <td>0</td>\n      <td>0</td>\n      <td>0</td>\n      <td>1</td>\n      <td>5</td>\n      <td>0</td>\n      <td>31</td>\n      <td>1112322633</td>\n      <td>0</td>\n      <td>0</td>\n      <td>0</td>\n      <td>0</td>\n      <td>0</td>\n      <td>0</td>\n      <td>0</td>\n      <td>0</td>\n      <td>0</td>\n      <td>0</td>\n      <td>0</td>\n      <td>0</td>\n      <td>0</td>\n      <td>0</td>\n      <td>0</td>\n      <td>0</td>\n      <td>0</td>\n      <td>0</td>\n      <td>0</td>\n      <td>0</td>\n      <td>1</td>\n      <td>0</td>\n      <td>0</td>\n      <td>0</td>\n    </tr>\n    <tr>\n      <th>4</th>\n      <td>5mPdQMX</td>\n      <td>0</td>\n      <td>0</td>\n      <td>0</td>\n      <td>0</td>\n      <td>0</td>\n      <td>0</td>\n      <td>0</td>\n      <td>0</td>\n      <td>0</td>\n      <td>0</td>\n      <td>0</td>\n      <td>0</td>\n      <td>0</td>\n      <td>0</td>\n      <td>5</td>\n      <td>0</td>\n      <td>0</td>\n      <td>0</td>\n      <td>0</td>\n      <td>0</td>\n      <td>0</td>\n      <td>0</td>\n      <td>31</td>\n      <td>1112287852</td>\n      <td>0</td>\n      <td>1</td>\n      <td>0</td>\n      <td>0</td>\n      <td>0</td>\n      <td>0</td>\n      <td>0</td>\n      <td>0</td>\n      <td>0</td>\n      <td>0</td>\n      <td>0</td>\n      <td>0</td>\n      <td>0</td>\n      <td>0</td>\n      <td>0</td>\n      <td>0</td>\n      <td>0</td>\n      <td>0</td>\n      <td>0</td>\n      <td>0</td>\n      <td>1</td>\n      <td>0</td>\n      <td>0</td>\n      <td>0</td>\n    </tr>\n  </tbody>\n</table>\n</div>"
          },
          "metadata": {}
        }
      ]
    },
    {
      "metadata": {
        "_uuid": "90ce73ba4fab2dbf82cd51de3336c561c824c394"
      },
      "cell_type": "markdown",
      "source": "# DATOS FINALES"
    },
    {
      "metadata": {
        "trusted": true,
        "_uuid": "797b0cbe6f9096f1044e4d1037cb70d29036c5fc"
      },
      "cell_type": "code",
      "source": "final100k = pd.read_csv(\"../input/finalfinal/test_final_100k.csv\")\n# Recolecto su informacion en los distintos dataFrames\n\n# Agrego datos de usuario\nfinal = pd.merge(final100k, usuarios, on='idpostulante', how='left')\nfinal.fillna(0, inplace=True)\n\n# agrego datos de avisos\nfinal = pd.merge(final, avisos, on='idaviso', how='left')\nfinal.fillna(0, inplace=True)\nX_final = final.drop(columns=['id', 'idaviso', 'idpostulante']) \nX_final.head()",
      "execution_count": 48,
      "outputs": [
        {
          "output_type": "execute_result",
          "execution_count": 48,
          "data": {
            "text/plain": "   vistas Administración   ...    Ventas\n0                    0.0   ...         0\n1                    0.0   ...         0\n2                    0.0   ...         0\n3                    0.0   ...         0\n4                    0.0   ...         0\n\n[5 rows x 46 columns]",
            "text/html": "<div>\n<style scoped>\n    .dataframe tbody tr th:only-of-type {\n        vertical-align: middle;\n    }\n\n    .dataframe tbody tr th {\n        vertical-align: top;\n    }\n\n    .dataframe thead th {\n        text-align: right;\n    }\n</style>\n<table border=\"1\" class=\"dataframe\">\n  <thead>\n    <tr style=\"text-align: right;\">\n      <th></th>\n      <th>vistas Administración</th>\n      <th>vistas Administración de Personal</th>\n      <th>vistas Almacén / Depósito / Expedición</th>\n      <th>vistas Atención al Cliente</th>\n      <th>vistas Call Center</th>\n      <th>vistas Comercial</th>\n      <th>vistas Contabilidad</th>\n      <th>vistas Créditos y Cobranzas</th>\n      <th>vistas Gastronomia</th>\n      <th>vistas Legal</th>\n      <th>vistas Logística</th>\n      <th>vistas Mantenimiento y Limpieza</th>\n      <th>vistas Marketing</th>\n      <th>vistas Otra Area</th>\n      <th>vistas Producción</th>\n      <th>vistas Recepcionista</th>\n      <th>vistas Recursos Humanos</th>\n      <th>vistas Secretaria</th>\n      <th>vistas Telemarketing</th>\n      <th>vistas Tesorería</th>\n      <th>vistas Ventas</th>\n      <th>sexo</th>\n      <th>edad</th>\n      <th>nombre_zona</th>\n      <th>tipo_de_trabajo</th>\n      <th>Administración</th>\n      <th>Administración de Personal</th>\n      <th>Almacén / Depósito / Expedición</th>\n      <th>Atención al Cliente</th>\n      <th>Call Center</th>\n      <th>Comercial</th>\n      <th>Contabilidad</th>\n      <th>Créditos y Cobranzas</th>\n      <th>Gastronomia</th>\n      <th>Legal</th>\n      <th>Logística</th>\n      <th>Mantenimiento y Limpieza</th>\n      <th>Marketing</th>\n      <th>Otra Area</th>\n      <th>Producción</th>\n      <th>Recepcionista</th>\n      <th>Recursos Humanos</th>\n      <th>Secretaria</th>\n      <th>Telemarketing</th>\n      <th>Tesorería</th>\n      <th>Ventas</th>\n    </tr>\n  </thead>\n  <tbody>\n    <tr>\n      <th>0</th>\n      <td>0.0</td>\n      <td>0.0</td>\n      <td>1.0</td>\n      <td>0.0</td>\n      <td>0.0</td>\n      <td>3.0</td>\n      <td>0.0</td>\n      <td>0.0</td>\n      <td>0.0</td>\n      <td>0.0</td>\n      <td>0.0</td>\n      <td>0.0</td>\n      <td>0.0</td>\n      <td>13.0</td>\n      <td>3.0</td>\n      <td>0.0</td>\n      <td>0.0</td>\n      <td>0.0</td>\n      <td>0.0</td>\n      <td>0.0</td>\n      <td>2.0</td>\n      <td>0.0</td>\n      <td>42.0</td>\n      <td>0</td>\n      <td>1</td>\n      <td>0</td>\n      <td>0</td>\n      <td>0</td>\n      <td>0</td>\n      <td>0</td>\n      <td>1</td>\n      <td>0</td>\n      <td>0</td>\n      <td>0</td>\n      <td>0</td>\n      <td>0</td>\n      <td>0</td>\n      <td>0</td>\n      <td>0</td>\n      <td>0</td>\n      <td>0</td>\n      <td>0</td>\n      <td>0</td>\n      <td>0</td>\n      <td>0</td>\n      <td>0</td>\n    </tr>\n    <tr>\n      <th>1</th>\n      <td>0.0</td>\n      <td>0.0</td>\n      <td>0.0</td>\n      <td>1.0</td>\n      <td>0.0</td>\n      <td>0.0</td>\n      <td>0.0</td>\n      <td>0.0</td>\n      <td>0.0</td>\n      <td>0.0</td>\n      <td>0.0</td>\n      <td>0.0</td>\n      <td>0.0</td>\n      <td>0.0</td>\n      <td>0.0</td>\n      <td>0.0</td>\n      <td>0.0</td>\n      <td>0.0</td>\n      <td>1.0</td>\n      <td>1.0</td>\n      <td>1.0</td>\n      <td>1.0</td>\n      <td>31.0</td>\n      <td>0</td>\n      <td>1</td>\n      <td>0</td>\n      <td>0</td>\n      <td>0</td>\n      <td>0</td>\n      <td>0</td>\n      <td>1</td>\n      <td>0</td>\n      <td>0</td>\n      <td>0</td>\n      <td>0</td>\n      <td>0</td>\n      <td>0</td>\n      <td>0</td>\n      <td>0</td>\n      <td>0</td>\n      <td>0</td>\n      <td>0</td>\n      <td>0</td>\n      <td>0</td>\n      <td>0</td>\n      <td>0</td>\n    </tr>\n    <tr>\n      <th>2</th>\n      <td>0.0</td>\n      <td>0.0</td>\n      <td>0.0</td>\n      <td>0.0</td>\n      <td>1.0</td>\n      <td>1.0</td>\n      <td>0.0</td>\n      <td>0.0</td>\n      <td>0.0</td>\n      <td>0.0</td>\n      <td>1.0</td>\n      <td>0.0</td>\n      <td>1.0</td>\n      <td>0.0</td>\n      <td>0.0</td>\n      <td>0.0</td>\n      <td>1.0</td>\n      <td>0.0</td>\n      <td>0.0</td>\n      <td>1.0</td>\n      <td>2.0</td>\n      <td>0.0</td>\n      <td>36.0</td>\n      <td>0</td>\n      <td>1</td>\n      <td>0</td>\n      <td>0</td>\n      <td>0</td>\n      <td>0</td>\n      <td>0</td>\n      <td>1</td>\n      <td>0</td>\n      <td>0</td>\n      <td>0</td>\n      <td>0</td>\n      <td>0</td>\n      <td>0</td>\n      <td>0</td>\n      <td>0</td>\n      <td>0</td>\n      <td>0</td>\n      <td>0</td>\n      <td>0</td>\n      <td>0</td>\n      <td>0</td>\n      <td>0</td>\n    </tr>\n    <tr>\n      <th>3</th>\n      <td>0.0</td>\n      <td>0.0</td>\n      <td>0.0</td>\n      <td>0.0</td>\n      <td>0.0</td>\n      <td>0.0</td>\n      <td>0.0</td>\n      <td>0.0</td>\n      <td>0.0</td>\n      <td>0.0</td>\n      <td>0.0</td>\n      <td>0.0</td>\n      <td>0.0</td>\n      <td>0.0</td>\n      <td>0.0</td>\n      <td>0.0</td>\n      <td>0.0</td>\n      <td>0.0</td>\n      <td>0.0</td>\n      <td>0.0</td>\n      <td>0.0</td>\n      <td>0.0</td>\n      <td>0.0</td>\n      <td>0</td>\n      <td>1</td>\n      <td>0</td>\n      <td>0</td>\n      <td>0</td>\n      <td>0</td>\n      <td>0</td>\n      <td>0</td>\n      <td>0</td>\n      <td>0</td>\n      <td>0</td>\n      <td>0</td>\n      <td>0</td>\n      <td>0</td>\n      <td>0</td>\n      <td>1</td>\n      <td>0</td>\n      <td>0</td>\n      <td>0</td>\n      <td>0</td>\n      <td>0</td>\n      <td>0</td>\n      <td>0</td>\n    </tr>\n    <tr>\n      <th>4</th>\n      <td>0.0</td>\n      <td>0.0</td>\n      <td>0.0</td>\n      <td>0.0</td>\n      <td>0.0</td>\n      <td>0.0</td>\n      <td>0.0</td>\n      <td>0.0</td>\n      <td>0.0</td>\n      <td>0.0</td>\n      <td>0.0</td>\n      <td>0.0</td>\n      <td>0.0</td>\n      <td>0.0</td>\n      <td>0.0</td>\n      <td>0.0</td>\n      <td>0.0</td>\n      <td>0.0</td>\n      <td>0.0</td>\n      <td>1.0</td>\n      <td>0.0</td>\n      <td>0.0</td>\n      <td>32.0</td>\n      <td>0</td>\n      <td>1</td>\n      <td>0</td>\n      <td>0</td>\n      <td>0</td>\n      <td>0</td>\n      <td>0</td>\n      <td>0</td>\n      <td>0</td>\n      <td>0</td>\n      <td>0</td>\n      <td>0</td>\n      <td>0</td>\n      <td>0</td>\n      <td>0</td>\n      <td>1</td>\n      <td>0</td>\n      <td>0</td>\n      <td>0</td>\n      <td>0</td>\n      <td>0</td>\n      <td>0</td>\n      <td>0</td>\n    </tr>\n  </tbody>\n</table>\n</div>"
          },
          "metadata": {}
        }
      ]
    },
    {
      "metadata": {
        "_uuid": "8ef5a9fe4b014b127360df5aa6046c7f295fb2f8"
      },
      "cell_type": "markdown",
      "source": "# 5. Datos de entrenamiento para el algoritmo"
    },
    {
      "metadata": {
        "trusted": true,
        "_uuid": "cb953b7425150d6275a1e4e457ff66c9e1cec6fd"
      },
      "cell_type": "code",
      "source": "# Me creo un DF con los datos postulados y no postulados\ndf = pd.concat([datos,datos_random])\ndf.drop_duplicates(subset=['idpostulante', 'idaviso'], inplace=True)\ndf.head()",
      "execution_count": 49,
      "outputs": [
        {
          "output_type": "execute_result",
          "execution_count": 49,
          "data": {
            "text/plain": "  idpostulante  vistas Administración    ...      Ventas  postulado\n0      0z5Dmrd                      0    ...           0          1\n1      0z5Dmrd                      0    ...           0          1\n2      0z5JW1r                      0    ...           0          1\n3      0z5JW1r                      0    ...           0          1\n4      0z5JW1r                      0    ...           0          1\n\n[5 rows x 49 columns]",
            "text/html": "<div>\n<style scoped>\n    .dataframe tbody tr th:only-of-type {\n        vertical-align: middle;\n    }\n\n    .dataframe tbody tr th {\n        vertical-align: top;\n    }\n\n    .dataframe thead th {\n        text-align: right;\n    }\n</style>\n<table border=\"1\" class=\"dataframe\">\n  <thead>\n    <tr style=\"text-align: right;\">\n      <th></th>\n      <th>idpostulante</th>\n      <th>vistas Administración</th>\n      <th>vistas Administración de Personal</th>\n      <th>vistas Almacén / Depósito / Expedición</th>\n      <th>vistas Atención al Cliente</th>\n      <th>vistas Call Center</th>\n      <th>vistas Comercial</th>\n      <th>vistas Contabilidad</th>\n      <th>vistas Créditos y Cobranzas</th>\n      <th>vistas Gastronomia</th>\n      <th>vistas Legal</th>\n      <th>vistas Logística</th>\n      <th>vistas Mantenimiento y Limpieza</th>\n      <th>vistas Marketing</th>\n      <th>vistas Otra Area</th>\n      <th>vistas Producción</th>\n      <th>vistas Recepcionista</th>\n      <th>vistas Recursos Humanos</th>\n      <th>vistas Secretaria</th>\n      <th>vistas Telemarketing</th>\n      <th>vistas Tesorería</th>\n      <th>vistas Ventas</th>\n      <th>sexo</th>\n      <th>edad</th>\n      <th>idaviso</th>\n      <th>nombre_zona</th>\n      <th>tipo_de_trabajo</th>\n      <th>Administración</th>\n      <th>Administración de Personal</th>\n      <th>Almacén / Depósito / Expedición</th>\n      <th>Atención al Cliente</th>\n      <th>Call Center</th>\n      <th>Comercial</th>\n      <th>Contabilidad</th>\n      <th>Créditos y Cobranzas</th>\n      <th>Gastronomia</th>\n      <th>Legal</th>\n      <th>Logística</th>\n      <th>Mantenimiento y Limpieza</th>\n      <th>Marketing</th>\n      <th>Otra Area</th>\n      <th>Producción</th>\n      <th>Recepcionista</th>\n      <th>Recursos Humanos</th>\n      <th>Secretaria</th>\n      <th>Telemarketing</th>\n      <th>Tesorería</th>\n      <th>Ventas</th>\n      <th>postulado</th>\n    </tr>\n  </thead>\n  <tbody>\n    <tr>\n      <th>0</th>\n      <td>0z5Dmrd</td>\n      <td>0</td>\n      <td>0</td>\n      <td>0</td>\n      <td>0</td>\n      <td>0</td>\n      <td>0</td>\n      <td>0</td>\n      <td>0</td>\n      <td>0</td>\n      <td>0</td>\n      <td>0</td>\n      <td>0</td>\n      <td>0</td>\n      <td>0</td>\n      <td>0</td>\n      <td>0</td>\n      <td>4</td>\n      <td>0</td>\n      <td>0</td>\n      <td>0</td>\n      <td>0</td>\n      <td>1</td>\n      <td>53</td>\n      <td>1112384041</td>\n      <td>1</td>\n      <td>1</td>\n      <td>0</td>\n      <td>0</td>\n      <td>0</td>\n      <td>0</td>\n      <td>0</td>\n      <td>0</td>\n      <td>0</td>\n      <td>0</td>\n      <td>0</td>\n      <td>0</td>\n      <td>0</td>\n      <td>0</td>\n      <td>0</td>\n      <td>0</td>\n      <td>0</td>\n      <td>0</td>\n      <td>1</td>\n      <td>0</td>\n      <td>0</td>\n      <td>0</td>\n      <td>0</td>\n      <td>1</td>\n    </tr>\n    <tr>\n      <th>1</th>\n      <td>0z5Dmrd</td>\n      <td>0</td>\n      <td>0</td>\n      <td>0</td>\n      <td>0</td>\n      <td>0</td>\n      <td>0</td>\n      <td>0</td>\n      <td>0</td>\n      <td>0</td>\n      <td>0</td>\n      <td>0</td>\n      <td>0</td>\n      <td>0</td>\n      <td>0</td>\n      <td>0</td>\n      <td>0</td>\n      <td>4</td>\n      <td>0</td>\n      <td>0</td>\n      <td>0</td>\n      <td>0</td>\n      <td>1</td>\n      <td>53</td>\n      <td>1112420060</td>\n      <td>1</td>\n      <td>1</td>\n      <td>0</td>\n      <td>0</td>\n      <td>0</td>\n      <td>0</td>\n      <td>0</td>\n      <td>0</td>\n      <td>0</td>\n      <td>0</td>\n      <td>0</td>\n      <td>0</td>\n      <td>0</td>\n      <td>0</td>\n      <td>0</td>\n      <td>0</td>\n      <td>0</td>\n      <td>0</td>\n      <td>1</td>\n      <td>0</td>\n      <td>0</td>\n      <td>0</td>\n      <td>0</td>\n      <td>1</td>\n    </tr>\n    <tr>\n      <th>2</th>\n      <td>0z5JW1r</td>\n      <td>0</td>\n      <td>0</td>\n      <td>0</td>\n      <td>0</td>\n      <td>0</td>\n      <td>0</td>\n      <td>0</td>\n      <td>0</td>\n      <td>1</td>\n      <td>0</td>\n      <td>0</td>\n      <td>0</td>\n      <td>0</td>\n      <td>5</td>\n      <td>0</td>\n      <td>0</td>\n      <td>0</td>\n      <td>0</td>\n      <td>0</td>\n      <td>0</td>\n      <td>2</td>\n      <td>1</td>\n      <td>47</td>\n      <td>1112292169</td>\n      <td>1</td>\n      <td>1</td>\n      <td>0</td>\n      <td>0</td>\n      <td>0</td>\n      <td>0</td>\n      <td>0</td>\n      <td>0</td>\n      <td>0</td>\n      <td>0</td>\n      <td>0</td>\n      <td>0</td>\n      <td>0</td>\n      <td>0</td>\n      <td>0</td>\n      <td>1</td>\n      <td>0</td>\n      <td>0</td>\n      <td>0</td>\n      <td>0</td>\n      <td>0</td>\n      <td>0</td>\n      <td>0</td>\n      <td>1</td>\n    </tr>\n    <tr>\n      <th>3</th>\n      <td>0z5JW1r</td>\n      <td>0</td>\n      <td>0</td>\n      <td>0</td>\n      <td>0</td>\n      <td>0</td>\n      <td>0</td>\n      <td>0</td>\n      <td>0</td>\n      <td>1</td>\n      <td>0</td>\n      <td>0</td>\n      <td>0</td>\n      <td>0</td>\n      <td>5</td>\n      <td>0</td>\n      <td>0</td>\n      <td>0</td>\n      <td>0</td>\n      <td>0</td>\n      <td>0</td>\n      <td>2</td>\n      <td>1</td>\n      <td>47</td>\n      <td>1112309728</td>\n      <td>1</td>\n      <td>1</td>\n      <td>0</td>\n      <td>0</td>\n      <td>0</td>\n      <td>0</td>\n      <td>0</td>\n      <td>0</td>\n      <td>0</td>\n      <td>0</td>\n      <td>1</td>\n      <td>0</td>\n      <td>0</td>\n      <td>0</td>\n      <td>0</td>\n      <td>0</td>\n      <td>0</td>\n      <td>0</td>\n      <td>0</td>\n      <td>0</td>\n      <td>0</td>\n      <td>0</td>\n      <td>0</td>\n      <td>1</td>\n    </tr>\n    <tr>\n      <th>4</th>\n      <td>0z5JW1r</td>\n      <td>0</td>\n      <td>0</td>\n      <td>0</td>\n      <td>0</td>\n      <td>0</td>\n      <td>0</td>\n      <td>0</td>\n      <td>0</td>\n      <td>1</td>\n      <td>0</td>\n      <td>0</td>\n      <td>0</td>\n      <td>0</td>\n      <td>5</td>\n      <td>0</td>\n      <td>0</td>\n      <td>0</td>\n      <td>0</td>\n      <td>0</td>\n      <td>0</td>\n      <td>2</td>\n      <td>1</td>\n      <td>47</td>\n      <td>1112257171</td>\n      <td>1</td>\n      <td>1</td>\n      <td>0</td>\n      <td>0</td>\n      <td>1</td>\n      <td>0</td>\n      <td>0</td>\n      <td>0</td>\n      <td>0</td>\n      <td>0</td>\n      <td>0</td>\n      <td>0</td>\n      <td>0</td>\n      <td>0</td>\n      <td>0</td>\n      <td>0</td>\n      <td>0</td>\n      <td>0</td>\n      <td>0</td>\n      <td>0</td>\n      <td>0</td>\n      <td>0</td>\n      <td>0</td>\n      <td>1</td>\n    </tr>\n  </tbody>\n</table>\n</div>"
          },
          "metadata": {}
        }
      ]
    },
    {
      "metadata": {
        "trusted": true,
        "_uuid": "bb397fbfe9f61191f831c7769930691e203f89a2"
      },
      "cell_type": "code",
      "source": "# X Datos\n# y Categorias\nX = df.drop(columns=['idpostulante', 'idaviso', 'postulado'])\n# adicionales\nX.head()",
      "execution_count": 50,
      "outputs": [
        {
          "output_type": "execute_result",
          "execution_count": 50,
          "data": {
            "text/plain": "   vistas Administración   ...    Ventas\n0                      0   ...         0\n1                      0   ...         0\n2                      0   ...         0\n3                      0   ...         0\n4                      0   ...         0\n\n[5 rows x 46 columns]",
            "text/html": "<div>\n<style scoped>\n    .dataframe tbody tr th:only-of-type {\n        vertical-align: middle;\n    }\n\n    .dataframe tbody tr th {\n        vertical-align: top;\n    }\n\n    .dataframe thead th {\n        text-align: right;\n    }\n</style>\n<table border=\"1\" class=\"dataframe\">\n  <thead>\n    <tr style=\"text-align: right;\">\n      <th></th>\n      <th>vistas Administración</th>\n      <th>vistas Administración de Personal</th>\n      <th>vistas Almacén / Depósito / Expedición</th>\n      <th>vistas Atención al Cliente</th>\n      <th>vistas Call Center</th>\n      <th>vistas Comercial</th>\n      <th>vistas Contabilidad</th>\n      <th>vistas Créditos y Cobranzas</th>\n      <th>vistas Gastronomia</th>\n      <th>vistas Legal</th>\n      <th>vistas Logística</th>\n      <th>vistas Mantenimiento y Limpieza</th>\n      <th>vistas Marketing</th>\n      <th>vistas Otra Area</th>\n      <th>vistas Producción</th>\n      <th>vistas Recepcionista</th>\n      <th>vistas Recursos Humanos</th>\n      <th>vistas Secretaria</th>\n      <th>vistas Telemarketing</th>\n      <th>vistas Tesorería</th>\n      <th>vistas Ventas</th>\n      <th>sexo</th>\n      <th>edad</th>\n      <th>nombre_zona</th>\n      <th>tipo_de_trabajo</th>\n      <th>Administración</th>\n      <th>Administración de Personal</th>\n      <th>Almacén / Depósito / Expedición</th>\n      <th>Atención al Cliente</th>\n      <th>Call Center</th>\n      <th>Comercial</th>\n      <th>Contabilidad</th>\n      <th>Créditos y Cobranzas</th>\n      <th>Gastronomia</th>\n      <th>Legal</th>\n      <th>Logística</th>\n      <th>Mantenimiento y Limpieza</th>\n      <th>Marketing</th>\n      <th>Otra Area</th>\n      <th>Producción</th>\n      <th>Recepcionista</th>\n      <th>Recursos Humanos</th>\n      <th>Secretaria</th>\n      <th>Telemarketing</th>\n      <th>Tesorería</th>\n      <th>Ventas</th>\n    </tr>\n  </thead>\n  <tbody>\n    <tr>\n      <th>0</th>\n      <td>0</td>\n      <td>0</td>\n      <td>0</td>\n      <td>0</td>\n      <td>0</td>\n      <td>0</td>\n      <td>0</td>\n      <td>0</td>\n      <td>0</td>\n      <td>0</td>\n      <td>0</td>\n      <td>0</td>\n      <td>0</td>\n      <td>0</td>\n      <td>0</td>\n      <td>0</td>\n      <td>4</td>\n      <td>0</td>\n      <td>0</td>\n      <td>0</td>\n      <td>0</td>\n      <td>1</td>\n      <td>53</td>\n      <td>1</td>\n      <td>1</td>\n      <td>0</td>\n      <td>0</td>\n      <td>0</td>\n      <td>0</td>\n      <td>0</td>\n      <td>0</td>\n      <td>0</td>\n      <td>0</td>\n      <td>0</td>\n      <td>0</td>\n      <td>0</td>\n      <td>0</td>\n      <td>0</td>\n      <td>0</td>\n      <td>0</td>\n      <td>0</td>\n      <td>1</td>\n      <td>0</td>\n      <td>0</td>\n      <td>0</td>\n      <td>0</td>\n    </tr>\n    <tr>\n      <th>1</th>\n      <td>0</td>\n      <td>0</td>\n      <td>0</td>\n      <td>0</td>\n      <td>0</td>\n      <td>0</td>\n      <td>0</td>\n      <td>0</td>\n      <td>0</td>\n      <td>0</td>\n      <td>0</td>\n      <td>0</td>\n      <td>0</td>\n      <td>0</td>\n      <td>0</td>\n      <td>0</td>\n      <td>4</td>\n      <td>0</td>\n      <td>0</td>\n      <td>0</td>\n      <td>0</td>\n      <td>1</td>\n      <td>53</td>\n      <td>1</td>\n      <td>1</td>\n      <td>0</td>\n      <td>0</td>\n      <td>0</td>\n      <td>0</td>\n      <td>0</td>\n      <td>0</td>\n      <td>0</td>\n      <td>0</td>\n      <td>0</td>\n      <td>0</td>\n      <td>0</td>\n      <td>0</td>\n      <td>0</td>\n      <td>0</td>\n      <td>0</td>\n      <td>0</td>\n      <td>1</td>\n      <td>0</td>\n      <td>0</td>\n      <td>0</td>\n      <td>0</td>\n    </tr>\n    <tr>\n      <th>2</th>\n      <td>0</td>\n      <td>0</td>\n      <td>0</td>\n      <td>0</td>\n      <td>0</td>\n      <td>0</td>\n      <td>0</td>\n      <td>0</td>\n      <td>1</td>\n      <td>0</td>\n      <td>0</td>\n      <td>0</td>\n      <td>0</td>\n      <td>5</td>\n      <td>0</td>\n      <td>0</td>\n      <td>0</td>\n      <td>0</td>\n      <td>0</td>\n      <td>0</td>\n      <td>2</td>\n      <td>1</td>\n      <td>47</td>\n      <td>1</td>\n      <td>1</td>\n      <td>0</td>\n      <td>0</td>\n      <td>0</td>\n      <td>0</td>\n      <td>0</td>\n      <td>0</td>\n      <td>0</td>\n      <td>0</td>\n      <td>0</td>\n      <td>0</td>\n      <td>0</td>\n      <td>0</td>\n      <td>0</td>\n      <td>1</td>\n      <td>0</td>\n      <td>0</td>\n      <td>0</td>\n      <td>0</td>\n      <td>0</td>\n      <td>0</td>\n      <td>0</td>\n    </tr>\n    <tr>\n      <th>3</th>\n      <td>0</td>\n      <td>0</td>\n      <td>0</td>\n      <td>0</td>\n      <td>0</td>\n      <td>0</td>\n      <td>0</td>\n      <td>0</td>\n      <td>1</td>\n      <td>0</td>\n      <td>0</td>\n      <td>0</td>\n      <td>0</td>\n      <td>5</td>\n      <td>0</td>\n      <td>0</td>\n      <td>0</td>\n      <td>0</td>\n      <td>0</td>\n      <td>0</td>\n      <td>2</td>\n      <td>1</td>\n      <td>47</td>\n      <td>1</td>\n      <td>1</td>\n      <td>0</td>\n      <td>0</td>\n      <td>0</td>\n      <td>0</td>\n      <td>0</td>\n      <td>0</td>\n      <td>0</td>\n      <td>0</td>\n      <td>1</td>\n      <td>0</td>\n      <td>0</td>\n      <td>0</td>\n      <td>0</td>\n      <td>0</td>\n      <td>0</td>\n      <td>0</td>\n      <td>0</td>\n      <td>0</td>\n      <td>0</td>\n      <td>0</td>\n      <td>0</td>\n    </tr>\n    <tr>\n      <th>4</th>\n      <td>0</td>\n      <td>0</td>\n      <td>0</td>\n      <td>0</td>\n      <td>0</td>\n      <td>0</td>\n      <td>0</td>\n      <td>0</td>\n      <td>1</td>\n      <td>0</td>\n      <td>0</td>\n      <td>0</td>\n      <td>0</td>\n      <td>5</td>\n      <td>0</td>\n      <td>0</td>\n      <td>0</td>\n      <td>0</td>\n      <td>0</td>\n      <td>0</td>\n      <td>2</td>\n      <td>1</td>\n      <td>47</td>\n      <td>1</td>\n      <td>1</td>\n      <td>0</td>\n      <td>0</td>\n      <td>1</td>\n      <td>0</td>\n      <td>0</td>\n      <td>0</td>\n      <td>0</td>\n      <td>0</td>\n      <td>0</td>\n      <td>0</td>\n      <td>0</td>\n      <td>0</td>\n      <td>0</td>\n      <td>0</td>\n      <td>0</td>\n      <td>0</td>\n      <td>0</td>\n      <td>0</td>\n      <td>0</td>\n      <td>0</td>\n      <td>0</td>\n    </tr>\n  </tbody>\n</table>\n</div>"
          },
          "metadata": {}
        }
      ]
    },
    {
      "metadata": {
        "trusted": true,
        "collapsed": true,
        "_uuid": "f85c61de3339e7609f834a3d6a40cea3399fb20b"
      },
      "cell_type": "code",
      "source": "y = df['postulado']",
      "execution_count": 51,
      "outputs": []
    },
    {
      "metadata": {
        "trusted": true,
        "_uuid": "260dd00a1561a5b4d68cc9880ec3233b205c5eff",
        "collapsed": true
      },
      "cell_type": "code",
      "source": "X_train, X_test, y_train, y_test = train_test_split(X, y, test_size=0.33)",
      "execution_count": 52,
      "outputs": []
    },
    {
      "metadata": {
        "trusted": true,
        "collapsed": true,
        "_uuid": "0bb474b9e85b88be61f9420f4fb0051fcf8b5bcf"
      },
      "cell_type": "code",
      "source": "scaler = StandardScaler()  \nscaler.fit(X_train)\nX_train = scaler.transform(X_train)  \nX_test = scaler.transform(X_test)  ",
      "execution_count": 53,
      "outputs": []
    },
    {
      "metadata": {
        "trusted": true,
        "_uuid": "1e70344b1a455ed71a73ef4d32dc7d715f2b91ce"
      },
      "cell_type": "code",
      "source": "#clf = MLPClassifier(solver='lbfgs', alpha=1e-5,hidden_layer_sizes=(5, 2), random_state=1)\nclf = Perceptron(n_iter=40, eta0=0.1, random_state=0)\nclf.fit(X_train,y_train)\ny_pred = clf.predict(X_test)  \nprint('accuracy: {0:.2f}%'.format(accuracy_score(y_test,y_pred)*100))",
      "execution_count": null,
      "outputs": []
    },
    {
      "metadata": {
        "_uuid": "f79eb5656bb3d229b9111401d98b4d862e53af6b"
      },
      "cell_type": "markdown",
      "source": "# 7. PREDICCION"
    },
    {
      "metadata": {
        "trusted": true,
        "_uuid": "84ebe206929212eb63b0ad21396f0b66055f659d",
        "collapsed": true
      },
      "cell_type": "code",
      "source": "y_final = clf.predict(X_final)",
      "execution_count": null,
      "outputs": []
    },
    {
      "metadata": {
        "trusted": true,
        "_uuid": "f88a5db0f0260a98b68649a03a8052291a40a2ea"
      },
      "cell_type": "code",
      "source": "y_final",
      "execution_count": null,
      "outputs": []
    },
    {
      "metadata": {
        "_uuid": "ef1a2c8e86bee0dbd69a667a415f1cef09cf07b0"
      },
      "cell_type": "markdown",
      "source": "# 8. SUMMIT"
    },
    {
      "metadata": {
        "trusted": true,
        "_uuid": "42fd0f4a0153bc04b50afa4655d98642d22eaa02"
      },
      "cell_type": "code",
      "source": "y_summit = pd.DataFrame(y_final)\ny_summit.columns = ['sepostulo']\ny_summit.head()",
      "execution_count": null,
      "outputs": []
    },
    {
      "metadata": {
        "trusted": true,
        "_uuid": "bac8801518693a3cc1ef8f163e30bf69ffdb841b"
      },
      "cell_type": "code",
      "source": "y_summit.info()",
      "execution_count": null,
      "outputs": []
    },
    {
      "metadata": {
        "trusted": true,
        "_uuid": "4bbfbb2ac2094909d17875cfddfd3cd8e5698fa4"
      },
      "cell_type": "code",
      "source": "summit = y_summit.reset_index()\nsummit.head()",
      "execution_count": null,
      "outputs": []
    },
    {
      "metadata": {
        "trusted": true,
        "_uuid": "4c29a3bb795cb07c65c8a60eddb6a20f8244426b"
      },
      "cell_type": "code",
      "source": "summit.rename(columns={'index':'id'}, inplace=True)\nsummit.head()",
      "execution_count": null,
      "outputs": []
    },
    {
      "metadata": {
        "trusted": true,
        "_uuid": "6e59d173ab2277c74b33ad58c88398988a9ded1b",
        "collapsed": true
      },
      "cell_type": "code",
      "source": "# Guardo los datos\nsummit.to_csv(\"summitGSNB.csv\", index=False)\n",
      "execution_count": null,
      "outputs": []
    },
    {
      "metadata": {
        "trusted": true,
        "collapsed": true,
        "_uuid": "ed2c9f08ed8a8daff909d244bb515a49750e8ca9"
      },
      "cell_type": "code",
      "source": "",
      "execution_count": null,
      "outputs": []
    },
    {
      "metadata": {
        "trusted": true,
        "collapsed": true,
        "_uuid": "67accba5614bd87c7821416127653978634e0cd2"
      },
      "cell_type": "code",
      "source": "",
      "execution_count": null,
      "outputs": []
    },
    {
      "metadata": {
        "trusted": true,
        "collapsed": true,
        "_uuid": "aa624852691f361150ea685ce48e00eb3955b731"
      },
      "cell_type": "code",
      "source": "",
      "execution_count": null,
      "outputs": []
    },
    {
      "metadata": {
        "trusted": true,
        "collapsed": true,
        "_uuid": "c4e9e0b936f30c8f3ed1fced0a084d8f961757f2"
      },
      "cell_type": "code",
      "source": "",
      "execution_count": null,
      "outputs": []
    }
  ],
  "metadata": {
    "kernelspec": {
      "display_name": "Python 3",
      "language": "python",
      "name": "python3"
    },
    "language_info": {
      "name": "python",
      "version": "3.6.5",
      "mimetype": "text/x-python",
      "codemirror_mode": {
        "name": "ipython",
        "version": 3
      },
      "pygments_lexer": "ipython3",
      "nbconvert_exporter": "python",
      "file_extension": ".py"
    }
  },
  "nbformat": 4,
  "nbformat_minor": 1
}