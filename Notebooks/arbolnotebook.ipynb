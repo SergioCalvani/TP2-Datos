{
  "cells": [
    {
      "metadata": {
        "trusted": true,
        "collapsed": true,
        "_uuid": "1a737268b48e9abe9b5e46ecac99ef35ed878664"
      },
      "cell_type": "code",
      "source": "import pandas as pd\nimport numpy as np\nimport datetime as DT\nfrom sklearn.model_selection import train_test_split\nfrom sklearn.preprocessing import StandardScaler\nfrom sklearn.linear_model import Perceptron\nfrom sklearn.metrics import accuracy_score\nimport random\nfrom sklearn import tree",
      "execution_count": 1,
      "outputs": []
    },
    {
      "metadata": {
        "trusted": true,
        "collapsed": true,
        "_uuid": "f51ccf3423304f5e18f8620fb2a49f9b9c50685c"
      },
      "cell_type": "code",
      "source": "# Solo me voy a quedar con las vistas de los usuarios",
      "execution_count": 2,
      "outputs": []
    },
    {
      "metadata": {
        "trusted": true,
        "collapsed": true,
        "_uuid": "f52ba58142658286e200756d12690b2e7a40980c"
      },
      "cell_type": "code",
      "source": "vistas = pd.concat([\n    pd.read_csv(\"../input/datos/fiuba_3_vistas.csv\"),\n    pd.read_csv(\"../input/datosdatos/DESfiuba_3_vistas.csv\"),\n    pd.read_csv(\"../input/datosdatos/ENTfiuba_3_vistas.csv\")\n])",
      "execution_count": 3,
      "outputs": []
    },
    {
      "metadata": {
        "trusted": true,
        "_uuid": "56a4272179c2f8988ae44a43ca613d738f98af35",
        "scrolled": true
      },
      "cell_type": "code",
      "source": "vistas.rename(columns={'idAviso':'idaviso'}, inplace=True)\nvistas.head()",
      "execution_count": 4,
      "outputs": [
        {
          "output_type": "execute_result",
          "execution_count": 4,
          "data": {
            "text/plain": "      idaviso                     timestamp idpostulante\n0  1111780242  2018-02-23T13:38:13.187-0500      YjVJQ6Z\n1  1112263876  2018-02-23T13:38:14.296-0500      BmVpYoR\n2  1112327963  2018-02-23T13:38:14.329-0500      wVkBzZd\n3  1112318643  2018-02-23T13:38:17.921-0500      OqmP9pv\n4  1111903673  2018-02-23T13:38:18.973-0500      DrpbXDP",
            "text/html": "<div>\n<style scoped>\n    .dataframe tbody tr th:only-of-type {\n        vertical-align: middle;\n    }\n\n    .dataframe tbody tr th {\n        vertical-align: top;\n    }\n\n    .dataframe thead th {\n        text-align: right;\n    }\n</style>\n<table border=\"1\" class=\"dataframe\">\n  <thead>\n    <tr style=\"text-align: right;\">\n      <th></th>\n      <th>idaviso</th>\n      <th>timestamp</th>\n      <th>idpostulante</th>\n    </tr>\n  </thead>\n  <tbody>\n    <tr>\n      <th>0</th>\n      <td>1111780242</td>\n      <td>2018-02-23T13:38:13.187-0500</td>\n      <td>YjVJQ6Z</td>\n    </tr>\n    <tr>\n      <th>1</th>\n      <td>1112263876</td>\n      <td>2018-02-23T13:38:14.296-0500</td>\n      <td>BmVpYoR</td>\n    </tr>\n    <tr>\n      <th>2</th>\n      <td>1112327963</td>\n      <td>2018-02-23T13:38:14.329-0500</td>\n      <td>wVkBzZd</td>\n    </tr>\n    <tr>\n      <th>3</th>\n      <td>1112318643</td>\n      <td>2018-02-23T13:38:17.921-0500</td>\n      <td>OqmP9pv</td>\n    </tr>\n    <tr>\n      <th>4</th>\n      <td>1111903673</td>\n      <td>2018-02-23T13:38:18.973-0500</td>\n      <td>DrpbXDP</td>\n    </tr>\n  </tbody>\n</table>\n</div>"
          },
          "metadata": {}
        }
      ]
    },
    {
      "metadata": {
        "trusted": true,
        "_uuid": "f3aba37aefd3865e370bdf1f5b8c15ad3c5c97ab"
      },
      "cell_type": "code",
      "source": "vistas = vistas[['idaviso', 'idpostulante']]\nvistas.drop_duplicates(subset=['idaviso', 'idpostulante'], inplace=True)\nvistas.head()",
      "execution_count": 5,
      "outputs": [
        {
          "output_type": "execute_result",
          "execution_count": 5,
          "data": {
            "text/plain": "      idaviso idpostulante\n0  1111780242      YjVJQ6Z\n1  1112263876      BmVpYoR\n2  1112327963      wVkBzZd\n3  1112318643      OqmP9pv\n4  1111903673      DrpbXDP",
            "text/html": "<div>\n<style scoped>\n    .dataframe tbody tr th:only-of-type {\n        vertical-align: middle;\n    }\n\n    .dataframe tbody tr th {\n        vertical-align: top;\n    }\n\n    .dataframe thead th {\n        text-align: right;\n    }\n</style>\n<table border=\"1\" class=\"dataframe\">\n  <thead>\n    <tr style=\"text-align: right;\">\n      <th></th>\n      <th>idaviso</th>\n      <th>idpostulante</th>\n    </tr>\n  </thead>\n  <tbody>\n    <tr>\n      <th>0</th>\n      <td>1111780242</td>\n      <td>YjVJQ6Z</td>\n    </tr>\n    <tr>\n      <th>1</th>\n      <td>1112263876</td>\n      <td>BmVpYoR</td>\n    </tr>\n    <tr>\n      <th>2</th>\n      <td>1112327963</td>\n      <td>wVkBzZd</td>\n    </tr>\n    <tr>\n      <th>3</th>\n      <td>1112318643</td>\n      <td>OqmP9pv</td>\n    </tr>\n    <tr>\n      <th>4</th>\n      <td>1111903673</td>\n      <td>DrpbXDP</td>\n    </tr>\n  </tbody>\n</table>\n</div>"
          },
          "metadata": {}
        }
      ]
    },
    {
      "metadata": {
        "trusted": true,
        "collapsed": true,
        "_uuid": "e58dc79ae5239cadf42e7333682fa1d9eb6cc754"
      },
      "cell_type": "code",
      "source": "# Cargo los avisos\navisos = pd.concat([\n    pd.read_csv(\"../input/datos/fiuba_6_avisos_detalle.csv\"),\n    pd.read_csv(\"../input/datosdatos/DESfiuba_6_avisos_detalle.csv\"),\n    pd.read_csv(\"../input/datosdatos/ENTfiuba_6_avisos_detalle.csv\"),\n    pd.read_csv(\"../input/datosdatos/MISfiuba_6_avisos_detalle_missing_nivel_laboral.csv\")\n])",
      "execution_count": 6,
      "outputs": []
    },
    {
      "metadata": {
        "trusted": true,
        "_uuid": "71ef7efbd09e5637119beb944e93fca793c7ebca"
      },
      "cell_type": "code",
      "source": "avisos.head()",
      "execution_count": 7,
      "outputs": [
        {
          "output_type": "execute_result",
          "execution_count": 7,
          "data": {
            "text/plain": "      idaviso           ...                denominacion_empresa\n0     8725750           ...                              VENTOR\n1    17903700           ...             Farmacias Central Oeste\n2  1000150677           ...                         FAMITAX SRL\n3  1000610287           ...                 Wurth Argentina S.A\n4  1000872556           ...                  ELECTRO OUTLET SRL\n\n[5 rows x 11 columns]",
            "text/html": "<div>\n<style scoped>\n    .dataframe tbody tr th:only-of-type {\n        vertical-align: middle;\n    }\n\n    .dataframe tbody tr th {\n        vertical-align: top;\n    }\n\n    .dataframe thead th {\n        text-align: right;\n    }\n</style>\n<table border=\"1\" class=\"dataframe\">\n  <thead>\n    <tr style=\"text-align: right;\">\n      <th></th>\n      <th>idaviso</th>\n      <th>idpais</th>\n      <th>titulo</th>\n      <th>descripcion</th>\n      <th>nombre_zona</th>\n      <th>ciudad</th>\n      <th>mapacalle</th>\n      <th>tipo_de_trabajo</th>\n      <th>nivel_laboral</th>\n      <th>nombre_area</th>\n      <th>denominacion_empresa</th>\n    </tr>\n  </thead>\n  <tbody>\n    <tr>\n      <th>0</th>\n      <td>8725750</td>\n      <td>1</td>\n      <td>VENDEDOR/A PROVINCIA DE SANTA FE</td>\n      <td>&lt;p&gt;&lt;strong&gt;&lt;strong&gt;Empresa:&lt;/strong&gt;&lt;/strong&gt; ...</td>\n      <td>Gran Buenos Aires</td>\n      <td>NaN</td>\n      <td>NaN</td>\n      <td>Full-time</td>\n      <td>Senior / Semi-Senior</td>\n      <td>Comercial</td>\n      <td>VENTOR</td>\n    </tr>\n    <tr>\n      <th>1</th>\n      <td>17903700</td>\n      <td>1</td>\n      <td>Enfermeras</td>\n      <td>&lt;p&gt;Solicitamos para importante cadena de farma...</td>\n      <td>Gran Buenos Aires</td>\n      <td>NaN</td>\n      <td>NaN</td>\n      <td>Full-time</td>\n      <td>Senior / Semi-Senior</td>\n      <td>Salud</td>\n      <td>Farmacias Central Oeste</td>\n    </tr>\n    <tr>\n      <th>2</th>\n      <td>1000150677</td>\n      <td>1</td>\n      <td>Chofer de taxi</td>\n      <td>&lt;p&gt;TE GUSTA MANEJAR? QUERES GANAR PLATA HACIEN...</td>\n      <td>Capital Federal</td>\n      <td>NaN</td>\n      <td>Empedrado 2336</td>\n      <td>Full-time</td>\n      <td>Senior / Semi-Senior</td>\n      <td>Transporte</td>\n      <td>FAMITAX SRL</td>\n    </tr>\n    <tr>\n      <th>3</th>\n      <td>1000610287</td>\n      <td>1</td>\n      <td>CHOFER DE CAMIONETA BAHIA BLANCA - PUNTA ALTA</td>\n      <td>&lt;p&gt;&lt;strong&gt;Somos una empresa multinacional que...</td>\n      <td>Gran Buenos Aires</td>\n      <td>NaN</td>\n      <td>NaN</td>\n      <td>Full-time</td>\n      <td>Senior / Semi-Senior</td>\n      <td>Transporte</td>\n      <td>Wurth Argentina S.A</td>\n    </tr>\n    <tr>\n      <th>4</th>\n      <td>1000872556</td>\n      <td>1</td>\n      <td>Operarios de Planta - Rubro Electrodomésticos</td>\n      <td>&lt;p&gt;&lt;strong&gt;OPERARIOS DE PLANTA&lt;/strong&gt;&lt;/p&gt;&lt;p&gt;...</td>\n      <td>Gran Buenos Aires</td>\n      <td>NaN</td>\n      <td>NaN</td>\n      <td>Full-time</td>\n      <td>Senior / Semi-Senior</td>\n      <td>Producción</td>\n      <td>ELECTRO OUTLET SRL</td>\n    </tr>\n  </tbody>\n</table>\n</div>"
          },
          "metadata": {}
        }
      ]
    },
    {
      "metadata": {
        "trusted": true,
        "_uuid": "5b6720cb1de5445a7dec4f0d813e0bc1fdaff3a3"
      },
      "cell_type": "code",
      "source": "# Elimino las columnas que no me interesan\navisos = avisos[['idaviso', 'nombre_area']]\navisos.head()",
      "execution_count": 8,
      "outputs": [
        {
          "output_type": "execute_result",
          "execution_count": 8,
          "data": {
            "text/plain": "      idaviso nombre_area\n0     8725750   Comercial\n1    17903700       Salud\n2  1000150677  Transporte\n3  1000610287  Transporte\n4  1000872556  Producción",
            "text/html": "<div>\n<style scoped>\n    .dataframe tbody tr th:only-of-type {\n        vertical-align: middle;\n    }\n\n    .dataframe tbody tr th {\n        vertical-align: top;\n    }\n\n    .dataframe thead th {\n        text-align: right;\n    }\n</style>\n<table border=\"1\" class=\"dataframe\">\n  <thead>\n    <tr style=\"text-align: right;\">\n      <th></th>\n      <th>idaviso</th>\n      <th>nombre_area</th>\n    </tr>\n  </thead>\n  <tbody>\n    <tr>\n      <th>0</th>\n      <td>8725750</td>\n      <td>Comercial</td>\n    </tr>\n    <tr>\n      <th>1</th>\n      <td>17903700</td>\n      <td>Salud</td>\n    </tr>\n    <tr>\n      <th>2</th>\n      <td>1000150677</td>\n      <td>Transporte</td>\n    </tr>\n    <tr>\n      <th>3</th>\n      <td>1000610287</td>\n      <td>Transporte</td>\n    </tr>\n    <tr>\n      <th>4</th>\n      <td>1000872556</td>\n      <td>Producción</td>\n    </tr>\n  </tbody>\n</table>\n</div>"
          },
          "metadata": {}
        }
      ]
    },
    {
      "metadata": {
        "trusted": true,
        "collapsed": true,
        "_uuid": "de923e0b7c57b5e7e0015ceea5b2fe8ef6682dc7"
      },
      "cell_type": "code",
      "source": "avisos.drop_duplicates(subset=['idaviso', 'nombre_area'], inplace=True)",
      "execution_count": 9,
      "outputs": []
    },
    {
      "metadata": {
        "trusted": true,
        "collapsed": true,
        "_uuid": "e0949c771d61a38c46303d79204b7bda8a28f644"
      },
      "cell_type": "code",
      "source": "areas_importantes = [\n    'Ventas', 'Administración', 'Producción', 'Comercial', 'Atención al Cliente',\n    'Recepcionista', 'Call Center', 'Telemarketing', 'Tesorería', 'Mantenimient y Limpieza',\n]",
      "execution_count": 10,
      "outputs": []
    },
    {
      "metadata": {
        "trusted": true,
        "collapsed": true,
        "_uuid": "03cf7b83c4735024306470d92b5b8e2a50f1d001"
      },
      "cell_type": "code",
      "source": "avisos['nombre_area'] = avisos['nombre_area'].apply(lambda x: x if x in areas_importantes else 'Otra Area')",
      "execution_count": 11,
      "outputs": []
    },
    {
      "metadata": {
        "trusted": true,
        "_uuid": "180ac73076549fc10d81c3c021dafaee7520dccd"
      },
      "cell_type": "code",
      "source": "avisos.head()",
      "execution_count": 12,
      "outputs": [
        {
          "output_type": "execute_result",
          "execution_count": 12,
          "data": {
            "text/plain": "      idaviso nombre_area\n0     8725750   Comercial\n1    17903700   Otra Area\n2  1000150677   Otra Area\n3  1000610287   Otra Area\n4  1000872556  Producción",
            "text/html": "<div>\n<style scoped>\n    .dataframe tbody tr th:only-of-type {\n        vertical-align: middle;\n    }\n\n    .dataframe tbody tr th {\n        vertical-align: top;\n    }\n\n    .dataframe thead th {\n        text-align: right;\n    }\n</style>\n<table border=\"1\" class=\"dataframe\">\n  <thead>\n    <tr style=\"text-align: right;\">\n      <th></th>\n      <th>idaviso</th>\n      <th>nombre_area</th>\n    </tr>\n  </thead>\n  <tbody>\n    <tr>\n      <th>0</th>\n      <td>8725750</td>\n      <td>Comercial</td>\n    </tr>\n    <tr>\n      <th>1</th>\n      <td>17903700</td>\n      <td>Otra Area</td>\n    </tr>\n    <tr>\n      <th>2</th>\n      <td>1000150677</td>\n      <td>Otra Area</td>\n    </tr>\n    <tr>\n      <th>3</th>\n      <td>1000610287</td>\n      <td>Otra Area</td>\n    </tr>\n    <tr>\n      <th>4</th>\n      <td>1000872556</td>\n      <td>Producción</td>\n    </tr>\n  </tbody>\n</table>\n</div>"
          },
          "metadata": {}
        }
      ]
    },
    {
      "metadata": {
        "trusted": true,
        "_uuid": "c67eda5b18c2a0053c8eaf7a1930877534acca39"
      },
      "cell_type": "code",
      "source": "# Uno avisos y vistas.\navisos_vistos = pd.merge(vistas, avisos, on='idaviso', how='left')\navisos_vistos.head()",
      "execution_count": 13,
      "outputs": [
        {
          "output_type": "execute_result",
          "execution_count": 13,
          "data": {
            "text/plain": "      idaviso idpostulante     nombre_area\n0  1111780242      YjVJQ6Z       Otra Area\n1  1112263876      BmVpYoR       Otra Area\n2  1112327963      wVkBzZd       Otra Area\n3  1112318643      OqmP9pv  Administración\n4  1111903673      DrpbXDP       Otra Area",
            "text/html": "<div>\n<style scoped>\n    .dataframe tbody tr th:only-of-type {\n        vertical-align: middle;\n    }\n\n    .dataframe tbody tr th {\n        vertical-align: top;\n    }\n\n    .dataframe thead th {\n        text-align: right;\n    }\n</style>\n<table border=\"1\" class=\"dataframe\">\n  <thead>\n    <tr style=\"text-align: right;\">\n      <th></th>\n      <th>idaviso</th>\n      <th>idpostulante</th>\n      <th>nombre_area</th>\n    </tr>\n  </thead>\n  <tbody>\n    <tr>\n      <th>0</th>\n      <td>1111780242</td>\n      <td>YjVJQ6Z</td>\n      <td>Otra Area</td>\n    </tr>\n    <tr>\n      <th>1</th>\n      <td>1112263876</td>\n      <td>BmVpYoR</td>\n      <td>Otra Area</td>\n    </tr>\n    <tr>\n      <th>2</th>\n      <td>1112327963</td>\n      <td>wVkBzZd</td>\n      <td>Otra Area</td>\n    </tr>\n    <tr>\n      <th>3</th>\n      <td>1112318643</td>\n      <td>OqmP9pv</td>\n      <td>Administración</td>\n    </tr>\n    <tr>\n      <th>4</th>\n      <td>1111903673</td>\n      <td>DrpbXDP</td>\n      <td>Otra Area</td>\n    </tr>\n  </tbody>\n</table>\n</div>"
          },
          "metadata": {}
        }
      ]
    },
    {
      "metadata": {
        "trusted": true,
        "collapsed": true,
        "_uuid": "49a54698dfd24af544a7c94d588ab380ea95850a"
      },
      "cell_type": "code",
      "source": "avisos_vistos['n'] = 1",
      "execution_count": 14,
      "outputs": []
    },
    {
      "metadata": {
        "trusted": true,
        "_uuid": "a8f6f152a4f5fffdc826eb69c88e217ab8702d3b"
      },
      "cell_type": "code",
      "source": "avisos_vistos['nombre_area'].value_counts()",
      "execution_count": 15,
      "outputs": [
        {
          "output_type": "execute_result",
          "execution_count": 15,
          "data": {
            "text/plain": "Otra Area              2492285\nVentas                  763164\nAdministración          532516\nComercial               378112\nProducción              362817\nAtención al Cliente     327444\nRecepcionista           263715\nCall Center             204285\nTesorería               149429\nTelemarketing           117380\nName: nombre_area, dtype: int64"
          },
          "metadata": {}
        }
      ]
    },
    {
      "metadata": {
        "trusted": true,
        "_uuid": "f414d2a9f7e06a6863368b5a5df35a38d571930d",
        "collapsed": true
      },
      "cell_type": "code",
      "source": "vistos_por_area = avisos_vistos.pivot_table(index='idpostulante', values='n', columns='nombre_area', aggfunc='count')",
      "execution_count": 16,
      "outputs": []
    },
    {
      "metadata": {
        "trusted": true,
        "collapsed": true,
        "_uuid": "8ff3eb8890815bd60e7bd14e8711257f97dcb2e2"
      },
      "cell_type": "code",
      "source": "vistos_por_area.fillna(0, inplace=True)",
      "execution_count": 17,
      "outputs": []
    },
    {
      "metadata": {
        "trusted": true,
        "_uuid": "b7e77b13b31988aecaad58656a22a711e2879d2f",
        "collapsed": true
      },
      "cell_type": "code",
      "source": "vistos_por_area.reset_index(inplace=True)",
      "execution_count": 18,
      "outputs": []
    },
    {
      "metadata": {
        "trusted": true,
        "_uuid": "1c16e1c62d21e2f34c51d9a88f7e359d70839ec2"
      },
      "cell_type": "code",
      "source": "vistos_por_area.head()",
      "execution_count": 19,
      "outputs": [
        {
          "output_type": "execute_result",
          "execution_count": 19,
          "data": {
            "text/plain": "nombre_area idpostulante  Administración   ...    Tesorería  Ventas\n0                  0005E             0.0   ...          0.0     0.0\n1                  00Lkv             0.0   ...          0.0     0.0\n2                  00dMd             0.0   ...          0.0     0.0\n3                  01QAq             0.0   ...          0.0     0.0\n4                  021OM             0.0   ...          0.0     0.0\n\n[5 rows x 11 columns]",
            "text/html": "<div>\n<style scoped>\n    .dataframe tbody tr th:only-of-type {\n        vertical-align: middle;\n    }\n\n    .dataframe tbody tr th {\n        vertical-align: top;\n    }\n\n    .dataframe thead th {\n        text-align: right;\n    }\n</style>\n<table border=\"1\" class=\"dataframe\">\n  <thead>\n    <tr style=\"text-align: right;\">\n      <th>nombre_area</th>\n      <th>idpostulante</th>\n      <th>Administración</th>\n      <th>Atención al Cliente</th>\n      <th>Call Center</th>\n      <th>Comercial</th>\n      <th>Otra Area</th>\n      <th>Producción</th>\n      <th>Recepcionista</th>\n      <th>Telemarketing</th>\n      <th>Tesorería</th>\n      <th>Ventas</th>\n    </tr>\n  </thead>\n  <tbody>\n    <tr>\n      <th>0</th>\n      <td>0005E</td>\n      <td>0.0</td>\n      <td>0.0</td>\n      <td>0.0</td>\n      <td>0.0</td>\n      <td>1.0</td>\n      <td>0.0</td>\n      <td>0.0</td>\n      <td>0.0</td>\n      <td>0.0</td>\n      <td>0.0</td>\n    </tr>\n    <tr>\n      <th>1</th>\n      <td>00Lkv</td>\n      <td>0.0</td>\n      <td>0.0</td>\n      <td>0.0</td>\n      <td>0.0</td>\n      <td>1.0</td>\n      <td>0.0</td>\n      <td>0.0</td>\n      <td>0.0</td>\n      <td>0.0</td>\n      <td>0.0</td>\n    </tr>\n    <tr>\n      <th>2</th>\n      <td>00dMd</td>\n      <td>0.0</td>\n      <td>0.0</td>\n      <td>0.0</td>\n      <td>0.0</td>\n      <td>1.0</td>\n      <td>0.0</td>\n      <td>0.0</td>\n      <td>0.0</td>\n      <td>0.0</td>\n      <td>0.0</td>\n    </tr>\n    <tr>\n      <th>3</th>\n      <td>01QAq</td>\n      <td>0.0</td>\n      <td>0.0</td>\n      <td>0.0</td>\n      <td>0.0</td>\n      <td>1.0</td>\n      <td>0.0</td>\n      <td>0.0</td>\n      <td>0.0</td>\n      <td>0.0</td>\n      <td>0.0</td>\n    </tr>\n    <tr>\n      <th>4</th>\n      <td>021OM</td>\n      <td>0.0</td>\n      <td>0.0</td>\n      <td>0.0</td>\n      <td>0.0</td>\n      <td>1.0</td>\n      <td>0.0</td>\n      <td>0.0</td>\n      <td>0.0</td>\n      <td>0.0</td>\n      <td>0.0</td>\n    </tr>\n  </tbody>\n</table>\n</div>"
          },
          "metadata": {}
        }
      ]
    },
    {
      "metadata": {
        "trusted": true,
        "collapsed": true,
        "_uuid": "719ef4f6ffca2311c3f79f376fd8f3536248baa3"
      },
      "cell_type": "code",
      "source": "# POSTULACIONES\npostulaciones = pd.concat([\n    pd.read_csv('../input/datos/fiuba_4_postulaciones.csv'),\n    pd.read_csv('../input/datosdatos/ENTfiuba_4_postulaciones.csv'),\n])",
      "execution_count": 20,
      "outputs": []
    },
    {
      "metadata": {
        "trusted": true,
        "_uuid": "2a1aeac8d2b2790b4e936869242ab4e1839389a3"
      },
      "cell_type": "code",
      "source": "postulaciones.head()",
      "execution_count": 21,
      "outputs": [
        {
          "output_type": "execute_result",
          "execution_count": 21,
          "data": {
            "text/plain": "      idaviso idpostulante     fechapostulacion\n0  1112257047         NM5M  2018-01-15 16:22:34\n1  1111920714         NM5M  2018-02-06 09:04:50\n2  1112346945         NM5M  2018-02-22 09:04:47\n3  1112345547         NM5M  2018-02-22 09:04:59\n4  1112237522         5awk  2018-01-25 18:55:03",
            "text/html": "<div>\n<style scoped>\n    .dataframe tbody tr th:only-of-type {\n        vertical-align: middle;\n    }\n\n    .dataframe tbody tr th {\n        vertical-align: top;\n    }\n\n    .dataframe thead th {\n        text-align: right;\n    }\n</style>\n<table border=\"1\" class=\"dataframe\">\n  <thead>\n    <tr style=\"text-align: right;\">\n      <th></th>\n      <th>idaviso</th>\n      <th>idpostulante</th>\n      <th>fechapostulacion</th>\n    </tr>\n  </thead>\n  <tbody>\n    <tr>\n      <th>0</th>\n      <td>1112257047</td>\n      <td>NM5M</td>\n      <td>2018-01-15 16:22:34</td>\n    </tr>\n    <tr>\n      <th>1</th>\n      <td>1111920714</td>\n      <td>NM5M</td>\n      <td>2018-02-06 09:04:50</td>\n    </tr>\n    <tr>\n      <th>2</th>\n      <td>1112346945</td>\n      <td>NM5M</td>\n      <td>2018-02-22 09:04:47</td>\n    </tr>\n    <tr>\n      <th>3</th>\n      <td>1112345547</td>\n      <td>NM5M</td>\n      <td>2018-02-22 09:04:59</td>\n    </tr>\n    <tr>\n      <th>4</th>\n      <td>1112237522</td>\n      <td>5awk</td>\n      <td>2018-01-25 18:55:03</td>\n    </tr>\n  </tbody>\n</table>\n</div>"
          },
          "metadata": {}
        }
      ]
    },
    {
      "metadata": {
        "trusted": true,
        "_uuid": "31c7ac8dfa1d9e8ac0ffb08c3b8fb128b5447dd8"
      },
      "cell_type": "code",
      "source": "postulaciones = postulaciones[['idaviso', 'idpostulante']]\npostulaciones.head()",
      "execution_count": 22,
      "outputs": [
        {
          "output_type": "execute_result",
          "execution_count": 22,
          "data": {
            "text/plain": "      idaviso idpostulante\n0  1112257047         NM5M\n1  1111920714         NM5M\n2  1112346945         NM5M\n3  1112345547         NM5M\n4  1112237522         5awk",
            "text/html": "<div>\n<style scoped>\n    .dataframe tbody tr th:only-of-type {\n        vertical-align: middle;\n    }\n\n    .dataframe tbody tr th {\n        vertical-align: top;\n    }\n\n    .dataframe thead th {\n        text-align: right;\n    }\n</style>\n<table border=\"1\" class=\"dataframe\">\n  <thead>\n    <tr style=\"text-align: right;\">\n      <th></th>\n      <th>idaviso</th>\n      <th>idpostulante</th>\n    </tr>\n  </thead>\n  <tbody>\n    <tr>\n      <th>0</th>\n      <td>1112257047</td>\n      <td>NM5M</td>\n    </tr>\n    <tr>\n      <th>1</th>\n      <td>1111920714</td>\n      <td>NM5M</td>\n    </tr>\n    <tr>\n      <th>2</th>\n      <td>1112346945</td>\n      <td>NM5M</td>\n    </tr>\n    <tr>\n      <th>3</th>\n      <td>1112345547</td>\n      <td>NM5M</td>\n    </tr>\n    <tr>\n      <th>4</th>\n      <td>1112237522</td>\n      <td>5awk</td>\n    </tr>\n  </tbody>\n</table>\n</div>"
          },
          "metadata": {}
        }
      ]
    },
    {
      "metadata": {
        "trusted": true,
        "_uuid": "8a80c4c0abced9255f40a047a9946b9400d5a6e6"
      },
      "cell_type": "code",
      "source": "postulaciones.drop_duplicates(subset=['idaviso','idpostulante'], inplace=True)\npostulaciones.head()",
      "execution_count": 23,
      "outputs": [
        {
          "output_type": "execute_result",
          "execution_count": 23,
          "data": {
            "text/plain": "      idaviso idpostulante\n0  1112257047         NM5M\n1  1111920714         NM5M\n2  1112346945         NM5M\n3  1112345547         NM5M\n4  1112237522         5awk",
            "text/html": "<div>\n<style scoped>\n    .dataframe tbody tr th:only-of-type {\n        vertical-align: middle;\n    }\n\n    .dataframe tbody tr th {\n        vertical-align: top;\n    }\n\n    .dataframe thead th {\n        text-align: right;\n    }\n</style>\n<table border=\"1\" class=\"dataframe\">\n  <thead>\n    <tr style=\"text-align: right;\">\n      <th></th>\n      <th>idaviso</th>\n      <th>idpostulante</th>\n    </tr>\n  </thead>\n  <tbody>\n    <tr>\n      <th>0</th>\n      <td>1112257047</td>\n      <td>NM5M</td>\n    </tr>\n    <tr>\n      <th>1</th>\n      <td>1111920714</td>\n      <td>NM5M</td>\n    </tr>\n    <tr>\n      <th>2</th>\n      <td>1112346945</td>\n      <td>NM5M</td>\n    </tr>\n    <tr>\n      <th>3</th>\n      <td>1112345547</td>\n      <td>NM5M</td>\n    </tr>\n    <tr>\n      <th>4</th>\n      <td>1112237522</td>\n      <td>5awk</td>\n    </tr>\n  </tbody>\n</table>\n</div>"
          },
          "metadata": {}
        }
      ]
    },
    {
      "metadata": {
        "trusted": true,
        "_uuid": "7c5dc0d46fa1814e76d5373a5b22015489328d1c",
        "collapsed": true
      },
      "cell_type": "code",
      "source": "# obtengo el detalle de cada aviso postulado\navisos_postulados = pd.merge(postulaciones, avisos, on='idaviso', how='left')",
      "execution_count": 24,
      "outputs": []
    },
    {
      "metadata": {
        "trusted": true,
        "_uuid": "ad049e4433a271009ead855b28a8e3f0978b4ab7"
      },
      "cell_type": "code",
      "source": "avisos_postulados.head()",
      "execution_count": 25,
      "outputs": [
        {
          "output_type": "execute_result",
          "execution_count": 25,
          "data": {
            "text/plain": "      idaviso idpostulante          nombre_area\n0  1112257047         NM5M  Atención al Cliente\n1  1111920714         NM5M        Telemarketing\n2  1112346945         NM5M        Telemarketing\n3  1112345547         NM5M        Telemarketing\n4  1112237522         5awk            Otra Area",
            "text/html": "<div>\n<style scoped>\n    .dataframe tbody tr th:only-of-type {\n        vertical-align: middle;\n    }\n\n    .dataframe tbody tr th {\n        vertical-align: top;\n    }\n\n    .dataframe thead th {\n        text-align: right;\n    }\n</style>\n<table border=\"1\" class=\"dataframe\">\n  <thead>\n    <tr style=\"text-align: right;\">\n      <th></th>\n      <th>idaviso</th>\n      <th>idpostulante</th>\n      <th>nombre_area</th>\n    </tr>\n  </thead>\n  <tbody>\n    <tr>\n      <th>0</th>\n      <td>1112257047</td>\n      <td>NM5M</td>\n      <td>Atención al Cliente</td>\n    </tr>\n    <tr>\n      <th>1</th>\n      <td>1111920714</td>\n      <td>NM5M</td>\n      <td>Telemarketing</td>\n    </tr>\n    <tr>\n      <th>2</th>\n      <td>1112346945</td>\n      <td>NM5M</td>\n      <td>Telemarketing</td>\n    </tr>\n    <tr>\n      <th>3</th>\n      <td>1112345547</td>\n      <td>NM5M</td>\n      <td>Telemarketing</td>\n    </tr>\n    <tr>\n      <th>4</th>\n      <td>1112237522</td>\n      <td>5awk</td>\n      <td>Otra Area</td>\n    </tr>\n  </tbody>\n</table>\n</div>"
          },
          "metadata": {}
        }
      ]
    },
    {
      "metadata": {
        "trusted": true,
        "collapsed": true,
        "_uuid": "5cf242cadd79d2e9334cd080868f31c3412b3519"
      },
      "cell_type": "code",
      "source": "#UNO AMBOS",
      "execution_count": 26,
      "outputs": []
    },
    {
      "metadata": {
        "trusted": true,
        "_uuid": "beb868958794d6e84d4be55eaa1392ab1883f837"
      },
      "cell_type": "code",
      "source": "datos = pd.merge(vistos_por_area, avisos_postulados, on='idpostulante', how='inner')\ndatos.head()",
      "execution_count": 27,
      "outputs": [
        {
          "output_type": "execute_result",
          "execution_count": 27,
          "data": {
            "text/plain": "  idpostulante  Administración     ...          idaviso  nombre_area\n0      0z5Dmrd             0.0     ...       1112384041    Otra Area\n1      0z5Dmrd             0.0     ...       1112420060    Otra Area\n2      0z5JW1r             0.0     ...       1112257171    Otra Area\n3      0z5JW1r             0.0     ...       1112281879    Comercial\n4      0z5JW1r             0.0     ...       1112292169    Otra Area\n\n[5 rows x 13 columns]",
            "text/html": "<div>\n<style scoped>\n    .dataframe tbody tr th:only-of-type {\n        vertical-align: middle;\n    }\n\n    .dataframe tbody tr th {\n        vertical-align: top;\n    }\n\n    .dataframe thead th {\n        text-align: right;\n    }\n</style>\n<table border=\"1\" class=\"dataframe\">\n  <thead>\n    <tr style=\"text-align: right;\">\n      <th></th>\n      <th>idpostulante</th>\n      <th>Administración</th>\n      <th>Atención al Cliente</th>\n      <th>Call Center</th>\n      <th>Comercial</th>\n      <th>Otra Area</th>\n      <th>Producción</th>\n      <th>Recepcionista</th>\n      <th>Telemarketing</th>\n      <th>Tesorería</th>\n      <th>Ventas</th>\n      <th>idaviso</th>\n      <th>nombre_area</th>\n    </tr>\n  </thead>\n  <tbody>\n    <tr>\n      <th>0</th>\n      <td>0z5Dmrd</td>\n      <td>0.0</td>\n      <td>0.0</td>\n      <td>0.0</td>\n      <td>0.0</td>\n      <td>4.0</td>\n      <td>0.0</td>\n      <td>0.0</td>\n      <td>0.0</td>\n      <td>0.0</td>\n      <td>0.0</td>\n      <td>1112384041</td>\n      <td>Otra Area</td>\n    </tr>\n    <tr>\n      <th>1</th>\n      <td>0z5Dmrd</td>\n      <td>0.0</td>\n      <td>0.0</td>\n      <td>0.0</td>\n      <td>0.0</td>\n      <td>4.0</td>\n      <td>0.0</td>\n      <td>0.0</td>\n      <td>0.0</td>\n      <td>0.0</td>\n      <td>0.0</td>\n      <td>1112420060</td>\n      <td>Otra Area</td>\n    </tr>\n    <tr>\n      <th>2</th>\n      <td>0z5JW1r</td>\n      <td>0.0</td>\n      <td>0.0</td>\n      <td>0.0</td>\n      <td>0.0</td>\n      <td>6.0</td>\n      <td>0.0</td>\n      <td>0.0</td>\n      <td>0.0</td>\n      <td>0.0</td>\n      <td>2.0</td>\n      <td>1112257171</td>\n      <td>Otra Area</td>\n    </tr>\n    <tr>\n      <th>3</th>\n      <td>0z5JW1r</td>\n      <td>0.0</td>\n      <td>0.0</td>\n      <td>0.0</td>\n      <td>0.0</td>\n      <td>6.0</td>\n      <td>0.0</td>\n      <td>0.0</td>\n      <td>0.0</td>\n      <td>0.0</td>\n      <td>2.0</td>\n      <td>1112281879</td>\n      <td>Comercial</td>\n    </tr>\n    <tr>\n      <th>4</th>\n      <td>0z5JW1r</td>\n      <td>0.0</td>\n      <td>0.0</td>\n      <td>0.0</td>\n      <td>0.0</td>\n      <td>6.0</td>\n      <td>0.0</td>\n      <td>0.0</td>\n      <td>0.0</td>\n      <td>0.0</td>\n      <td>2.0</td>\n      <td>1112292169</td>\n      <td>Otra Area</td>\n    </tr>\n  </tbody>\n</table>\n</div>"
          },
          "metadata": {}
        }
      ]
    },
    {
      "metadata": {
        "trusted": true,
        "collapsed": true,
        "_uuid": "7a95cbc7d1f3e01c21ba84b7802199aadcc524ea"
      },
      "cell_type": "code",
      "source": "# 1 POSTULA\n# 0 no postula",
      "execution_count": 28,
      "outputs": []
    },
    {
      "metadata": {
        "trusted": true,
        "collapsed": true,
        "_uuid": "b9152adab78a57450963f3d77a2592ff3dd33fdc"
      },
      "cell_type": "code",
      "source": "datos['clase'] = 1",
      "execution_count": 29,
      "outputs": []
    },
    {
      "metadata": {
        "trusted": true,
        "_uuid": "ae73438e9974667015fd3b55b6a5aaae4ab4061a"
      },
      "cell_type": "code",
      "source": "datos.info()",
      "execution_count": 30,
      "outputs": [
        {
          "output_type": "stream",
          "text": "<class 'pandas.core.frame.DataFrame'>\nInt64Index: 5452123 entries, 0 to 5452122\nData columns (total 14 columns):\nidpostulante           object\nAdministración         float64\nAtención al Cliente    float64\nCall Center            float64\nComercial              float64\nOtra Area              float64\nProducción             float64\nRecepcionista          float64\nTelemarketing          float64\nTesorería              float64\nVentas                 float64\nidaviso                int64\nnombre_area            object\nclase                  int64\ndtypes: float64(10), int64(2), object(2)\nmemory usage: 623.9+ MB\n",
          "name": "stdout"
        }
      ]
    },
    {
      "metadata": {
        "trusted": true,
        "collapsed": true,
        "_uuid": "70bf8877c5c711ed6e329d2ae35b5afb9fd4d0dc"
      },
      "cell_type": "code",
      "source": "# CREO NO_POSTULACIONES",
      "execution_count": 31,
      "outputs": []
    },
    {
      "metadata": {
        "trusted": true,
        "_uuid": "573d9134ebca137eb721cfec5360dbcd94523770"
      },
      "cell_type": "code",
      "source": "avisos.head()",
      "execution_count": 32,
      "outputs": [
        {
          "output_type": "execute_result",
          "execution_count": 32,
          "data": {
            "text/plain": "      idaviso nombre_area\n0     8725750   Comercial\n1    17903700   Otra Area\n2  1000150677   Otra Area\n3  1000610287   Otra Area\n4  1000872556  Producción",
            "text/html": "<div>\n<style scoped>\n    .dataframe tbody tr th:only-of-type {\n        vertical-align: middle;\n    }\n\n    .dataframe tbody tr th {\n        vertical-align: top;\n    }\n\n    .dataframe thead th {\n        text-align: right;\n    }\n</style>\n<table border=\"1\" class=\"dataframe\">\n  <thead>\n    <tr style=\"text-align: right;\">\n      <th></th>\n      <th>idaviso</th>\n      <th>nombre_area</th>\n    </tr>\n  </thead>\n  <tbody>\n    <tr>\n      <th>0</th>\n      <td>8725750</td>\n      <td>Comercial</td>\n    </tr>\n    <tr>\n      <th>1</th>\n      <td>17903700</td>\n      <td>Otra Area</td>\n    </tr>\n    <tr>\n      <th>2</th>\n      <td>1000150677</td>\n      <td>Otra Area</td>\n    </tr>\n    <tr>\n      <th>3</th>\n      <td>1000610287</td>\n      <td>Otra Area</td>\n    </tr>\n    <tr>\n      <th>4</th>\n      <td>1000872556</td>\n      <td>Producción</td>\n    </tr>\n  </tbody>\n</table>\n</div>"
          },
          "metadata": {}
        }
      ]
    },
    {
      "metadata": {
        "trusted": true,
        "collapsed": true,
        "_uuid": "daafe9702060fda5528cd9f15f791971b5463426"
      },
      "cell_type": "code",
      "source": "avisos_random = avisos.sample(500000, replace=True)",
      "execution_count": 33,
      "outputs": []
    },
    {
      "metadata": {
        "trusted": true,
        "_uuid": "9a244308eba4317bd7164f73fd93d4ac0592eea5"
      },
      "cell_type": "code",
      "source": "avisos_random.head()",
      "execution_count": 34,
      "outputs": [
        {
          "output_type": "execute_result",
          "execution_count": 34,
          "data": {
            "text/plain": "          idaviso nombre_area\n4306   1112296964   Otra Area\n13631  1112404200   Otra Area\n11084  1111944757   Otra Area\n3958   1112191370   Otra Area\n8356   1112484846   Otra Area",
            "text/html": "<div>\n<style scoped>\n    .dataframe tbody tr th:only-of-type {\n        vertical-align: middle;\n    }\n\n    .dataframe tbody tr th {\n        vertical-align: top;\n    }\n\n    .dataframe thead th {\n        text-align: right;\n    }\n</style>\n<table border=\"1\" class=\"dataframe\">\n  <thead>\n    <tr style=\"text-align: right;\">\n      <th></th>\n      <th>idaviso</th>\n      <th>nombre_area</th>\n    </tr>\n  </thead>\n  <tbody>\n    <tr>\n      <th>4306</th>\n      <td>1112296964</td>\n      <td>Otra Area</td>\n    </tr>\n    <tr>\n      <th>13631</th>\n      <td>1112404200</td>\n      <td>Otra Area</td>\n    </tr>\n    <tr>\n      <th>11084</th>\n      <td>1111944757</td>\n      <td>Otra Area</td>\n    </tr>\n    <tr>\n      <th>3958</th>\n      <td>1112191370</td>\n      <td>Otra Area</td>\n    </tr>\n    <tr>\n      <th>8356</th>\n      <td>1112484846</td>\n      <td>Otra Area</td>\n    </tr>\n  </tbody>\n</table>\n</div>"
          },
          "metadata": {}
        }
      ]
    },
    {
      "metadata": {
        "trusted": true,
        "_uuid": "b7d9afa9341a9f93b092615d614eb6423a50aaa0"
      },
      "cell_type": "code",
      "source": "avisos_random.reset_index(inplace=True)\navisos_random.head()",
      "execution_count": 35,
      "outputs": [
        {
          "output_type": "execute_result",
          "execution_count": 35,
          "data": {
            "text/plain": "   index     idaviso nombre_area\n0   4306  1112296964   Otra Area\n1  13631  1112404200   Otra Area\n2  11084  1111944757   Otra Area\n3   3958  1112191370   Otra Area\n4   8356  1112484846   Otra Area",
            "text/html": "<div>\n<style scoped>\n    .dataframe tbody tr th:only-of-type {\n        vertical-align: middle;\n    }\n\n    .dataframe tbody tr th {\n        vertical-align: top;\n    }\n\n    .dataframe thead th {\n        text-align: right;\n    }\n</style>\n<table border=\"1\" class=\"dataframe\">\n  <thead>\n    <tr style=\"text-align: right;\">\n      <th></th>\n      <th>index</th>\n      <th>idaviso</th>\n      <th>nombre_area</th>\n    </tr>\n  </thead>\n  <tbody>\n    <tr>\n      <th>0</th>\n      <td>4306</td>\n      <td>1112296964</td>\n      <td>Otra Area</td>\n    </tr>\n    <tr>\n      <th>1</th>\n      <td>13631</td>\n      <td>1112404200</td>\n      <td>Otra Area</td>\n    </tr>\n    <tr>\n      <th>2</th>\n      <td>11084</td>\n      <td>1111944757</td>\n      <td>Otra Area</td>\n    </tr>\n    <tr>\n      <th>3</th>\n      <td>3958</td>\n      <td>1112191370</td>\n      <td>Otra Area</td>\n    </tr>\n    <tr>\n      <th>4</th>\n      <td>8356</td>\n      <td>1112484846</td>\n      <td>Otra Area</td>\n    </tr>\n  </tbody>\n</table>\n</div>"
          },
          "metadata": {}
        }
      ]
    },
    {
      "metadata": {
        "trusted": true,
        "_uuid": "6f082b6a2e30ebaae1c876cca6d78c220d9df7f5"
      },
      "cell_type": "code",
      "source": "avisos_random.drop(columns='index', inplace=True)\navisos_random.head()",
      "execution_count": 36,
      "outputs": [
        {
          "output_type": "execute_result",
          "execution_count": 36,
          "data": {
            "text/plain": "      idaviso nombre_area\n0  1112296964   Otra Area\n1  1112404200   Otra Area\n2  1111944757   Otra Area\n3  1112191370   Otra Area\n4  1112484846   Otra Area",
            "text/html": "<div>\n<style scoped>\n    .dataframe tbody tr th:only-of-type {\n        vertical-align: middle;\n    }\n\n    .dataframe tbody tr th {\n        vertical-align: top;\n    }\n\n    .dataframe thead th {\n        text-align: right;\n    }\n</style>\n<table border=\"1\" class=\"dataframe\">\n  <thead>\n    <tr style=\"text-align: right;\">\n      <th></th>\n      <th>idaviso</th>\n      <th>nombre_area</th>\n    </tr>\n  </thead>\n  <tbody>\n    <tr>\n      <th>0</th>\n      <td>1112296964</td>\n      <td>Otra Area</td>\n    </tr>\n    <tr>\n      <th>1</th>\n      <td>1112404200</td>\n      <td>Otra Area</td>\n    </tr>\n    <tr>\n      <th>2</th>\n      <td>1111944757</td>\n      <td>Otra Area</td>\n    </tr>\n    <tr>\n      <th>3</th>\n      <td>1112191370</td>\n      <td>Otra Area</td>\n    </tr>\n    <tr>\n      <th>4</th>\n      <td>1112484846</td>\n      <td>Otra Area</td>\n    </tr>\n  </tbody>\n</table>\n</div>"
          },
          "metadata": {}
        }
      ]
    },
    {
      "metadata": {
        "trusted": true,
        "_uuid": "d33fda82019b282b52d03ea3ab865867d6effe30"
      },
      "cell_type": "code",
      "source": "vistos_por_area.head()",
      "execution_count": 37,
      "outputs": [
        {
          "output_type": "execute_result",
          "execution_count": 37,
          "data": {
            "text/plain": "nombre_area idpostulante  Administración   ...    Tesorería  Ventas\n0                  0005E             0.0   ...          0.0     0.0\n1                  00Lkv             0.0   ...          0.0     0.0\n2                  00dMd             0.0   ...          0.0     0.0\n3                  01QAq             0.0   ...          0.0     0.0\n4                  021OM             0.0   ...          0.0     0.0\n\n[5 rows x 11 columns]",
            "text/html": "<div>\n<style scoped>\n    .dataframe tbody tr th:only-of-type {\n        vertical-align: middle;\n    }\n\n    .dataframe tbody tr th {\n        vertical-align: top;\n    }\n\n    .dataframe thead th {\n        text-align: right;\n    }\n</style>\n<table border=\"1\" class=\"dataframe\">\n  <thead>\n    <tr style=\"text-align: right;\">\n      <th>nombre_area</th>\n      <th>idpostulante</th>\n      <th>Administración</th>\n      <th>Atención al Cliente</th>\n      <th>Call Center</th>\n      <th>Comercial</th>\n      <th>Otra Area</th>\n      <th>Producción</th>\n      <th>Recepcionista</th>\n      <th>Telemarketing</th>\n      <th>Tesorería</th>\n      <th>Ventas</th>\n    </tr>\n  </thead>\n  <tbody>\n    <tr>\n      <th>0</th>\n      <td>0005E</td>\n      <td>0.0</td>\n      <td>0.0</td>\n      <td>0.0</td>\n      <td>0.0</td>\n      <td>1.0</td>\n      <td>0.0</td>\n      <td>0.0</td>\n      <td>0.0</td>\n      <td>0.0</td>\n      <td>0.0</td>\n    </tr>\n    <tr>\n      <th>1</th>\n      <td>00Lkv</td>\n      <td>0.0</td>\n      <td>0.0</td>\n      <td>0.0</td>\n      <td>0.0</td>\n      <td>1.0</td>\n      <td>0.0</td>\n      <td>0.0</td>\n      <td>0.0</td>\n      <td>0.0</td>\n      <td>0.0</td>\n    </tr>\n    <tr>\n      <th>2</th>\n      <td>00dMd</td>\n      <td>0.0</td>\n      <td>0.0</td>\n      <td>0.0</td>\n      <td>0.0</td>\n      <td>1.0</td>\n      <td>0.0</td>\n      <td>0.0</td>\n      <td>0.0</td>\n      <td>0.0</td>\n      <td>0.0</td>\n    </tr>\n    <tr>\n      <th>3</th>\n      <td>01QAq</td>\n      <td>0.0</td>\n      <td>0.0</td>\n      <td>0.0</td>\n      <td>0.0</td>\n      <td>1.0</td>\n      <td>0.0</td>\n      <td>0.0</td>\n      <td>0.0</td>\n      <td>0.0</td>\n      <td>0.0</td>\n    </tr>\n    <tr>\n      <th>4</th>\n      <td>021OM</td>\n      <td>0.0</td>\n      <td>0.0</td>\n      <td>0.0</td>\n      <td>0.0</td>\n      <td>1.0</td>\n      <td>0.0</td>\n      <td>0.0</td>\n      <td>0.0</td>\n      <td>0.0</td>\n      <td>0.0</td>\n    </tr>\n  </tbody>\n</table>\n</div>"
          },
          "metadata": {}
        }
      ]
    },
    {
      "metadata": {
        "trusted": true,
        "_uuid": "0c6172ce05d4dd5f85f821b1e17904058777b09b",
        "collapsed": true
      },
      "cell_type": "code",
      "source": "vistos_por_area_random = vistos_por_area.sample(500000, replace=True)",
      "execution_count": 38,
      "outputs": []
    },
    {
      "metadata": {
        "trusted": true,
        "_uuid": "6b4501cb76c87a58239019acc728f335c732abe9",
        "collapsed": true
      },
      "cell_type": "code",
      "source": "vistos_por_area_random = vistos_por_area_random.reset_index()",
      "execution_count": 39,
      "outputs": []
    },
    {
      "metadata": {
        "trusted": true,
        "_uuid": "ca82a011fed26445bb58e16c822af0fd4d42f087",
        "collapsed": true
      },
      "cell_type": "code",
      "source": "vistos_por_area_random.drop(columns='index', inplace=True)",
      "execution_count": 40,
      "outputs": []
    },
    {
      "metadata": {
        "trusted": true,
        "_uuid": "c9149a43a9f46fd7bd0dec77b0eef39740c80e2a"
      },
      "cell_type": "code",
      "source": "vistos_por_area_random.head()",
      "execution_count": 41,
      "outputs": [
        {
          "output_type": "execute_result",
          "execution_count": 41,
          "data": {
            "text/plain": "nombre_area idpostulante  Administración   ...    Tesorería  Ventas\n0                 mYwXzQ             0.0   ...          0.0     0.0\n1                Eze8lRo             0.0   ...          1.0     4.0\n2                A36O2ej             0.0   ...          0.0     0.0\n3                EzZ80bz             0.0   ...          0.0     0.0\n4                 EkKbq4             3.0   ...          0.0     1.0\n\n[5 rows x 11 columns]",
            "text/html": "<div>\n<style scoped>\n    .dataframe tbody tr th:only-of-type {\n        vertical-align: middle;\n    }\n\n    .dataframe tbody tr th {\n        vertical-align: top;\n    }\n\n    .dataframe thead th {\n        text-align: right;\n    }\n</style>\n<table border=\"1\" class=\"dataframe\">\n  <thead>\n    <tr style=\"text-align: right;\">\n      <th>nombre_area</th>\n      <th>idpostulante</th>\n      <th>Administración</th>\n      <th>Atención al Cliente</th>\n      <th>Call Center</th>\n      <th>Comercial</th>\n      <th>Otra Area</th>\n      <th>Producción</th>\n      <th>Recepcionista</th>\n      <th>Telemarketing</th>\n      <th>Tesorería</th>\n      <th>Ventas</th>\n    </tr>\n  </thead>\n  <tbody>\n    <tr>\n      <th>0</th>\n      <td>mYwXzQ</td>\n      <td>0.0</td>\n      <td>0.0</td>\n      <td>0.0</td>\n      <td>0.0</td>\n      <td>1.0</td>\n      <td>0.0</td>\n      <td>0.0</td>\n      <td>0.0</td>\n      <td>0.0</td>\n      <td>0.0</td>\n    </tr>\n    <tr>\n      <th>1</th>\n      <td>Eze8lRo</td>\n      <td>0.0</td>\n      <td>2.0</td>\n      <td>0.0</td>\n      <td>1.0</td>\n      <td>6.0</td>\n      <td>1.0</td>\n      <td>0.0</td>\n      <td>0.0</td>\n      <td>1.0</td>\n      <td>4.0</td>\n    </tr>\n    <tr>\n      <th>2</th>\n      <td>A36O2ej</td>\n      <td>0.0</td>\n      <td>0.0</td>\n      <td>0.0</td>\n      <td>0.0</td>\n      <td>1.0</td>\n      <td>0.0</td>\n      <td>2.0</td>\n      <td>0.0</td>\n      <td>0.0</td>\n      <td>0.0</td>\n    </tr>\n    <tr>\n      <th>3</th>\n      <td>EzZ80bz</td>\n      <td>0.0</td>\n      <td>0.0</td>\n      <td>0.0</td>\n      <td>1.0</td>\n      <td>0.0</td>\n      <td>0.0</td>\n      <td>0.0</td>\n      <td>0.0</td>\n      <td>0.0</td>\n      <td>0.0</td>\n    </tr>\n    <tr>\n      <th>4</th>\n      <td>EkKbq4</td>\n      <td>3.0</td>\n      <td>2.0</td>\n      <td>0.0</td>\n      <td>1.0</td>\n      <td>6.0</td>\n      <td>0.0</td>\n      <td>1.0</td>\n      <td>0.0</td>\n      <td>0.0</td>\n      <td>1.0</td>\n    </tr>\n  </tbody>\n</table>\n</div>"
          },
          "metadata": {}
        }
      ]
    },
    {
      "metadata": {
        "trusted": true,
        "_uuid": "10d1b0aa48611c532a669784a216e18769b4825d",
        "collapsed": true
      },
      "cell_type": "code",
      "source": "# los juntos\ndatos_no_postulados = pd.concat([vistos_por_area_random, avisos_random], axis=1)",
      "execution_count": 42,
      "outputs": []
    },
    {
      "metadata": {
        "trusted": true,
        "_uuid": "497be451ea9fcdea24f9b1ff111c35be4f0ffdcd",
        "scrolled": true
      },
      "cell_type": "code",
      "source": "datos_no_postulados.head()",
      "execution_count": 43,
      "outputs": [
        {
          "output_type": "execute_result",
          "execution_count": 43,
          "data": {
            "text/plain": "  idpostulante  Administración     ...          idaviso  nombre_area\n0       mYwXzQ             0.0     ...       1112296964    Otra Area\n1      Eze8lRo             0.0     ...       1112404200    Otra Area\n2      A36O2ej             0.0     ...       1111944757    Otra Area\n3      EzZ80bz             0.0     ...       1112191370    Otra Area\n4       EkKbq4             3.0     ...       1112484846    Otra Area\n\n[5 rows x 13 columns]",
            "text/html": "<div>\n<style scoped>\n    .dataframe tbody tr th:only-of-type {\n        vertical-align: middle;\n    }\n\n    .dataframe tbody tr th {\n        vertical-align: top;\n    }\n\n    .dataframe thead th {\n        text-align: right;\n    }\n</style>\n<table border=\"1\" class=\"dataframe\">\n  <thead>\n    <tr style=\"text-align: right;\">\n      <th></th>\n      <th>idpostulante</th>\n      <th>Administración</th>\n      <th>Atención al Cliente</th>\n      <th>Call Center</th>\n      <th>Comercial</th>\n      <th>Otra Area</th>\n      <th>Producción</th>\n      <th>Recepcionista</th>\n      <th>Telemarketing</th>\n      <th>Tesorería</th>\n      <th>Ventas</th>\n      <th>idaviso</th>\n      <th>nombre_area</th>\n    </tr>\n  </thead>\n  <tbody>\n    <tr>\n      <th>0</th>\n      <td>mYwXzQ</td>\n      <td>0.0</td>\n      <td>0.0</td>\n      <td>0.0</td>\n      <td>0.0</td>\n      <td>1.0</td>\n      <td>0.0</td>\n      <td>0.0</td>\n      <td>0.0</td>\n      <td>0.0</td>\n      <td>0.0</td>\n      <td>1112296964</td>\n      <td>Otra Area</td>\n    </tr>\n    <tr>\n      <th>1</th>\n      <td>Eze8lRo</td>\n      <td>0.0</td>\n      <td>2.0</td>\n      <td>0.0</td>\n      <td>1.0</td>\n      <td>6.0</td>\n      <td>1.0</td>\n      <td>0.0</td>\n      <td>0.0</td>\n      <td>1.0</td>\n      <td>4.0</td>\n      <td>1112404200</td>\n      <td>Otra Area</td>\n    </tr>\n    <tr>\n      <th>2</th>\n      <td>A36O2ej</td>\n      <td>0.0</td>\n      <td>0.0</td>\n      <td>0.0</td>\n      <td>0.0</td>\n      <td>1.0</td>\n      <td>0.0</td>\n      <td>2.0</td>\n      <td>0.0</td>\n      <td>0.0</td>\n      <td>0.0</td>\n      <td>1111944757</td>\n      <td>Otra Area</td>\n    </tr>\n    <tr>\n      <th>3</th>\n      <td>EzZ80bz</td>\n      <td>0.0</td>\n      <td>0.0</td>\n      <td>0.0</td>\n      <td>1.0</td>\n      <td>0.0</td>\n      <td>0.0</td>\n      <td>0.0</td>\n      <td>0.0</td>\n      <td>0.0</td>\n      <td>0.0</td>\n      <td>1112191370</td>\n      <td>Otra Area</td>\n    </tr>\n    <tr>\n      <th>4</th>\n      <td>EkKbq4</td>\n      <td>3.0</td>\n      <td>2.0</td>\n      <td>0.0</td>\n      <td>1.0</td>\n      <td>6.0</td>\n      <td>0.0</td>\n      <td>1.0</td>\n      <td>0.0</td>\n      <td>0.0</td>\n      <td>1.0</td>\n      <td>1112484846</td>\n      <td>Otra Area</td>\n    </tr>\n  </tbody>\n</table>\n</div>"
          },
          "metadata": {}
        }
      ]
    },
    {
      "metadata": {
        "trusted": true,
        "collapsed": true,
        "_uuid": "e39fe1adc9051930d05d8dda5a00148aa47e60ac"
      },
      "cell_type": "code",
      "source": "# 0 no postulado\ndatos_no_postulados['clase'] = 0",
      "execution_count": 44,
      "outputs": []
    },
    {
      "metadata": {
        "trusted": true,
        "_uuid": "e1e0c1bb2f650bec7225c54a4b79d42678d2f959",
        "collapsed": true
      },
      "cell_type": "code",
      "source": "# Finalmente uno ambos\ndatos_ml = pd.concat([datos, datos_no_postulados], axis=0)",
      "execution_count": 45,
      "outputs": []
    },
    {
      "metadata": {
        "trusted": true,
        "_uuid": "99ea5b7748a90b2276aecf5a0d103e5bb4319af1"
      },
      "cell_type": "code",
      "source": "datos_ml.head()",
      "execution_count": 46,
      "outputs": [
        {
          "output_type": "execute_result",
          "execution_count": 46,
          "data": {
            "text/plain": "  idpostulante  Administración  ...    nombre_area  clase\n0      0z5Dmrd             0.0  ...      Otra Area      1\n1      0z5Dmrd             0.0  ...      Otra Area      1\n2      0z5JW1r             0.0  ...      Otra Area      1\n3      0z5JW1r             0.0  ...      Comercial      1\n4      0z5JW1r             0.0  ...      Otra Area      1\n\n[5 rows x 14 columns]",
            "text/html": "<div>\n<style scoped>\n    .dataframe tbody tr th:only-of-type {\n        vertical-align: middle;\n    }\n\n    .dataframe tbody tr th {\n        vertical-align: top;\n    }\n\n    .dataframe thead th {\n        text-align: right;\n    }\n</style>\n<table border=\"1\" class=\"dataframe\">\n  <thead>\n    <tr style=\"text-align: right;\">\n      <th></th>\n      <th>idpostulante</th>\n      <th>Administración</th>\n      <th>Atención al Cliente</th>\n      <th>Call Center</th>\n      <th>Comercial</th>\n      <th>Otra Area</th>\n      <th>Producción</th>\n      <th>Recepcionista</th>\n      <th>Telemarketing</th>\n      <th>Tesorería</th>\n      <th>Ventas</th>\n      <th>idaviso</th>\n      <th>nombre_area</th>\n      <th>clase</th>\n    </tr>\n  </thead>\n  <tbody>\n    <tr>\n      <th>0</th>\n      <td>0z5Dmrd</td>\n      <td>0.0</td>\n      <td>0.0</td>\n      <td>0.0</td>\n      <td>0.0</td>\n      <td>4.0</td>\n      <td>0.0</td>\n      <td>0.0</td>\n      <td>0.0</td>\n      <td>0.0</td>\n      <td>0.0</td>\n      <td>1112384041</td>\n      <td>Otra Area</td>\n      <td>1</td>\n    </tr>\n    <tr>\n      <th>1</th>\n      <td>0z5Dmrd</td>\n      <td>0.0</td>\n      <td>0.0</td>\n      <td>0.0</td>\n      <td>0.0</td>\n      <td>4.0</td>\n      <td>0.0</td>\n      <td>0.0</td>\n      <td>0.0</td>\n      <td>0.0</td>\n      <td>0.0</td>\n      <td>1112420060</td>\n      <td>Otra Area</td>\n      <td>1</td>\n    </tr>\n    <tr>\n      <th>2</th>\n      <td>0z5JW1r</td>\n      <td>0.0</td>\n      <td>0.0</td>\n      <td>0.0</td>\n      <td>0.0</td>\n      <td>6.0</td>\n      <td>0.0</td>\n      <td>0.0</td>\n      <td>0.0</td>\n      <td>0.0</td>\n      <td>2.0</td>\n      <td>1112257171</td>\n      <td>Otra Area</td>\n      <td>1</td>\n    </tr>\n    <tr>\n      <th>3</th>\n      <td>0z5JW1r</td>\n      <td>0.0</td>\n      <td>0.0</td>\n      <td>0.0</td>\n      <td>0.0</td>\n      <td>6.0</td>\n      <td>0.0</td>\n      <td>0.0</td>\n      <td>0.0</td>\n      <td>0.0</td>\n      <td>2.0</td>\n      <td>1112281879</td>\n      <td>Comercial</td>\n      <td>1</td>\n    </tr>\n    <tr>\n      <th>4</th>\n      <td>0z5JW1r</td>\n      <td>0.0</td>\n      <td>0.0</td>\n      <td>0.0</td>\n      <td>0.0</td>\n      <td>6.0</td>\n      <td>0.0</td>\n      <td>0.0</td>\n      <td>0.0</td>\n      <td>0.0</td>\n      <td>2.0</td>\n      <td>1112292169</td>\n      <td>Otra Area</td>\n      <td>1</td>\n    </tr>\n  </tbody>\n</table>\n</div>"
          },
          "metadata": {}
        }
      ]
    },
    {
      "metadata": {
        "trusted": true,
        "collapsed": true,
        "_uuid": "c94f35ed4fada584fc935ed1b4421e06a478d000"
      },
      "cell_type": "code",
      "source": "# Elimino duplicados, pero quedandome con los POSTULADOS\ndatos_ml.drop_duplicates(subset=['idpostulante', 'idaviso'], inplace=True)",
      "execution_count": 47,
      "outputs": []
    },
    {
      "metadata": {
        "trusted": true,
        "_uuid": "c4a41863601ff2592ead4e1b0fae1ba2250977e2"
      },
      "cell_type": "code",
      "source": "datos_ml.head()",
      "execution_count": 48,
      "outputs": [
        {
          "output_type": "execute_result",
          "execution_count": 48,
          "data": {
            "text/plain": "  idpostulante  Administración  ...    nombre_area  clase\n0      0z5Dmrd             0.0  ...      Otra Area      1\n1      0z5Dmrd             0.0  ...      Otra Area      1\n2      0z5JW1r             0.0  ...      Otra Area      1\n3      0z5JW1r             0.0  ...      Comercial      1\n4      0z5JW1r             0.0  ...      Otra Area      1\n\n[5 rows x 14 columns]",
            "text/html": "<div>\n<style scoped>\n    .dataframe tbody tr th:only-of-type {\n        vertical-align: middle;\n    }\n\n    .dataframe tbody tr th {\n        vertical-align: top;\n    }\n\n    .dataframe thead th {\n        text-align: right;\n    }\n</style>\n<table border=\"1\" class=\"dataframe\">\n  <thead>\n    <tr style=\"text-align: right;\">\n      <th></th>\n      <th>idpostulante</th>\n      <th>Administración</th>\n      <th>Atención al Cliente</th>\n      <th>Call Center</th>\n      <th>Comercial</th>\n      <th>Otra Area</th>\n      <th>Producción</th>\n      <th>Recepcionista</th>\n      <th>Telemarketing</th>\n      <th>Tesorería</th>\n      <th>Ventas</th>\n      <th>idaviso</th>\n      <th>nombre_area</th>\n      <th>clase</th>\n    </tr>\n  </thead>\n  <tbody>\n    <tr>\n      <th>0</th>\n      <td>0z5Dmrd</td>\n      <td>0.0</td>\n      <td>0.0</td>\n      <td>0.0</td>\n      <td>0.0</td>\n      <td>4.0</td>\n      <td>0.0</td>\n      <td>0.0</td>\n      <td>0.0</td>\n      <td>0.0</td>\n      <td>0.0</td>\n      <td>1112384041</td>\n      <td>Otra Area</td>\n      <td>1</td>\n    </tr>\n    <tr>\n      <th>1</th>\n      <td>0z5Dmrd</td>\n      <td>0.0</td>\n      <td>0.0</td>\n      <td>0.0</td>\n      <td>0.0</td>\n      <td>4.0</td>\n      <td>0.0</td>\n      <td>0.0</td>\n      <td>0.0</td>\n      <td>0.0</td>\n      <td>0.0</td>\n      <td>1112420060</td>\n      <td>Otra Area</td>\n      <td>1</td>\n    </tr>\n    <tr>\n      <th>2</th>\n      <td>0z5JW1r</td>\n      <td>0.0</td>\n      <td>0.0</td>\n      <td>0.0</td>\n      <td>0.0</td>\n      <td>6.0</td>\n      <td>0.0</td>\n      <td>0.0</td>\n      <td>0.0</td>\n      <td>0.0</td>\n      <td>2.0</td>\n      <td>1112257171</td>\n      <td>Otra Area</td>\n      <td>1</td>\n    </tr>\n    <tr>\n      <th>3</th>\n      <td>0z5JW1r</td>\n      <td>0.0</td>\n      <td>0.0</td>\n      <td>0.0</td>\n      <td>0.0</td>\n      <td>6.0</td>\n      <td>0.0</td>\n      <td>0.0</td>\n      <td>0.0</td>\n      <td>0.0</td>\n      <td>2.0</td>\n      <td>1112281879</td>\n      <td>Comercial</td>\n      <td>1</td>\n    </tr>\n    <tr>\n      <th>4</th>\n      <td>0z5JW1r</td>\n      <td>0.0</td>\n      <td>0.0</td>\n      <td>0.0</td>\n      <td>0.0</td>\n      <td>6.0</td>\n      <td>0.0</td>\n      <td>0.0</td>\n      <td>0.0</td>\n      <td>0.0</td>\n      <td>2.0</td>\n      <td>1112292169</td>\n      <td>Otra Area</td>\n      <td>1</td>\n    </tr>\n  </tbody>\n</table>\n</div>"
          },
          "metadata": {}
        }
      ]
    },
    {
      "metadata": {
        "trusted": true,
        "_uuid": "4ad9781b9ffe10067f936e561e657410bfc9c56d",
        "collapsed": true
      },
      "cell_type": "code",
      "source": "# ULTIMO: Decision Tree no acepta categoricos.\ndummies_area = pd.get_dummies(datos_ml['nombre_area'])",
      "execution_count": 49,
      "outputs": []
    },
    {
      "metadata": {
        "trusted": true,
        "_uuid": "7fe04f71ee17e421346152551624f1f21a0c442c"
      },
      "cell_type": "code",
      "source": "datos_ml.columns = ['idpostulante', 'vistas Administración', 'vistas Atención al Cliente',\n                    'vistas Call Center', 'vistas Comercial', 'vistas Otra Area', \n                    'vistas Producción', 'vistas Recepcionista', ' vistas Telemarketing',\n                    'vistas Tesorería', 'vistas Ventas',  'idaviso', 'nombre_area',\n                    'clase']\ndatos_ml.head()",
      "execution_count": 50,
      "outputs": [
        {
          "output_type": "execute_result",
          "execution_count": 50,
          "data": {
            "text/plain": "  idpostulante  vistas Administración  ...    nombre_area  clase\n0      0z5Dmrd                    0.0  ...      Otra Area      1\n1      0z5Dmrd                    0.0  ...      Otra Area      1\n2      0z5JW1r                    0.0  ...      Otra Area      1\n3      0z5JW1r                    0.0  ...      Comercial      1\n4      0z5JW1r                    0.0  ...      Otra Area      1\n\n[5 rows x 14 columns]",
            "text/html": "<div>\n<style scoped>\n    .dataframe tbody tr th:only-of-type {\n        vertical-align: middle;\n    }\n\n    .dataframe tbody tr th {\n        vertical-align: top;\n    }\n\n    .dataframe thead th {\n        text-align: right;\n    }\n</style>\n<table border=\"1\" class=\"dataframe\">\n  <thead>\n    <tr style=\"text-align: right;\">\n      <th></th>\n      <th>idpostulante</th>\n      <th>vistas Administración</th>\n      <th>vistas Atención al Cliente</th>\n      <th>vistas Call Center</th>\n      <th>vistas Comercial</th>\n      <th>vistas Otra Area</th>\n      <th>vistas Producción</th>\n      <th>vistas Recepcionista</th>\n      <th>vistas Telemarketing</th>\n      <th>vistas Tesorería</th>\n      <th>vistas Ventas</th>\n      <th>idaviso</th>\n      <th>nombre_area</th>\n      <th>clase</th>\n    </tr>\n  </thead>\n  <tbody>\n    <tr>\n      <th>0</th>\n      <td>0z5Dmrd</td>\n      <td>0.0</td>\n      <td>0.0</td>\n      <td>0.0</td>\n      <td>0.0</td>\n      <td>4.0</td>\n      <td>0.0</td>\n      <td>0.0</td>\n      <td>0.0</td>\n      <td>0.0</td>\n      <td>0.0</td>\n      <td>1112384041</td>\n      <td>Otra Area</td>\n      <td>1</td>\n    </tr>\n    <tr>\n      <th>1</th>\n      <td>0z5Dmrd</td>\n      <td>0.0</td>\n      <td>0.0</td>\n      <td>0.0</td>\n      <td>0.0</td>\n      <td>4.0</td>\n      <td>0.0</td>\n      <td>0.0</td>\n      <td>0.0</td>\n      <td>0.0</td>\n      <td>0.0</td>\n      <td>1112420060</td>\n      <td>Otra Area</td>\n      <td>1</td>\n    </tr>\n    <tr>\n      <th>2</th>\n      <td>0z5JW1r</td>\n      <td>0.0</td>\n      <td>0.0</td>\n      <td>0.0</td>\n      <td>0.0</td>\n      <td>6.0</td>\n      <td>0.0</td>\n      <td>0.0</td>\n      <td>0.0</td>\n      <td>0.0</td>\n      <td>2.0</td>\n      <td>1112257171</td>\n      <td>Otra Area</td>\n      <td>1</td>\n    </tr>\n    <tr>\n      <th>3</th>\n      <td>0z5JW1r</td>\n      <td>0.0</td>\n      <td>0.0</td>\n      <td>0.0</td>\n      <td>0.0</td>\n      <td>6.0</td>\n      <td>0.0</td>\n      <td>0.0</td>\n      <td>0.0</td>\n      <td>0.0</td>\n      <td>2.0</td>\n      <td>1112281879</td>\n      <td>Comercial</td>\n      <td>1</td>\n    </tr>\n    <tr>\n      <th>4</th>\n      <td>0z5JW1r</td>\n      <td>0.0</td>\n      <td>0.0</td>\n      <td>0.0</td>\n      <td>0.0</td>\n      <td>6.0</td>\n      <td>0.0</td>\n      <td>0.0</td>\n      <td>0.0</td>\n      <td>0.0</td>\n      <td>2.0</td>\n      <td>1112292169</td>\n      <td>Otra Area</td>\n      <td>1</td>\n    </tr>\n  </tbody>\n</table>\n</div>"
          },
          "metadata": {}
        }
      ]
    },
    {
      "metadata": {
        "trusted": true,
        "_uuid": "6a047f7da28e58bbe68c8699b4a00271abe81694"
      },
      "cell_type": "code",
      "source": "datos_ml = pd.concat([datos_ml, dummies_area], axis=1)\ndatos_ml.head()",
      "execution_count": 51,
      "outputs": [
        {
          "output_type": "execute_result",
          "execution_count": 51,
          "data": {
            "text/plain": "  idpostulante  vistas Administración   ...    Tesorería  Ventas\n0      0z5Dmrd                    0.0   ...            0       0\n1      0z5Dmrd                    0.0   ...            0       0\n2      0z5JW1r                    0.0   ...            0       0\n3      0z5JW1r                    0.0   ...            0       0\n4      0z5JW1r                    0.0   ...            0       0\n\n[5 rows x 24 columns]",
            "text/html": "<div>\n<style scoped>\n    .dataframe tbody tr th:only-of-type {\n        vertical-align: middle;\n    }\n\n    .dataframe tbody tr th {\n        vertical-align: top;\n    }\n\n    .dataframe thead th {\n        text-align: right;\n    }\n</style>\n<table border=\"1\" class=\"dataframe\">\n  <thead>\n    <tr style=\"text-align: right;\">\n      <th></th>\n      <th>idpostulante</th>\n      <th>vistas Administración</th>\n      <th>vistas Atención al Cliente</th>\n      <th>vistas Call Center</th>\n      <th>vistas Comercial</th>\n      <th>vistas Otra Area</th>\n      <th>vistas Producción</th>\n      <th>vistas Recepcionista</th>\n      <th>vistas Telemarketing</th>\n      <th>vistas Tesorería</th>\n      <th>vistas Ventas</th>\n      <th>idaviso</th>\n      <th>nombre_area</th>\n      <th>clase</th>\n      <th>Administración</th>\n      <th>Atención al Cliente</th>\n      <th>Call Center</th>\n      <th>Comercial</th>\n      <th>Otra Area</th>\n      <th>Producción</th>\n      <th>Recepcionista</th>\n      <th>Telemarketing</th>\n      <th>Tesorería</th>\n      <th>Ventas</th>\n    </tr>\n  </thead>\n  <tbody>\n    <tr>\n      <th>0</th>\n      <td>0z5Dmrd</td>\n      <td>0.0</td>\n      <td>0.0</td>\n      <td>0.0</td>\n      <td>0.0</td>\n      <td>4.0</td>\n      <td>0.0</td>\n      <td>0.0</td>\n      <td>0.0</td>\n      <td>0.0</td>\n      <td>0.0</td>\n      <td>1112384041</td>\n      <td>Otra Area</td>\n      <td>1</td>\n      <td>0</td>\n      <td>0</td>\n      <td>0</td>\n      <td>0</td>\n      <td>1</td>\n      <td>0</td>\n      <td>0</td>\n      <td>0</td>\n      <td>0</td>\n      <td>0</td>\n    </tr>\n    <tr>\n      <th>1</th>\n      <td>0z5Dmrd</td>\n      <td>0.0</td>\n      <td>0.0</td>\n      <td>0.0</td>\n      <td>0.0</td>\n      <td>4.0</td>\n      <td>0.0</td>\n      <td>0.0</td>\n      <td>0.0</td>\n      <td>0.0</td>\n      <td>0.0</td>\n      <td>1112420060</td>\n      <td>Otra Area</td>\n      <td>1</td>\n      <td>0</td>\n      <td>0</td>\n      <td>0</td>\n      <td>0</td>\n      <td>1</td>\n      <td>0</td>\n      <td>0</td>\n      <td>0</td>\n      <td>0</td>\n      <td>0</td>\n    </tr>\n    <tr>\n      <th>2</th>\n      <td>0z5JW1r</td>\n      <td>0.0</td>\n      <td>0.0</td>\n      <td>0.0</td>\n      <td>0.0</td>\n      <td>6.0</td>\n      <td>0.0</td>\n      <td>0.0</td>\n      <td>0.0</td>\n      <td>0.0</td>\n      <td>2.0</td>\n      <td>1112257171</td>\n      <td>Otra Area</td>\n      <td>1</td>\n      <td>0</td>\n      <td>0</td>\n      <td>0</td>\n      <td>0</td>\n      <td>1</td>\n      <td>0</td>\n      <td>0</td>\n      <td>0</td>\n      <td>0</td>\n      <td>0</td>\n    </tr>\n    <tr>\n      <th>3</th>\n      <td>0z5JW1r</td>\n      <td>0.0</td>\n      <td>0.0</td>\n      <td>0.0</td>\n      <td>0.0</td>\n      <td>6.0</td>\n      <td>0.0</td>\n      <td>0.0</td>\n      <td>0.0</td>\n      <td>0.0</td>\n      <td>2.0</td>\n      <td>1112281879</td>\n      <td>Comercial</td>\n      <td>1</td>\n      <td>0</td>\n      <td>0</td>\n      <td>0</td>\n      <td>1</td>\n      <td>0</td>\n      <td>0</td>\n      <td>0</td>\n      <td>0</td>\n      <td>0</td>\n      <td>0</td>\n    </tr>\n    <tr>\n      <th>4</th>\n      <td>0z5JW1r</td>\n      <td>0.0</td>\n      <td>0.0</td>\n      <td>0.0</td>\n      <td>0.0</td>\n      <td>6.0</td>\n      <td>0.0</td>\n      <td>0.0</td>\n      <td>0.0</td>\n      <td>0.0</td>\n      <td>2.0</td>\n      <td>1112292169</td>\n      <td>Otra Area</td>\n      <td>1</td>\n      <td>0</td>\n      <td>0</td>\n      <td>0</td>\n      <td>0</td>\n      <td>1</td>\n      <td>0</td>\n      <td>0</td>\n      <td>0</td>\n      <td>0</td>\n      <td>0</td>\n    </tr>\n  </tbody>\n</table>\n</div>"
          },
          "metadata": {}
        }
      ]
    },
    {
      "metadata": {
        "trusted": true,
        "_uuid": "786f76968f8b202206a4c7711a49e3b2d411eb22"
      },
      "cell_type": "code",
      "source": "datos_ml.drop(columns='nombre_area', inplace=True)\ndatos_ml.head()",
      "execution_count": 52,
      "outputs": [
        {
          "output_type": "execute_result",
          "execution_count": 52,
          "data": {
            "text/plain": "  idpostulante  vistas Administración   ...    Tesorería  Ventas\n0      0z5Dmrd                    0.0   ...            0       0\n1      0z5Dmrd                    0.0   ...            0       0\n2      0z5JW1r                    0.0   ...            0       0\n3      0z5JW1r                    0.0   ...            0       0\n4      0z5JW1r                    0.0   ...            0       0\n\n[5 rows x 23 columns]",
            "text/html": "<div>\n<style scoped>\n    .dataframe tbody tr th:only-of-type {\n        vertical-align: middle;\n    }\n\n    .dataframe tbody tr th {\n        vertical-align: top;\n    }\n\n    .dataframe thead th {\n        text-align: right;\n    }\n</style>\n<table border=\"1\" class=\"dataframe\">\n  <thead>\n    <tr style=\"text-align: right;\">\n      <th></th>\n      <th>idpostulante</th>\n      <th>vistas Administración</th>\n      <th>vistas Atención al Cliente</th>\n      <th>vistas Call Center</th>\n      <th>vistas Comercial</th>\n      <th>vistas Otra Area</th>\n      <th>vistas Producción</th>\n      <th>vistas Recepcionista</th>\n      <th>vistas Telemarketing</th>\n      <th>vistas Tesorería</th>\n      <th>vistas Ventas</th>\n      <th>idaviso</th>\n      <th>clase</th>\n      <th>Administración</th>\n      <th>Atención al Cliente</th>\n      <th>Call Center</th>\n      <th>Comercial</th>\n      <th>Otra Area</th>\n      <th>Producción</th>\n      <th>Recepcionista</th>\n      <th>Telemarketing</th>\n      <th>Tesorería</th>\n      <th>Ventas</th>\n    </tr>\n  </thead>\n  <tbody>\n    <tr>\n      <th>0</th>\n      <td>0z5Dmrd</td>\n      <td>0.0</td>\n      <td>0.0</td>\n      <td>0.0</td>\n      <td>0.0</td>\n      <td>4.0</td>\n      <td>0.0</td>\n      <td>0.0</td>\n      <td>0.0</td>\n      <td>0.0</td>\n      <td>0.0</td>\n      <td>1112384041</td>\n      <td>1</td>\n      <td>0</td>\n      <td>0</td>\n      <td>0</td>\n      <td>0</td>\n      <td>1</td>\n      <td>0</td>\n      <td>0</td>\n      <td>0</td>\n      <td>0</td>\n      <td>0</td>\n    </tr>\n    <tr>\n      <th>1</th>\n      <td>0z5Dmrd</td>\n      <td>0.0</td>\n      <td>0.0</td>\n      <td>0.0</td>\n      <td>0.0</td>\n      <td>4.0</td>\n      <td>0.0</td>\n      <td>0.0</td>\n      <td>0.0</td>\n      <td>0.0</td>\n      <td>0.0</td>\n      <td>1112420060</td>\n      <td>1</td>\n      <td>0</td>\n      <td>0</td>\n      <td>0</td>\n      <td>0</td>\n      <td>1</td>\n      <td>0</td>\n      <td>0</td>\n      <td>0</td>\n      <td>0</td>\n      <td>0</td>\n    </tr>\n    <tr>\n      <th>2</th>\n      <td>0z5JW1r</td>\n      <td>0.0</td>\n      <td>0.0</td>\n      <td>0.0</td>\n      <td>0.0</td>\n      <td>6.0</td>\n      <td>0.0</td>\n      <td>0.0</td>\n      <td>0.0</td>\n      <td>0.0</td>\n      <td>2.0</td>\n      <td>1112257171</td>\n      <td>1</td>\n      <td>0</td>\n      <td>0</td>\n      <td>0</td>\n      <td>0</td>\n      <td>1</td>\n      <td>0</td>\n      <td>0</td>\n      <td>0</td>\n      <td>0</td>\n      <td>0</td>\n    </tr>\n    <tr>\n      <th>3</th>\n      <td>0z5JW1r</td>\n      <td>0.0</td>\n      <td>0.0</td>\n      <td>0.0</td>\n      <td>0.0</td>\n      <td>6.0</td>\n      <td>0.0</td>\n      <td>0.0</td>\n      <td>0.0</td>\n      <td>0.0</td>\n      <td>2.0</td>\n      <td>1112281879</td>\n      <td>1</td>\n      <td>0</td>\n      <td>0</td>\n      <td>0</td>\n      <td>1</td>\n      <td>0</td>\n      <td>0</td>\n      <td>0</td>\n      <td>0</td>\n      <td>0</td>\n      <td>0</td>\n    </tr>\n    <tr>\n      <th>4</th>\n      <td>0z5JW1r</td>\n      <td>0.0</td>\n      <td>0.0</td>\n      <td>0.0</td>\n      <td>0.0</td>\n      <td>6.0</td>\n      <td>0.0</td>\n      <td>0.0</td>\n      <td>0.0</td>\n      <td>0.0</td>\n      <td>2.0</td>\n      <td>1112292169</td>\n      <td>1</td>\n      <td>0</td>\n      <td>0</td>\n      <td>0</td>\n      <td>0</td>\n      <td>1</td>\n      <td>0</td>\n      <td>0</td>\n      <td>0</td>\n      <td>0</td>\n      <td>0</td>\n    </tr>\n  </tbody>\n</table>\n</div>"
          },
          "metadata": {}
        }
      ]
    },
    {
      "metadata": {
        "trusted": true,
        "collapsed": true,
        "_uuid": "9de4af798d0f3d7437dcccc261168a38e2a2d5e0"
      },
      "cell_type": "code",
      "source": "# CARGO LOS DATOS 100k y lo llevo a un formato de ML",
      "execution_count": 53,
      "outputs": []
    },
    {
      "metadata": {
        "trusted": true,
        "_uuid": "3b45320ff1224579f63757c6855d30142c9c69b6"
      },
      "cell_type": "code",
      "source": "final100k = pd.read_csv('../input/finalfinal/test_final_100k.csv')\nfinal100k.head()",
      "execution_count": 54,
      "outputs": [
        {
          "output_type": "execute_result",
          "execution_count": 54,
          "data": {
            "text/plain": "   id  idaviso idpostulante\n0   0   739260       6M9ZQR\n1   1   739260       6v1xdL\n2   2   739260       ezRKm9\n3   3   758580       1Q35ej\n4   4   758580       EAN4J6",
            "text/html": "<div>\n<style scoped>\n    .dataframe tbody tr th:only-of-type {\n        vertical-align: middle;\n    }\n\n    .dataframe tbody tr th {\n        vertical-align: top;\n    }\n\n    .dataframe thead th {\n        text-align: right;\n    }\n</style>\n<table border=\"1\" class=\"dataframe\">\n  <thead>\n    <tr style=\"text-align: right;\">\n      <th></th>\n      <th>id</th>\n      <th>idaviso</th>\n      <th>idpostulante</th>\n    </tr>\n  </thead>\n  <tbody>\n    <tr>\n      <th>0</th>\n      <td>0</td>\n      <td>739260</td>\n      <td>6M9ZQR</td>\n    </tr>\n    <tr>\n      <th>1</th>\n      <td>1</td>\n      <td>739260</td>\n      <td>6v1xdL</td>\n    </tr>\n    <tr>\n      <th>2</th>\n      <td>2</td>\n      <td>739260</td>\n      <td>ezRKm9</td>\n    </tr>\n    <tr>\n      <th>3</th>\n      <td>3</td>\n      <td>758580</td>\n      <td>1Q35ej</td>\n    </tr>\n    <tr>\n      <th>4</th>\n      <td>4</td>\n      <td>758580</td>\n      <td>EAN4J6</td>\n    </tr>\n  </tbody>\n</table>\n</div>"
          },
          "metadata": {}
        }
      ]
    },
    {
      "metadata": {
        "trusted": true,
        "_uuid": "644736c820332378441df8ecb2d6cc51abed3396"
      },
      "cell_type": "code",
      "source": "#merge1 = pd.merge(final100k,)\nm1 = pd.merge(final100k, vistos_por_area, on='idpostulante', how='left')\nm1.head()",
      "execution_count": 55,
      "outputs": [
        {
          "output_type": "execute_result",
          "execution_count": 55,
          "data": {
            "text/plain": "   id  idaviso idpostulante   ...    Telemarketing  Tesorería  Ventas\n0   0   739260       6M9ZQR   ...              0.0        0.0     2.0\n1   1   739260       6v1xdL   ...              1.0        1.0     1.0\n2   2   739260       ezRKm9   ...              0.0        1.0     2.0\n3   3   758580       1Q35ej   ...              NaN        NaN     NaN\n4   4   758580       EAN4J6   ...              0.0        1.0     0.0\n\n[5 rows x 13 columns]",
            "text/html": "<div>\n<style scoped>\n    .dataframe tbody tr th:only-of-type {\n        vertical-align: middle;\n    }\n\n    .dataframe tbody tr th {\n        vertical-align: top;\n    }\n\n    .dataframe thead th {\n        text-align: right;\n    }\n</style>\n<table border=\"1\" class=\"dataframe\">\n  <thead>\n    <tr style=\"text-align: right;\">\n      <th></th>\n      <th>id</th>\n      <th>idaviso</th>\n      <th>idpostulante</th>\n      <th>Administración</th>\n      <th>Atención al Cliente</th>\n      <th>Call Center</th>\n      <th>Comercial</th>\n      <th>Otra Area</th>\n      <th>Producción</th>\n      <th>Recepcionista</th>\n      <th>Telemarketing</th>\n      <th>Tesorería</th>\n      <th>Ventas</th>\n    </tr>\n  </thead>\n  <tbody>\n    <tr>\n      <th>0</th>\n      <td>0</td>\n      <td>739260</td>\n      <td>6M9ZQR</td>\n      <td>0.0</td>\n      <td>0.0</td>\n      <td>0.0</td>\n      <td>3.0</td>\n      <td>14.0</td>\n      <td>3.0</td>\n      <td>0.0</td>\n      <td>0.0</td>\n      <td>0.0</td>\n      <td>2.0</td>\n    </tr>\n    <tr>\n      <th>1</th>\n      <td>1</td>\n      <td>739260</td>\n      <td>6v1xdL</td>\n      <td>0.0</td>\n      <td>1.0</td>\n      <td>0.0</td>\n      <td>0.0</td>\n      <td>0.0</td>\n      <td>0.0</td>\n      <td>0.0</td>\n      <td>1.0</td>\n      <td>1.0</td>\n      <td>1.0</td>\n    </tr>\n    <tr>\n      <th>2</th>\n      <td>2</td>\n      <td>739260</td>\n      <td>ezRKm9</td>\n      <td>0.0</td>\n      <td>0.0</td>\n      <td>1.0</td>\n      <td>1.0</td>\n      <td>3.0</td>\n      <td>0.0</td>\n      <td>0.0</td>\n      <td>0.0</td>\n      <td>1.0</td>\n      <td>2.0</td>\n    </tr>\n    <tr>\n      <th>3</th>\n      <td>3</td>\n      <td>758580</td>\n      <td>1Q35ej</td>\n      <td>NaN</td>\n      <td>NaN</td>\n      <td>NaN</td>\n      <td>NaN</td>\n      <td>NaN</td>\n      <td>NaN</td>\n      <td>NaN</td>\n      <td>NaN</td>\n      <td>NaN</td>\n      <td>NaN</td>\n    </tr>\n    <tr>\n      <th>4</th>\n      <td>4</td>\n      <td>758580</td>\n      <td>EAN4J6</td>\n      <td>0.0</td>\n      <td>0.0</td>\n      <td>0.0</td>\n      <td>0.0</td>\n      <td>0.0</td>\n      <td>0.0</td>\n      <td>0.0</td>\n      <td>0.0</td>\n      <td>1.0</td>\n      <td>0.0</td>\n    </tr>\n  </tbody>\n</table>\n</div>"
          },
          "metadata": {}
        }
      ]
    },
    {
      "metadata": {
        "trusted": true,
        "_uuid": "2e2d1f8d7d0313e09b2f02362f59af4b03c85887",
        "collapsed": true
      },
      "cell_type": "code",
      "source": "m1.fillna(0, inplace=True)",
      "execution_count": 56,
      "outputs": []
    },
    {
      "metadata": {
        "trusted": true,
        "_uuid": "d710a7ef09d03e1e91a757019f50166d027a3494"
      },
      "cell_type": "code",
      "source": "m1.head()",
      "execution_count": 57,
      "outputs": [
        {
          "output_type": "execute_result",
          "execution_count": 57,
          "data": {
            "text/plain": "   id  idaviso idpostulante   ...    Telemarketing  Tesorería  Ventas\n0   0   739260       6M9ZQR   ...              0.0        0.0     2.0\n1   1   739260       6v1xdL   ...              1.0        1.0     1.0\n2   2   739260       ezRKm9   ...              0.0        1.0     2.0\n3   3   758580       1Q35ej   ...              0.0        0.0     0.0\n4   4   758580       EAN4J6   ...              0.0        1.0     0.0\n\n[5 rows x 13 columns]",
            "text/html": "<div>\n<style scoped>\n    .dataframe tbody tr th:only-of-type {\n        vertical-align: middle;\n    }\n\n    .dataframe tbody tr th {\n        vertical-align: top;\n    }\n\n    .dataframe thead th {\n        text-align: right;\n    }\n</style>\n<table border=\"1\" class=\"dataframe\">\n  <thead>\n    <tr style=\"text-align: right;\">\n      <th></th>\n      <th>id</th>\n      <th>idaviso</th>\n      <th>idpostulante</th>\n      <th>Administración</th>\n      <th>Atención al Cliente</th>\n      <th>Call Center</th>\n      <th>Comercial</th>\n      <th>Otra Area</th>\n      <th>Producción</th>\n      <th>Recepcionista</th>\n      <th>Telemarketing</th>\n      <th>Tesorería</th>\n      <th>Ventas</th>\n    </tr>\n  </thead>\n  <tbody>\n    <tr>\n      <th>0</th>\n      <td>0</td>\n      <td>739260</td>\n      <td>6M9ZQR</td>\n      <td>0.0</td>\n      <td>0.0</td>\n      <td>0.0</td>\n      <td>3.0</td>\n      <td>14.0</td>\n      <td>3.0</td>\n      <td>0.0</td>\n      <td>0.0</td>\n      <td>0.0</td>\n      <td>2.0</td>\n    </tr>\n    <tr>\n      <th>1</th>\n      <td>1</td>\n      <td>739260</td>\n      <td>6v1xdL</td>\n      <td>0.0</td>\n      <td>1.0</td>\n      <td>0.0</td>\n      <td>0.0</td>\n      <td>0.0</td>\n      <td>0.0</td>\n      <td>0.0</td>\n      <td>1.0</td>\n      <td>1.0</td>\n      <td>1.0</td>\n    </tr>\n    <tr>\n      <th>2</th>\n      <td>2</td>\n      <td>739260</td>\n      <td>ezRKm9</td>\n      <td>0.0</td>\n      <td>0.0</td>\n      <td>1.0</td>\n      <td>1.0</td>\n      <td>3.0</td>\n      <td>0.0</td>\n      <td>0.0</td>\n      <td>0.0</td>\n      <td>1.0</td>\n      <td>2.0</td>\n    </tr>\n    <tr>\n      <th>3</th>\n      <td>3</td>\n      <td>758580</td>\n      <td>1Q35ej</td>\n      <td>0.0</td>\n      <td>0.0</td>\n      <td>0.0</td>\n      <td>0.0</td>\n      <td>0.0</td>\n      <td>0.0</td>\n      <td>0.0</td>\n      <td>0.0</td>\n      <td>0.0</td>\n      <td>0.0</td>\n    </tr>\n    <tr>\n      <th>4</th>\n      <td>4</td>\n      <td>758580</td>\n      <td>EAN4J6</td>\n      <td>0.0</td>\n      <td>0.0</td>\n      <td>0.0</td>\n      <td>0.0</td>\n      <td>0.0</td>\n      <td>0.0</td>\n      <td>0.0</td>\n      <td>0.0</td>\n      <td>1.0</td>\n      <td>0.0</td>\n    </tr>\n  </tbody>\n</table>\n</div>"
          },
          "metadata": {}
        }
      ]
    },
    {
      "metadata": {
        "trusted": true,
        "_uuid": "da006910e71e48d029f48e583138229541627e7c"
      },
      "cell_type": "code",
      "source": "m1.columns=['id','idaviso','idpostulante', 'vistas Administración', 'vistas Atención al Cliente',\n                    'vistas Call Center', 'vistas Comercial', 'vistas Otra Area', \n                    'vistas Producción', 'vistas Recepcionista', ' vistas Telemarketing',\n                    'vistas Tesorería', 'vistas Ventas']\nm1.head()",
      "execution_count": 58,
      "outputs": [
        {
          "output_type": "execute_result",
          "execution_count": 58,
          "data": {
            "text/plain": "   id  idaviso      ...       vistas Tesorería  vistas Ventas\n0   0   739260      ...                    0.0            2.0\n1   1   739260      ...                    1.0            1.0\n2   2   739260      ...                    1.0            2.0\n3   3   758580      ...                    0.0            0.0\n4   4   758580      ...                    1.0            0.0\n\n[5 rows x 13 columns]",
            "text/html": "<div>\n<style scoped>\n    .dataframe tbody tr th:only-of-type {\n        vertical-align: middle;\n    }\n\n    .dataframe tbody tr th {\n        vertical-align: top;\n    }\n\n    .dataframe thead th {\n        text-align: right;\n    }\n</style>\n<table border=\"1\" class=\"dataframe\">\n  <thead>\n    <tr style=\"text-align: right;\">\n      <th></th>\n      <th>id</th>\n      <th>idaviso</th>\n      <th>idpostulante</th>\n      <th>vistas Administración</th>\n      <th>vistas Atención al Cliente</th>\n      <th>vistas Call Center</th>\n      <th>vistas Comercial</th>\n      <th>vistas Otra Area</th>\n      <th>vistas Producción</th>\n      <th>vistas Recepcionista</th>\n      <th>vistas Telemarketing</th>\n      <th>vistas Tesorería</th>\n      <th>vistas Ventas</th>\n    </tr>\n  </thead>\n  <tbody>\n    <tr>\n      <th>0</th>\n      <td>0</td>\n      <td>739260</td>\n      <td>6M9ZQR</td>\n      <td>0.0</td>\n      <td>0.0</td>\n      <td>0.0</td>\n      <td>3.0</td>\n      <td>14.0</td>\n      <td>3.0</td>\n      <td>0.0</td>\n      <td>0.0</td>\n      <td>0.0</td>\n      <td>2.0</td>\n    </tr>\n    <tr>\n      <th>1</th>\n      <td>1</td>\n      <td>739260</td>\n      <td>6v1xdL</td>\n      <td>0.0</td>\n      <td>1.0</td>\n      <td>0.0</td>\n      <td>0.0</td>\n      <td>0.0</td>\n      <td>0.0</td>\n      <td>0.0</td>\n      <td>1.0</td>\n      <td>1.0</td>\n      <td>1.0</td>\n    </tr>\n    <tr>\n      <th>2</th>\n      <td>2</td>\n      <td>739260</td>\n      <td>ezRKm9</td>\n      <td>0.0</td>\n      <td>0.0</td>\n      <td>1.0</td>\n      <td>1.0</td>\n      <td>3.0</td>\n      <td>0.0</td>\n      <td>0.0</td>\n      <td>0.0</td>\n      <td>1.0</td>\n      <td>2.0</td>\n    </tr>\n    <tr>\n      <th>3</th>\n      <td>3</td>\n      <td>758580</td>\n      <td>1Q35ej</td>\n      <td>0.0</td>\n      <td>0.0</td>\n      <td>0.0</td>\n      <td>0.0</td>\n      <td>0.0</td>\n      <td>0.0</td>\n      <td>0.0</td>\n      <td>0.0</td>\n      <td>0.0</td>\n      <td>0.0</td>\n    </tr>\n    <tr>\n      <th>4</th>\n      <td>4</td>\n      <td>758580</td>\n      <td>EAN4J6</td>\n      <td>0.0</td>\n      <td>0.0</td>\n      <td>0.0</td>\n      <td>0.0</td>\n      <td>0.0</td>\n      <td>0.0</td>\n      <td>0.0</td>\n      <td>0.0</td>\n      <td>1.0</td>\n      <td>0.0</td>\n    </tr>\n  </tbody>\n</table>\n</div>"
          },
          "metadata": {}
        }
      ]
    },
    {
      "metadata": {
        "trusted": true,
        "_uuid": "820b5a8f1c71c14899eb891ce305e57683fef3f8"
      },
      "cell_type": "code",
      "source": "avisos.head()",
      "execution_count": 59,
      "outputs": [
        {
          "output_type": "execute_result",
          "execution_count": 59,
          "data": {
            "text/plain": "      idaviso nombre_area\n0     8725750   Comercial\n1    17903700   Otra Area\n2  1000150677   Otra Area\n3  1000610287   Otra Area\n4  1000872556  Producción",
            "text/html": "<div>\n<style scoped>\n    .dataframe tbody tr th:only-of-type {\n        vertical-align: middle;\n    }\n\n    .dataframe tbody tr th {\n        vertical-align: top;\n    }\n\n    .dataframe thead th {\n        text-align: right;\n    }\n</style>\n<table border=\"1\" class=\"dataframe\">\n  <thead>\n    <tr style=\"text-align: right;\">\n      <th></th>\n      <th>idaviso</th>\n      <th>nombre_area</th>\n    </tr>\n  </thead>\n  <tbody>\n    <tr>\n      <th>0</th>\n      <td>8725750</td>\n      <td>Comercial</td>\n    </tr>\n    <tr>\n      <th>1</th>\n      <td>17903700</td>\n      <td>Otra Area</td>\n    </tr>\n    <tr>\n      <th>2</th>\n      <td>1000150677</td>\n      <td>Otra Area</td>\n    </tr>\n    <tr>\n      <th>3</th>\n      <td>1000610287</td>\n      <td>Otra Area</td>\n    </tr>\n    <tr>\n      <th>4</th>\n      <td>1000872556</td>\n      <td>Producción</td>\n    </tr>\n  </tbody>\n</table>\n</div>"
          },
          "metadata": {}
        }
      ]
    },
    {
      "metadata": {
        "trusted": true,
        "_uuid": "636dacdb504b0cfb64a0fa7f745803b253e1481f",
        "collapsed": true
      },
      "cell_type": "code",
      "source": "# Nuevamente genero dummies\ndummies_area = pd.get_dummies(avisos['nombre_area'])",
      "execution_count": 60,
      "outputs": []
    },
    {
      "metadata": {
        "trusted": true,
        "_uuid": "06a82a1abfd4c522e3f256a7a94aad8d3d7d2d6b",
        "collapsed": true
      },
      "cell_type": "code",
      "source": "avisos = pd.concat([avisos, dummies_area], axis=1)",
      "execution_count": 61,
      "outputs": []
    },
    {
      "metadata": {
        "trusted": true,
        "_uuid": "af7a01a1915e41e4d13690c2115ce6a933c7d3d3"
      },
      "cell_type": "code",
      "source": "avisos.head()",
      "execution_count": 62,
      "outputs": [
        {
          "output_type": "execute_result",
          "execution_count": 62,
          "data": {
            "text/plain": "      idaviso nombre_area   ...    Tesorería  Ventas\n0     8725750   Comercial   ...            0       0\n1    17903700   Otra Area   ...            0       0\n2  1000150677   Otra Area   ...            0       0\n3  1000610287   Otra Area   ...            0       0\n4  1000872556  Producción   ...            0       0\n\n[5 rows x 12 columns]",
            "text/html": "<div>\n<style scoped>\n    .dataframe tbody tr th:only-of-type {\n        vertical-align: middle;\n    }\n\n    .dataframe tbody tr th {\n        vertical-align: top;\n    }\n\n    .dataframe thead th {\n        text-align: right;\n    }\n</style>\n<table border=\"1\" class=\"dataframe\">\n  <thead>\n    <tr style=\"text-align: right;\">\n      <th></th>\n      <th>idaviso</th>\n      <th>nombre_area</th>\n      <th>Administración</th>\n      <th>Atención al Cliente</th>\n      <th>Call Center</th>\n      <th>Comercial</th>\n      <th>Otra Area</th>\n      <th>Producción</th>\n      <th>Recepcionista</th>\n      <th>Telemarketing</th>\n      <th>Tesorería</th>\n      <th>Ventas</th>\n    </tr>\n  </thead>\n  <tbody>\n    <tr>\n      <th>0</th>\n      <td>8725750</td>\n      <td>Comercial</td>\n      <td>0</td>\n      <td>0</td>\n      <td>0</td>\n      <td>1</td>\n      <td>0</td>\n      <td>0</td>\n      <td>0</td>\n      <td>0</td>\n      <td>0</td>\n      <td>0</td>\n    </tr>\n    <tr>\n      <th>1</th>\n      <td>17903700</td>\n      <td>Otra Area</td>\n      <td>0</td>\n      <td>0</td>\n      <td>0</td>\n      <td>0</td>\n      <td>1</td>\n      <td>0</td>\n      <td>0</td>\n      <td>0</td>\n      <td>0</td>\n      <td>0</td>\n    </tr>\n    <tr>\n      <th>2</th>\n      <td>1000150677</td>\n      <td>Otra Area</td>\n      <td>0</td>\n      <td>0</td>\n      <td>0</td>\n      <td>0</td>\n      <td>1</td>\n      <td>0</td>\n      <td>0</td>\n      <td>0</td>\n      <td>0</td>\n      <td>0</td>\n    </tr>\n    <tr>\n      <th>3</th>\n      <td>1000610287</td>\n      <td>Otra Area</td>\n      <td>0</td>\n      <td>0</td>\n      <td>0</td>\n      <td>0</td>\n      <td>1</td>\n      <td>0</td>\n      <td>0</td>\n      <td>0</td>\n      <td>0</td>\n      <td>0</td>\n    </tr>\n    <tr>\n      <th>4</th>\n      <td>1000872556</td>\n      <td>Producción</td>\n      <td>0</td>\n      <td>0</td>\n      <td>0</td>\n      <td>0</td>\n      <td>0</td>\n      <td>1</td>\n      <td>0</td>\n      <td>0</td>\n      <td>0</td>\n      <td>0</td>\n    </tr>\n  </tbody>\n</table>\n</div>"
          },
          "metadata": {}
        }
      ]
    },
    {
      "metadata": {
        "trusted": true,
        "_uuid": "66d995986f9817239ea1024f65b8a1d05e06a5d1",
        "collapsed": true
      },
      "cell_type": "code",
      "source": "avisos.drop(columns='nombre_area', inplace=True)",
      "execution_count": 63,
      "outputs": []
    },
    {
      "metadata": {
        "trusted": true,
        "_uuid": "e787f05e8b04ae57c1eb974ffdbb9a0015d1789f"
      },
      "cell_type": "code",
      "source": "avisos.head()",
      "execution_count": 64,
      "outputs": [
        {
          "output_type": "execute_result",
          "execution_count": 64,
          "data": {
            "text/plain": "      idaviso  Administración   ...    Tesorería  Ventas\n0     8725750               0   ...            0       0\n1    17903700               0   ...            0       0\n2  1000150677               0   ...            0       0\n3  1000610287               0   ...            0       0\n4  1000872556               0   ...            0       0\n\n[5 rows x 11 columns]",
            "text/html": "<div>\n<style scoped>\n    .dataframe tbody tr th:only-of-type {\n        vertical-align: middle;\n    }\n\n    .dataframe tbody tr th {\n        vertical-align: top;\n    }\n\n    .dataframe thead th {\n        text-align: right;\n    }\n</style>\n<table border=\"1\" class=\"dataframe\">\n  <thead>\n    <tr style=\"text-align: right;\">\n      <th></th>\n      <th>idaviso</th>\n      <th>Administración</th>\n      <th>Atención al Cliente</th>\n      <th>Call Center</th>\n      <th>Comercial</th>\n      <th>Otra Area</th>\n      <th>Producción</th>\n      <th>Recepcionista</th>\n      <th>Telemarketing</th>\n      <th>Tesorería</th>\n      <th>Ventas</th>\n    </tr>\n  </thead>\n  <tbody>\n    <tr>\n      <th>0</th>\n      <td>8725750</td>\n      <td>0</td>\n      <td>0</td>\n      <td>0</td>\n      <td>1</td>\n      <td>0</td>\n      <td>0</td>\n      <td>0</td>\n      <td>0</td>\n      <td>0</td>\n      <td>0</td>\n    </tr>\n    <tr>\n      <th>1</th>\n      <td>17903700</td>\n      <td>0</td>\n      <td>0</td>\n      <td>0</td>\n      <td>0</td>\n      <td>1</td>\n      <td>0</td>\n      <td>0</td>\n      <td>0</td>\n      <td>0</td>\n      <td>0</td>\n    </tr>\n    <tr>\n      <th>2</th>\n      <td>1000150677</td>\n      <td>0</td>\n      <td>0</td>\n      <td>0</td>\n      <td>0</td>\n      <td>1</td>\n      <td>0</td>\n      <td>0</td>\n      <td>0</td>\n      <td>0</td>\n      <td>0</td>\n    </tr>\n    <tr>\n      <th>3</th>\n      <td>1000610287</td>\n      <td>0</td>\n      <td>0</td>\n      <td>0</td>\n      <td>0</td>\n      <td>1</td>\n      <td>0</td>\n      <td>0</td>\n      <td>0</td>\n      <td>0</td>\n      <td>0</td>\n    </tr>\n    <tr>\n      <th>4</th>\n      <td>1000872556</td>\n      <td>0</td>\n      <td>0</td>\n      <td>0</td>\n      <td>0</td>\n      <td>0</td>\n      <td>1</td>\n      <td>0</td>\n      <td>0</td>\n      <td>0</td>\n      <td>0</td>\n    </tr>\n  </tbody>\n</table>\n</div>"
          },
          "metadata": {}
        }
      ]
    },
    {
      "metadata": {
        "trusted": true,
        "collapsed": true,
        "_uuid": "abb521f6689e07e3a1fafcfc08f9e2a77f0485fb"
      },
      "cell_type": "code",
      "source": "m2 = pd.merge(m1, avisos, on='idaviso', how='left')",
      "execution_count": 65,
      "outputs": []
    },
    {
      "metadata": {
        "trusted": true,
        "_uuid": "e600fb1e5c178a826d1d6433cc6727c17c35f1db"
      },
      "cell_type": "code",
      "source": "m2.head()",
      "execution_count": 66,
      "outputs": [
        {
          "output_type": "execute_result",
          "execution_count": 66,
          "data": {
            "text/plain": "   id  idaviso idpostulante   ...    Telemarketing  Tesorería  Ventas\n0   0   739260       6M9ZQR   ...                0          0       0\n1   1   739260       6v1xdL   ...                0          0       0\n2   2   739260       ezRKm9   ...                0          0       0\n3   3   758580       1Q35ej   ...                0          0       0\n4   4   758580       EAN4J6   ...                0          0       0\n\n[5 rows x 23 columns]",
            "text/html": "<div>\n<style scoped>\n    .dataframe tbody tr th:only-of-type {\n        vertical-align: middle;\n    }\n\n    .dataframe tbody tr th {\n        vertical-align: top;\n    }\n\n    .dataframe thead th {\n        text-align: right;\n    }\n</style>\n<table border=\"1\" class=\"dataframe\">\n  <thead>\n    <tr style=\"text-align: right;\">\n      <th></th>\n      <th>id</th>\n      <th>idaviso</th>\n      <th>idpostulante</th>\n      <th>vistas Administración</th>\n      <th>vistas Atención al Cliente</th>\n      <th>vistas Call Center</th>\n      <th>vistas Comercial</th>\n      <th>vistas Otra Area</th>\n      <th>vistas Producción</th>\n      <th>vistas Recepcionista</th>\n      <th>vistas Telemarketing</th>\n      <th>vistas Tesorería</th>\n      <th>vistas Ventas</th>\n      <th>Administración</th>\n      <th>Atención al Cliente</th>\n      <th>Call Center</th>\n      <th>Comercial</th>\n      <th>Otra Area</th>\n      <th>Producción</th>\n      <th>Recepcionista</th>\n      <th>Telemarketing</th>\n      <th>Tesorería</th>\n      <th>Ventas</th>\n    </tr>\n  </thead>\n  <tbody>\n    <tr>\n      <th>0</th>\n      <td>0</td>\n      <td>739260</td>\n      <td>6M9ZQR</td>\n      <td>0.0</td>\n      <td>0.0</td>\n      <td>0.0</td>\n      <td>3.0</td>\n      <td>14.0</td>\n      <td>3.0</td>\n      <td>0.0</td>\n      <td>0.0</td>\n      <td>0.0</td>\n      <td>2.0</td>\n      <td>0</td>\n      <td>0</td>\n      <td>0</td>\n      <td>1</td>\n      <td>0</td>\n      <td>0</td>\n      <td>0</td>\n      <td>0</td>\n      <td>0</td>\n      <td>0</td>\n    </tr>\n    <tr>\n      <th>1</th>\n      <td>1</td>\n      <td>739260</td>\n      <td>6v1xdL</td>\n      <td>0.0</td>\n      <td>1.0</td>\n      <td>0.0</td>\n      <td>0.0</td>\n      <td>0.0</td>\n      <td>0.0</td>\n      <td>0.0</td>\n      <td>1.0</td>\n      <td>1.0</td>\n      <td>1.0</td>\n      <td>0</td>\n      <td>0</td>\n      <td>0</td>\n      <td>1</td>\n      <td>0</td>\n      <td>0</td>\n      <td>0</td>\n      <td>0</td>\n      <td>0</td>\n      <td>0</td>\n    </tr>\n    <tr>\n      <th>2</th>\n      <td>2</td>\n      <td>739260</td>\n      <td>ezRKm9</td>\n      <td>0.0</td>\n      <td>0.0</td>\n      <td>1.0</td>\n      <td>1.0</td>\n      <td>3.0</td>\n      <td>0.0</td>\n      <td>0.0</td>\n      <td>0.0</td>\n      <td>1.0</td>\n      <td>2.0</td>\n      <td>0</td>\n      <td>0</td>\n      <td>0</td>\n      <td>1</td>\n      <td>0</td>\n      <td>0</td>\n      <td>0</td>\n      <td>0</td>\n      <td>0</td>\n      <td>0</td>\n    </tr>\n    <tr>\n      <th>3</th>\n      <td>3</td>\n      <td>758580</td>\n      <td>1Q35ej</td>\n      <td>0.0</td>\n      <td>0.0</td>\n      <td>0.0</td>\n      <td>0.0</td>\n      <td>0.0</td>\n      <td>0.0</td>\n      <td>0.0</td>\n      <td>0.0</td>\n      <td>0.0</td>\n      <td>0.0</td>\n      <td>0</td>\n      <td>0</td>\n      <td>0</td>\n      <td>0</td>\n      <td>1</td>\n      <td>0</td>\n      <td>0</td>\n      <td>0</td>\n      <td>0</td>\n      <td>0</td>\n    </tr>\n    <tr>\n      <th>4</th>\n      <td>4</td>\n      <td>758580</td>\n      <td>EAN4J6</td>\n      <td>0.0</td>\n      <td>0.0</td>\n      <td>0.0</td>\n      <td>0.0</td>\n      <td>0.0</td>\n      <td>0.0</td>\n      <td>0.0</td>\n      <td>0.0</td>\n      <td>1.0</td>\n      <td>0.0</td>\n      <td>0</td>\n      <td>0</td>\n      <td>0</td>\n      <td>0</td>\n      <td>1</td>\n      <td>0</td>\n      <td>0</td>\n      <td>0</td>\n      <td>0</td>\n      <td>0</td>\n    </tr>\n  </tbody>\n</table>\n</div>"
          },
          "metadata": {}
        }
      ]
    },
    {
      "metadata": {
        "trusted": true,
        "collapsed": true,
        "_uuid": "7b21849dfa34092c2cd76cacc46b950265c5023a"
      },
      "cell_type": "code",
      "source": "X_final = m2.drop(columns=['id', 'idaviso','idpostulante'])",
      "execution_count": 67,
      "outputs": []
    },
    {
      "metadata": {
        "_uuid": "5ad07c5d13e684e1f3215ad4e24e97da6dd21c10"
      },
      "cell_type": "markdown",
      "source": "**ARBOLES DE DECISION**\n."
    },
    {
      "metadata": {
        "trusted": true,
        "collapsed": true,
        "_uuid": "74017624205a7ed1e8c99afd22d88596fd8d3918"
      },
      "cell_type": "code",
      "source": "y = datos_ml['clase']\nX = datos_ml.drop(columns=['clase', 'idpostulante', 'idaviso'])",
      "execution_count": 68,
      "outputs": []
    },
    {
      "metadata": {
        "trusted": true,
        "_uuid": "0004d47d7089d5aacebd137827c2f8208ccb8e46"
      },
      "cell_type": "code",
      "source": "X.head()",
      "execution_count": 69,
      "outputs": [
        {
          "output_type": "execute_result",
          "execution_count": 69,
          "data": {
            "text/plain": "   vistas Administración  vistas Atención al Cliente   ...    Tesorería  Ventas\n0                    0.0                         0.0   ...            0       0\n1                    0.0                         0.0   ...            0       0\n2                    0.0                         0.0   ...            0       0\n3                    0.0                         0.0   ...            0       0\n4                    0.0                         0.0   ...            0       0\n\n[5 rows x 20 columns]",
            "text/html": "<div>\n<style scoped>\n    .dataframe tbody tr th:only-of-type {\n        vertical-align: middle;\n    }\n\n    .dataframe tbody tr th {\n        vertical-align: top;\n    }\n\n    .dataframe thead th {\n        text-align: right;\n    }\n</style>\n<table border=\"1\" class=\"dataframe\">\n  <thead>\n    <tr style=\"text-align: right;\">\n      <th></th>\n      <th>vistas Administración</th>\n      <th>vistas Atención al Cliente</th>\n      <th>vistas Call Center</th>\n      <th>vistas Comercial</th>\n      <th>vistas Otra Area</th>\n      <th>vistas Producción</th>\n      <th>vistas Recepcionista</th>\n      <th>vistas Telemarketing</th>\n      <th>vistas Tesorería</th>\n      <th>vistas Ventas</th>\n      <th>Administración</th>\n      <th>Atención al Cliente</th>\n      <th>Call Center</th>\n      <th>Comercial</th>\n      <th>Otra Area</th>\n      <th>Producción</th>\n      <th>Recepcionista</th>\n      <th>Telemarketing</th>\n      <th>Tesorería</th>\n      <th>Ventas</th>\n    </tr>\n  </thead>\n  <tbody>\n    <tr>\n      <th>0</th>\n      <td>0.0</td>\n      <td>0.0</td>\n      <td>0.0</td>\n      <td>0.0</td>\n      <td>4.0</td>\n      <td>0.0</td>\n      <td>0.0</td>\n      <td>0.0</td>\n      <td>0.0</td>\n      <td>0.0</td>\n      <td>0</td>\n      <td>0</td>\n      <td>0</td>\n      <td>0</td>\n      <td>1</td>\n      <td>0</td>\n      <td>0</td>\n      <td>0</td>\n      <td>0</td>\n      <td>0</td>\n    </tr>\n    <tr>\n      <th>1</th>\n      <td>0.0</td>\n      <td>0.0</td>\n      <td>0.0</td>\n      <td>0.0</td>\n      <td>4.0</td>\n      <td>0.0</td>\n      <td>0.0</td>\n      <td>0.0</td>\n      <td>0.0</td>\n      <td>0.0</td>\n      <td>0</td>\n      <td>0</td>\n      <td>0</td>\n      <td>0</td>\n      <td>1</td>\n      <td>0</td>\n      <td>0</td>\n      <td>0</td>\n      <td>0</td>\n      <td>0</td>\n    </tr>\n    <tr>\n      <th>2</th>\n      <td>0.0</td>\n      <td>0.0</td>\n      <td>0.0</td>\n      <td>0.0</td>\n      <td>6.0</td>\n      <td>0.0</td>\n      <td>0.0</td>\n      <td>0.0</td>\n      <td>0.0</td>\n      <td>2.0</td>\n      <td>0</td>\n      <td>0</td>\n      <td>0</td>\n      <td>0</td>\n      <td>1</td>\n      <td>0</td>\n      <td>0</td>\n      <td>0</td>\n      <td>0</td>\n      <td>0</td>\n    </tr>\n    <tr>\n      <th>3</th>\n      <td>0.0</td>\n      <td>0.0</td>\n      <td>0.0</td>\n      <td>0.0</td>\n      <td>6.0</td>\n      <td>0.0</td>\n      <td>0.0</td>\n      <td>0.0</td>\n      <td>0.0</td>\n      <td>2.0</td>\n      <td>0</td>\n      <td>0</td>\n      <td>0</td>\n      <td>1</td>\n      <td>0</td>\n      <td>0</td>\n      <td>0</td>\n      <td>0</td>\n      <td>0</td>\n      <td>0</td>\n    </tr>\n    <tr>\n      <th>4</th>\n      <td>0.0</td>\n      <td>0.0</td>\n      <td>0.0</td>\n      <td>0.0</td>\n      <td>6.0</td>\n      <td>0.0</td>\n      <td>0.0</td>\n      <td>0.0</td>\n      <td>0.0</td>\n      <td>2.0</td>\n      <td>0</td>\n      <td>0</td>\n      <td>0</td>\n      <td>0</td>\n      <td>1</td>\n      <td>0</td>\n      <td>0</td>\n      <td>0</td>\n      <td>0</td>\n      <td>0</td>\n    </tr>\n  </tbody>\n</table>\n</div>"
          },
          "metadata": {}
        }
      ]
    },
    {
      "metadata": {
        "trusted": true,
        "_uuid": "1542a2b78b288cebe819810ff46e4d47e07f5cdb"
      },
      "cell_type": "code",
      "source": "y.head()",
      "execution_count": 70,
      "outputs": [
        {
          "output_type": "execute_result",
          "execution_count": 70,
          "data": {
            "text/plain": "0    1\n1    1\n2    1\n3    1\n4    1\nName: clase, dtype: int64"
          },
          "metadata": {}
        }
      ]
    },
    {
      "metadata": {
        "trusted": true,
        "collapsed": true,
        "_uuid": "62639a5ce4a2d5cc81175bbccaa39dbd1f357241"
      },
      "cell_type": "code",
      "source": "X_train, X_test, y_train, y_test = train_test_split(X, y, test_size=0.33)",
      "execution_count": 71,
      "outputs": []
    },
    {
      "metadata": {
        "trusted": true,
        "_uuid": "3547b5f72281a1a2b4908ccae2af4b0c862edcc7"
      },
      "cell_type": "code",
      "source": "for i in range(1,10): \n    clf = tree.DecisionTreeClassifier(criterion = \"gini\", random_state = 100,\n                               max_depth=i, min_samples_leaf=i+5)\n    clf = clf.fit(X_train, y_train)\n    y_pred = clf.predict(X_test)  \n    print('accuracy: {0:.2f}%'.format(accuracy_score(y_test,y_pred)*100))",
      "execution_count": null,
      "outputs": []
    },
    {
      "metadata": {
        "trusted": true,
        "_uuid": "a19f37ed6b80a9b63fbaf56d27890714e36c84c5",
        "collapsed": true
      },
      "cell_type": "code",
      "source": "clf = clf.fit(X_train, y_train)",
      "execution_count": 73,
      "outputs": []
    },
    {
      "metadata": {
        "trusted": true,
        "_uuid": "df129b7aa55bd496e09186a4cf1d15969689382f",
        "collapsed": true
      },
      "cell_type": "code",
      "source": "y_pred = clf.predict(X_test)  ",
      "execution_count": 74,
      "outputs": []
    },
    {
      "metadata": {
        "trusted": true,
        "_uuid": "b7887c011ac25340ac0c0b7cf08821eb6e758c99"
      },
      "cell_type": "code",
      "source": "print('accuracy: {0:.2f}%'.format(accuracy_score(y_test,y_pred)*100))",
      "execution_count": 75,
      "outputs": [
        {
          "output_type": "stream",
          "text": "accuracy: 91.58%\n",
          "name": "stdout"
        }
      ]
    },
    {
      "metadata": {
        "trusted": true,
        "collapsed": true,
        "_uuid": "49369bc215dc73eed043b2fd0571a95727ba7635"
      },
      "cell_type": "code",
      "source": "y_pred_final = clf.predict(X_final)",
      "execution_count": 76,
      "outputs": []
    },
    {
      "metadata": {
        "trusted": true,
        "_uuid": "bbbc2ac42b4581d7bb1b881b64814945e761fb7f",
        "collapsed": true
      },
      "cell_type": "code",
      "source": "y_final = pd.DataFrame(y_pred_final)",
      "execution_count": 77,
      "outputs": []
    },
    {
      "metadata": {
        "trusted": true,
        "collapsed": true,
        "_uuid": "b5fb1c16383a9949be034086c541b1a033354aa8"
      },
      "cell_type": "code",
      "source": "# reconstruyo los datos",
      "execution_count": 78,
      "outputs": []
    },
    {
      "metadata": {
        "trusted": true,
        "_uuid": "4e4caa4a5b6689b3e27372c40e80b5852253a6fd",
        "collapsed": true
      },
      "cell_type": "code",
      "source": "loquesea = pd.concat([m2['id'], y_final], axis=1)",
      "execution_count": 79,
      "outputs": []
    },
    {
      "metadata": {
        "trusted": true,
        "collapsed": true,
        "_uuid": "6f65c9e4251e8ae14db68b2e2fffa6257e7d5d40"
      },
      "cell_type": "code",
      "source": "loquesea.drop_duplicates(subset='id', inplace=True)",
      "execution_count": 80,
      "outputs": []
    },
    {
      "metadata": {
        "trusted": true,
        "_uuid": "837b72aa853835ec16b62a3d7fabd3f2b9c50f3f"
      },
      "cell_type": "code",
      "source": "loquesea.info()",
      "execution_count": 81,
      "outputs": [
        {
          "output_type": "stream",
          "text": "<class 'pandas.core.frame.DataFrame'>\nInt64Index: 100000 entries, 0 to 100914\nData columns (total 2 columns):\nid    100000 non-null int64\n0     100000 non-null int64\ndtypes: int64(2)\nmemory usage: 2.3 MB\n",
          "name": "stdout"
        }
      ]
    },
    {
      "metadata": {
        "trusted": true,
        "collapsed": true,
        "_uuid": "bf483ba11af3ae34a9d6381c53856d70d50326ba"
      },
      "cell_type": "code",
      "source": "loquesea.to_csv(\"summit001.csv\", index=False)",
      "execution_count": 82,
      "outputs": []
    },
    {
      "metadata": {
        "trusted": true,
        "_uuid": "83e4adba884726d4f3cfbd32f6cdb7c08da86eeb",
        "collapsed": true
      },
      "cell_type": "code",
      "source": "",
      "execution_count": null,
      "outputs": []
    },
    {
      "metadata": {
        "trusted": true,
        "_uuid": "ebc57643b9958adf9e1c2393b885517e7476c0ae"
      },
      "cell_type": "code",
      "source": "",
      "execution_count": null,
      "outputs": []
    },
    {
      "metadata": {
        "trusted": true,
        "collapsed": true,
        "_uuid": "32e87e290d37fdb42d8c86bac1af764477612692"
      },
      "cell_type": "code",
      "source": "",
      "execution_count": null,
      "outputs": []
    }
  ],
  "metadata": {
    "kernelspec": {
      "display_name": "Python 3",
      "language": "python",
      "name": "python3"
    },
    "language_info": {
      "name": "python",
      "version": "3.6.5",
      "mimetype": "text/x-python",
      "codemirror_mode": {
        "name": "ipython",
        "version": 3
      },
      "pygments_lexer": "ipython3",
      "nbconvert_exporter": "python",
      "file_extension": ".py"
    }
  },
  "nbformat": 4,
  "nbformat_minor": 1
}