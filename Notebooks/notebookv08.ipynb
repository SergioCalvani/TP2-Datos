{
  "cells": [
    {
      "metadata": {
        "_uuid": "8f2839f25d086af736a60e9eeb907d3b93b6e0e5",
        "_cell_guid": "b1076dfc-b9ad-4769-8c92-a6c4dae69d19",
        "trusted": true,
        "collapsed": true
      },
      "cell_type": "code",
      "source": "import pandas as pd\nimport numpy as np\nimport datetime as DT\nfrom sklearn.model_selection import train_test_split\nfrom sklearn.preprocessing import StandardScaler\nfrom sklearn.linear_model import Perceptron\nfrom sklearn.metrics import accuracy_score\nimport random\nfrom sklearn import tree\nfrom sklearn.neighbors import KNeighborsClassifier  \nfrom sklearn.tree import DecisionTreeClassifier  \nfrom sklearn.naive_bayes import GaussianNB, BernoulliNB, MultinomialNB\nfrom sklearn.neural_network import MLPClassifier",
      "execution_count": null,
      "outputs": []
    },
    {
      "metadata": {
        "_cell_guid": "79c7e3d0-c299-4dcb-8224-4455121ee9b0",
        "collapsed": true,
        "_uuid": "d629ff2d2480ee46fbb7e2d37f6b5fab8052498a",
        "trusted": false
      },
      "cell_type": "markdown",
      "source": "# Idea\nDar informacion sobre las postulaciones, avisos (area) y vistas"
    },
    {
      "metadata": {
        "trusted": true,
        "collapsed": true,
        "_uuid": "f0d49a8f1e90f4ef72710dcafac8b66f08cce00e"
      },
      "cell_type": "code",
      "source": "TAM = 500000\nCANT_AREAS = 20",
      "execution_count": null,
      "outputs": []
    },
    {
      "metadata": {
        "trusted": true,
        "_uuid": "37a1b1bb720e1d27aae0c71ecfe4840c3f3477f0",
        "collapsed": true
      },
      "cell_type": "code",
      "source": "avisos = pd.concat([\n    pd.read_csv(\"../input/datos/fiuba_6_avisos_detalle.csv\"),\n    pd.read_csv(\"../input/datosdatos/DESfiuba_6_avisos_detalle.csv\"),\n    pd.read_csv(\"../input/datosdatos/ENTfiuba_6_avisos_detalle.csv\"),\n    pd.read_csv(\"../input/datosdatos/MISfiuba_6_avisos_detalle_missing_nivel_laboral.csv\")\n])\navisos.head()",
      "execution_count": null,
      "outputs": []
    },
    {
      "metadata": {
        "trusted": true,
        "_uuid": "b40147cd96bc7610db52b766674597eed9ac8a82",
        "collapsed": true
      },
      "cell_type": "code",
      "source": "# Solo me quedo con las areas\navisos = avisos[['idaviso', 'nombre_area']]\navisos.head()",
      "execution_count": null,
      "outputs": []
    },
    {
      "metadata": {
        "trusted": true,
        "collapsed": true,
        "_uuid": "bfaa21a23da9072a72f936c468a81b966aab1978"
      },
      "cell_type": "code",
      "source": "avisos.drop_duplicates(subset='idaviso', inplace=True)",
      "execution_count": null,
      "outputs": []
    },
    {
      "metadata": {
        "trusted": true,
        "_uuid": "d1a18e2efcebb35ae828b203fd603aac0fcd2ec4",
        "collapsed": true
      },
      "cell_type": "code",
      "source": "avisos.isnull().sum()",
      "execution_count": null,
      "outputs": []
    },
    {
      "metadata": {
        "_uuid": "9922b14e225b15caa46e04b0be413269a47e17a2"
      },
      "cell_type": "markdown",
      "source": "# POSTULACIONES"
    },
    {
      "metadata": {
        "trusted": true,
        "_uuid": "207ee5224c677ab673edb856ebe8a71b64e8a0b1",
        "collapsed": true
      },
      "cell_type": "code",
      "source": "postulaciones = pd.concat([\n    pd.read_csv('../input/datos/fiuba_4_postulaciones.csv'),\n    pd.read_csv('../input/datosdatos/ENTfiuba_4_postulaciones.csv'),\n])\npostulaciones.head()",
      "execution_count": null,
      "outputs": []
    },
    {
      "metadata": {
        "trusted": true,
        "_uuid": "129a21eabc5b16ec40e75a8a63a542f2cf5cc0f7",
        "collapsed": true
      },
      "cell_type": "code",
      "source": "postulaciones = postulaciones[['idaviso', 'idpostulante']]\npostulaciones.head()",
      "execution_count": null,
      "outputs": []
    },
    {
      "metadata": {
        "trusted": true,
        "_uuid": "acbd2f0ab3857c18f662455bb84effad441b07e6",
        "collapsed": true
      },
      "cell_type": "code",
      "source": "# Busco las areas mas postuladas\npostulaciones_area = pd.merge(postulaciones, avisos, on='idaviso', how='inner')\npostulaciones_area.head()",
      "execution_count": null,
      "outputs": []
    },
    {
      "metadata": {
        "trusted": true,
        "_uuid": "2d5d6c45b6e086efc36dfb8b0fcbfc902d51241d",
        "collapsed": true
      },
      "cell_type": "code",
      "source": "postulaciones_area['nombre_area'].value_counts().head()",
      "execution_count": null,
      "outputs": []
    },
    {
      "metadata": {
        "trusted": true,
        "_uuid": "7f09c8ff3e94242148e3ee397f46d448830bc29f",
        "collapsed": true
      },
      "cell_type": "code",
      "source": "areas_mas_postuladas = postulaciones_area['nombre_area'].value_counts().head(CANT_AREAS).index",
      "execution_count": null,
      "outputs": []
    },
    {
      "metadata": {
        "trusted": true,
        "_uuid": "c4382821436cdf8a9250eb2a3474ba6d8b02bbcc",
        "collapsed": true
      },
      "cell_type": "code",
      "source": "avisos['nombre_area'] = avisos['nombre_area'].apply(lambda x: x if x in areas_mas_postuladas else 'Otro')\navisos.head()",
      "execution_count": null,
      "outputs": []
    },
    {
      "metadata": {
        "trusted": true,
        "_uuid": "4a81ea832f358a0f49184ac8dbd1f06f098eeef4",
        "collapsed": true
      },
      "cell_type": "code",
      "source": "dummies_area = pd.get_dummies(avisos['nombre_area'])\ndummies_area.head()",
      "execution_count": null,
      "outputs": []
    },
    {
      "metadata": {
        "trusted": true,
        "_uuid": "83b18cc77212c5eb306c6c124d615c9f7edc1b7b",
        "collapsed": true
      },
      "cell_type": "code",
      "source": "# Con esto identifico a los avisos\navisos = pd.concat([avisos, dummies_area], axis=1)\navisos.drop(columns='nombre_area', inplace=True)\navisos.head()",
      "execution_count": null,
      "outputs": []
    },
    {
      "metadata": {
        "trusted": true,
        "_uuid": "cc9bed57894cc6b186eeebcee9087485239f1cdd",
        "collapsed": true
      },
      "cell_type": "code",
      "source": "postulaciones_area.head()",
      "execution_count": null,
      "outputs": []
    },
    {
      "metadata": {
        "trusted": true,
        "_uuid": "aa82d76ae4a2eea87b726163cea45ca525b19b8a",
        "collapsed": true
      },
      "cell_type": "code",
      "source": "# Busco a que areas se estuvo postulando cada usuario\npostulaciones_area = pd.merge(postulaciones_area, avisos, on='idaviso', how='inner')\npostulaciones_area.head()",
      "execution_count": null,
      "outputs": []
    },
    {
      "metadata": {
        "trusted": true,
        "_uuid": "ca5084193b86eb677532a2dbb462c08375d7d6ed",
        "collapsed": true
      },
      "cell_type": "code",
      "source": "postulaciones_usuarios = postulaciones_area.drop(columns=['idaviso', 'nombre_area']).pivot_table(index='idpostulante', aggfunc='sum')\npostulaciones_usuarios.head()",
      "execution_count": null,
      "outputs": []
    },
    {
      "metadata": {
        "trusted": true,
        "_uuid": "df6c0e7728f5d9ccb87e6d04af9e8e714d4ac474",
        "collapsed": true
      },
      "cell_type": "code",
      "source": "nuevos_nombres = []\nfor columna in postulaciones_usuarios.columns:\n    nuevos_nombres.append('post_' + columna)\npostulaciones_usuarios.columns = nuevos_nombres\npostulaciones_usuarios.head()",
      "execution_count": null,
      "outputs": []
    },
    {
      "metadata": {
        "trusted": true,
        "_uuid": "24d0c2ff4bf995424263730318f91153fadd82b5",
        "collapsed": true
      },
      "cell_type": "code",
      "source": "# Con esto identifico a los usuarios\npostulaciones_usuarios.head()",
      "execution_count": null,
      "outputs": []
    },
    {
      "metadata": {
        "_uuid": "6b39852e14c85c070c6f4261e1fbea8aa4ba5df2"
      },
      "cell_type": "markdown",
      "source": "# Datos"
    },
    {
      "metadata": {
        "trusted": true,
        "_uuid": "0fef8f4756f799e6d0eb3b29a4e8c5dd9021399b",
        "collapsed": true
      },
      "cell_type": "code",
      "source": "postulaciones.head()",
      "execution_count": null,
      "outputs": []
    },
    {
      "metadata": {
        "trusted": true,
        "_uuid": "e7023a5beb25abc4cfa8b0df4bb2d457b0789892",
        "collapsed": true
      },
      "cell_type": "code",
      "source": "postulaciones_area.head()",
      "execution_count": null,
      "outputs": []
    },
    {
      "metadata": {
        "trusted": true,
        "_uuid": "84635fb34d4af9ee8f13d3653fbc545d93f3dc0a",
        "collapsed": true
      },
      "cell_type": "code",
      "source": "datos = pd.merge(postulaciones_area, postulaciones_usuarios, on='idpostulante', how='inner')\ndatos.head()",
      "execution_count": null,
      "outputs": []
    },
    {
      "metadata": {
        "trusted": true,
        "_uuid": "9efe9b86585da9ad40540f203e6e2183938a7316",
        "collapsed": true
      },
      "cell_type": "code",
      "source": "datos.drop(columns='nombre_area', inplace=True)\ndatos.head()",
      "execution_count": null,
      "outputs": []
    },
    {
      "metadata": {
        "trusted": true,
        "collapsed": true,
        "_uuid": "dcd0120c0f2fa7b42d3fff158fa97ad8b18b32d9"
      },
      "cell_type": "code",
      "source": "# todos estos son los postulados\ndatos['sepostula'] = 1",
      "execution_count": null,
      "outputs": []
    },
    {
      "metadata": {
        "trusted": true,
        "_uuid": "34f32e0da18448ab2907859cb004ef287dc0a526",
        "collapsed": true
      },
      "cell_type": "code",
      "source": "datos.isnull().sum()",
      "execution_count": null,
      "outputs": []
    },
    {
      "metadata": {
        "_uuid": "69073969afe0b8cc2622d623c247467a3402cee8"
      },
      "cell_type": "markdown",
      "source": "# Generacion de no postulados "
    },
    {
      "metadata": {
        "trusted": true,
        "_uuid": "9634f2d1d9130467a3b1d4ccea0544f0a2555ac9",
        "collapsed": true
      },
      "cell_type": "code",
      "source": "# Mezclo\navisos = avisos.sample(frac=1)\navisos.head()",
      "execution_count": null,
      "outputs": []
    },
    {
      "metadata": {
        "trusted": true,
        "_uuid": "27d1ae747000553a5e81ecd887d1b37252d3221e",
        "collapsed": true
      },
      "cell_type": "code",
      "source": "# Mezclo\npostulaciones_usuarios = postulaciones_usuarios.sample(frac=1)\npostulaciones_usuarios.reset_index(inplace=True)\npostulaciones_usuarios.head()",
      "execution_count": null,
      "outputs": []
    },
    {
      "metadata": {
        "trusted": true,
        "_uuid": "f451f981c11d254b7c2722818a9beab3b6995427",
        "collapsed": true
      },
      "cell_type": "code",
      "source": "# Uno en mismo dataframe\nFACTOR = 0.5\navis = avisos.sample(n=TAM, replace=True)\nusers = postulaciones_usuarios.sample(n=TAM, replace=True)",
      "execution_count": null,
      "outputs": []
    },
    {
      "metadata": {
        "trusted": true,
        "_uuid": "377e071e9a8c8ed60ff8e34ca014efaf456764f5",
        "collapsed": true
      },
      "cell_type": "code",
      "source": "users.reset_index(drop=True, inplace=True)\nusers.head()",
      "execution_count": null,
      "outputs": []
    },
    {
      "metadata": {
        "trusted": true,
        "_uuid": "d5e3f47777d34ccfd7d94f7f0f92aebab3094832",
        "collapsed": true
      },
      "cell_type": "code",
      "source": "avis.reset_index(drop=True, inplace=True)\navis.head()",
      "execution_count": null,
      "outputs": []
    },
    {
      "metadata": {
        "trusted": true,
        "_uuid": "976d4a807218dec385e94c5c2c6e1ee88c8fcd6d",
        "collapsed": true
      },
      "cell_type": "code",
      "source": "datos_nopost = pd.concat([avis, users], axis=1)\ndatos_nopost.head()",
      "execution_count": null,
      "outputs": []
    },
    {
      "metadata": {
        "trusted": true,
        "_uuid": "1c8f7a50b6886bd93d471c866fe17e5534a52bb5",
        "collapsed": true
      },
      "cell_type": "code",
      "source": "datos_nopost['sepostula'] = 0",
      "execution_count": null,
      "outputs": []
    },
    {
      "metadata": {
        "trusted": true,
        "_uuid": "6184722cae8cb629adcfc0b58e69b901fde96162",
        "collapsed": true
      },
      "cell_type": "code",
      "source": "# UNo ambros dataframs\ndf = pd.concat([datos.sample(n=TAM), datos_nopost])\ndf.head()",
      "execution_count": null,
      "outputs": []
    },
    {
      "metadata": {
        "trusted": true,
        "_uuid": "25133187cd762f2432444faf965a6c5d77fbe921",
        "collapsed": true
      },
      "cell_type": "code",
      "source": "# Con eso tengo mis datos\ndf.drop_duplicates(subset=['idaviso', 'idpostulante'], inplace=True)",
      "execution_count": null,
      "outputs": []
    },
    {
      "metadata": {
        "trusted": true,
        "_uuid": "34549aa32890495338abaa4de0fe06dd59a8f243",
        "collapsed": true
      },
      "cell_type": "code",
      "source": "# ordeno las columnas por nombre\ndf.sort_index(axis=1, inplace=True)\ndf.head()",
      "execution_count": null,
      "outputs": []
    },
    {
      "metadata": {
        "_uuid": "76c663531a2d4fcac2e7aaf0badb1fc68693097a"
      },
      "cell_type": "markdown",
      "source": "# ALGORITMOS DE MACHINE LEARNING"
    },
    {
      "metadata": {
        "trusted": true,
        "_uuid": "2ff373ceaf373a5949da3c1db85f76a5bc69323f",
        "collapsed": true
      },
      "cell_type": "code",
      "source": "df.reset_index(drop=True,inplace=True)\ndf.head()",
      "execution_count": null,
      "outputs": []
    },
    {
      "metadata": {
        "trusted": true,
        "_uuid": "651724ef0e0dfc56336450c7a805950a81925d9b",
        "collapsed": true
      },
      "cell_type": "code",
      "source": "X = df.drop(columns=['idaviso', 'idpostulante', 'sepostula'])\nX.head()",
      "execution_count": null,
      "outputs": []
    },
    {
      "metadata": {
        "trusted": true,
        "_uuid": "f8c6ebc5a0628b04cb08554104c7c3fa252d26f9",
        "collapsed": true
      },
      "cell_type": "code",
      "source": "y = df['sepostula']\ny.head()",
      "execution_count": null,
      "outputs": []
    },
    {
      "metadata": {
        "trusted": true,
        "collapsed": true,
        "_uuid": "9154f664ffb0375e88a37b34712ba81ddd8eb89f"
      },
      "cell_type": "code",
      "source": "X_train, X_test, y_train, y_test = train_test_split(X, y, test_size=0.33)",
      "execution_count": null,
      "outputs": []
    },
    {
      "metadata": {
        "trusted": true,
        "collapsed": true,
        "_uuid": "c447470773778f9fb3a71618612b739c1869a080"
      },
      "cell_type": "code",
      "source": "scaler = StandardScaler()  \nscaler.fit(X_train)\nX_train = scaler.transform(X_train)  \nX_test = scaler.transform(X_test)  ",
      "execution_count": null,
      "outputs": []
    },
    {
      "metadata": {
        "trusted": true,
        "_uuid": "6f74196ec3f52d9a7cc6766437906a1c4601e646",
        "collapsed": true
      },
      "cell_type": "code",
      "source": "clf = GaussianNB()\nclf.fit(X_train,y_train)\ny_pred = clf.predict(X_test)  \nprint('accuracy: {0:.2f}%'.format(accuracy_score(y_test,y_pred)*100))",
      "execution_count": null,
      "outputs": []
    },
    {
      "metadata": {
        "_uuid": "3852213640671a66056e6d360b88d6d9411af05e"
      },
      "cell_type": "markdown",
      "source": "# DATOS FINAL"
    },
    {
      "metadata": {
        "trusted": true,
        "collapsed": true,
        "_uuid": "e6b543aa324fcac1b49bcba53f74efbe64295026"
      },
      "cell_type": "code",
      "source": "final100k = pd.read_csv(\"../input/finalfinal/test_final_100k.csv\")",
      "execution_count": null,
      "outputs": []
    },
    {
      "metadata": {
        "trusted": true,
        "_uuid": "19bb718a4474c1d4f2765b25a340531a36f27c86",
        "collapsed": true
      },
      "cell_type": "code",
      "source": "final100k.head()",
      "execution_count": null,
      "outputs": []
    },
    {
      "metadata": {
        "trusted": true,
        "_uuid": "cca6befed1d3fb215236a00eca2a887ce0c8875b",
        "collapsed": true
      },
      "cell_type": "code",
      "source": "postulaciones_usuarios.head()",
      "execution_count": null,
      "outputs": []
    },
    {
      "metadata": {
        "trusted": true,
        "_uuid": "955dd584ef71f834552766002bea4dedc5d7fee0",
        "collapsed": true
      },
      "cell_type": "code",
      "source": "datos_final = pd.merge(final100k, postulaciones_usuarios, on='idpostulante', how='left')\ndatos_final.head()",
      "execution_count": null,
      "outputs": []
    },
    {
      "metadata": {
        "trusted": true,
        "_uuid": "1d3335608bcd902c638a05f830630a7e1a53e6b4",
        "collapsed": true
      },
      "cell_type": "code",
      "source": "# Relleno con 0\ndatos_final.fillna(0, inplace=True)",
      "execution_count": null,
      "outputs": []
    },
    {
      "metadata": {
        "trusted": true,
        "_uuid": "104bff7159f947ae0a55ae62d19dfe727750511a",
        "collapsed": true
      },
      "cell_type": "code",
      "source": "datos_final = pd.merge(datos_final, avisos, on='idaviso', how='left')\ndatos_final.sort_index(axis=1, inplace=True)\ndatos_final.head()",
      "execution_count": null,
      "outputs": []
    },
    {
      "metadata": {
        "_uuid": "e132ce2f9e3b83048a7d350802da1da153dbb0ef"
      },
      "cell_type": "markdown",
      "source": "# PREDICCION"
    },
    {
      "metadata": {
        "trusted": true,
        "_uuid": "344e4ca6ed3f206dfae266ac7397ebd66db683b7",
        "collapsed": true
      },
      "cell_type": "code",
      "source": "datos_final.head()",
      "execution_count": null,
      "outputs": []
    },
    {
      "metadata": {
        "trusted": true,
        "_uuid": "c318f16405eda5e5dec283f2627fcea959f7cc88",
        "collapsed": true
      },
      "cell_type": "code",
      "source": "X_final = datos_final.drop(columns=['idpostulante', 'idaviso', 'id'])\nX_final.head()",
      "execution_count": null,
      "outputs": []
    },
    {
      "metadata": {
        "trusted": true,
        "collapsed": true,
        "_uuid": "42d68c2c28da5c8d5ede0bc357afb442bbc637f6"
      },
      "cell_type": "code",
      "source": "y_final = clf.predict(X_final)",
      "execution_count": null,
      "outputs": []
    },
    {
      "metadata": {
        "_uuid": "d97ea33b468443f0b49ea5d324d45fb777e9e75e"
      },
      "cell_type": "markdown",
      "source": "# SUMMIT"
    },
    {
      "metadata": {
        "trusted": true,
        "_uuid": "fe9aaca8215a645345d16b1b5a8584dc579ef3ab",
        "collapsed": true
      },
      "cell_type": "code",
      "source": "y_summit = pd.DataFrame(y_final)\ny_summit.columns = ['sepostulo']\ny_summit.head()",
      "execution_count": null,
      "outputs": []
    },
    {
      "metadata": {
        "trusted": true,
        "_uuid": "5f67e6bfe0cfa764a042f3dcae2219b4275881f7",
        "collapsed": true
      },
      "cell_type": "code",
      "source": "summit = y_summit.reset_index()\nsummit.head()",
      "execution_count": null,
      "outputs": []
    },
    {
      "metadata": {
        "trusted": true,
        "_uuid": "14a92251a164ffdaf1fdb274b5b83f66ad6ffd3e",
        "collapsed": true
      },
      "cell_type": "code",
      "source": "summit.rename(columns={'index':'id'}, inplace=True)\nsummit.head()",
      "execution_count": null,
      "outputs": []
    },
    {
      "metadata": {
        "trusted": true,
        "collapsed": true,
        "_uuid": "7c0f7511d4e6ca1a60cca85e9b4dc3949f668a0e"
      },
      "cell_type": "code",
      "source": "# Guardo los datos\nsummit.to_csv(\"summitGSNB.csv\", index=False)",
      "execution_count": null,
      "outputs": []
    },
    {
      "metadata": {
        "trusted": true,
        "collapsed": true,
        "_uuid": "162b4b12f5696cdb031d378da39c38a5fd0bcb86"
      },
      "cell_type": "code",
      "source": "",
      "execution_count": null,
      "outputs": []
    }
  ],
  "metadata": {
    "kernelspec": {
      "display_name": "Python 3",
      "language": "python",
      "name": "python3"
    },
    "language_info": {
      "name": "python",
      "version": "3.6.5",
      "mimetype": "text/x-python",
      "codemirror_mode": {
        "name": "ipython",
        "version": 3
      },
      "pygments_lexer": "ipython3",
      "nbconvert_exporter": "python",
      "file_extension": ".py"
    }
  },
  "nbformat": 4,
  "nbformat_minor": 1
}