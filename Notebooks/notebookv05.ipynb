{
  "cells": [
    {
      "metadata": {
        "_uuid": "8f2839f25d086af736a60e9eeb907d3b93b6e0e5",
        "_cell_guid": "b1076dfc-b9ad-4769-8c92-a6c4dae69d19",
        "trusted": true,
        "collapsed": true
      },
      "cell_type": "code",
      "source": "import pandas as pd\nimport numpy as np\nimport datetime as DT\nfrom sklearn.model_selection import train_test_split\nfrom sklearn.preprocessing import StandardScaler\nfrom sklearn.linear_model import Perceptron\nfrom sklearn.metrics import accuracy_score\nimport random\nfrom sklearn import tree\nfrom sklearn.neighbors import KNeighborsClassifier  \nfrom sklearn.tree import DecisionTreeClassifier  \nfrom sklearn.naive_bayes import GaussianNB, BernoulliNB, MultinomialNB\nfrom sklearn.neural_network import MLPClassifier\nfrom sklearn.ensemble import RandomForestClassifier\nimport gc\nfrom scipy.stats.mstats import mode\nimport scipy",
      "execution_count": null,
      "outputs": []
    },
    {
      "metadata": {
        "_cell_guid": "79c7e3d0-c299-4dcb-8224-4455121ee9b0",
        "collapsed": true,
        "_uuid": "d629ff2d2480ee46fbb7e2d37f6b5fab8052498a",
        "trusted": false
      },
      "cell_type": "markdown",
      "source": "\n# Idea\nCaracterizar a usuarios y avisos mediante sus propios atributos y relaciones entre ellos.\nSe tomaran en cuenta para este notebook.\n\n- Usuarios\n    - Propios:\n        - sexo: 1 hombre, 0 mujer y otros.\n    - De avisos:\n        - Proporcion de vistas sobre las areas mas postuladas\n- Avisos\n    - Propios\n        - Area dentro de las mas postuladas\n    - De usuarios:\n        - Proporcion de hombres/mujeres que se postulan al aviso\n        "
    },
    {
      "metadata": {
        "_uuid": "0f8ebb15bbff3d19540b0daac8878443695b9b83"
      },
      "cell_type": "markdown",
      "source": "# 1. Usuarios"
    },
    {
      "metadata": {
        "_uuid": "862ec5769cd75144dd27e8b0079c866bc82d947d"
      },
      "cell_type": "markdown",
      "source": "## 1.1 Genero "
    },
    {
      "metadata": {
        "trusted": true,
        "_uuid": "6581f218a1130e3e2e51b0f0eafd64d6779e4d44",
        "collapsed": true
      },
      "cell_type": "code",
      "source": "genyedad = pd.concat([\n    pd.read_csv(\"../input/datos/fiuba_2_postulantes_genero_y_edad.csv\"),\n    pd.read_csv(\"../input/datosdatos/DESfiuba_2_postulantes_genero_y_edad.csv\"),\n    pd.read_csv(\"../input/datosdatos/ENTfiuba_2_postulantes_genero_y_edad.csv\")\n])\ngenyedad.head()",
      "execution_count": null,
      "outputs": []
    },
    {
      "metadata": {
        "trusted": true,
        "collapsed": true,
        "_uuid": "63511792151e83287a77911e7f889835c62cc125"
      },
      "cell_type": "code",
      "source": "genyedad.drop_duplicates(subset=['idpostulante'], inplace=True)",
      "execution_count": null,
      "outputs": []
    },
    {
      "metadata": {
        "trusted": true,
        "_uuid": "baa35f3e1a89ca7f925a0e9f9d2de08fc9394901",
        "collapsed": true
      },
      "cell_type": "code",
      "source": "genyedad.isnull().sum()",
      "execution_count": null,
      "outputs": []
    },
    {
      "metadata": {
        "trusted": true,
        "_uuid": "c479b768fbb4cec50b1513bc0d0af18f277d0db7",
        "collapsed": true
      },
      "cell_type": "code",
      "source": "genyedad['fechanacimiento'] = pd.to_datetime(genyedad['fechanacimiento'], errors='coerce')\ngenyedad['fechanacimiento'] = 2018 - genyedad['fechanacimiento'].dt.year\ngenyedad.rename(columns={'fechanacimiento':'edad'}, inplace=True)\ngenyedad.head()",
      "execution_count": null,
      "outputs": []
    },
    {
      "metadata": {
        "trusted": true,
        "_uuid": "512cd20580baccd6339470a24d648893102c7120",
        "collapsed": true
      },
      "cell_type": "code",
      "source": "genyedad.isnull().sum()",
      "execution_count": null,
      "outputs": []
    },
    {
      "metadata": {
        "trusted": true,
        "_uuid": "9a3d7a678bd3e570eda399c9cdd9fa89b3e0659c",
        "collapsed": true
      },
      "cell_type": "code",
      "source": "genyedad['edad'].fillna(genyedad['edad'].mean(), inplace=True)\ngenyedad.isnull().sum()",
      "execution_count": null,
      "outputs": []
    },
    {
      "metadata": {
        "trusted": true,
        "_uuid": "6bf4af2624dd7cca0e262be42155f2d56ae46114",
        "collapsed": true
      },
      "cell_type": "code",
      "source": "# Sexo\n# 1 MASC\n# 0 FEM y otro\ngenyedad['sexo'] = genyedad['sexo'].apply(lambda x: 1 if x =='MASC' else 0)\ngenyedad = genyedad.astype({'sexo':'uint8'})\ngenyedad.head()\n",
      "execution_count": null,
      "outputs": []
    },
    {
      "metadata": {
        "trusted": true,
        "_uuid": "75e10e78e9e65c556eb1d456cb6639ec80af1c61",
        "collapsed": true
      },
      "cell_type": "code",
      "source": "gc.collect()",
      "execution_count": null,
      "outputs": []
    },
    {
      "metadata": {
        "trusted": true,
        "_uuid": "ad7a7f8b624bdc8ff9e6013389ad3bc71d401f4b",
        "collapsed": true
      },
      "cell_type": "code",
      "source": "# Por convencion llamo a usuarios a los datos que caracterizan a los postulantes con sus propios datos\nusuarios = genyedad\nusuarios.head()",
      "execution_count": null,
      "outputs": []
    },
    {
      "metadata": {
        "trusted": true,
        "_uuid": "d326910d941d3a6430dad18bf620408063bd6bdc",
        "collapsed": true
      },
      "cell_type": "code",
      "source": "usuarios.isnull().sum()",
      "execution_count": null,
      "outputs": []
    },
    {
      "metadata": {
        "_uuid": "40d7a37a846293a912780df7166b84aa007a601c"
      },
      "cell_type": "markdown",
      "source": "# 1.1 Educacion"
    },
    {
      "metadata": {
        "trusted": true,
        "_uuid": "818670d39bffa10f4914767711db7f5abd47f41e",
        "collapsed": true
      },
      "cell_type": "code",
      "source": "educacion = pd.concat([\n    pd.read_csv(\"../input/datos/fiuba_1_postulantes_educacion.csv\"),\n    pd.read_csv(\"../input/datosdatos/DESfiuba_1_postulantes_educacion.csv\"),\n    pd.read_csv(\"../input/datosdatos/ENTfiuba_1_postulantes_educacion.csv\")\n])\neducacion.head()",
      "execution_count": null,
      "outputs": []
    },
    {
      "metadata": {
        "trusted": true,
        "_uuid": "116b93f987630f1cfbb60237a04f63f3ebebe92d",
        "collapsed": true
      },
      "cell_type": "code",
      "source": "educacion.info()",
      "execution_count": null,
      "outputs": []
    },
    {
      "metadata": {
        "trusted": true,
        "_uuid": "14c1e94a12e1fe236039c2840df942bd835aa3bf",
        "collapsed": true
      },
      "cell_type": "code",
      "source": "educacion.isnull().sum()",
      "execution_count": null,
      "outputs": []
    },
    {
      "metadata": {
        "trusted": true,
        "_uuid": "9b0ea2dc648b6900a2acb6c755431a050b97cef1",
        "collapsed": true
      },
      "cell_type": "code",
      "source": "# Nos quedamos con los graduados\neducacion = educacion[educacion['estado'] == 'Graduado']\neducacion.drop(columns='estado',inplace=True)\neducacion.head()",
      "execution_count": null,
      "outputs": []
    },
    {
      "metadata": {
        "trusted": true,
        "_uuid": "54d88722f57cffdacdc9acbf9dce6117eddcd453",
        "collapsed": true
      },
      "cell_type": "code",
      "source": "educacion.drop_duplicates(subset=['idpostulante','nombre'], inplace=True)",
      "execution_count": null,
      "outputs": []
    },
    {
      "metadata": {
        "trusted": true,
        "_uuid": "148eda7a6ce5dd8948470357b0eb349967038ad6",
        "collapsed": true
      },
      "cell_type": "code",
      "source": "educacion['nombre'].value_counts()",
      "execution_count": null,
      "outputs": []
    },
    {
      "metadata": {
        "trusted": true,
        "collapsed": true,
        "_uuid": "f0e8e2a22a491663be4f9ecd5d2854869e57bd63"
      },
      "cell_type": "code",
      "source": "# Anios de formacion academica despues de la secundaria (aprox)\nformacion = {\n    'Secundario':0,\n    'Terciario/Técnico':3,\n    'Universitario':5,\n    'Posgrado':6,\n    'Master':7,\n    'Doctorado':10\n}",
      "execution_count": null,
      "outputs": []
    },
    {
      "metadata": {
        "trusted": true,
        "_uuid": "9fe25af27eb28f723f03f16d97fd3b0579f02d37",
        "collapsed": true
      },
      "cell_type": "code",
      "source": "educacion['nombre'] = educacion['nombre'].apply(lambda x: formacion[x] if x in formacion else 0)\neducacion.head()",
      "execution_count": null,
      "outputs": []
    },
    {
      "metadata": {
        "trusted": true,
        "collapsed": true,
        "_uuid": "237c940963d0b53ebb0f57d3af90995ef3779fee"
      },
      "cell_type": "code",
      "source": "educacion.rename(columns={'nombre':'formacion'}, inplace=True)",
      "execution_count": null,
      "outputs": []
    },
    {
      "metadata": {
        "trusted": true,
        "_uuid": "e02fcb40901d2c4c1cf710b6278c9f6adbcc9ba5",
        "collapsed": true
      },
      "cell_type": "code",
      "source": "educacion['formacion'].mean()",
      "execution_count": null,
      "outputs": []
    },
    {
      "metadata": {
        "trusted": true,
        "_uuid": "7d3ca31a6ba21a52ea72d9f615b9c848addcdfa8",
        "collapsed": true
      },
      "cell_type": "code",
      "source": "# caracterizo al usuarios por su mayor nivel academico alcanzado\neducacion = educacion.pivot_table(index='idpostulante', aggfunc='max')\neducacion.reset_index(inplace=True)\neducacion.head()",
      "execution_count": null,
      "outputs": []
    },
    {
      "metadata": {
        "_uuid": "10b15a83a5dd8c17646edfe4517b92a888c74c99"
      },
      "cell_type": "markdown",
      "source": "# 1.2 Caracterizacion de usuarios"
    },
    {
      "metadata": {
        "trusted": true,
        "_uuid": "cd0313a66095da4dd85ef58d40787ef5065dc735",
        "collapsed": true
      },
      "cell_type": "code",
      "source": "genyedad.isnull().sum()",
      "execution_count": null,
      "outputs": []
    },
    {
      "metadata": {
        "trusted": true,
        "_uuid": "77fb039ecc1357d0bb542466381dada3e6ebc747",
        "collapsed": true
      },
      "cell_type": "code",
      "source": "educacion.isnull().sum()",
      "execution_count": null,
      "outputs": []
    },
    {
      "metadata": {
        "trusted": true,
        "_uuid": "1f3320238a6797926929c94ab0872f0d856bf5d3",
        "collapsed": true
      },
      "cell_type": "code",
      "source": "usuarios = pd.merge(genyedad, educacion, on='idpostulante', how='outer')\nusuarios.head()",
      "execution_count": null,
      "outputs": []
    },
    {
      "metadata": {
        "trusted": true,
        "_uuid": "0e6968e20c8d27c7e37399d7fddc4020dc40832a",
        "collapsed": true
      },
      "cell_type": "code",
      "source": "usuarios.isnull().sum()",
      "execution_count": null,
      "outputs": []
    },
    {
      "metadata": {
        "trusted": true,
        "_uuid": "0f0cace2c738ecf9fc7a1bf4f0cf1b0a5d446b85",
        "collapsed": true
      },
      "cell_type": "code",
      "source": "# relleno los anios de formacion academica con el promedio.\nusuarios['formacion'] = usuarios['formacion'].fillna(usuarios['formacion'].mean())\nusuarios.isnull().sum()",
      "execution_count": null,
      "outputs": []
    },
    {
      "metadata": {
        "trusted": true,
        "_uuid": "dfc11ae8e8301d77af0e58d8d617611b7d1aa286",
        "collapsed": true
      },
      "cell_type": "code",
      "source": "usuarios.head()",
      "execution_count": null,
      "outputs": []
    },
    {
      "metadata": {
        "_uuid": "e87c5fd53c7fd8b7bec6ef8db5cdc9b933fe648c"
      },
      "cell_type": "markdown",
      "source": "# 2. Areas mas postuladas\n"
    },
    {
      "metadata": {
        "trusted": true,
        "_uuid": "0e43ed37d4d5b1b5a5cd1c51e1e4a693987bde2a",
        "collapsed": true
      },
      "cell_type": "code",
      "source": "postulaciones = pd.concat([\n    pd.read_csv('../input/datos/fiuba_4_postulaciones.csv'),\n    pd.read_csv('../input/datosdatos/ENTfiuba_4_postulaciones.csv'),\n])\npostulaciones.head()",
      "execution_count": null,
      "outputs": []
    },
    {
      "metadata": {
        "trusted": true,
        "_uuid": "af7ef5d47b5c560ee3bdf6b0bb87422d5617cad4",
        "collapsed": true
      },
      "cell_type": "code",
      "source": "postulaciones.isnull().sum()",
      "execution_count": null,
      "outputs": []
    },
    {
      "metadata": {
        "trusted": true,
        "_uuid": "ec326b60d6577696df526369c8ebb6c596180c81",
        "collapsed": true
      },
      "cell_type": "code",
      "source": "postulaciones.drop(columns='fechapostulacion', inplace=True)\npostulaciones.head()",
      "execution_count": null,
      "outputs": []
    },
    {
      "metadata": {
        "trusted": true,
        "_uuid": "f76135148b5cc3bee90cd2bfee8355836c73a609",
        "collapsed": true
      },
      "cell_type": "code",
      "source": "postulaciones.drop_duplicates(subset=['idaviso','idpostulante'], inplace=True)",
      "execution_count": null,
      "outputs": []
    },
    {
      "metadata": {
        "trusted": true,
        "_uuid": "4e1d2c6f3e28253ac01d1361312106a0435ad0a8",
        "collapsed": true
      },
      "cell_type": "code",
      "source": "gc.collect()",
      "execution_count": null,
      "outputs": []
    },
    {
      "metadata": {
        "_uuid": "c6aecaa7ebe6b7230632fdf618a39ef365beadb4"
      },
      "cell_type": "markdown",
      "source": "## 2.1 Avisos"
    },
    {
      "metadata": {
        "trusted": true,
        "_uuid": "23e46cd5c0de0f11cf86992055fa59deab5459d0",
        "collapsed": true
      },
      "cell_type": "code",
      "source": "avisos = pd.concat([\n    pd.read_csv(\"../input/datos/fiuba_6_avisos_detalle.csv\"),\n    pd.read_csv(\"../input/datosdatos/DESfiuba_6_avisos_detalle.csv\"),\n    pd.read_csv(\"../input/datosdatos/ENTfiuba_6_avisos_detalle.csv\"),\n    pd.read_csv(\"../input/datosdatos/MISfiuba_6_avisos_detalle_missing_nivel_laboral.csv\")\n])\navisos.head()",
      "execution_count": null,
      "outputs": []
    },
    {
      "metadata": {
        "trusted": true,
        "collapsed": true,
        "_uuid": "7a6bd38bbf30f5ba0c31b7b694b4eec1030440f6"
      },
      "cell_type": "code",
      "source": "avisos.drop_duplicates(subset='idaviso', inplace=True)",
      "execution_count": null,
      "outputs": []
    },
    {
      "metadata": {
        "trusted": true,
        "_uuid": "1ebd74b136ac1059d5d06388208dd4909a9e7b15",
        "collapsed": true
      },
      "cell_type": "code",
      "source": "# Los tipicos que estan llenos de nul\navisos.drop(columns=['idpais', 'titulo', 'descripcion', 'ciudad', 'mapacalle', 'denominacion_empresa'], inplace=True)\navisos.head()",
      "execution_count": null,
      "outputs": []
    },
    {
      "metadata": {
        "trusted": true,
        "_uuid": "4654124d12f495bbd3d48d0f5f54e99e70c63ddf",
        "collapsed": true
      },
      "cell_type": "code",
      "source": "gc.collect()",
      "execution_count": null,
      "outputs": []
    },
    {
      "metadata": {
        "trusted": true,
        "_uuid": "80512aa530d501b8f6a02841e06eb500f5680d4b",
        "collapsed": true
      },
      "cell_type": "code",
      "source": "# Zona\n# 1 GBA\n# 0 otros\navisos['nombre_zona'] = avisos['nombre_zona'].apply(lambda x: 1 if x == 'Gran Buenos Aires' else 0)",
      "execution_count": null,
      "outputs": []
    },
    {
      "metadata": {
        "trusted": true,
        "collapsed": true,
        "_uuid": "4bed3a3714484dc69aded63b4bd4109f0a7f8e11"
      },
      "cell_type": "code",
      "source": "# Tipo de trabajo\n# 9 Full-time\n# 6 Part-time\n# 4 otros\n# El numero estaria representando mayor cantidad de horas semanales de trabajo.\navisos['tipo_de_trabajo'] = avisos['tipo_de_trabajo'].apply(lambda x: 9 if x == 'Full-time' else (6 if x == 'Part-time' else 4))",
      "execution_count": null,
      "outputs": []
    },
    {
      "metadata": {
        "trusted": true,
        "_uuid": "3fcd386cb1094aabcf3e14c3ae2854f379d9ff97",
        "collapsed": true
      },
      "cell_type": "code",
      "source": "# Nivel laboral\n# Orden jerarquico\n# N: representa el sueldo, al subir de nivel jerarquico deberia duplicarse\nnivel = {\n    'Gerencia / Alta Gerencia / Dirección': 16,   \n    'Jefe / Supervisor / Responsable': 8,        \n    'Senior / Semi-Senior': 4,                    \n    'Junior': 2,                                   \n    'Otro': 1,                                    \n}\navisos['nivel_laboral'] = avisos['nivel_laboral'].apply(lambda x: nivel[x] if x in nivel else 0)",
      "execution_count": null,
      "outputs": []
    },
    {
      "metadata": {
        "trusted": true,
        "_uuid": "6c919efca6f20c88746bdb634cc9610078032a47",
        "collapsed": true
      },
      "cell_type": "code",
      "source": "avisos.head()",
      "execution_count": null,
      "outputs": []
    },
    {
      "metadata": {
        "trusted": true,
        "_uuid": "34718b25e8c2e66c4ad117a133d2de27ea20cab6",
        "collapsed": true
      },
      "cell_type": "code",
      "source": "avisos.isnull().sum()",
      "execution_count": null,
      "outputs": []
    },
    {
      "metadata": {
        "_uuid": "f246700bcbcc8ccf1a587303bf9cf669ab069553"
      },
      "cell_type": "markdown",
      "source": "## 2.2 Areas mas postuladas de los avisos"
    },
    {
      "metadata": {
        "trusted": true,
        "_uuid": "fdde1fff1eb8241bab14f677f98f93f10efe4f9b",
        "collapsed": true
      },
      "cell_type": "code",
      "source": "avisos_postulados = pd.merge(postulaciones, avisos,on='idaviso', how='inner')\navisos_postulados.head()",
      "execution_count": null,
      "outputs": []
    },
    {
      "metadata": {
        "trusted": true,
        "_uuid": "78f005a57282d2e51e84e32fc8a70c8355cf995d",
        "collapsed": true
      },
      "cell_type": "code",
      "source": "# Idea: OneHotEncoding esta ocupando demasiada RAM, entonces voy a asignar un numero a cada categoria que tenga sentido.\n# Este numero sera su posicion en el ranking de areas mas postulada.\n# Por que tiene sentido? Porque aquellas areas mas cercanas al 0 son las mas importantes, mientras que las mas alejadas son menos importantes.\n# Es mas probable que se postule a un area de valor bajo (0=Ventas) a uno de valor alto (185=Fonoaudiologia)\nareas_mas_postuladas = pd.DataFrame(avisos_postulados['nombre_area'].value_counts()).reset_index().reset_index()\nareas_mas_postuladas.head()",
      "execution_count": null,
      "outputs": []
    },
    {
      "metadata": {
        "trusted": true,
        "_uuid": "0a9277ce436ac1a7dd96f25713ababc0a872ab43",
        "collapsed": true
      },
      "cell_type": "code",
      "source": "areas_mas_postuladas.rename(columns={'level_0':'ranking', 'nombre_area':'cant_post'}, inplace=True)\nareas_mas_postuladas.rename(columns={'index':'nombre_area'}, inplace=True)\nareas_mas_postuladas.head()",
      "execution_count": null,
      "outputs": []
    },
    {
      "metadata": {
        "trusted": true,
        "_uuid": "dd2351f4e802cc233888f495be082d34c8a1cd6e",
        "collapsed": true
      },
      "cell_type": "code",
      "source": "dicc = areas_mas_postuladas[['nombre_area']].to_dict()\ndicc1 = dicc['nombre_area']\nranking_areas = {v: k for k, v in dicc1.items()}\nranking_areas",
      "execution_count": null,
      "outputs": []
    },
    {
      "metadata": {
        "_uuid": "cbb8eb2a22ddca80fdb00f65dc1218d0a52cda92"
      },
      "cell_type": "markdown",
      "source": "# 3. Avisos"
    },
    {
      "metadata": {
        "trusted": true,
        "_uuid": "1aaba426b7b26485a59f03a3385aac8c301155a7",
        "collapsed": true
      },
      "cell_type": "code",
      "source": "avisos.head()",
      "execution_count": null,
      "outputs": []
    },
    {
      "metadata": {
        "trusted": true,
        "_uuid": "7508b9907d56d0bcb4425067517f7c4f931f021c",
        "collapsed": true
      },
      "cell_type": "code",
      "source": "# 255 indica que es un area que no aparece en el ranking de postulaciones\navisos['nombre_area'] = avisos['nombre_area'].apply(lambda x: ranking_areas[x] if x in ranking_areas else 255)\navisos = avisos.astype({'nombre_area':'uint8'})\navisos.head()",
      "execution_count": null,
      "outputs": []
    },
    {
      "metadata": {
        "_uuid": "9f5c46a24f9fe3dfa1a3302c7ecc71d47f7aa52b"
      },
      "cell_type": "markdown",
      "source": "# 4. Vistas"
    },
    {
      "metadata": {
        "trusted": true,
        "_uuid": "a9514206104c87d2c6821a344b5874289866bee3",
        "collapsed": true
      },
      "cell_type": "code",
      "source": "vistas = pd.concat([\n    pd.read_csv(\"../input/datos/fiuba_3_vistas.csv\"),\n    pd.read_csv(\"../input/datosdatos/DESfiuba_3_vistas.csv\"),\n    pd.read_csv(\"../input/datosdatos/ENTfiuba_3_vistas.csv\")\n])\nvistas.head()",
      "execution_count": null,
      "outputs": []
    },
    {
      "metadata": {
        "trusted": true,
        "_uuid": "539fee002eea67c7811365c7cfc3f684d581b663",
        "collapsed": true
      },
      "cell_type": "code",
      "source": "# Este es el DataFrame que utiliza mayor cantidad de RAM por lo tanto voy a probar eliminar los duplicados para guardar algo de memoria.\nvistas.drop(columns='timestamp', inplace=True)\nvistas.rename(columns={'idAviso':'idaviso'}, inplace=True)\nvistas.drop_duplicates(subset=['idaviso', 'idpostulante'], inplace=True)\nvistas.head()",
      "execution_count": null,
      "outputs": []
    },
    {
      "metadata": {
        "trusted": true,
        "_uuid": "16f751a8bf3a2732da37bcbf22ef4f8f9ee475a5",
        "collapsed": true
      },
      "cell_type": "code",
      "source": "gc.collect()",
      "execution_count": null,
      "outputs": []
    },
    {
      "metadata": {
        "trusted": true,
        "_uuid": "4699edc065ad4b69f8f37f70e7a07cea44110ac2",
        "collapsed": true
      },
      "cell_type": "code",
      "source": "vistas.isnull().sum()",
      "execution_count": null,
      "outputs": []
    },
    {
      "metadata": {
        "trusted": true,
        "collapsed": true,
        "_uuid": "b5f5377e441e6dd239c39da38ff629fb2307fea1"
      },
      "cell_type": "markdown",
      "source": "# 5. Armado de Datos"
    },
    {
      "metadata": {
        "trusted": true,
        "collapsed": true,
        "_uuid": "d1a0f6c2d0b285e4796e4952ce7ac32dc87166df"
      },
      "cell_type": "code",
      "source": "# Voy a armar los datos con info de usuarios y avisos.",
      "execution_count": null,
      "outputs": []
    },
    {
      "metadata": {
        "trusted": true,
        "_uuid": "87f009be0ed74281462c7ed14598e01394217ece",
        "collapsed": true
      },
      "cell_type": "code",
      "source": "datos = pd.merge(usuarios, postulaciones, on='idpostulante', how='inner')\ndatos.head()",
      "execution_count": null,
      "outputs": []
    },
    {
      "metadata": {
        "trusted": true,
        "_uuid": "ed3b5340ea93f3472c59ce859b1a40c0eae0c90a",
        "collapsed": true
      },
      "cell_type": "code",
      "source": "datos = pd.merge(datos, avisos, on='idaviso', how='inner')\ndatos.head()",
      "execution_count": null,
      "outputs": []
    },
    {
      "metadata": {
        "trusted": true,
        "collapsed": true,
        "_uuid": "970c898964490a1b8c614a9d0f0ced5f84503ab0"
      },
      "cell_type": "code",
      "source": "# no se porqe hay duplicados pero los voy  a eliminar\ndatos.drop_duplicates(subset=['idpostulante', 'idaviso'], inplace=True)",
      "execution_count": null,
      "outputs": []
    },
    {
      "metadata": {
        "trusted": true,
        "_uuid": "636f5d429c55ae86a03dae70f9dfe1b1459f2e05",
        "collapsed": true
      },
      "cell_type": "code",
      "source": "# En todos estos ya sabemos que el usuario se postula.\ndatos['sepostula'] = 1\ndatos.head()",
      "execution_count": null,
      "outputs": []
    },
    {
      "metadata": {
        "trusted": true,
        "collapsed": true,
        "_uuid": "aed0f4059fa4aeecf62f5a179504b5645506c4ba"
      },
      "cell_type": "code",
      "source": "datos = datos.astype({'edad':'int8', 'sexo':'int8', 'nombre_zona':'int8', 'tipo_de_trabajo':'int8', 'nivel_laboral':'int8', 'sepostula':'int8'})",
      "execution_count": null,
      "outputs": []
    },
    {
      "metadata": {
        "trusted": true,
        "_uuid": "b66940b20d4cfd2a126aefd656b31c3d89fdce63",
        "scrolled": true,
        "collapsed": true
      },
      "cell_type": "code",
      "source": "datos.isnull().sum()",
      "execution_count": null,
      "outputs": []
    },
    {
      "metadata": {
        "_uuid": "7bf15454d503a6d8f754b2e518be439790860603"
      },
      "cell_type": "markdown",
      "source": "* ## 5.1 Usuarios y sus vistas"
    },
    {
      "metadata": {
        "trusted": true,
        "_uuid": "340592df39e27a81c6a0c949adeb29a7e6c3431c",
        "collapsed": true
      },
      "cell_type": "code",
      "source": "f = lambda x: scipy.stats.mode(x, axis=None, nan_policy='omit')[0][0]\ndatos.head()",
      "execution_count": null,
      "outputs": []
    },
    {
      "metadata": {
        "trusted": true,
        "_uuid": "880d9efd7e302a383a9a8eb2059007413ada15e1",
        "collapsed": true
      },
      "cell_type": "code",
      "source": "vistas.head()",
      "execution_count": null,
      "outputs": []
    },
    {
      "metadata": {
        "trusted": true,
        "_uuid": "4c6570533d28731de30cadc8e1c9e3c71b72c5fb",
        "collapsed": true
      },
      "cell_type": "code",
      "source": "datos['idpostulante'].values",
      "execution_count": null,
      "outputs": []
    },
    {
      "metadata": {
        "trusted": true,
        "_uuid": "0dfd40866c83f2a3142e752e77296086e5843349",
        "collapsed": true
      },
      "cell_type": "code",
      "source": "# Solo me quedo con los usuarios que quiero buscar\nvistas_usuarios = vistas[vistas['idpostulante'].isin(datos['idpostulante'].values)]",
      "execution_count": null,
      "outputs": []
    },
    {
      "metadata": {
        "trusted": true,
        "_uuid": "79578b90e725830e75b77d6605efe4ac29abf08e",
        "collapsed": true
      },
      "cell_type": "code",
      "source": "vistas_usuarios.head()",
      "execution_count": null,
      "outputs": []
    },
    {
      "metadata": {
        "trusted": true,
        "_uuid": "67ba341195081e68c97e1cf8e1f4480268b7dd6c",
        "collapsed": true
      },
      "cell_type": "code",
      "source": "vistas_usuarios = pd.merge(vistas_usuarios, avisos, on='idaviso', how='left')",
      "execution_count": null,
      "outputs": []
    },
    {
      "metadata": {
        "trusted": true,
        "_uuid": "e83a07422584ba29d7a2228b2f92dd43f82709ef",
        "collapsed": true
      },
      "cell_type": "code",
      "source": "# Tomo la moda de nombre_zona, tipo_de_trabajo, nivel_laboral y nombre area del postulante\nvistas_usuarios = vistas_usuarios.drop(columns='idaviso').pivot_table(index='idpostulante',\n                                                                       aggfunc=f)",
      "execution_count": null,
      "outputs": []
    },
    {
      "metadata": {
        "trusted": true,
        "_uuid": "9bb70dd9936ffa1933437761ca290772557ce7de",
        "collapsed": true
      },
      "cell_type": "code",
      "source": "vistas_usuarios.head()",
      "execution_count": null,
      "outputs": []
    },
    {
      "metadata": {
        "trusted": true,
        "_uuid": "6a4bc5f9ed991f35a9a6648c8e974a9ad00ce9f9",
        "collapsed": true
      },
      "cell_type": "code",
      "source": "vistas_usuarios.rename(columns={'nivel_laboral':'lab_fav',\n                                'nombre_area':'area_fav',\n                                'nombre_zona':'zona_fav',\n                                'tipo_de_trabajo':'trab_fav'},\n                       inplace=True)\nvistas_usuarios.head()",
      "execution_count": null,
      "outputs": []
    },
    {
      "metadata": {
        "trusted": true,
        "_uuid": "180e3d6001bba899b47a5f8b1516ccc41ca9acf5",
        "collapsed": true
      },
      "cell_type": "code",
      "source": "datos = pd.merge(datos, vistas_usuarios, on='idpostulante', how='left')\ndatos.head()",
      "execution_count": null,
      "outputs": []
    },
    {
      "metadata": {
        "trusted": true,
        "_uuid": "b8592dc4f04d36d9293389d899239ba36a93797c",
        "collapsed": true
      },
      "cell_type": "code",
      "source": "datos.isnull().sum()",
      "execution_count": null,
      "outputs": []
    },
    {
      "metadata": {
        "trusted": true,
        "collapsed": true,
        "_uuid": "adc27910a6ec723878e74f3b2cee2a098a7f624d"
      },
      "cell_type": "code",
      "source": "datos['lab_fav'] = datos['lab_fav'].fillna(f(datos['lab_fav']))\ndatos['area_fav'] = datos['area_fav'].fillna(f(datos['area_fav']))\ndatos['zona_fav'] = datos['zona_fav'].fillna(f(datos['zona_fav']))\ndatos['trab_fav'] = datos['trab_fav'].fillna(f(datos['trab_fav']))",
      "execution_count": null,
      "outputs": []
    },
    {
      "metadata": {
        "trusted": true,
        "_uuid": "8a6255d5e1ba0777209a49ee37b05d45b39ca19f",
        "collapsed": true
      },
      "cell_type": "code",
      "source": "datos.isnull().sum()",
      "execution_count": null,
      "outputs": []
    },
    {
      "metadata": {
        "_uuid": "322a65525a1c0681b474bb60cd7448ea3bba1d90"
      },
      "cell_type": "markdown",
      "source": "# 6. TEMPORAL: Generacion de NO_POSTULA"
    },
    {
      "metadata": {
        "trusted": true,
        "_uuid": "445fda58c0346d73d2579e2cb96e74803785f2fb",
        "collapsed": true
      },
      "cell_type": "code",
      "source": "datos.size",
      "execution_count": null,
      "outputs": []
    },
    {
      "metadata": {
        "trusted": true,
        "_uuid": "d3e55ba3527b4e42b08d7335132078b7073ece80",
        "collapsed": true
      },
      "cell_type": "code",
      "source": "datos.head()",
      "execution_count": null,
      "outputs": []
    },
    {
      "metadata": {
        "trusted": true,
        "_uuid": "ac8c2570b8842b7264ff66369f2d74dfc5bccb01",
        "collapsed": true
      },
      "cell_type": "code",
      "source": "# Usuarios\nus_no_post = datos[['idpostulante', 'edad' ,'sexo', 'lab_fav', 'area_fav', 'zona_fav', 'trab_fav']].sample(replace=True, frac=1)\n# Avisos\navisos_no_post = datos[['idaviso', 'nombre_zona', 'tipo_de_trabajo', 'nivel_laboral', 'nombre_area']]\navisos_no_post['sepostula'] = 0\navisos_no_post = avisos_no_post.sample(replace=True, frac=1)",
      "execution_count": null,
      "outputs": []
    },
    {
      "metadata": {
        "trusted": true,
        "_uuid": "95118362efbcf89b365b71447282aa9a3a86eb0a",
        "collapsed": true
      },
      "cell_type": "code",
      "source": "us_no_post.reset_index(drop=True, inplace=True)\nus_no_post.head() ",
      "execution_count": null,
      "outputs": []
    },
    {
      "metadata": {
        "trusted": true,
        "_uuid": "91fcbc8d53c296728ff2a7d2d7cbb02c2b8db8c0",
        "collapsed": true
      },
      "cell_type": "code",
      "source": "us_no_post.isnull().sum()",
      "execution_count": null,
      "outputs": []
    },
    {
      "metadata": {
        "trusted": true,
        "_uuid": "8a89312509b27321094e5c7741eb7f085da5fc48",
        "scrolled": true,
        "collapsed": true
      },
      "cell_type": "code",
      "source": "avisos_no_post.reset_index(drop=True, inplace=True)\navisos_no_post.head()",
      "execution_count": null,
      "outputs": []
    },
    {
      "metadata": {
        "trusted": true,
        "_uuid": "5379ccef833b33ae20b71992c73d3117561f8b67",
        "collapsed": true
      },
      "cell_type": "code",
      "source": "datos_no_post = pd.concat([us_no_post, avisos_no_post], axis=1)\ndatos_no_post.head()",
      "execution_count": null,
      "outputs": []
    },
    {
      "metadata": {
        "trusted": true,
        "_uuid": "e69ae0ed1eccd97aa8a4ce59f1392db4aa3d0dc5",
        "collapsed": true
      },
      "cell_type": "code",
      "source": "# Reordeno las columnas\ndatos = datos[['idpostulante', 'edad', 'sexo', 'lab_fav', 'area_fav', 'zona_fav', 'trab_fav', 'idaviso', 'nombre_zona', 'tipo_de_trabajo',\n       'nivel_laboral', 'nombre_area', 'sepostula']]\ndatos.head()",
      "execution_count": null,
      "outputs": []
    },
    {
      "metadata": {
        "trusted": true,
        "collapsed": true,
        "_uuid": "01d522925d353732f51cb859ffd60c57b209e141"
      },
      "cell_type": "code",
      "source": "#datos.reset_index(drop=True, inplace=True)\n#datos_no_post.reset_index(drop=True, inplace=True)",
      "execution_count": null,
      "outputs": []
    },
    {
      "metadata": {
        "trusted": true,
        "_uuid": "221ecbe72924887ee88fbb890bf6700abc7449b1",
        "collapsed": true
      },
      "cell_type": "code",
      "source": "# agrupo todos en uno\ndf = pd.concat([datos, datos_no_post])\ndf.head()",
      "execution_count": null,
      "outputs": []
    },
    {
      "metadata": {
        "trusted": true,
        "_uuid": "624b3e90d6d10731b67895efd17f4a2cb8d321dd",
        "collapsed": true
      },
      "cell_type": "code",
      "source": "df['sepostula'].value_counts()",
      "execution_count": null,
      "outputs": []
    },
    {
      "metadata": {
        "trusted": true,
        "_uuid": "e0e1af07f6eb8c7e0c230cdf508f66c3102428de",
        "collapsed": true
      },
      "cell_type": "code",
      "source": "df.isnull().sum()",
      "execution_count": null,
      "outputs": []
    },
    {
      "metadata": {
        "_uuid": "aa5088033efe6f65b075382092992c048b6a01f8"
      },
      "cell_type": "markdown",
      "source": "# 7. TEMPORAL : Algoritmos de Machine Learning****"
    },
    {
      "metadata": {
        "trusted": true,
        "_uuid": "60ebb871b4e165dc8b254ddb18f62f7385b5e56d",
        "collapsed": true
      },
      "cell_type": "code",
      "source": "X = df.drop(columns=['idpostulante', 'idaviso', 'sepostula'])",
      "execution_count": null,
      "outputs": []
    },
    {
      "metadata": {
        "trusted": true,
        "_uuid": "150181d2c4db3cb9aeaa33bdf0b74abdc0837878",
        "collapsed": true
      },
      "cell_type": "code",
      "source": "X.head()",
      "execution_count": null,
      "outputs": []
    },
    {
      "metadata": {
        "trusted": true,
        "_uuid": "2d24beed5f0a2d7887bde2ab2a1c1138d9ff5ec1",
        "collapsed": true
      },
      "cell_type": "code",
      "source": "X.isnull().sum()",
      "execution_count": null,
      "outputs": []
    },
    {
      "metadata": {
        "trusted": true,
        "collapsed": true,
        "_uuid": "22cb74e1cddf11552dcf5c57687d2c7b76795a43"
      },
      "cell_type": "code",
      "source": "y = df['sepostula']",
      "execution_count": null,
      "outputs": []
    },
    {
      "metadata": {
        "trusted": true,
        "collapsed": true,
        "_uuid": "412599fe58fde42d19b8cda2b836a4940597e44f"
      },
      "cell_type": "code",
      "source": "X_train, X_test, y_train, y_test = train_test_split(X, y, test_size=0.33)",
      "execution_count": null,
      "outputs": []
    },
    {
      "metadata": {
        "trusted": true,
        "_uuid": "d18ff2d5466f32199d1377e6b351cce0e5592ce3",
        "collapsed": true
      },
      "cell_type": "code",
      "source": "scaler = StandardScaler()  \nscaler.fit(X_train)\nX_train = scaler.transform(X_train)  \nX_test = scaler.transform(X_test) ",
      "execution_count": null,
      "outputs": []
    },
    {
      "metadata": {
        "trusted": true,
        "_uuid": "42267ad2a07a4c481c25501c842d85732f68819f",
        "scrolled": true,
        "collapsed": true
      },
      "cell_type": "code",
      "source": "#clf = MLPClassifier(random_state=0)\n#clf = KNeighborsClassifier(n_neighbors=5) \n#clf = DecisionTreeClassifier(random_state=0)\n#clf = RandomForestClassifier()\nclf = Perceptron(n_iter=40, eta0=0.1, random_state=0)\nclf.fit(X_train,y_train)\ny_pred = clf.predict(X_test)  \nprint('accuracy: {0:.2f}%'.format(accuracy_score(y_test,y_pred)*100))",
      "execution_count": null,
      "outputs": []
    },
    {
      "metadata": {
        "trusted": true,
        "_uuid": "46e47924c7a87d93325da0d668f733069df8a7a0",
        "collapsed": true
      },
      "cell_type": "code",
      "source": "# Visualizacion de Decision Tree\n# converting into the pdf file\n#with open(\"tree.dot\", \"w\") as f:\n#    f = tree.export_graphviz(clf, out_file=f, feature_names=X.columns)",
      "execution_count": null,
      "outputs": []
    },
    {
      "metadata": {
        "trusted": true,
        "collapsed": true,
        "_uuid": "d70ddb5f77ea7407c98ae8fc67db894cac9c558e"
      },
      "cell_type": "markdown",
      "source": "# 8. TEMPORAL: Armo los datos para enviar el Summit"
    },
    {
      "metadata": {
        "trusted": true,
        "_uuid": "92832e29bb9e72df20ff1e6daaab45042b2b9e85",
        "collapsed": true
      },
      "cell_type": "code",
      "source": "final100k = pd.read_csv(\"../input/finalfinal/test_final_100k.csv\")\nfinal100k.info()",
      "execution_count": null,
      "outputs": []
    },
    {
      "metadata": {
        "trusted": true,
        "_uuid": "eb1de143922fe3e64c75f374fe8b361b6227db66",
        "collapsed": true
      },
      "cell_type": "code",
      "source": "final100k.isnull().sum()",
      "execution_count": null,
      "outputs": []
    },
    {
      "metadata": {
        "trusted": true,
        "_uuid": "35d4f72f2f4bec30d3a63f736777750426fbf09b",
        "collapsed": true
      },
      "cell_type": "code",
      "source": "# Busco sus datos de educacion\nfinal100k = pd.merge(final100k, usuarios, on='idpostulante', how='left')",
      "execution_count": null,
      "outputs": []
    },
    {
      "metadata": {
        "trusted": true,
        "_uuid": "0df4572d43af263b8d2e407f541e8980c91010eb",
        "collapsed": true
      },
      "cell_type": "code",
      "source": "final100k.head()",
      "execution_count": null,
      "outputs": []
    },
    {
      "metadata": {
        "trusted": true,
        "_uuid": "3fd8939ff9304b8a9664447d7b5ebce899be7d0b",
        "collapsed": true
      },
      "cell_type": "code",
      "source": "final100k.isnull().sum()",
      "execution_count": null,
      "outputs": []
    },
    {
      "metadata": {
        "trusted": true,
        "_uuid": "0491e953c87b5fac48bf8257a189c301dbdb6a25",
        "collapsed": true
      },
      "cell_type": "code",
      "source": "# Busco la informacion de los avisos\nfinal100k = pd.merge(final100k, avisos, on='idaviso', how='left')",
      "execution_count": null,
      "outputs": []
    },
    {
      "metadata": {
        "trusted": true,
        "_uuid": "b88632ba987bdc3b75d83620d2d808bea2ac6e6b",
        "collapsed": true
      },
      "cell_type": "code",
      "source": "final100k.head()",
      "execution_count": null,
      "outputs": []
    },
    {
      "metadata": {
        "trusted": true,
        "_uuid": "b9020745846717265acce188555ee76f0a145a83",
        "collapsed": true
      },
      "cell_type": "code",
      "source": "final100k.isnull().sum()",
      "execution_count": null,
      "outputs": []
    },
    {
      "metadata": {
        "_uuid": "08fcfb15c57b44dcfa6116cade16ea1e690863ca"
      },
      "cell_type": "markdown",
      "source": "# PREDICCION"
    },
    {
      "metadata": {
        "trusted": true,
        "_uuid": "52c09f8b59638b5c8716a9194fc4ea0bc2195ec8",
        "collapsed": true
      },
      "cell_type": "code",
      "source": "y_final = clf.predict(final100k.drop(columns=['id', 'idaviso', 'idpostulante']))",
      "execution_count": null,
      "outputs": []
    },
    {
      "metadata": {
        "trusted": true,
        "_uuid": "ff44d023a1a208ccd79657b1266efb41ad3953d0",
        "collapsed": true
      },
      "cell_type": "code",
      "source": "y_summit = pd.DataFrame(y_final)\ny_summit.columns = ['sepostulo']\nsummit = y_summit.reset_index()\nsummit.head()\nsummit.rename(columns={'index':'id'}, inplace=True)\nsummit.to_csv(\"summitGSNB.csv\", index=False)",
      "execution_count": null,
      "outputs": []
    },
    {
      "metadata": {
        "trusted": true,
        "collapsed": true,
        "_uuid": "5e15b891251f1e0db77abc02936fb217dcb636f7"
      },
      "cell_type": "code",
      "source": "",
      "execution_count": null,
      "outputs": []
    },
    {
      "metadata": {
        "trusted": true,
        "collapsed": true,
        "_uuid": "1c1bde8f5a684fd587434233bc8eb31dbd907906"
      },
      "cell_type": "code",
      "source": "",
      "execution_count": null,
      "outputs": []
    }
  ],
  "metadata": {
    "kernelspec": {
      "display_name": "Python 3",
      "language": "python",
      "name": "python3"
    },
    "language_info": {
      "name": "python",
      "version": "3.6.5",
      "mimetype": "text/x-python",
      "codemirror_mode": {
        "name": "ipython",
        "version": 3
      },
      "pygments_lexer": "ipython3",
      "nbconvert_exporter": "python",
      "file_extension": ".py"
    }
  },
  "nbformat": 4,
  "nbformat_minor": 1
}