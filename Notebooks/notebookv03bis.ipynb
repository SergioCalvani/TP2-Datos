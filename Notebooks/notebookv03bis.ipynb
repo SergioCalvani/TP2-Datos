{
  "cells": [
    {
      "metadata": {
        "_uuid": "8f2839f25d086af736a60e9eeb907d3b93b6e0e5",
        "_cell_guid": "b1076dfc-b9ad-4769-8c92-a6c4dae69d19",
        "trusted": true,
        "collapsed": true
      },
      "cell_type": "code",
      "source": "import pandas as pd\nimport numpy as np\nimport datetime as DT\nfrom sklearn.model_selection import train_test_split\nfrom sklearn.preprocessing import StandardScaler\nfrom sklearn.linear_model import Perceptron\nfrom sklearn.metrics import accuracy_score\nimport random\nfrom sklearn import tree\nfrom sklearn.neighbors import KNeighborsClassifier  \nfrom sklearn.tree import DecisionTreeClassifier  \nfrom sklearn.naive_bayes import GaussianNB, BernoulliNB, MultinomialNB\nfrom sklearn.neural_network import MLPClassifier",
      "execution_count": null,
      "outputs": []
    },
    {
      "metadata": {
        "_cell_guid": "79c7e3d0-c299-4dcb-8224-4455121ee9b0",
        "collapsed": true,
        "_uuid": "d629ff2d2480ee46fbb7e2d37f6b5fab8052498a",
        "trusted": false
      },
      "cell_type": "markdown",
      "source": "# Idea\nRepresentar los postulantes y avisos mediantes sus propios atributos mas relaciones entre ellos\n- Usuarios\n    - Datos propios\n        - educacion: Superior bool (universitario, posgrado, master, doctorado)\n        - edad\n        - genero: MASC o FEM bool\n    - Datos de avisos\n        - Areas mas vistas dentro de las mas postuladas\n\n- Avisos\n    - Datos propios:\n        - Areas dentro del top\n        - Tipo: FullTime bool\n        - Zona: GBA bool\n    - Datos de usuarios\n        - cantidad de hombres/mujeres\n        - edad promedio\n        - nivel academico\n "
    },
    {
      "metadata": {
        "trusted": true,
        "collapsed": true,
        "_uuid": "2d141a15f01e51f4cab495243988fcad7d977e7e"
      },
      "cell_type": "code",
      "source": "# Constantes\nCANTIDAD_DE_AREAS = 10\nFRAC = 0.3\nFACTOR_NO_POST = 1",
      "execution_count": null,
      "outputs": []
    },
    {
      "metadata": {
        "_uuid": "98f2943ab5a433badf4a1a2a76a56d9e85662d80"
      },
      "cell_type": "markdown",
      "source": "# 1. Cargar datos y filtrar outlayers"
    },
    {
      "metadata": {
        "_uuid": "b978020acf59279ce9180a9ce65ed04df6bc32e3"
      },
      "cell_type": "markdown",
      "source": "## 1.1 Genero y edad"
    },
    {
      "metadata": {
        "trusted": true,
        "_uuid": "1f03a2add66c64c74e569133a7eff2b82dbd348f",
        "collapsed": true
      },
      "cell_type": "code",
      "source": "genyedad = pd.concat([\n    pd.read_csv(\"../input/datos/fiuba_2_postulantes_genero_y_edad.csv\"),\n    pd.read_csv(\"../input/datosdatos/DESfiuba_2_postulantes_genero_y_edad.csv\"),\n    pd.read_csv(\"../input/datosdatos/ENTfiuba_2_postulantes_genero_y_edad.csv\")\n])\ngenyedad.head()",
      "execution_count": null,
      "outputs": []
    },
    {
      "metadata": {
        "trusted": true,
        "_uuid": "c3d1b54b4756620f070c9f68fe33de56a88e193b",
        "collapsed": true
      },
      "cell_type": "code",
      "source": "# Se filtran los datos sin sexo declarado\ngenyedad = genyedad[(genyedad['sexo'] == 'FEM') | (genyedad['sexo'] == 'MASC')]",
      "execution_count": null,
      "outputs": []
    },
    {
      "metadata": {
        "trusted": true,
        "_uuid": "6124efa129d462da241c0f118616f5961b6295ad",
        "collapsed": true
      },
      "cell_type": "code",
      "source": "genyedad['sexo'].value_counts()",
      "execution_count": null,
      "outputs": []
    },
    {
      "metadata": {
        "trusted": true,
        "_uuid": "1079d8e6ad755fb0f357a9134f0926331c52033e",
        "collapsed": true
      },
      "cell_type": "code",
      "source": "# Calculamos las edades\ngenyedad['fechanacimiento'] = pd.to_datetime(genyedad['fechanacimiento'], errors='coerce')",
      "execution_count": null,
      "outputs": []
    },
    {
      "metadata": {
        "trusted": true,
        "_uuid": "3625a6491272738b1295df5ab28565c8febbcddf",
        "collapsed": true
      },
      "cell_type": "code",
      "source": "genyedad['edad'] = 2018 - genyedad['fechanacimiento'].dt.year\ngenyedad.head()",
      "execution_count": null,
      "outputs": []
    },
    {
      "metadata": {
        "trusted": true,
        "_uuid": "5b2089d5a4faad85b4a582aa374d1d9bce4e5a01",
        "collapsed": true
      },
      "cell_type": "code",
      "source": "# Nos quedamos solo con las edades entre 18 y 75\n#genyedad = genyedad[(genyedad['edad'] >= 18) & (genyedad['edad'] <= 75)]\n#genyedad.head()\ngenyedad.fillna(genyedad['edad'].mean(), inplace=True)",
      "execution_count": null,
      "outputs": []
    },
    {
      "metadata": {
        "trusted": true,
        "_uuid": "175a46e783f85172d2e4e45418b355e3776b7bbc",
        "collapsed": true
      },
      "cell_type": "code",
      "source": "genyedad.drop(columns='fechanacimiento', inplace=True)",
      "execution_count": null,
      "outputs": []
    },
    {
      "metadata": {
        "trusted": true,
        "_uuid": "3ae7a76ac1362d791cf4cdd642b11e5dd115c37f",
        "collapsed": true
      },
      "cell_type": "code",
      "source": "genyedad.drop_duplicates(subset=['idpostulante'], inplace=True)",
      "execution_count": null,
      "outputs": []
    },
    {
      "metadata": {
        "trusted": true,
        "_uuid": "514b64fd8bae1ffa9b5e35af1839c40c1b5a9a7a",
        "collapsed": true
      },
      "cell_type": "code",
      "source": "genyedad.head()",
      "execution_count": null,
      "outputs": []
    },
    {
      "metadata": {
        "trusted": true,
        "_uuid": "68821150ab3a517dee68dbae2f5d73b045538f1a",
        "scrolled": false,
        "collapsed": true
      },
      "cell_type": "code",
      "source": "# SEXO\n# 1 MASC\n# 0 FEM\ngenyedad['sexo'] = genyedad['sexo'].apply(lambda x: 1 if x == 'MASC' else 0)\ngenyedad.head()",
      "execution_count": null,
      "outputs": []
    },
    {
      "metadata": {
        "trusted": true,
        "_uuid": "d726338ab5481074ab2fb80d38675a8fdc5a2a36",
        "collapsed": true
      },
      "cell_type": "code",
      "source": "genyedad.info(memory_usage='deep')",
      "execution_count": null,
      "outputs": []
    },
    {
      "metadata": {
        "trusted": true,
        "_uuid": "492f3cbb3e87dfe5c90a0fbc2b4a626db1bc4083",
        "collapsed": true
      },
      "cell_type": "code",
      "source": "# Reducimos el tamanio de edad a 1byte.\ngenyedad = genyedad.astype({'edad':'int8'})\ngenyedad.info(memory_usage='deep')",
      "execution_count": null,
      "outputs": []
    },
    {
      "metadata": {
        "trusted": true,
        "_uuid": "cad0bc1a71338bc100300aa45bae1c111f417998",
        "collapsed": true
      },
      "cell_type": "code",
      "source": "genyedad.head()",
      "execution_count": null,
      "outputs": []
    },
    {
      "metadata": {
        "_uuid": "52089b9016ee484bc31effc524e794c7961d5993"
      },
      "cell_type": "markdown",
      "source": "## 1.2 Educacion"
    },
    {
      "metadata": {
        "trusted": true,
        "_uuid": "1252e0c2abf5ffba16a369718970e018af861526",
        "collapsed": true
      },
      "cell_type": "code",
      "source": "educacion = pd.concat([\n    pd.read_csv(\"../input/datos/fiuba_1_postulantes_educacion.csv\"),\n    pd.read_csv(\"../input/datosdatos/DESfiuba_1_postulantes_educacion.csv\"),\n    pd.read_csv(\"../input/datosdatos/ENTfiuba_1_postulantes_educacion.csv\")\n])\neducacion.head()",
      "execution_count": null,
      "outputs": []
    },
    {
      "metadata": {
        "trusted": true,
        "_uuid": "dc25402b8ed1215d92836c3174f9d0d473fd4405",
        "collapsed": true
      },
      "cell_type": "code",
      "source": "# Me quedo solo con los graduados\neducacion = educacion[educacion['estado'] == 'Graduado']\neducacion.head()",
      "execution_count": null,
      "outputs": []
    },
    {
      "metadata": {
        "trusted": true,
        "_uuid": "75ebd28281415625e8d82119b89dd25f6b9f36b9",
        "collapsed": true
      },
      "cell_type": "code",
      "source": "educacion['nombre'].value_counts()",
      "execution_count": null,
      "outputs": []
    },
    {
      "metadata": {
        "trusted": true,
        "_uuid": "81c0a52edfc580227849b10dea65acef52a2a138",
        "collapsed": true
      },
      "cell_type": "code",
      "source": "# edu\n# 1 Educacion superior: universitario, master, posgrado, doctorado\n# 0 Secundario, terciario/tecnico, otros\nsuperior = ['Universitario', 'Posgrado', 'Master', 'Doctorado']\neducacion['edu'] = educacion['nombre'].apply(lambda x: 1 if x in superior else 0)\neducacion.head()",
      "execution_count": null,
      "outputs": []
    },
    {
      "metadata": {
        "trusted": true,
        "_uuid": "bc99709d8119d718c8fbe20be6ae2102c12ce374",
        "collapsed": true
      },
      "cell_type": "code",
      "source": "educacion.drop(columns=['nombre', 'estado'], inplace=True)",
      "execution_count": null,
      "outputs": []
    },
    {
      "metadata": {
        "trusted": true,
        "_uuid": "a1b2a4309d8aeb33aa00482f8b0e7031c59bc82f",
        "collapsed": true
      },
      "cell_type": "code",
      "source": "educacion.drop_duplicates(subset=['idpostulante'], inplace=True)\neducacion.head()",
      "execution_count": null,
      "outputs": []
    },
    {
      "metadata": {
        "_uuid": "be77a478f71e365d06c561f74a472cd1c11f42c0"
      },
      "cell_type": "markdown",
      "source": "## 1.3 Generacion de datos de usuarios"
    },
    {
      "metadata": {
        "trusted": true,
        "_uuid": "b298994fdbb30ea5ac8b17513764de3227696d21",
        "collapsed": true
      },
      "cell_type": "code",
      "source": "usuarios = pd.merge(genyedad, educacion, on='idpostulante', how='outer')\nusuarios.head()",
      "execution_count": null,
      "outputs": []
    },
    {
      "metadata": {
        "trusted": true,
        "_uuid": "9e15de777d80e528e3fd8465dfcea2e3247cda4c",
        "collapsed": true
      },
      "cell_type": "code",
      "source": "usuarios[['sexo']] = usuarios[['sexo']].fillna(bool(random.getrandbits(1)))\nusuarios[['edad']] = usuarios[['edad']].fillna(np.random.normal(usuarios['edad'].mean(), np.sqrt(usuarios['edad'].var())))\nusuarios[['edu']] = usuarios[['edu']].fillna(bool(random.getrandbits(1)))\nusuarios.info()",
      "execution_count": null,
      "outputs": []
    },
    {
      "metadata": {
        "_uuid": "f3cabb430fde82769c78378901e5182edaa54f04"
      },
      "cell_type": "markdown",
      "source": "Con la informacion presente caracterizamos propiamente a los usuarios de navent."
    },
    {
      "metadata": {
        "_uuid": "3b01edbc900fa712d7edf3f2868f0d9d2c50a52e"
      },
      "cell_type": "markdown",
      "source": "## 1.5 Avisos"
    },
    {
      "metadata": {
        "trusted": true,
        "_uuid": "a97362fc679ffca0c20df37a7519bf267e3cbce0",
        "collapsed": true
      },
      "cell_type": "code",
      "source": "avisos = pd.concat([\n    pd.read_csv(\"../input/datos/fiuba_6_avisos_detalle.csv\"),\n    pd.read_csv(\"../input/datosdatos/DESfiuba_6_avisos_detalle.csv\"),\n    pd.read_csv(\"../input/datosdatos/ENTfiuba_6_avisos_detalle.csv\"),\n    pd.read_csv(\"../input/datosdatos/MISfiuba_6_avisos_detalle_missing_nivel_laboral.csv\")\n])\navisos.head()",
      "execution_count": null,
      "outputs": []
    },
    {
      "metadata": {
        "trusted": true,
        "collapsed": true,
        "_uuid": "af145fb8d3c2da9364a171ad5f92104803e24f64"
      },
      "cell_type": "code",
      "source": "avisos.drop_duplicates(subset='idaviso', inplace=True)",
      "execution_count": null,
      "outputs": []
    },
    {
      "metadata": {
        "trusted": true,
        "_uuid": "65ddd9305507c0394372a8dfacfc9562ef081ea5",
        "collapsed": true
      },
      "cell_type": "code",
      "source": "# Eliminamos las columnas con gran contenido nulo o con poco aporte\navisos.drop(columns=['idpais', 'titulo', 'descripcion', \n                     'ciudad', 'mapacalle', 'denominacion_empresa' ],\n           inplace=True)\navisos.head()",
      "execution_count": null,
      "outputs": []
    },
    {
      "metadata": {
        "trusted": true,
        "_uuid": "5f0e5b2c86a3f1379d6cc8df7224ed881510d824",
        "collapsed": true
      },
      "cell_type": "code",
      "source": "# Nombre de zona: La gran mayoria se centra en el Gran Buenos Aires\n# 1 GBA \n# 0 otro\navisos['nombre_zona'] = avisos['nombre_zona'].apply(lambda x: 1 if x == 'Gran Buenos Aires' else 0)\navisos.head()",
      "execution_count": null,
      "outputs": []
    },
    {
      "metadata": {
        "trusted": true,
        "_uuid": "3127f65d5773f7716b6a2481868acb3edd9e1fa1",
        "collapsed": true
      },
      "cell_type": "code",
      "source": "# Tipo de trabajo: La gran mayoria es del tipo Full-time\n# 1 Full-time\n# 0 otro\navisos['tipo_de_trabajo'] = avisos['tipo_de_trabajo'].apply(lambda x: 1 if x == 'Full-time' else 0)\navisos.head()",
      "execution_count": null,
      "outputs": []
    },
    {
      "metadata": {
        "trusted": true,
        "_uuid": "442e341e39d860dd32f1f84181fc3a77793f320c",
        "collapsed": true
      },
      "cell_type": "code",
      "source": "# Nivel laboral: La gran mayoria es del tipo senio\n# 1 Senior/ Semi-Senior\n# 0 otros\navisos['nivel_laboral'] = avisos['nivel_laboral'].apply(lambda x: 1 if x == 'Senior / Semi-Senior' else 0)\navisos.head()",
      "execution_count": null,
      "outputs": []
    },
    {
      "metadata": {
        "trusted": true,
        "collapsed": true,
        "_uuid": "6e94196af2452643617815af8a9186264307fbae"
      },
      "cell_type": "code",
      "source": "# Para seleccionar las areas nos quedaremos con las areas mas postuladas, y por lo tanto\n# pasaremos a cargar postulaciones primero",
      "execution_count": null,
      "outputs": []
    },
    {
      "metadata": {
        "_uuid": "6d1b0aab825f07fe659c0982ff0f2a5b21562cfd"
      },
      "cell_type": "markdown",
      "source": "## 1.6 Postulaciones"
    },
    {
      "metadata": {
        "trusted": true,
        "_uuid": "4c8dc7afea8e272b98b0b1c0842e552df4c7af31",
        "collapsed": true
      },
      "cell_type": "code",
      "source": "postulaciones = pd.concat([\n    pd.read_csv('../input/datos/fiuba_4_postulaciones.csv'),\n    pd.read_csv('../input/datosdatos/ENTfiuba_4_postulaciones.csv'),\n])\npostulaciones.head()",
      "execution_count": null,
      "outputs": []
    },
    {
      "metadata": {
        "trusted": true,
        "_uuid": "9f4c2ca1d854ae39489243af2eee1d4c059f9b05",
        "collapsed": true
      },
      "cell_type": "code",
      "source": "postulaciones.drop(columns='fechapostulacion', inplace=True)\npostulaciones.head()",
      "execution_count": null,
      "outputs": []
    },
    {
      "metadata": {
        "trusted": true,
        "_uuid": "572c0335366601a75e391b0d2fd0e886329f1d4a",
        "collapsed": true
      },
      "cell_type": "code",
      "source": "postulaciones.drop_duplicates(subset=['idaviso', 'idpostulante'], inplace=True)",
      "execution_count": null,
      "outputs": []
    },
    {
      "metadata": {
        "trusted": true,
        "_uuid": "b1fa841ea1bc1da97afdc285ea00f638107c4ba6",
        "collapsed": true
      },
      "cell_type": "code",
      "source": "mas_postuladas = pd.merge(postulaciones, avisos[['idaviso','nombre_area']], on='idaviso', how='left')\nmas_postuladas.head()",
      "execution_count": null,
      "outputs": []
    },
    {
      "metadata": {
        "trusted": true,
        "_uuid": "c408f4688f7745b6f1273b58833e4d6915e7a1ba",
        "collapsed": true
      },
      "cell_type": "code",
      "source": "mas_postuladas.info(memory_usage='deep')",
      "execution_count": null,
      "outputs": []
    },
    {
      "metadata": {
        "trusted": true,
        "_uuid": "910c544e92a7a5f93642f632d7a5a6302a1f3a4e",
        "collapsed": true
      },
      "cell_type": "code",
      "source": "mas_postuladas['nombre_area'].value_counts().head(CANTIDAD_DE_AREAS)",
      "execution_count": null,
      "outputs": []
    },
    {
      "metadata": {
        "trusted": true,
        "_uuid": "5a2c27d4a94eb5821f1fa5bfdfd26cd530d4d021",
        "collapsed": true
      },
      "cell_type": "code",
      "source": "areas_mas_postuladas = mas_postuladas['nombre_area'].value_counts().head(CANTIDAD_DE_AREAS).index\nareas_mas_postuladas",
      "execution_count": null,
      "outputs": []
    },
    {
      "metadata": {
        "trusted": true,
        "_uuid": "a2e1e40000b69fedc2e7133dd56928a100248994",
        "collapsed": true
      },
      "cell_type": "code",
      "source": "'Ventas' in areas_mas_postuladas",
      "execution_count": null,
      "outputs": []
    },
    {
      "metadata": {
        "trusted": true,
        "_uuid": "a074f9059e2431a7785dffad94873fbef10f696d",
        "collapsed": true
      },
      "cell_type": "code",
      "source": "# Luego realizamos one-hot-encoding sobre las areas dejando a las demas como otro\navisos['nombre_area'] = avisos['nombre_area'].apply(lambda x: x if x in areas_mas_postuladas else 'Otro')\navisos.head()",
      "execution_count": null,
      "outputs": []
    },
    {
      "metadata": {
        "trusted": true,
        "_uuid": "0578e26625b0df57b0c4e427e4b3575ea87c3856",
        "collapsed": true
      },
      "cell_type": "code",
      "source": "dummies_area = pd.get_dummies(avisos['nombre_area'])\ndummies_area.head()",
      "execution_count": null,
      "outputs": []
    },
    {
      "metadata": {
        "trusted": true,
        "_uuid": "562423406850172452d163e55ff469cef1a5f70c",
        "collapsed": true
      },
      "cell_type": "code",
      "source": "avisos = pd.concat([avisos, dummies_area], axis=1)\navisos.head()",
      "execution_count": null,
      "outputs": []
    },
    {
      "metadata": {
        "trusted": true,
        "collapsed": true,
        "_uuid": "0e464742b7419e906c8669f02c3aa1c51d7c841b"
      },
      "cell_type": "code",
      "source": "avisos.drop(columns='nombre_area', inplace=True)",
      "execution_count": null,
      "outputs": []
    },
    {
      "metadata": {
        "trusted": true,
        "_uuid": "15291fd33c6f55a688f82525e7d4649982f21887",
        "collapsed": true
      },
      "cell_type": "code",
      "source": "# Con estos datos caracterizamos propiamente a los avisos\navisos.head()",
      "execution_count": null,
      "outputs": []
    },
    {
      "metadata": {
        "_uuid": "eee9d4cdb43cbee6d6424e1bf4b26b858e682b04"
      },
      "cell_type": "markdown",
      "source": "# 2. Relaciones cruzadas"
    },
    {
      "metadata": {
        "_uuid": "ba3ebec558cf3b3664e5069f1691f17445851fef"
      },
      "cell_type": "markdown",
      "source": "1. ## 2.1 Usuarios: Proporcion de vistas a areas, tipo de trabajo y nivel laboral"
    },
    {
      "metadata": {
        "trusted": true,
        "_uuid": "6e374980f6e6a9d0c64a0b46522dc01cbf350c5d",
        "collapsed": true
      },
      "cell_type": "code",
      "source": "vistas = pd.concat([\n    pd.read_csv(\"../input/datos/fiuba_3_vistas.csv\"),\n    pd.read_csv(\"../input/datosdatos/DESfiuba_3_vistas.csv\"),\n    pd.read_csv(\"../input/datosdatos/ENTfiuba_3_vistas.csv\")\n])\nvistas.head()",
      "execution_count": null,
      "outputs": []
    },
    {
      "metadata": {
        "trusted": true,
        "_uuid": "48a70bda857ad658ef9e61f71c68a98454574b63",
        "collapsed": true
      },
      "cell_type": "code",
      "source": "vistas.drop(columns='timestamp', inplace=True)\nvistas.head()",
      "execution_count": null,
      "outputs": []
    },
    {
      "metadata": {
        "trusted": true,
        "_uuid": "34044ba203bb2bab84f77a26bb53dabf44b78d3e",
        "collapsed": true
      },
      "cell_type": "code",
      "source": "vistas.rename(columns={'idAviso':'idaviso'}, inplace=True)\nvistas.head()",
      "execution_count": null,
      "outputs": []
    },
    {
      "metadata": {
        "trusted": true,
        "_uuid": "10e48d849afaed0daf398b4805116f74f9bf593d",
        "collapsed": true
      },
      "cell_type": "code",
      "source": "avisos_vistos = pd.merge(avisos, vistas, on='idaviso', how='right')\navisos_vistos.head()",
      "execution_count": null,
      "outputs": []
    },
    {
      "metadata": {
        "trusted": true,
        "_uuid": "afc319e4c6665a193f010c7331e7d7e67a004f9f",
        "collapsed": true
      },
      "cell_type": "code",
      "source": "avisos_vistos = avisos_vistos.drop(columns='idaviso').pivot_table(index='idpostulante', aggfunc='mean')",
      "execution_count": null,
      "outputs": []
    },
    {
      "metadata": {
        "trusted": true,
        "_uuid": "6d706fbf8fa9c77daaf21d982fc2be3f15b80073",
        "scrolled": false,
        "collapsed": true
      },
      "cell_type": "code",
      "source": "usuarios = pd.merge(usuarios, avisos_vistos, on='idpostulante', how='left')\nusuarios.head()",
      "execution_count": null,
      "outputs": []
    },
    {
      "metadata": {
        "trusted": true,
        "_uuid": "385466ab94f8e9c5ba322c03150877a34b581dc4",
        "collapsed": true
      },
      "cell_type": "code",
      "source": "usuarios.info()",
      "execution_count": null,
      "outputs": []
    },
    {
      "metadata": {
        "trusted": true,
        "_uuid": "df2e63687503d2f7961124a1a3c568bde0eff52f",
        "collapsed": true
      },
      "cell_type": "code",
      "source": "usuarios.iloc[:,4:] = usuarios.iloc[:,4:].fillna(0)\nusuarios.info()",
      "execution_count": null,
      "outputs": []
    },
    {
      "metadata": {
        "trusted": true,
        "_uuid": "619ac80f45e90187718b193e61894831407aba91",
        "collapsed": true
      },
      "cell_type": "code",
      "source": "#usuarios.iloc[:,1:] = usuarios.iloc[:,1:].astype('float16')",
      "execution_count": null,
      "outputs": []
    },
    {
      "metadata": {
        "trusted": true,
        "_uuid": "cf79f5ad833241c3dad933d4795ac033c5656e0a",
        "collapsed": true
      },
      "cell_type": "code",
      "source": "usuarios.head()",
      "execution_count": null,
      "outputs": []
    },
    {
      "metadata": {
        "trusted": true,
        "_uuid": "06118cd663dbceb11d79f71aa1505827add74755",
        "collapsed": true
      },
      "cell_type": "code",
      "source": "col_us = usuarios.columns[1:]\nnuevos = ['idpostulante']\nfor c in col_us:\n    nc = c + '_us'\n    nuevos.append(nc)\nprint(nuevos)\nusuarios.columns = nuevos",
      "execution_count": null,
      "outputs": []
    },
    {
      "metadata": {
        "trusted": true,
        "_uuid": "45acd21476fcec8c281f678072dafb5ff65c88c7",
        "collapsed": true
      },
      "cell_type": "code",
      "source": "usuarios.head()",
      "execution_count": null,
      "outputs": []
    },
    {
      "metadata": {
        "trusted": true,
        "collapsed": true,
        "_uuid": "a8f38377248d0030c0ec84b16c509e194ae900c4"
      },
      "cell_type": "markdown",
      "source": "Con estos datos caracterizamos a los usuarios tanto con sus propios datos como con las relaciones cruzadas con avisos vistos, que como vimos en el TP1, tienen una estrecha relacion con los avisos a los cuales finalmente se postularan"
    },
    {
      "metadata": {
        "trusted": true,
        "collapsed": true,
        "_uuid": "f33dc602b4623f950cc7cd0c5c24b2512a8311f0"
      },
      "cell_type": "markdown",
      "source": "## 2.2 Avisos: Que tipo de usuarios se postulan"
    },
    {
      "metadata": {
        "trusted": true,
        "_uuid": "fc4a584a781af66f343b82678777eaa2011de110",
        "collapsed": true
      },
      "cell_type": "code",
      "source": "vistas.head()",
      "execution_count": null,
      "outputs": []
    },
    {
      "metadata": {
        "trusted": true,
        "_uuid": "89023d9e4cd9bb444989300732917f09ae88849a",
        "collapsed": true
      },
      "cell_type": "code",
      "source": "usuarios_visitantes = pd.merge(usuarios[['idpostulante', 'sexo_us', 'edad_us', 'edu_us']], vistas, \n                               on='idpostulante', how='left')\nusuarios_visitantes.head()",
      "execution_count": null,
      "outputs": []
    },
    {
      "metadata": {
        "trusted": true,
        "_uuid": "4abe463c0a676b1c01b4d32f5c0c84f6c203b129",
        "collapsed": true
      },
      "cell_type": "code",
      "source": "usuarios_visitantes = usuarios_visitantes.drop(columns='idpostulante')",
      "execution_count": null,
      "outputs": []
    },
    {
      "metadata": {
        "trusted": true,
        "_uuid": "78483a005205df919ff33742247668c3657db2f6",
        "collapsed": true
      },
      "cell_type": "code",
      "source": "usuarios_visitantes = usuarios_visitantes.astype({'sexo_us':'int8',\n                                                 'edu_us':'int8'})",
      "execution_count": null,
      "outputs": []
    },
    {
      "metadata": {
        "trusted": true,
        "_uuid": "aade68a2ff432929ba20c9e7991e437bd4f3cb45",
        "collapsed": true
      },
      "cell_type": "code",
      "source": "data_avisos = usuarios_visitantes.pivot_table(index='idaviso', \n                                aggfunc={'sexo_us':'mean', \n                                         'edad_us':'mean',\n                                         'edu_us':'mean'})\ndata_avisos.head()",
      "execution_count": null,
      "outputs": []
    },
    {
      "metadata": {
        "trusted": true,
        "_uuid": "4ed08309609ee20ff9a10cf1e9514a648059ac5c",
        "collapsed": true
      },
      "cell_type": "code",
      "source": "avisos.head()",
      "execution_count": null,
      "outputs": []
    },
    {
      "metadata": {
        "trusted": true,
        "_uuid": "f5680971c7a411507160956d3e2e190ab1b4eadc",
        "collapsed": true
      },
      "cell_type": "code",
      "source": "avisos = pd.merge(avisos, data_avisos, on='idaviso',how='right')\navisos.head()",
      "execution_count": null,
      "outputs": []
    },
    {
      "metadata": {
        "trusted": true,
        "collapsed": true,
        "_uuid": "f6a9e7614c3c7e9894abb6170f6596c9a28d3e79"
      },
      "cell_type": "code",
      "source": "",
      "execution_count": null,
      "outputs": []
    },
    {
      "metadata": {
        "trusted": true,
        "_uuid": "febdbc6f96df205d7e2dc5bee9b2ab1743b741b1",
        "collapsed": true
      },
      "cell_type": "code",
      "source": "#avisos.iloc[:,1:].head()",
      "execution_count": null,
      "outputs": []
    },
    {
      "metadata": {
        "trusted": true,
        "_uuid": "86fdebfd6ae4683862505854fc0424f267870493",
        "collapsed": true
      },
      "cell_type": "code",
      "source": "#avisos.iloc[:,1:] = avisos.iloc[:,1:].astype('float16')\navisos.head()",
      "execution_count": null,
      "outputs": []
    },
    {
      "metadata": {
        "trusted": true,
        "_uuid": "f4b9511e93f70c51d1f08ef5fe218b3a696b3eb1",
        "collapsed": true
      },
      "cell_type": "code",
      "source": "avisos.iloc[1].head()",
      "execution_count": null,
      "outputs": []
    },
    {
      "metadata": {
        "trusted": true,
        "_uuid": "2e0625a1d2047268cbb9c6c28e2e5789093c430f",
        "scrolled": false,
        "collapsed": true
      },
      "cell_type": "code",
      "source": "#avisos.replace([np.inf, -np.inf], np.nan, inplace=True)\n#avisos[['sexo_us']] = avisos[['sexo_us']].fillna(avisos['sexo_us'].mean())\n#avisos[['edad_us']] = avisos[['edad_us']].fillna(avisos['edad_us'].mean() )\n#avisos[['edu_us']] = avisos[['edu_us']].fillna(avisos['edu_us'].mean())\n#avisos['edad_us'] = avisos['edad_us'].apply(lambda x: genyedad['edad_us'].mean() if (x > 75 or x < 18) else x)\n#avisos.head()\n",
      "execution_count": null,
      "outputs": []
    },
    {
      "metadata": {
        "_uuid": "c5ae1320ea9b20d2738055cbba08c2f23a2456f6"
      },
      "cell_type": "markdown",
      "source": "De esta forma caracterizamos a los avisos segun sus propios atributos mas las caracteristicas de los usuarios que los visitan"
    },
    {
      "metadata": {
        "_uuid": "4d055891c861620ee4dd9ff53b0467c205d2181d"
      },
      "cell_type": "markdown",
      "source": "# 3. Armado de datos postulados"
    },
    {
      "metadata": {
        "trusted": true,
        "_uuid": "34bd27c829b23a0e26fe37b02b6f4df85ebfc405",
        "collapsed": true
      },
      "cell_type": "code",
      "source": "usuarios.head()",
      "execution_count": null,
      "outputs": []
    },
    {
      "metadata": {
        "trusted": true,
        "_uuid": "f89577df0506d26ec9b67303e554689208ea82bc",
        "collapsed": true
      },
      "cell_type": "code",
      "source": "avisos.head()",
      "execution_count": null,
      "outputs": []
    },
    {
      "metadata": {
        "trusted": true,
        "_uuid": "3ca4af17d0ef69d1291abb027500bfc6f464e6b2",
        "collapsed": true
      },
      "cell_type": "code",
      "source": "datos_postulados = pd.merge(postulaciones, usuarios, on='idpostulante', how='right')\ndatos_postulados.head()",
      "execution_count": null,
      "outputs": []
    },
    {
      "metadata": {
        "trusted": true,
        "_uuid": "f6821013087f862875f1190c4be19c89addcf0be",
        "collapsed": true
      },
      "cell_type": "code",
      "source": "datos_postulados.drop_duplicates(subset=['idaviso', 'idpostulante'], inplace=True)\ndatos_postulados.head()",
      "execution_count": null,
      "outputs": []
    },
    {
      "metadata": {
        "trusted": true,
        "_uuid": "838a6da6bdc8ea4d25f106c27ebd6e18198aec84",
        "collapsed": true
      },
      "cell_type": "code",
      "source": "datos_postulados = pd.merge(datos_postulados, avisos, on='idaviso', how='right')\ndatos_postulados['postulado'] = 1",
      "execution_count": null,
      "outputs": []
    },
    {
      "metadata": {
        "trusted": true,
        "_uuid": "e7a54038f1cc86b50db3f562db7e649a2716cf3c",
        "collapsed": true
      },
      "cell_type": "code",
      "source": "datos_postulados.head()",
      "execution_count": null,
      "outputs": []
    },
    {
      "metadata": {
        "_uuid": "ca79637d7d9d225c82798ffd0e30ec08b4f51b9d"
      },
      "cell_type": "markdown",
      "source": "# 4. Generacion de NO_POSTULADOS"
    },
    {
      "metadata": {
        "trusted": true,
        "_uuid": "634e54b8793f150c50a0a970d064f5dfb8b5c755",
        "collapsed": true
      },
      "cell_type": "code",
      "source": "datos_post = datos_postulados.sample(frac=FRAC)\ndatos_post.info()",
      "execution_count": null,
      "outputs": []
    },
    {
      "metadata": {
        "trusted": true,
        "scrolled": true,
        "_uuid": "4a4aea17cb830be7ebb86628fb8d789304d85a0b",
        "collapsed": true
      },
      "cell_type": "code",
      "source": "# renombro para que coincida con los nombres anteriores\ncolumnas_us = usuarios.columns\ncolumnas_us",
      "execution_count": null,
      "outputs": []
    },
    {
      "metadata": {
        "trusted": true,
        "_uuid": "2a281251cc15f0bb7083f763e6f5798cc15e865a",
        "collapsed": true
      },
      "cell_type": "code",
      "source": "nuevos = ['idpostulante']\nfor c in columnas_us[1:]:\n    nuevo_c = c + '_x'\n    nuevos.append(nuevo_c)\nusuarios.columns=nuevos\nusuarios.head()",
      "execution_count": null,
      "outputs": []
    },
    {
      "metadata": {
        "trusted": true,
        "_uuid": "28082b4f54001625f94da77143a87592914c3ff2",
        "collapsed": true
      },
      "cell_type": "code",
      "source": "avisos_columnas = avisos.columns\nnuevos  = ['idaviso']\nfor c in avisos_columnas[1:]:\n    nuevo_c = c + '_y'\n    nuevos.append(nuevo_c)\nprint(nuevos)\navisos.columns=nuevos\navisos.head()",
      "execution_count": null,
      "outputs": []
    },
    {
      "metadata": {
        "trusted": true,
        "_uuid": "4cac43adf4a5a0baa0cc9caf5816ee2abc21027a",
        "collapsed": true
      },
      "cell_type": "code",
      "source": "N_NO_POST = int(datos_post['postulado'].value_counts()[1] * FACTOR_NO_POST)\nusuarios_no_post = usuarios.sample(n=N_NO_POST, replace=True)\navisos_no_post = avisos.sample(n=N_NO_POST, replace=True)\nusuarios_no_post.reset_index(drop=True, inplace=True)\navisos_no_post.reset_index(drop=True, inplace=True)",
      "execution_count": null,
      "outputs": []
    },
    {
      "metadata": {
        "trusted": true,
        "_uuid": "34ac4492372bf0cd9598cc54803f1e5daf42ec5a",
        "collapsed": true
      },
      "cell_type": "code",
      "source": "datos_no_post = pd.concat([usuarios_no_post, avisos_no_post], axis=1)\ndatos_no_post['postulado'] = 0\ndatos_no_post.head()",
      "execution_count": null,
      "outputs": []
    },
    {
      "metadata": {
        "_uuid": "f5c763a771515e170defe2082d4b501ca7a60a22"
      },
      "cell_type": "markdown",
      "source": "# 5. Datos para el algoritmo"
    },
    {
      "metadata": {
        "trusted": true,
        "_uuid": "473b04e55cf8016898f0bc8c737e8d38c7ccd8c8",
        "collapsed": true
      },
      "cell_type": "code",
      "source": "datos_post.reset_index(drop=True, inplace=True)\ndatos_no_post.reset_index(drop=True, inplace=True)\ndatos = pd.concat([datos_post, datos_no_post])\ndatos.head()",
      "execution_count": null,
      "outputs": []
    },
    {
      "metadata": {
        "trusted": true,
        "_uuid": "1c789c92488ef3ac65288f1d476ae3f4cc8b65c3",
        "collapsed": true
      },
      "cell_type": "code",
      "source": "datos['postulado'].value_counts()",
      "execution_count": null,
      "outputs": []
    },
    {
      "metadata": {
        "trusted": true,
        "collapsed": true,
        "_uuid": "ba1dfe9211061c5f492bbed434cbb531373b5e18"
      },
      "cell_type": "markdown",
      "source": "# 6. Recopilacion de datos a predecir"
    },
    {
      "metadata": {
        "trusted": true,
        "_uuid": "b6c316aa93e9f7d181f5af0458ccdce997218018",
        "collapsed": true
      },
      "cell_type": "code",
      "source": "final100k = pd.read_csv(\"../input/finalfinal/test_final_100k.csv\")\nfinal100k.info()",
      "execution_count": null,
      "outputs": []
    },
    {
      "metadata": {
        "trusted": true,
        "_uuid": "a795f2d649868d9a483edb3c7cfe338c37ff7687",
        "collapsed": true
      },
      "cell_type": "code",
      "source": "avisos.head()",
      "execution_count": null,
      "outputs": []
    },
    {
      "metadata": {
        "trusted": true,
        "_uuid": "956591a91f7ee9e28541e585a50dfb4799d37922",
        "collapsed": true
      },
      "cell_type": "code",
      "source": "usuarios.head()",
      "execution_count": null,
      "outputs": []
    },
    {
      "metadata": {
        "trusted": true,
        "_uuid": "a488faad9d18148c30efdcde9fd1e572602d7f51",
        "collapsed": true
      },
      "cell_type": "code",
      "source": "df1 = pd.merge(final100k, usuarios, on='idpostulante', how='left')\ndf1.info()",
      "execution_count": null,
      "outputs": []
    },
    {
      "metadata": {
        "trusted": true,
        "_uuid": "24de9e7f8250dcd8f3d59bcf97c2505033085d82",
        "collapsed": true
      },
      "cell_type": "code",
      "source": "df2 = pd.merge(df1, avisos.drop_duplicates(subset='idaviso'), on='idaviso', how='left')\nfinal100k = df2",
      "execution_count": null,
      "outputs": []
    },
    {
      "metadata": {
        "trusted": true,
        "_uuid": "c09fe17f674a597d9e8e93d58f85bcd81cd4355e",
        "collapsed": true
      },
      "cell_type": "code",
      "source": "final100k.fillna(0, inplace=True)",
      "execution_count": null,
      "outputs": []
    },
    {
      "metadata": {
        "trusted": true,
        "_uuid": "16d3f89aa025b7f1fb57859371db416a3cf1cba4",
        "collapsed": true
      },
      "cell_type": "code",
      "source": "final100k.info()",
      "execution_count": null,
      "outputs": []
    },
    {
      "metadata": {
        "trusted": true,
        "_uuid": "c44a1a610094f5ce8a79bee790320965ee587323",
        "collapsed": true
      },
      "cell_type": "code",
      "source": "# Por alguna razon tengo columnas en ordenes distintos.\n# orden final de columnas\ndatos.sort_index(axis=1,inplace=True)\nfinal100k.sort_index(axis=1, inplace=True)",
      "execution_count": null,
      "outputs": []
    },
    {
      "metadata": {
        "_uuid": "31e15caf5a26bee6e7364a12eccbf2a71f4f6432"
      },
      "cell_type": "markdown",
      "source": "# 7. Algoritmos de Machine Learning"
    },
    {
      "metadata": {
        "trusted": true,
        "_uuid": "b49efac47468da3aea471c5a3e493f581bb08651",
        "collapsed": true
      },
      "cell_type": "code",
      "source": "X = datos.drop(columns=['idpostulante', 'idaviso', 'postulado'])",
      "execution_count": null,
      "outputs": []
    },
    {
      "metadata": {
        "trusted": true,
        "collapsed": true,
        "_uuid": "396285b7fa8029df1bb23f2b27fc309d19b92254"
      },
      "cell_type": "code",
      "source": "X = X.fillna(0)\nX.drop(columns=['nivel_laboral', 'nombre_zona'], inplace=True)",
      "execution_count": null,
      "outputs": []
    },
    {
      "metadata": {
        "trusted": true,
        "_uuid": "61be78efa9b0c734497b07bd048b3b3591eacad5",
        "collapsed": true
      },
      "cell_type": "code",
      "source": "y = datos['postulado']\ny.head()",
      "execution_count": null,
      "outputs": []
    },
    {
      "metadata": {
        "trusted": true,
        "collapsed": true,
        "_uuid": "e485040fcba52db0eec7a80666c5da32d5234cdb"
      },
      "cell_type": "code",
      "source": "X_train, X_test, y_train, y_test = train_test_split(X, y, test_size=0.33)",
      "execution_count": null,
      "outputs": []
    },
    {
      "metadata": {
        "trusted": true,
        "_uuid": "e07c0c972a7175df9e8a091e8735a6a90c58b490",
        "collapsed": true
      },
      "cell_type": "code",
      "source": "scaler = StandardScaler()  \nscaler.fit(X_train)\nX_train = scaler.transform(X_train)  \nX_test = scaler.transform(X_test)  ",
      "execution_count": null,
      "outputs": []
    },
    {
      "metadata": {
        "trusted": true,
        "_uuid": "49bfea835166476cf9e1928ba0370fe2f9259261",
        "collapsed": true
      },
      "cell_type": "code",
      "source": "#for i in range(-1, 10):\ni = 1\nalpha = 10**(-i)  \nprint(alpha)\nclf = GaussianNB()\nclf.fit(X_train,y_train)\ny_pred = clf.predict(X_test)  \nprint('accuracy: {0:.2f}%'.format(accuracy_score(y_test,y_pred)*100))",
      "execution_count": null,
      "outputs": []
    },
    {
      "metadata": {
        "trusted": true,
        "_uuid": "7ef531376d305d9322287b6b04c0b81c8a8cd3cd",
        "collapsed": true
      },
      "cell_type": "code",
      "source": "final100k.head()",
      "execution_count": null,
      "outputs": []
    },
    {
      "metadata": {
        "trusted": true,
        "_uuid": "94980eaf5c055c97ec836e937bb6f0b11b2d1f6c",
        "collapsed": true
      },
      "cell_type": "code",
      "source": "# PREDICION\nX_final = final100k.drop(columns=['id', 'idpostulante', 'idaviso'])\n\ny_final = clf.predict(X_final)\ny_final",
      "execution_count": null,
      "outputs": []
    },
    {
      "metadata": {
        "_uuid": "1f888fec7d85e2b4543ffc0e9241aa9f7ed92c95"
      },
      "cell_type": "markdown",
      "source": "# 8. SUMMIT"
    },
    {
      "metadata": {
        "trusted": true,
        "_uuid": "9e240acfd8d38b47b004fa99665843f95467f016",
        "collapsed": true
      },
      "cell_type": "code",
      "source": "y_summit = pd.DataFrame(y_final)\ny_summit.columns = ['sepostulo']\nsummit = y_summit.reset_index()\nsummit.head()\nsummit.rename(columns={'index':'id'}, inplace=True)\nsummit.to_csv(\"summitGSNB.csv\", index=False)\n",
      "execution_count": null,
      "outputs": []
    },
    {
      "metadata": {
        "trusted": true,
        "_uuid": "8d0548893669a809eeb67b045e70826e39d1ff6e",
        "collapsed": true
      },
      "cell_type": "code",
      "source": "summit.info()",
      "execution_count": null,
      "outputs": []
    },
    {
      "metadata": {
        "trusted": true,
        "collapsed": true,
        "_uuid": "5d98d74940faba256301bc429770319362873688"
      },
      "cell_type": "code",
      "source": "",
      "execution_count": null,
      "outputs": []
    },
    {
      "metadata": {
        "trusted": true,
        "collapsed": true,
        "_uuid": "085d67c3b36bd434a56b0b7a77354a7241e5b7d2"
      },
      "cell_type": "code",
      "source": "",
      "execution_count": null,
      "outputs": []
    },
    {
      "metadata": {
        "trusted": true,
        "collapsed": true,
        "_uuid": "572f8681881cea7fa9989957a9d75ea900f8ef91"
      },
      "cell_type": "code",
      "source": "",
      "execution_count": null,
      "outputs": []
    }
  ],
  "metadata": {
    "kernelspec": {
      "display_name": "Python 3",
      "language": "python",
      "name": "python3"
    },
    "language_info": {
      "name": "python",
      "version": "3.6.5",
      "mimetype": "text/x-python",
      "codemirror_mode": {
        "name": "ipython",
        "version": 3
      },
      "pygments_lexer": "ipython3",
      "nbconvert_exporter": "python",
      "file_extension": ".py"
    }
  },
  "nbformat": 4,
  "nbformat_minor": 1
}